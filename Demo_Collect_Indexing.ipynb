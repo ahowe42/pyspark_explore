{
 "cells": [
  {
   "cell_type": "code",
   "execution_count": null,
   "id": "streaming-illness",
   "metadata": {},
   "outputs": [],
   "source": [
    "import pandas as pd\n",
    "import numpy as np\n",
    "import datetime as dt\n",
    "import os\n",
    "\n",
    "import findspark\n",
    "findspark.init()\n",
    "import pyspark\n",
    "from pyspark.sql import SparkSession\n",
    "from pyspark.sql.functions import *#avg, count, expr\n",
    "from pyspark.sql.types import *"
   ]
  },
  {
   "cell_type": "code",
   "execution_count": null,
   "id": "vital-court",
   "metadata": {},
   "outputs": [],
   "source": [
    "# initialize\n",
    "sc = pyspark.SparkContext()\n",
    "spark = SparkSession(sc)\n",
    "spark.sparkContext.appName = 'joinAppend'\n",
    "# show the number of cores\n",
    "print('%d cores'%spark._jsc.sc().getExecutorMemoryStatus().keySet().size())\n",
    "spark"
   ]
  },
  {
   "cell_type": "code",
   "execution_count": null,
   "id": "general-tuner",
   "metadata": {},
   "outputs": [],
   "source": [
    "''' create a dataframe '''\n",
    "# get some data\n",
    "n = 100\n",
    "p = 5\n",
    "randData = pd.DataFrame(np.random.rand(n, p+1))\n",
    "randData[5] = randData[5] > 0.5\n",
    "display(randData.head())\n",
    "randData.values.tolist()\n",
    "\n",
    "# define the schema\n",
    "schem = StructType([StructField('col_%d'%i, FloatType(), False) for i in range(p)])\n",
    "schem = schem.add(StructField('Flag', BooleanType(), False))\n",
    "\n",
    "# create the dataframe\n",
    "randData = spark.createDataFrame(randData, schema=schem).repartition('Flag')\n",
    "\n",
    "# talk\n",
    "randData.printSchema()\n",
    "display(randData.limit(5).toPandas())"
   ]
  },
  {
   "cell_type": "code",
   "execution_count": null,
   "id": "opposite-increase",
   "metadata": {},
   "outputs": [],
   "source": [
    "# compute the skewness by column - though in reality, we'd do this in a single transaction\n",
    "for clmn in randData.schema:\n",
    "    print('Processing %s'%clmn.name)\n",
    "    if clmn.dataType == FloatType():\n",
    "        skew = randData.agg(skewness(col(clmn.name))).collect()\n",
    "        print(skew)"
   ]
  },
  {
   "cell_type": "code",
   "execution_count": null,
   "id": "bottom-nylon",
   "metadata": {},
   "outputs": [],
   "source": [
    "print(skew)\n",
    "print('Notice that it is a single-element list of a Row object')\n",
    "print(skew[0])\n",
    "print('Notice that it is now just a row object with a single column')\n",
    "print(skew[0][0])\n",
    "print('Now we finally have just the numeric value')"
   ]
  },
  {
   "cell_type": "code",
   "execution_count": null,
   "id": "olive-penny",
   "metadata": {},
   "outputs": [],
   "source": [
    "# in reality, would compute the skews for a set of columns like this - all at once - and it still needs the double indexing\n",
    "skew = randData.agg(*[skewness(col(clmn.name)) for clmn in randData.schema if clmn.dataType == FloatType()]).collect()\n",
    "print(skew)"
   ]
  },
  {
   "cell_type": "code",
   "execution_count": null,
   "id": "material-lotus",
   "metadata": {},
   "outputs": [],
   "source": [
    "# get the first 4 centered moments by column\n",
    "for clmn in randData.schema:\n",
    "    if clmn.dataType == FloatType():\n",
    "        # compute the moments - and just take the first row\n",
    "        moments = randData.agg(mean(col(clmn.name)), variance(col(clmn.name)), skewness(col(clmn.name)), kurtosis(col(clmn.name))).collect()[0]\n",
    "        print('%s: Mean = %0.2f, Variance = %0.2f, Skewness = %0.2f, Kurtosis = %0.2f'%(clmn.name, *moments))"
   ]
  },
  {
   "cell_type": "code",
   "execution_count": null,
   "id": "impressed-reserve",
   "metadata": {},
   "outputs": [],
   "source": [
    "# be sure to stop the spark context at the end\n",
    "sc.stop()"
   ]
  },
  {
   "cell_type": "code",
   "execution_count": null,
   "id": "buried-volume",
   "metadata": {},
   "outputs": [],
   "source": []
  }
 ],
 "metadata": {
  "kernelspec": {
   "display_name": "Python 3",
   "language": "python",
   "name": "python3"
  },
  "language_info": {
   "codemirror_mode": {
    "name": "ipython",
    "version": 3
   },
   "file_extension": ".py",
   "mimetype": "text/x-python",
   "name": "python",
   "nbconvert_exporter": "python",
   "pygments_lexer": "ipython3",
   "version": "3.8.5"
  }
 },
 "nbformat": 4,
 "nbformat_minor": 5
}
