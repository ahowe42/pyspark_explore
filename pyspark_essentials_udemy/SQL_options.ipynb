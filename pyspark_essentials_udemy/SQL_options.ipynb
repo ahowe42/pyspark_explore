{
 "cells": [
  {
   "cell_type": "code",
   "execution_count": 25,
   "id": "casual-torture",
   "metadata": {},
   "outputs": [],
   "source": [
    "import pandas as pd\n",
    "import numpy as np\n",
    "import datetime as dt\n",
    "\n",
    "import findspark\n",
    "findspark.init()\n",
    "import pyspark\n",
    "from pyspark.sql import SparkSession\n",
    "from pyspark.sql.functions import *#avg, count, expr\n",
    "from pyspark.sql.types import *\n",
    "from pyspark.ml.feature import SQLTransformer"
   ]
  },
  {
   "cell_type": "code",
   "execution_count": 2,
   "id": "swiss-training",
   "metadata": {},
   "outputs": [
    {
     "name": "stdout",
     "output_type": "stream",
     "text": [
      "1 cores\n"
     ]
    },
    {
     "data": {
      "text/html": [
       "\n",
       "            <div>\n",
       "                <p><b>SparkSession - in-memory</b></p>\n",
       "                \n",
       "        <div>\n",
       "            <p><b>SparkContext</b></p>\n",
       "\n",
       "            <p><a href=\"http://192.168.150.128:4040\">Spark UI</a></p>\n",
       "\n",
       "            <dl>\n",
       "              <dt>Version</dt>\n",
       "                <dd><code>v3.1.1</code></dd>\n",
       "              <dt>Master</dt>\n",
       "                <dd><code>local[*]</code></dd>\n",
       "              <dt>AppName</dt>\n",
       "                <dd><code>exploreReadWrite</code></dd>\n",
       "            </dl>\n",
       "        </div>\n",
       "        \n",
       "            </div>\n",
       "        "
      ],
      "text/plain": [
       "<pyspark.sql.session.SparkSession at 0x7f80c873a610>"
      ]
     },
     "execution_count": 2,
     "metadata": {},
     "output_type": "execute_result"
    }
   ],
   "source": [
    "# initialize\n",
    "sc = pyspark.SparkContext()\n",
    "spark = SparkSession(sc)\n",
    "spark.sparkContext.appName = 'sqlOptions'\n",
    "# show the number of cores\n",
    "print('%d cores'%spark._jsc.sc().getExecutorMemoryStatus().keySet().size())\n",
    "spark"
   ]
  },
  {
   "cell_type": "code",
   "execution_count": 27,
   "id": "industrial-beach",
   "metadata": {},
   "outputs": [
    {
     "data": {
      "text/html": [
       "<div>\n",
       "<style scoped>\n",
       "    .dataframe tbody tr th:only-of-type {\n",
       "        vertical-align: middle;\n",
       "    }\n",
       "\n",
       "    .dataframe tbody tr th {\n",
       "        vertical-align: top;\n",
       "    }\n",
       "\n",
       "    .dataframe thead th {\n",
       "        text-align: right;\n",
       "    }\n",
       "</style>\n",
       "<table border=\"1\" class=\"dataframe\">\n",
       "  <thead>\n",
       "    <tr style=\"text-align: right;\">\n",
       "      <th></th>\n",
       "      <th>YearEnding</th>\n",
       "      <th>PFA</th>\n",
       "      <th>Region</th>\n",
       "      <th>Offence</th>\n",
       "      <th>OffenceCount</th>\n",
       "    </tr>\n",
       "  </thead>\n",
       "  <tbody>\n",
       "    <tr>\n",
       "      <th>0</th>\n",
       "      <td>2003-03-31</td>\n",
       "      <td>Avon and Somerset</td>\n",
       "      <td>South West</td>\n",
       "      <td>All other theft offences</td>\n",
       "      <td>25959</td>\n",
       "    </tr>\n",
       "    <tr>\n",
       "      <th>1</th>\n",
       "      <td>2003-03-31</td>\n",
       "      <td>Avon and Somerset</td>\n",
       "      <td>South West</td>\n",
       "      <td>Bicycle theft</td>\n",
       "      <td>3090</td>\n",
       "    </tr>\n",
       "    <tr>\n",
       "      <th>2</th>\n",
       "      <td>2003-03-31</td>\n",
       "      <td>Avon and Somerset</td>\n",
       "      <td>South West</td>\n",
       "      <td>Criminal damage and arson</td>\n",
       "      <td>26202</td>\n",
       "    </tr>\n",
       "    <tr>\n",
       "      <th>3</th>\n",
       "      <td>2003-03-31</td>\n",
       "      <td>Avon and Somerset</td>\n",
       "      <td>South West</td>\n",
       "      <td>Death or serious injury caused by illegal driving</td>\n",
       "      <td>2</td>\n",
       "    </tr>\n",
       "    <tr>\n",
       "      <th>4</th>\n",
       "      <td>2003-03-31</td>\n",
       "      <td>Avon and Somerset</td>\n",
       "      <td>South West</td>\n",
       "      <td>Domestic burglary</td>\n",
       "      <td>14561</td>\n",
       "    </tr>\n",
       "  </tbody>\n",
       "</table>\n",
       "</div>"
      ],
      "text/plain": [
       "   YearEnding                PFA      Region  \\\n",
       "0  2003-03-31  Avon and Somerset  South West   \n",
       "1  2003-03-31  Avon and Somerset  South West   \n",
       "2  2003-03-31  Avon and Somerset  South West   \n",
       "3  2003-03-31  Avon and Somerset  South West   \n",
       "4  2003-03-31  Avon and Somerset  South West   \n",
       "\n",
       "                                             Offence  OffenceCount  \n",
       "0                           All other theft offences         25959  \n",
       "1                                      Bicycle theft          3090  \n",
       "2                          Criminal damage and arson         26202  \n",
       "3  Death or serious injury caused by illegal driving             2  \n",
       "4                                  Domestic burglary         14561  "
      ]
     },
     "metadata": {},
     "output_type": "display_data"
    }
   ],
   "source": [
    "# load file\n",
    "fil = '../data/rec-crime-pfa.csv'\n",
    "schem = StructType([StructField('12 months ending', DateType()),\n",
    "                     StructField('PFA', StringType()),\n",
    "                     StructField('Region', StringType()),\n",
    "                     StructField('Offence', StringType()),\n",
    "                     StructField('Rolling year total number of offences', IntegerType())])\n",
    "\n",
    "crime = spark.read.format('csv').options(header=True, dateFormat='dd/MM/yyyy').schema(schem).load(fil)\\\n",
    "    .withColumnRenamed('12 months ending', 'YearEnding').withColumnRenamed('Rolling year total number of offences', 'OffenceCount')\\\n",
    "    .cache()\n",
    "\n",
    "display(crime.limit(5).toPandas())"
   ]
  },
  {
   "cell_type": "code",
   "execution_count": 17,
   "id": "9752b9dd-ecc7-46ce-b55a-be7a3d46d2df",
   "metadata": {},
   "outputs": [
    {
     "name": "stdout",
     "output_type": "stream",
     "text": [
      "+----+------------------+-------------+\n",
      "|year|offence_type_count|offence_count|\n",
      "+----+------------------+-------------+\n",
      "|2003|               880|      5974960|\n",
      "|2004|               880|      6013759|\n",
      "|2005|               880|      5637511|\n",
      "|2006|               880|      5555172|\n",
      "|2007|              3520|     21025549|\n",
      "|2008|              3520|     19449338|\n",
      "|2009|              3520|     18359035|\n",
      "|2010|              3520|     16989262|\n",
      "|2011|              3529|     16932850|\n",
      "|2012|              3532|     16985977|\n",
      "|2013|              3532|     16128181|\n",
      "|2014|              3444|     16310143|\n",
      "|2015|              3708|     17169617|\n",
      "|2016|              3708|     18577143|\n",
      "|2017|              3708|     20927910|\n",
      "|2018|              3708|     22684521|\n",
      "+----+------------------+-------------+\n",
      "\n"
     ]
    }
   ],
   "source": [
    "# some counts by year\n",
    "cnts = crime.select(year('YearEnding').alias('year'), 'OffenceCount')\\\n",
    "    .groupby('year').agg(count('year').alias('offence_type_count'), sum('OffenceCount').alias('offence_count')).orderBy('year')\n",
    "cnts.show()"
   ]
  },
  {
   "cell_type": "code",
   "execution_count": 18,
   "id": "2384bebd-45f8-44d5-bf43-cf1aa25b3230",
   "metadata": {},
   "outputs": [],
   "source": [
    "# make a temp view from this data\n",
    "crime.createOrReplaceTempView('tempCrime')"
   ]
  },
  {
   "cell_type": "code",
   "execution_count": 21,
   "id": "7bdc51d2-702e-496f-af2b-397618a1b360",
   "metadata": {},
   "outputs": [
    {
     "name": "stdout",
     "output_type": "stream",
     "text": [
      "+----+----+--------+\n",
      "|  YR| CNT|     TOT|\n",
      "+----+----+--------+\n",
      "|2003| 880| 5974960|\n",
      "|2004| 880| 6013759|\n",
      "|2005| 880| 5637511|\n",
      "|2006| 880| 5555172|\n",
      "|2007|3520|21025549|\n",
      "|2008|3520|19449338|\n",
      "|2009|3520|18359035|\n",
      "|2010|3520|16989262|\n",
      "|2011|3529|16932850|\n",
      "|2012|3532|16985977|\n",
      "|2013|3532|16128181|\n",
      "|2014|3444|16310143|\n",
      "|2015|3708|17169617|\n",
      "|2016|3708|18577143|\n",
      "|2017|3708|20927910|\n",
      "|2018|3708|22684521|\n",
      "+----+----+--------+\n",
      "\n"
     ]
    }
   ],
   "source": [
    "# attempt to replicate above query\n",
    "res = spark.sql(\"select year(YearEnding) as YR, count(*) as CNT, sum(OffenceCount) as TOT from tempCrime group by year(YearEnding) order by year(YearEnding);\")\n",
    "res.show()"
   ]
  },
  {
   "cell_type": "code",
   "execution_count": 24,
   "id": "17260a9b-f951-4d8b-8220-cc229e69b295",
   "metadata": {},
   "outputs": [
    {
     "name": "stdout",
     "output_type": "stream",
     "text": [
      "+------------------------+\n",
      "|Region                  |\n",
      "+------------------------+\n",
      "|British Transport Police|\n",
      "|East                    |\n",
      "|East Midlands           |\n",
      "|Fraud: Action Fraud     |\n",
      "|Fraud: CIFAS            |\n",
      "|Fraud: UK Finance       |\n",
      "|London                  |\n",
      "|North East              |\n",
      "|North West              |\n",
      "|South East              |\n",
      "|South West              |\n",
      "|Wales                   |\n",
      "|West Midlands           |\n",
      "|Yorkshire and The Humber|\n",
      "+------------------------+\n",
      "\n"
     ]
    }
   ],
   "source": [
    "spark.sql('select distinct Region from tempCrime order by Region;').show(truncate=False)"
   ]
  },
  {
   "cell_type": "code",
   "execution_count": 28,
   "id": "92cc9497-2745-4034-bbf0-184d10065475",
   "metadata": {},
   "outputs": [
    {
     "name": "stdout",
     "output_type": "stream",
     "text": [
      "+--------------------+\n",
      "|              Region|\n",
      "+--------------------+\n",
      "|British Transport...|\n",
      "|                East|\n",
      "|       East Midlands|\n",
      "| Fraud: Action Fraud|\n",
      "|        Fraud: CIFAS|\n",
      "|   Fraud: UK Finance|\n",
      "|              London|\n",
      "|          North East|\n",
      "|          North West|\n",
      "|          South East|\n",
      "|          South West|\n",
      "|               Wales|\n",
      "|       West Midlands|\n",
      "|Yorkshire and The...|\n",
      "+--------------------+\n",
      "\n"
     ]
    }
   ],
   "source": [
    "# try using sqltransformer\n",
    "sqlTrans = SQLTransformer(statement='select distinct Region from __THIS__ order by Region;')\n",
    "sqlTrans.transform(crime).show()"
   ]
  },
  {
   "cell_type": "code",
   "execution_count": 29,
   "id": "9632fe15-a523-4567-af9e-62a702677b08",
   "metadata": {},
   "outputs": [
    {
     "name": "stdout",
     "output_type": "stream",
     "text": [
      "+----------+----------+------------+--------------------+\n",
      "|YearEnding|Region    |OffenceCount|DailyRate           |\n",
      "+----------+----------+------------+--------------------+\n",
      "|2003-03-31|South West|25959       |71.12054794520547   |\n",
      "|2003-03-31|South West|3090        |8.465753424657533   |\n",
      "|2003-03-31|South West|26202       |71.78630136986301   |\n",
      "|2003-03-31|South West|2           |0.005479452054794521|\n",
      "|2003-03-31|South West|14561       |39.893150684931506  |\n",
      "|2003-03-31|South West|2308        |6.323287671232877   |\n",
      "|2003-03-31|South West|5339        |14.627397260273973  |\n",
      "|2003-03-31|South West|19          |0.052054794520547946|\n",
      "|2003-03-31|South West|1597        |4.375342465753425   |\n",
      "|2003-03-31|South West|15621       |42.797260273972604  |\n",
      "|2003-03-31|South West|735         |2.0136986301369864  |\n",
      "|2003-03-31|South West|4025        |11.027397260273972  |\n",
      "|2003-03-31|South West|3504        |9.6                 |\n",
      "|2003-03-31|South West|1737        |4.758904109589041   |\n",
      "|2003-03-31|South West|8410        |23.041095890410958  |\n",
      "|2003-03-31|South West|740         |2.0273972602739727  |\n",
      "|2003-03-31|South West|2554        |6.997260273972603   |\n",
      "|2003-03-31|South West|41781       |114.46849315068494  |\n",
      "|2003-03-31|South West|8565        |23.465753424657535  |\n",
      "|2003-03-31|South West|7117        |19.4986301369863    |\n",
      "+----------+----------+------------+--------------------+\n",
      "only showing top 20 rows\n",
      "\n"
     ]
    }
   ],
   "source": [
    "# use spark sql expr - this seems almost useless\n",
    "crime.withColumn('DailyRate', expr('OffenceCount/365')).select('YearEnding', 'Region', 'OffenceCount', 'DailyRate').show(20, truncate=False)\n",
    "#crime.selectExpr # could also use this"
   ]
  },
  {
   "cell_type": "code",
   "execution_count": 30,
   "id": "5b22c6f3-a272-4d52-903f-ba30113f6d7e",
   "metadata": {},
   "outputs": [
    {
     "name": "stdout",
     "output_type": "stream",
     "text": [
      "+----------+----------+------------+--------------------+\n",
      "|YearEnding|Region    |OffenceCount|DailyRate           |\n",
      "+----------+----------+------------+--------------------+\n",
      "|2003-03-31|South West|25959       |71.12054794520547   |\n",
      "|2003-03-31|South West|3090        |8.465753424657533   |\n",
      "|2003-03-31|South West|26202       |71.78630136986301   |\n",
      "|2003-03-31|South West|2           |0.005479452054794521|\n",
      "|2003-03-31|South West|14561       |39.893150684931506  |\n",
      "|2003-03-31|South West|2308        |6.323287671232877   |\n",
      "|2003-03-31|South West|5339        |14.627397260273973  |\n",
      "|2003-03-31|South West|19          |0.052054794520547946|\n",
      "|2003-03-31|South West|1597        |4.375342465753425   |\n",
      "|2003-03-31|South West|15621       |42.797260273972604  |\n",
      "|2003-03-31|South West|735         |2.0136986301369864  |\n",
      "|2003-03-31|South West|4025        |11.027397260273972  |\n",
      "|2003-03-31|South West|3504        |9.6                 |\n",
      "|2003-03-31|South West|1737        |4.758904109589041   |\n",
      "|2003-03-31|South West|8410        |23.041095890410958  |\n",
      "|2003-03-31|South West|740         |2.0273972602739727  |\n",
      "|2003-03-31|South West|2554        |6.997260273972603   |\n",
      "|2003-03-31|South West|41781       |114.46849315068494  |\n",
      "|2003-03-31|South West|8565        |23.465753424657535  |\n",
      "|2003-03-31|South West|7117        |19.4986301369863    |\n",
      "+----------+----------+------------+--------------------+\n",
      "only showing top 20 rows\n",
      "\n"
     ]
    }
   ],
   "source": [
    "# same as above but without the implied string parsing\n",
    "crime.select('YearEnding', 'Region', 'OffenceCount').withColumn('DailyRate', col('OffenceCount')/365).show(truncate=False)"
   ]
  },
  {
   "cell_type": "code",
   "execution_count": null,
   "id": "2cdca7cb-2595-46c7-9d90-533c9f453fc4",
   "metadata": {},
   "outputs": [],
   "source": []
  },
  {
   "cell_type": "code",
   "execution_count": null,
   "id": "accomplished-romantic",
   "metadata": {},
   "outputs": [],
   "source": [
    "sc.stop()"
   ]
  }
 ],
 "metadata": {
  "kernelspec": {
   "display_name": "Python 3",
   "language": "python",
   "name": "python3"
  },
  "language_info": {
   "codemirror_mode": {
    "name": "ipython",
    "version": 3
   },
   "file_extension": ".py",
   "mimetype": "text/x-python",
   "name": "python",
   "nbconvert_exporter": "python",
   "pygments_lexer": "ipython3",
   "version": "3.8.8"
  }
 },
 "nbformat": 4,
 "nbformat_minor": 5
}
