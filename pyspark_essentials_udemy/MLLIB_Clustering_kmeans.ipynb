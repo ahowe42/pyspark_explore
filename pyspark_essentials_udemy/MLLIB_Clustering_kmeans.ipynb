{
 "cells": [
  {
   "cell_type": "code",
   "execution_count": 1,
   "id": "c6884cf0",
   "metadata": {},
   "outputs": [
    {
     "data": {
      "text/html": [
       "        <script type=\"text/javascript\">\n",
       "        window.PlotlyConfig = {MathJaxConfig: 'local'};\n",
       "        if (window.MathJax) {MathJax.Hub.Config({SVG: {font: \"STIX-Web\"}});}\n",
       "        if (typeof require !== 'undefined') {\n",
       "        require.undef(\"plotly\");\n",
       "        requirejs.config({\n",
       "            paths: {\n",
       "                'plotly': ['https://cdn.plot.ly/plotly-latest.min']\n",
       "            }\n",
       "        });\n",
       "        require(['plotly'], function(Plotly) {\n",
       "            window._Plotly = Plotly;\n",
       "        });\n",
       "        }\n",
       "        </script>\n",
       "        "
      ]
     },
     "metadata": {},
     "output_type": "display_data"
    },
    {
     "data": {
      "application/vnd.plotly.v1+json": {
       "config": {
        "linkText": "Export to plot.ly",
        "plotlyServerURL": "https://plot.ly",
        "showLink": false
       },
       "data": [
        {
         "type": "scatter",
         "x": [
          1,
          2
         ],
         "y": [
          42,
          42
         ]
        }
       ],
       "layout": {
        "template": {
         "data": {
          "bar": [
           {
            "error_x": {
             "color": "#2a3f5f"
            },
            "error_y": {
             "color": "#2a3f5f"
            },
            "marker": {
             "line": {
              "color": "#E5ECF6",
              "width": 0.5
             }
            },
            "type": "bar"
           }
          ],
          "barpolar": [
           {
            "marker": {
             "line": {
              "color": "#E5ECF6",
              "width": 0.5
             }
            },
            "type": "barpolar"
           }
          ],
          "carpet": [
           {
            "aaxis": {
             "endlinecolor": "#2a3f5f",
             "gridcolor": "white",
             "linecolor": "white",
             "minorgridcolor": "white",
             "startlinecolor": "#2a3f5f"
            },
            "baxis": {
             "endlinecolor": "#2a3f5f",
             "gridcolor": "white",
             "linecolor": "white",
             "minorgridcolor": "white",
             "startlinecolor": "#2a3f5f"
            },
            "type": "carpet"
           }
          ],
          "choropleth": [
           {
            "colorbar": {
             "outlinewidth": 0,
             "ticks": ""
            },
            "type": "choropleth"
           }
          ],
          "contour": [
           {
            "colorbar": {
             "outlinewidth": 0,
             "ticks": ""
            },
            "colorscale": [
             [
              0,
              "#0d0887"
             ],
             [
              0.1111111111111111,
              "#46039f"
             ],
             [
              0.2222222222222222,
              "#7201a8"
             ],
             [
              0.3333333333333333,
              "#9c179e"
             ],
             [
              0.4444444444444444,
              "#bd3786"
             ],
             [
              0.5555555555555556,
              "#d8576b"
             ],
             [
              0.6666666666666666,
              "#ed7953"
             ],
             [
              0.7777777777777778,
              "#fb9f3a"
             ],
             [
              0.8888888888888888,
              "#fdca26"
             ],
             [
              1,
              "#f0f921"
             ]
            ],
            "type": "contour"
           }
          ],
          "contourcarpet": [
           {
            "colorbar": {
             "outlinewidth": 0,
             "ticks": ""
            },
            "type": "contourcarpet"
           }
          ],
          "heatmap": [
           {
            "colorbar": {
             "outlinewidth": 0,
             "ticks": ""
            },
            "colorscale": [
             [
              0,
              "#0d0887"
             ],
             [
              0.1111111111111111,
              "#46039f"
             ],
             [
              0.2222222222222222,
              "#7201a8"
             ],
             [
              0.3333333333333333,
              "#9c179e"
             ],
             [
              0.4444444444444444,
              "#bd3786"
             ],
             [
              0.5555555555555556,
              "#d8576b"
             ],
             [
              0.6666666666666666,
              "#ed7953"
             ],
             [
              0.7777777777777778,
              "#fb9f3a"
             ],
             [
              0.8888888888888888,
              "#fdca26"
             ],
             [
              1,
              "#f0f921"
             ]
            ],
            "type": "heatmap"
           }
          ],
          "heatmapgl": [
           {
            "colorbar": {
             "outlinewidth": 0,
             "ticks": ""
            },
            "colorscale": [
             [
              0,
              "#0d0887"
             ],
             [
              0.1111111111111111,
              "#46039f"
             ],
             [
              0.2222222222222222,
              "#7201a8"
             ],
             [
              0.3333333333333333,
              "#9c179e"
             ],
             [
              0.4444444444444444,
              "#bd3786"
             ],
             [
              0.5555555555555556,
              "#d8576b"
             ],
             [
              0.6666666666666666,
              "#ed7953"
             ],
             [
              0.7777777777777778,
              "#fb9f3a"
             ],
             [
              0.8888888888888888,
              "#fdca26"
             ],
             [
              1,
              "#f0f921"
             ]
            ],
            "type": "heatmapgl"
           }
          ],
          "histogram": [
           {
            "marker": {
             "colorbar": {
              "outlinewidth": 0,
              "ticks": ""
             }
            },
            "type": "histogram"
           }
          ],
          "histogram2d": [
           {
            "colorbar": {
             "outlinewidth": 0,
             "ticks": ""
            },
            "colorscale": [
             [
              0,
              "#0d0887"
             ],
             [
              0.1111111111111111,
              "#46039f"
             ],
             [
              0.2222222222222222,
              "#7201a8"
             ],
             [
              0.3333333333333333,
              "#9c179e"
             ],
             [
              0.4444444444444444,
              "#bd3786"
             ],
             [
              0.5555555555555556,
              "#d8576b"
             ],
             [
              0.6666666666666666,
              "#ed7953"
             ],
             [
              0.7777777777777778,
              "#fb9f3a"
             ],
             [
              0.8888888888888888,
              "#fdca26"
             ],
             [
              1,
              "#f0f921"
             ]
            ],
            "type": "histogram2d"
           }
          ],
          "histogram2dcontour": [
           {
            "colorbar": {
             "outlinewidth": 0,
             "ticks": ""
            },
            "colorscale": [
             [
              0,
              "#0d0887"
             ],
             [
              0.1111111111111111,
              "#46039f"
             ],
             [
              0.2222222222222222,
              "#7201a8"
             ],
             [
              0.3333333333333333,
              "#9c179e"
             ],
             [
              0.4444444444444444,
              "#bd3786"
             ],
             [
              0.5555555555555556,
              "#d8576b"
             ],
             [
              0.6666666666666666,
              "#ed7953"
             ],
             [
              0.7777777777777778,
              "#fb9f3a"
             ],
             [
              0.8888888888888888,
              "#fdca26"
             ],
             [
              1,
              "#f0f921"
             ]
            ],
            "type": "histogram2dcontour"
           }
          ],
          "mesh3d": [
           {
            "colorbar": {
             "outlinewidth": 0,
             "ticks": ""
            },
            "type": "mesh3d"
           }
          ],
          "parcoords": [
           {
            "line": {
             "colorbar": {
              "outlinewidth": 0,
              "ticks": ""
             }
            },
            "type": "parcoords"
           }
          ],
          "pie": [
           {
            "automargin": true,
            "type": "pie"
           }
          ],
          "scatter": [
           {
            "marker": {
             "colorbar": {
              "outlinewidth": 0,
              "ticks": ""
             }
            },
            "type": "scatter"
           }
          ],
          "scatter3d": [
           {
            "line": {
             "colorbar": {
              "outlinewidth": 0,
              "ticks": ""
             }
            },
            "marker": {
             "colorbar": {
              "outlinewidth": 0,
              "ticks": ""
             }
            },
            "type": "scatter3d"
           }
          ],
          "scattercarpet": [
           {
            "marker": {
             "colorbar": {
              "outlinewidth": 0,
              "ticks": ""
             }
            },
            "type": "scattercarpet"
           }
          ],
          "scattergeo": [
           {
            "marker": {
             "colorbar": {
              "outlinewidth": 0,
              "ticks": ""
             }
            },
            "type": "scattergeo"
           }
          ],
          "scattergl": [
           {
            "marker": {
             "colorbar": {
              "outlinewidth": 0,
              "ticks": ""
             }
            },
            "type": "scattergl"
           }
          ],
          "scattermapbox": [
           {
            "marker": {
             "colorbar": {
              "outlinewidth": 0,
              "ticks": ""
             }
            },
            "type": "scattermapbox"
           }
          ],
          "scatterpolar": [
           {
            "marker": {
             "colorbar": {
              "outlinewidth": 0,
              "ticks": ""
             }
            },
            "type": "scatterpolar"
           }
          ],
          "scatterpolargl": [
           {
            "marker": {
             "colorbar": {
              "outlinewidth": 0,
              "ticks": ""
             }
            },
            "type": "scatterpolargl"
           }
          ],
          "scatterternary": [
           {
            "marker": {
             "colorbar": {
              "outlinewidth": 0,
              "ticks": ""
             }
            },
            "type": "scatterternary"
           }
          ],
          "surface": [
           {
            "colorbar": {
             "outlinewidth": 0,
             "ticks": ""
            },
            "colorscale": [
             [
              0,
              "#0d0887"
             ],
             [
              0.1111111111111111,
              "#46039f"
             ],
             [
              0.2222222222222222,
              "#7201a8"
             ],
             [
              0.3333333333333333,
              "#9c179e"
             ],
             [
              0.4444444444444444,
              "#bd3786"
             ],
             [
              0.5555555555555556,
              "#d8576b"
             ],
             [
              0.6666666666666666,
              "#ed7953"
             ],
             [
              0.7777777777777778,
              "#fb9f3a"
             ],
             [
              0.8888888888888888,
              "#fdca26"
             ],
             [
              1,
              "#f0f921"
             ]
            ],
            "type": "surface"
           }
          ],
          "table": [
           {
            "cells": {
             "fill": {
              "color": "#EBF0F8"
             },
             "line": {
              "color": "white"
             }
            },
            "header": {
             "fill": {
              "color": "#C8D4E3"
             },
             "line": {
              "color": "white"
             }
            },
            "type": "table"
           }
          ]
         },
         "layout": {
          "annotationdefaults": {
           "arrowcolor": "#2a3f5f",
           "arrowhead": 0,
           "arrowwidth": 1
          },
          "autotypenumbers": "strict",
          "coloraxis": {
           "colorbar": {
            "outlinewidth": 0,
            "ticks": ""
           }
          },
          "colorscale": {
           "diverging": [
            [
             0,
             "#8e0152"
            ],
            [
             0.1,
             "#c51b7d"
            ],
            [
             0.2,
             "#de77ae"
            ],
            [
             0.3,
             "#f1b6da"
            ],
            [
             0.4,
             "#fde0ef"
            ],
            [
             0.5,
             "#f7f7f7"
            ],
            [
             0.6,
             "#e6f5d0"
            ],
            [
             0.7,
             "#b8e186"
            ],
            [
             0.8,
             "#7fbc41"
            ],
            [
             0.9,
             "#4d9221"
            ],
            [
             1,
             "#276419"
            ]
           ],
           "sequential": [
            [
             0,
             "#0d0887"
            ],
            [
             0.1111111111111111,
             "#46039f"
            ],
            [
             0.2222222222222222,
             "#7201a8"
            ],
            [
             0.3333333333333333,
             "#9c179e"
            ],
            [
             0.4444444444444444,
             "#bd3786"
            ],
            [
             0.5555555555555556,
             "#d8576b"
            ],
            [
             0.6666666666666666,
             "#ed7953"
            ],
            [
             0.7777777777777778,
             "#fb9f3a"
            ],
            [
             0.8888888888888888,
             "#fdca26"
            ],
            [
             1,
             "#f0f921"
            ]
           ],
           "sequentialminus": [
            [
             0,
             "#0d0887"
            ],
            [
             0.1111111111111111,
             "#46039f"
            ],
            [
             0.2222222222222222,
             "#7201a8"
            ],
            [
             0.3333333333333333,
             "#9c179e"
            ],
            [
             0.4444444444444444,
             "#bd3786"
            ],
            [
             0.5555555555555556,
             "#d8576b"
            ],
            [
             0.6666666666666666,
             "#ed7953"
            ],
            [
             0.7777777777777778,
             "#fb9f3a"
            ],
            [
             0.8888888888888888,
             "#fdca26"
            ],
            [
             1,
             "#f0f921"
            ]
           ]
          },
          "colorway": [
           "#636efa",
           "#EF553B",
           "#00cc96",
           "#ab63fa",
           "#FFA15A",
           "#19d3f3",
           "#FF6692",
           "#B6E880",
           "#FF97FF",
           "#FECB52"
          ],
          "font": {
           "color": "#2a3f5f"
          },
          "geo": {
           "bgcolor": "white",
           "lakecolor": "white",
           "landcolor": "#E5ECF6",
           "showlakes": true,
           "showland": true,
           "subunitcolor": "white"
          },
          "hoverlabel": {
           "align": "left"
          },
          "hovermode": "closest",
          "mapbox": {
           "style": "light"
          },
          "paper_bgcolor": "white",
          "plot_bgcolor": "#E5ECF6",
          "polar": {
           "angularaxis": {
            "gridcolor": "white",
            "linecolor": "white",
            "ticks": ""
           },
           "bgcolor": "#E5ECF6",
           "radialaxis": {
            "gridcolor": "white",
            "linecolor": "white",
            "ticks": ""
           }
          },
          "scene": {
           "xaxis": {
            "backgroundcolor": "#E5ECF6",
            "gridcolor": "white",
            "gridwidth": 2,
            "linecolor": "white",
            "showbackground": true,
            "ticks": "",
            "zerolinecolor": "white"
           },
           "yaxis": {
            "backgroundcolor": "#E5ECF6",
            "gridcolor": "white",
            "gridwidth": 2,
            "linecolor": "white",
            "showbackground": true,
            "ticks": "",
            "zerolinecolor": "white"
           },
           "zaxis": {
            "backgroundcolor": "#E5ECF6",
            "gridcolor": "white",
            "gridwidth": 2,
            "linecolor": "white",
            "showbackground": true,
            "ticks": "",
            "zerolinecolor": "white"
           }
          },
          "shapedefaults": {
           "line": {
            "color": "#2a3f5f"
           }
          },
          "ternary": {
           "aaxis": {
            "gridcolor": "white",
            "linecolor": "white",
            "ticks": ""
           },
           "baxis": {
            "gridcolor": "white",
            "linecolor": "white",
            "ticks": ""
           },
           "bgcolor": "#E5ECF6",
           "caxis": {
            "gridcolor": "white",
            "linecolor": "white",
            "ticks": ""
           }
          },
          "title": {
           "x": 0.05
          },
          "xaxis": {
           "automargin": true,
           "gridcolor": "white",
           "linecolor": "white",
           "ticks": "",
           "title": {
            "standoff": 15
           },
           "zerolinecolor": "white",
           "zerolinewidth": 2
          },
          "yaxis": {
           "automargin": true,
           "gridcolor": "white",
           "linecolor": "white",
           "ticks": "",
           "title": {
            "standoff": 15
           },
           "zerolinecolor": "white",
           "zerolinewidth": 2
          }
         }
        },
        "title": {
         "text": "Init"
        }
       }
      },
      "text/html": [
       "<div>                            <div id=\"93fe16da-33d3-4deb-bb19-f0a4cfa1d09c\" class=\"plotly-graph-div\" style=\"height:525px; width:100%;\"></div>            <script type=\"text/javascript\">                require([\"plotly\"], function(Plotly) {                    window.PLOTLYENV=window.PLOTLYENV || {};                                    if (document.getElementById(\"93fe16da-33d3-4deb-bb19-f0a4cfa1d09c\")) {                    Plotly.newPlot(                        \"93fe16da-33d3-4deb-bb19-f0a4cfa1d09c\",                        [{\"type\": \"scatter\", \"x\": [1, 2], \"y\": [42, 42]}],                        {\"template\": {\"data\": {\"bar\": [{\"error_x\": {\"color\": \"#2a3f5f\"}, \"error_y\": {\"color\": \"#2a3f5f\"}, \"marker\": {\"line\": {\"color\": \"#E5ECF6\", \"width\": 0.5}}, \"type\": \"bar\"}], \"barpolar\": [{\"marker\": {\"line\": {\"color\": \"#E5ECF6\", \"width\": 0.5}}, \"type\": \"barpolar\"}], \"carpet\": [{\"aaxis\": {\"endlinecolor\": \"#2a3f5f\", \"gridcolor\": \"white\", \"linecolor\": \"white\", \"minorgridcolor\": \"white\", \"startlinecolor\": \"#2a3f5f\"}, \"baxis\": {\"endlinecolor\": \"#2a3f5f\", \"gridcolor\": \"white\", \"linecolor\": \"white\", \"minorgridcolor\": \"white\", \"startlinecolor\": \"#2a3f5f\"}, \"type\": \"carpet\"}], \"choropleth\": [{\"colorbar\": {\"outlinewidth\": 0, \"ticks\": \"\"}, \"type\": \"choropleth\"}], \"contour\": [{\"colorbar\": {\"outlinewidth\": 0, \"ticks\": \"\"}, \"colorscale\": [[0.0, \"#0d0887\"], [0.1111111111111111, \"#46039f\"], [0.2222222222222222, \"#7201a8\"], [0.3333333333333333, \"#9c179e\"], [0.4444444444444444, \"#bd3786\"], [0.5555555555555556, \"#d8576b\"], [0.6666666666666666, \"#ed7953\"], [0.7777777777777778, \"#fb9f3a\"], [0.8888888888888888, \"#fdca26\"], [1.0, \"#f0f921\"]], \"type\": \"contour\"}], \"contourcarpet\": [{\"colorbar\": {\"outlinewidth\": 0, \"ticks\": \"\"}, \"type\": \"contourcarpet\"}], \"heatmap\": [{\"colorbar\": {\"outlinewidth\": 0, \"ticks\": \"\"}, \"colorscale\": [[0.0, \"#0d0887\"], [0.1111111111111111, \"#46039f\"], [0.2222222222222222, \"#7201a8\"], [0.3333333333333333, \"#9c179e\"], [0.4444444444444444, \"#bd3786\"], [0.5555555555555556, \"#d8576b\"], [0.6666666666666666, \"#ed7953\"], [0.7777777777777778, \"#fb9f3a\"], [0.8888888888888888, \"#fdca26\"], [1.0, \"#f0f921\"]], \"type\": \"heatmap\"}], \"heatmapgl\": [{\"colorbar\": {\"outlinewidth\": 0, \"ticks\": \"\"}, \"colorscale\": [[0.0, \"#0d0887\"], [0.1111111111111111, \"#46039f\"], [0.2222222222222222, \"#7201a8\"], [0.3333333333333333, \"#9c179e\"], [0.4444444444444444, \"#bd3786\"], [0.5555555555555556, \"#d8576b\"], [0.6666666666666666, \"#ed7953\"], [0.7777777777777778, \"#fb9f3a\"], [0.8888888888888888, \"#fdca26\"], [1.0, \"#f0f921\"]], \"type\": \"heatmapgl\"}], \"histogram\": [{\"marker\": {\"colorbar\": {\"outlinewidth\": 0, \"ticks\": \"\"}}, \"type\": \"histogram\"}], \"histogram2d\": [{\"colorbar\": {\"outlinewidth\": 0, \"ticks\": \"\"}, \"colorscale\": [[0.0, \"#0d0887\"], [0.1111111111111111, \"#46039f\"], [0.2222222222222222, \"#7201a8\"], [0.3333333333333333, \"#9c179e\"], [0.4444444444444444, \"#bd3786\"], [0.5555555555555556, \"#d8576b\"], [0.6666666666666666, \"#ed7953\"], [0.7777777777777778, \"#fb9f3a\"], [0.8888888888888888, \"#fdca26\"], [1.0, \"#f0f921\"]], \"type\": \"histogram2d\"}], \"histogram2dcontour\": [{\"colorbar\": {\"outlinewidth\": 0, \"ticks\": \"\"}, \"colorscale\": [[0.0, \"#0d0887\"], [0.1111111111111111, \"#46039f\"], [0.2222222222222222, \"#7201a8\"], [0.3333333333333333, \"#9c179e\"], [0.4444444444444444, \"#bd3786\"], [0.5555555555555556, \"#d8576b\"], [0.6666666666666666, \"#ed7953\"], [0.7777777777777778, \"#fb9f3a\"], [0.8888888888888888, \"#fdca26\"], [1.0, \"#f0f921\"]], \"type\": \"histogram2dcontour\"}], \"mesh3d\": [{\"colorbar\": {\"outlinewidth\": 0, \"ticks\": \"\"}, \"type\": \"mesh3d\"}], \"parcoords\": [{\"line\": {\"colorbar\": {\"outlinewidth\": 0, \"ticks\": \"\"}}, \"type\": \"parcoords\"}], \"pie\": [{\"automargin\": true, \"type\": \"pie\"}], \"scatter\": [{\"marker\": {\"colorbar\": {\"outlinewidth\": 0, \"ticks\": \"\"}}, \"type\": \"scatter\"}], \"scatter3d\": [{\"line\": {\"colorbar\": {\"outlinewidth\": 0, \"ticks\": \"\"}}, \"marker\": {\"colorbar\": {\"outlinewidth\": 0, \"ticks\": \"\"}}, \"type\": \"scatter3d\"}], \"scattercarpet\": [{\"marker\": {\"colorbar\": {\"outlinewidth\": 0, \"ticks\": \"\"}}, \"type\": \"scattercarpet\"}], \"scattergeo\": [{\"marker\": {\"colorbar\": {\"outlinewidth\": 0, \"ticks\": \"\"}}, \"type\": \"scattergeo\"}], \"scattergl\": [{\"marker\": {\"colorbar\": {\"outlinewidth\": 0, \"ticks\": \"\"}}, \"type\": \"scattergl\"}], \"scattermapbox\": [{\"marker\": {\"colorbar\": {\"outlinewidth\": 0, \"ticks\": \"\"}}, \"type\": \"scattermapbox\"}], \"scatterpolar\": [{\"marker\": {\"colorbar\": {\"outlinewidth\": 0, \"ticks\": \"\"}}, \"type\": \"scatterpolar\"}], \"scatterpolargl\": [{\"marker\": {\"colorbar\": {\"outlinewidth\": 0, \"ticks\": \"\"}}, \"type\": \"scatterpolargl\"}], \"scatterternary\": [{\"marker\": {\"colorbar\": {\"outlinewidth\": 0, \"ticks\": \"\"}}, \"type\": \"scatterternary\"}], \"surface\": [{\"colorbar\": {\"outlinewidth\": 0, \"ticks\": \"\"}, \"colorscale\": [[0.0, \"#0d0887\"], [0.1111111111111111, \"#46039f\"], [0.2222222222222222, \"#7201a8\"], [0.3333333333333333, \"#9c179e\"], [0.4444444444444444, \"#bd3786\"], [0.5555555555555556, \"#d8576b\"], [0.6666666666666666, \"#ed7953\"], [0.7777777777777778, \"#fb9f3a\"], [0.8888888888888888, \"#fdca26\"], [1.0, \"#f0f921\"]], \"type\": \"surface\"}], \"table\": [{\"cells\": {\"fill\": {\"color\": \"#EBF0F8\"}, \"line\": {\"color\": \"white\"}}, \"header\": {\"fill\": {\"color\": \"#C8D4E3\"}, \"line\": {\"color\": \"white\"}}, \"type\": \"table\"}]}, \"layout\": {\"annotationdefaults\": {\"arrowcolor\": \"#2a3f5f\", \"arrowhead\": 0, \"arrowwidth\": 1}, \"autotypenumbers\": \"strict\", \"coloraxis\": {\"colorbar\": {\"outlinewidth\": 0, \"ticks\": \"\"}}, \"colorscale\": {\"diverging\": [[0, \"#8e0152\"], [0.1, \"#c51b7d\"], [0.2, \"#de77ae\"], [0.3, \"#f1b6da\"], [0.4, \"#fde0ef\"], [0.5, \"#f7f7f7\"], [0.6, \"#e6f5d0\"], [0.7, \"#b8e186\"], [0.8, \"#7fbc41\"], [0.9, \"#4d9221\"], [1, \"#276419\"]], \"sequential\": [[0.0, \"#0d0887\"], [0.1111111111111111, \"#46039f\"], [0.2222222222222222, \"#7201a8\"], [0.3333333333333333, \"#9c179e\"], [0.4444444444444444, \"#bd3786\"], [0.5555555555555556, \"#d8576b\"], [0.6666666666666666, \"#ed7953\"], [0.7777777777777778, \"#fb9f3a\"], [0.8888888888888888, \"#fdca26\"], [1.0, \"#f0f921\"]], \"sequentialminus\": [[0.0, \"#0d0887\"], [0.1111111111111111, \"#46039f\"], [0.2222222222222222, \"#7201a8\"], [0.3333333333333333, \"#9c179e\"], [0.4444444444444444, \"#bd3786\"], [0.5555555555555556, \"#d8576b\"], [0.6666666666666666, \"#ed7953\"], [0.7777777777777778, \"#fb9f3a\"], [0.8888888888888888, \"#fdca26\"], [1.0, \"#f0f921\"]]}, \"colorway\": [\"#636efa\", \"#EF553B\", \"#00cc96\", \"#ab63fa\", \"#FFA15A\", \"#19d3f3\", \"#FF6692\", \"#B6E880\", \"#FF97FF\", \"#FECB52\"], \"font\": {\"color\": \"#2a3f5f\"}, \"geo\": {\"bgcolor\": \"white\", \"lakecolor\": \"white\", \"landcolor\": \"#E5ECF6\", \"showlakes\": true, \"showland\": true, \"subunitcolor\": \"white\"}, \"hoverlabel\": {\"align\": \"left\"}, \"hovermode\": \"closest\", \"mapbox\": {\"style\": \"light\"}, \"paper_bgcolor\": \"white\", \"plot_bgcolor\": \"#E5ECF6\", \"polar\": {\"angularaxis\": {\"gridcolor\": \"white\", \"linecolor\": \"white\", \"ticks\": \"\"}, \"bgcolor\": \"#E5ECF6\", \"radialaxis\": {\"gridcolor\": \"white\", \"linecolor\": \"white\", \"ticks\": \"\"}}, \"scene\": {\"xaxis\": {\"backgroundcolor\": \"#E5ECF6\", \"gridcolor\": \"white\", \"gridwidth\": 2, \"linecolor\": \"white\", \"showbackground\": true, \"ticks\": \"\", \"zerolinecolor\": \"white\"}, \"yaxis\": {\"backgroundcolor\": \"#E5ECF6\", \"gridcolor\": \"white\", \"gridwidth\": 2, \"linecolor\": \"white\", \"showbackground\": true, \"ticks\": \"\", \"zerolinecolor\": \"white\"}, \"zaxis\": {\"backgroundcolor\": \"#E5ECF6\", \"gridcolor\": \"white\", \"gridwidth\": 2, \"linecolor\": \"white\", \"showbackground\": true, \"ticks\": \"\", \"zerolinecolor\": \"white\"}}, \"shapedefaults\": {\"line\": {\"color\": \"#2a3f5f\"}}, \"ternary\": {\"aaxis\": {\"gridcolor\": \"white\", \"linecolor\": \"white\", \"ticks\": \"\"}, \"baxis\": {\"gridcolor\": \"white\", \"linecolor\": \"white\", \"ticks\": \"\"}, \"bgcolor\": \"#E5ECF6\", \"caxis\": {\"gridcolor\": \"white\", \"linecolor\": \"white\", \"ticks\": \"\"}}, \"title\": {\"x\": 0.05}, \"xaxis\": {\"automargin\": true, \"gridcolor\": \"white\", \"linecolor\": \"white\", \"ticks\": \"\", \"title\": {\"standoff\": 15}, \"zerolinecolor\": \"white\", \"zerolinewidth\": 2}, \"yaxis\": {\"automargin\": true, \"gridcolor\": \"white\", \"linecolor\": \"white\", \"ticks\": \"\", \"title\": {\"standoff\": 15}, \"zerolinecolor\": \"white\", \"zerolinewidth\": 2}}}, \"title\": {\"text\": \"Init\"}},                        {\"responsive\": true}                    ).then(function(){\n",
       "                            \n",
       "var gd = document.getElementById('93fe16da-33d3-4deb-bb19-f0a4cfa1d09c');\n",
       "var x = new MutationObserver(function (mutations, observer) {{\n",
       "        var display = window.getComputedStyle(gd).display;\n",
       "        if (!display || display === 'none') {{\n",
       "            console.log([gd, 'removed!']);\n",
       "            Plotly.purge(gd);\n",
       "            observer.disconnect();\n",
       "        }}\n",
       "}});\n",
       "\n",
       "// Listen for the removal of the full notebook cells\n",
       "var notebookContainer = gd.closest('#notebook-container');\n",
       "if (notebookContainer) {{\n",
       "    x.observe(notebookContainer, {childList: true});\n",
       "}}\n",
       "\n",
       "// Listen for the clearing of the current output cell\n",
       "var outputEl = gd.closest('.output');\n",
       "if (outputEl) {{\n",
       "    x.observe(outputEl, {childList: true});\n",
       "}}\n",
       "\n",
       "                        })                };                });            </script>        </div>"
      ]
     },
     "metadata": {},
     "output_type": "display_data"
    }
   ],
   "source": [
    "import pandas as pd\n",
    "import numpy as np\n",
    "import datetime as dt\n",
    "\n",
    "import findspark\n",
    "findspark.init()\n",
    "import pyspark\n",
    "from pyspark.sql import SparkSession\n",
    "from pyspark.sql.functions import *\n",
    "from pyspark.sql.types import *\n",
    "from pyspark.ml.feature import VectorAssembler\n",
    "from pyspark.ml.clustering import *\n",
    "from pyspark.ml.evaluation import *\n",
    "from pyspark.ml.tuning import CrossValidator, ParamGridBuilder\n",
    "from pyspark.ml.stat import Correlation\n",
    "from pyspark.ml import Pipeline\n",
    "\n",
    "# iplot won't work because I've not installed the extension\n",
    "import chart_studio.plotly as ply\n",
    "import plotly.offline as plyoff\n",
    "import plotly.graph_objects as go\n",
    "import plotly.subplots as plysub\n",
    "\n",
    "plyoff.init_notebook_mode(connected=True)\n",
    "init = go.Figure(data=[go.Scatter(x=[1,2], y=[42,42])], layout=go.Layout(title='Init'))\n",
    "plyoff.iplot(init)"
   ]
  },
  {
   "cell_type": "code",
   "execution_count": 2,
   "id": "0c365c54",
   "metadata": {},
   "outputs": [
    {
     "name": "stdout",
     "output_type": "stream",
     "text": [
      "1 cores\n"
     ]
    },
    {
     "data": {
      "text/html": [
       "\n",
       "            <div>\n",
       "                <p><b>SparkSession - in-memory</b></p>\n",
       "                \n",
       "        <div>\n",
       "            <p><b>SparkContext</b></p>\n",
       "\n",
       "            <p><a href=\"http://192.168.150.128:4040\">Spark UI</a></p>\n",
       "\n",
       "            <dl>\n",
       "              <dt>Version</dt>\n",
       "                <dd><code>v3.1.1</code></dd>\n",
       "              <dt>Master</dt>\n",
       "                <dd><code>local[*]</code></dd>\n",
       "              <dt>AppName</dt>\n",
       "                <dd><code>cluster</code></dd>\n",
       "            </dl>\n",
       "        </div>\n",
       "        \n",
       "            </div>\n",
       "        "
      ],
      "text/plain": [
       "<pyspark.sql.session.SparkSession at 0x7f67ffd95610>"
      ]
     },
     "execution_count": 2,
     "metadata": {},
     "output_type": "execute_result"
    }
   ],
   "source": [
    "# initialize\n",
    "sc = pyspark.SparkContext()\n",
    "spark = SparkSession(sc)\n",
    "spark.sparkContext.appName = 'cluster'\n",
    "# show the number of cores\n",
    "print('%d cores'%spark._jsc.sc().getExecutorMemoryStatus().keySet().size())\n",
    "spark"
   ]
  },
  {
   "cell_type": "code",
   "execution_count": 3,
   "id": "b238b49d",
   "metadata": {},
   "outputs": [
    {
     "name": "stdout",
     "output_type": "stream",
     "text": [
      "8950 records\n",
      "+-------+----------+-----------------+---------+----------------+----------------------+------------+-------------------+--------------------------+--------------------------------+----------------------+----------------+-------------+------------+---------+----------------+----------------+------+\n",
      "|CUST_ID|BALANCE   |BALANCE_FREQUENCY|PURCHASES|ONEOFF_PURCHASES|INSTALLMENTS_PURCHASES|CASH_ADVANCE|PURCHASES_FREQUENCY|ONEOFF_PURCHASES_FREQUENCY|PURCHASES_INSTALLMENTS_FREQUENCY|CASH_ADVANCE_FREQUENCY|CASH_ADVANCE_TRX|PURCHASES_TRX|CREDIT_LIMIT|PAYMENTS |MINIMUM_PAYMENTS|PRC_FULL_PAYMENT|TENURE|\n",
      "+-------+----------+-----------------+---------+----------------+----------------------+------------+-------------------+--------------------------+--------------------------------+----------------------+----------------+-------------+------------+---------+----------------+----------------+------+\n",
      "|C10001 |40.90075  |0.818182         |95.4     |0.0             |95.4                  |0.0         |0.166667           |0.0                       |0.083333                        |0.0                   |0.0             |2.0          |1000.0      |201.80208|139.50978       |0.0             |12    |\n",
      "|C10002 |3202.4675 |0.909091         |0.0      |0.0             |0.0                   |6442.9453   |0.0                |0.0                       |0.0                             |0.25                  |4.0             |0.0          |7000.0      |4103.0327|1072.3402       |0.222222        |12    |\n",
      "|C10003 |2495.149  |1.0              |773.17   |773.17          |0.0                   |0.0         |1.0                |1.0                       |0.0                             |0.0                   |0.0             |12.0         |7500.0      |622.0668 |627.2848        |0.0             |12    |\n",
      "|C10004 |1666.6705 |0.636364         |1499.0   |1499.0          |0.0                   |205.78801   |0.083333           |0.083333                  |0.0                             |0.083333              |1.0             |1.0          |7500.0      |0.0      |null            |0.0             |12    |\n",
      "|C10005 |817.71436 |1.0              |16.0     |16.0            |0.0                   |0.0         |0.083333           |0.083333                  |0.0                             |0.0                   |0.0             |1.0          |1200.0      |678.3348 |244.79124       |0.0             |12    |\n",
      "|C10006 |1809.8287 |1.0              |1333.28  |0.0             |1333.28               |0.0         |0.666667           |0.0                       |0.583333                        |0.0                   |0.0             |8.0          |1800.0      |1400.0577|2407.246        |0.0             |12    |\n",
      "|C10007 |627.2608  |1.0              |7091.01  |6402.63         |688.38                |0.0         |1.0                |1.0                       |1.0                             |0.0                   |0.0             |64.0         |13500.0     |6354.3145|198.06589       |1.0             |12    |\n",
      "|C10008 |1823.6527 |1.0              |436.2    |0.0             |436.2                 |0.0         |1.0                |0.0                       |1.0                             |0.0                   |0.0             |12.0         |2300.0      |679.06506|532.034         |0.0             |12    |\n",
      "|C10009 |1014.92645|1.0              |861.49   |661.49          |200.0                 |0.0         |0.333333           |0.083333                  |0.25                            |0.0                   |0.0             |5.0          |7000.0      |688.27856|311.9634        |0.0             |12    |\n",
      "|C10010 |152.22597 |0.545455         |1281.6   |1281.6          |0.0                   |0.0         |0.166667           |0.166667                  |0.0                             |0.0                   |0.0             |3.0          |11000.0     |1164.7706|100.30226       |0.0             |12    |\n",
      "|C10011 |1293.125  |1.0              |920.12   |0.0             |920.12                |0.0         |1.0                |0.0                       |1.0                             |0.0                   |0.0             |12.0         |1200.0      |1083.301 |2172.6978       |0.0             |12    |\n",
      "|C10012 |630.79474 |0.818182         |1492.18  |1492.18         |0.0                   |0.0         |0.25               |0.25                      |0.0                             |0.0                   |0.0             |6.0          |2000.0      |705.61865|155.54907       |0.0             |12    |\n",
      "|C10013 |1516.9286 |1.0              |3217.99  |2500.23         |717.76                |0.0         |1.0                |0.25                      |0.916667                        |0.0                   |0.0             |26.0         |3000.0      |608.2637 |490.207         |0.25            |12    |\n",
      "|C10014 |921.69336 |1.0              |2137.93  |419.96          |1717.97               |0.0         |0.75               |0.166667                  |0.75                            |0.0                   |0.0             |26.0         |7500.0      |1655.8915|251.13799       |0.083333        |12    |\n",
      "|C10015 |2772.7727 |1.0              |0.0      |0.0             |0.0                   |346.8114    |0.0                |0.0                       |0.0                             |0.083333              |1.0             |0.0          |3000.0      |805.64795|989.9629        |0.0             |12    |\n",
      "|C10016 |6886.2134 |1.0              |1611.7   |0.0             |1611.7                |2301.4912   |0.5                |0.0                       |0.5                             |0.166667              |4.0             |11.0         |8000.0      |1993.4393|2109.9065       |0.0             |12    |\n",
      "|C10017 |2072.0745 |0.875            |0.0      |0.0             |0.0                   |2784.2747   |0.0                |0.0                       |0.0                             |0.25                  |3.0             |0.0          |3000.0      |391.97455|376.57962       |0.0             |8     |\n",
      "|C10018 |41.08949  |0.454545         |519.0    |0.0             |519.0                 |0.0         |0.416667           |0.0                       |0.333333                        |0.0                   |0.0             |8.0          |2500.0      |254.59067|73.203224       |0.25            |12    |\n",
      "|C10019 |1989.0723 |1.0              |504.35   |166.0           |338.35                |0.0         |0.666667           |0.083333                  |0.583333                        |0.0                   |0.0             |9.0          |13000.0     |1720.8374|744.6134        |0.0             |12    |\n",
      "|C10020 |3577.971  |1.0              |398.64   |0.0             |398.64                |0.0         |1.0                |0.0                       |1.0                             |0.0                   |0.0             |12.0         |4000.0      |1053.9805|12465.55        |0.0             |12    |\n",
      "+-------+----------+-----------------+---------+----------------+----------------------+------------+-------------------+--------------------------+--------------------------------+----------------------+----------------+-------------+------------+---------+----------------+----------------+------+\n",
      "only showing top 20 rows\n",
      "\n"
     ]
    }
   ],
   "source": [
    "''' get the data '''\n",
    "# load the data\n",
    "fil = '../data/credit_card_data.csv'\n",
    "schem = StructType([StructField('CUST_ID', StringType()), StructField('BALANCE', FloatType()),\n",
    "                    StructField('BALANCE_FREQUENCY', FloatType()), StructField('PURCHASES', FloatType()),\n",
    "                    StructField('ONEOFF_PURCHASES', FloatType()), StructField('INSTALLMENTS_PURCHASES', FloatType()),\n",
    "                    StructField('CASH_ADVANCE', FloatType()), StructField('PURCHASES_FREQUENCY', FloatType()),\n",
    "                    StructField('ONEOFF_PURCHASES_FREQUENCY', FloatType()),\n",
    "                    StructField('PURCHASES_INSTALLMENTS_FREQUENCY', FloatType()),\n",
    "                    StructField('CASH_ADVANCE_FREQUENCY', FloatType()), StructField('CASH_ADVANCE_TRX', FloatType()),\n",
    "                    StructField('PURCHASES_TRX', FloatType()), StructField('CREDIT_LIMIT', FloatType()),\n",
    "                    StructField('PAYMENTS', FloatType()), StructField('MINIMUM_PAYMENTS', FloatType()),\n",
    "                    StructField('PRC_FULL_PAYMENT', FloatType()), StructField('TENURE', IntegerType())])\n",
    "cc = spark.read.format('csv').options(header=True).schema(schem).load(fil)\n",
    "\n",
    "# talk\n",
    "cnt = cc.count()\n",
    "print('%d records'%cnt)\n",
    "cc.show(truncate=False)"
   ]
  },
  {
   "cell_type": "markdown",
   "id": "6e099cfe-d4ff-487c-8969-626e2f2f9f9c",
   "metadata": {},
   "source": [
    "### Data Prep"
   ]
  },
  {
   "cell_type": "code",
   "execution_count": 4,
   "id": "a6b443b6-ca5e-4629-9aec-a3ce22320110",
   "metadata": {},
   "outputs": [
    {
     "data": {
      "text/html": [
       "<div>\n",
       "<style scoped>\n",
       "    .dataframe tbody tr th:only-of-type {\n",
       "        vertical-align: middle;\n",
       "    }\n",
       "\n",
       "    .dataframe tbody tr th {\n",
       "        vertical-align: top;\n",
       "    }\n",
       "\n",
       "    .dataframe thead th {\n",
       "        text-align: right;\n",
       "    }\n",
       "</style>\n",
       "<table border=\"1\" class=\"dataframe\">\n",
       "  <thead>\n",
       "    <tr style=\"text-align: right;\">\n",
       "      <th></th>\n",
       "      <th>Column</th>\n",
       "      <th>Freq.</th>\n",
       "      <th>Rel. Freq.</th>\n",
       "      <th>Type</th>\n",
       "    </tr>\n",
       "  </thead>\n",
       "  <tbody>\n",
       "    <tr>\n",
       "      <th>0</th>\n",
       "      <td>MINIMUM_PAYMENTS</td>\n",
       "      <td>313.0</td>\n",
       "      <td>0.034972</td>\n",
       "      <td>FloatType</td>\n",
       "    </tr>\n",
       "    <tr>\n",
       "      <th>1</th>\n",
       "      <td>CREDIT_LIMIT</td>\n",
       "      <td>1.0</td>\n",
       "      <td>0.000112</td>\n",
       "      <td>FloatType</td>\n",
       "    </tr>\n",
       "    <tr>\n",
       "      <th>2</th>\n",
       "      <td>CUST_ID</td>\n",
       "      <td>0.0</td>\n",
       "      <td>0.000000</td>\n",
       "      <td>StringType</td>\n",
       "    </tr>\n",
       "    <tr>\n",
       "      <th>3</th>\n",
       "      <td>BALANCE</td>\n",
       "      <td>0.0</td>\n",
       "      <td>0.000000</td>\n",
       "      <td>FloatType</td>\n",
       "    </tr>\n",
       "    <tr>\n",
       "      <th>4</th>\n",
       "      <td>PRC_FULL_PAYMENT</td>\n",
       "      <td>0.0</td>\n",
       "      <td>0.000000</td>\n",
       "      <td>FloatType</td>\n",
       "    </tr>\n",
       "    <tr>\n",
       "      <th>5</th>\n",
       "      <td>PAYMENTS</td>\n",
       "      <td>0.0</td>\n",
       "      <td>0.000000</td>\n",
       "      <td>FloatType</td>\n",
       "    </tr>\n",
       "    <tr>\n",
       "      <th>6</th>\n",
       "      <td>PURCHASES_TRX</td>\n",
       "      <td>0.0</td>\n",
       "      <td>0.000000</td>\n",
       "      <td>FloatType</td>\n",
       "    </tr>\n",
       "    <tr>\n",
       "      <th>7</th>\n",
       "      <td>CASH_ADVANCE_TRX</td>\n",
       "      <td>0.0</td>\n",
       "      <td>0.000000</td>\n",
       "      <td>FloatType</td>\n",
       "    </tr>\n",
       "    <tr>\n",
       "      <th>8</th>\n",
       "      <td>CASH_ADVANCE_FREQUENCY</td>\n",
       "      <td>0.0</td>\n",
       "      <td>0.000000</td>\n",
       "      <td>FloatType</td>\n",
       "    </tr>\n",
       "    <tr>\n",
       "      <th>9</th>\n",
       "      <td>PURCHASES_INSTALLMENTS_FREQUENCY</td>\n",
       "      <td>0.0</td>\n",
       "      <td>0.000000</td>\n",
       "      <td>FloatType</td>\n",
       "    </tr>\n",
       "    <tr>\n",
       "      <th>10</th>\n",
       "      <td>ONEOFF_PURCHASES_FREQUENCY</td>\n",
       "      <td>0.0</td>\n",
       "      <td>0.000000</td>\n",
       "      <td>FloatType</td>\n",
       "    </tr>\n",
       "    <tr>\n",
       "      <th>11</th>\n",
       "      <td>PURCHASES_FREQUENCY</td>\n",
       "      <td>0.0</td>\n",
       "      <td>0.000000</td>\n",
       "      <td>FloatType</td>\n",
       "    </tr>\n",
       "    <tr>\n",
       "      <th>12</th>\n",
       "      <td>CASH_ADVANCE</td>\n",
       "      <td>0.0</td>\n",
       "      <td>0.000000</td>\n",
       "      <td>FloatType</td>\n",
       "    </tr>\n",
       "    <tr>\n",
       "      <th>13</th>\n",
       "      <td>INSTALLMENTS_PURCHASES</td>\n",
       "      <td>0.0</td>\n",
       "      <td>0.000000</td>\n",
       "      <td>FloatType</td>\n",
       "    </tr>\n",
       "    <tr>\n",
       "      <th>14</th>\n",
       "      <td>ONEOFF_PURCHASES</td>\n",
       "      <td>0.0</td>\n",
       "      <td>0.000000</td>\n",
       "      <td>FloatType</td>\n",
       "    </tr>\n",
       "    <tr>\n",
       "      <th>15</th>\n",
       "      <td>PURCHASES</td>\n",
       "      <td>0.0</td>\n",
       "      <td>0.000000</td>\n",
       "      <td>FloatType</td>\n",
       "    </tr>\n",
       "    <tr>\n",
       "      <th>16</th>\n",
       "      <td>BALANCE_FREQUENCY</td>\n",
       "      <td>0.0</td>\n",
       "      <td>0.000000</td>\n",
       "      <td>FloatType</td>\n",
       "    </tr>\n",
       "    <tr>\n",
       "      <th>17</th>\n",
       "      <td>TENURE</td>\n",
       "      <td>0.0</td>\n",
       "      <td>0.000000</td>\n",
       "      <td>IntegerType</td>\n",
       "    </tr>\n",
       "  </tbody>\n",
       "</table>\n",
       "</div>"
      ],
      "text/plain": [
       "                              Column  Freq.  Rel. Freq.         Type\n",
       "0                   MINIMUM_PAYMENTS  313.0    0.034972    FloatType\n",
       "1                       CREDIT_LIMIT    1.0    0.000112    FloatType\n",
       "2                            CUST_ID    0.0    0.000000   StringType\n",
       "3                            BALANCE    0.0    0.000000    FloatType\n",
       "4                   PRC_FULL_PAYMENT    0.0    0.000000    FloatType\n",
       "5                           PAYMENTS    0.0    0.000000    FloatType\n",
       "6                      PURCHASES_TRX    0.0    0.000000    FloatType\n",
       "7                   CASH_ADVANCE_TRX    0.0    0.000000    FloatType\n",
       "8             CASH_ADVANCE_FREQUENCY    0.0    0.000000    FloatType\n",
       "9   PURCHASES_INSTALLMENTS_FREQUENCY    0.0    0.000000    FloatType\n",
       "10        ONEOFF_PURCHASES_FREQUENCY    0.0    0.000000    FloatType\n",
       "11               PURCHASES_FREQUENCY    0.0    0.000000    FloatType\n",
       "12                      CASH_ADVANCE    0.0    0.000000    FloatType\n",
       "13            INSTALLMENTS_PURCHASES    0.0    0.000000    FloatType\n",
       "14                  ONEOFF_PURCHASES    0.0    0.000000    FloatType\n",
       "15                         PURCHASES    0.0    0.000000    FloatType\n",
       "16                 BALANCE_FREQUENCY    0.0    0.000000    FloatType\n",
       "17                            TENURE    0.0    0.000000  IntegerType"
      ]
     },
     "metadata": {},
     "output_type": "display_data"
    },
    {
     "name": "stdout",
     "output_type": "stream",
     "text": [
      "8636 records\n"
     ]
    }
   ],
   "source": [
    "''' handle missing values '''\n",
    "# check for missing values\n",
    "nullCounts = {colm:cc.select(colm).where(col(colm).isNull()).count() for colm in cc.columns}\n",
    "nullCounts = {colm:(ncnt, ncnt/cnt) for (colm, ncnt) in nullCounts.items()}\n",
    "nullCountsDF = pd.DataFrame(nullCounts).T.reset_index(drop=False).sort_values(1, ascending=False)\n",
    "nullCountsDF.columns = ['Column', 'Freq.', 'Rel. Freq.']\n",
    "nullCountsDF = nullCountsDF.merge(pd.DataFrame([[colm.name, colm.dataType] for colm in cc.schema], columns=['Column', 'Type']),\n",
    "                                how='inner', on=['Column'])\n",
    "\n",
    "# talk\n",
    "display(nullCountsDF)\n",
    "\n",
    "# remove\n",
    "cc = cc.dropna(how='any')\n",
    "\n",
    "# talk some more\n",
    "print('%d records'%cc.count())"
   ]
  },
  {
   "cell_type": "code",
   "execution_count": 6,
   "id": "3c40337b",
   "metadata": {},
   "outputs": [
    {
     "data": {
      "text/html": [
       "<div>\n",
       "<style scoped>\n",
       "    .dataframe tbody tr th:only-of-type {\n",
       "        vertical-align: middle;\n",
       "    }\n",
       "\n",
       "    .dataframe tbody tr th {\n",
       "        vertical-align: top;\n",
       "    }\n",
       "\n",
       "    .dataframe thead th {\n",
       "        text-align: right;\n",
       "    }\n",
       "</style>\n",
       "<table border=\"1\" class=\"dataframe\">\n",
       "  <thead>\n",
       "    <tr style=\"text-align: right;\">\n",
       "      <th></th>\n",
       "      <th>CUST_ID</th>\n",
       "      <th>BALANCE</th>\n",
       "      <th>BALANCE_FREQUENCY</th>\n",
       "      <th>PURCHASES</th>\n",
       "      <th>ONEOFF_PURCHASES</th>\n",
       "      <th>INSTALLMENTS_PURCHASES</th>\n",
       "      <th>CASH_ADVANCE</th>\n",
       "      <th>PURCHASES_FREQUENCY</th>\n",
       "      <th>ONEOFF_PURCHASES_FREQUENCY</th>\n",
       "      <th>PURCHASES_INSTALLMENTS_FREQUENCY</th>\n",
       "      <th>CASH_ADVANCE_FREQUENCY</th>\n",
       "      <th>CASH_ADVANCE_TRX</th>\n",
       "      <th>PURCHASES_TRX</th>\n",
       "      <th>CREDIT_LIMIT</th>\n",
       "      <th>PAYMENTS</th>\n",
       "      <th>MINIMUM_PAYMENTS</th>\n",
       "      <th>PRC_FULL_PAYMENT</th>\n",
       "      <th>TENURE</th>\n",
       "      <th>features</th>\n",
       "    </tr>\n",
       "  </thead>\n",
       "  <tbody>\n",
       "    <tr>\n",
       "      <th>0</th>\n",
       "      <td>C10001</td>\n",
       "      <td>40.900749</td>\n",
       "      <td>0.818182</td>\n",
       "      <td>95.400002</td>\n",
       "      <td>0.000000</td>\n",
       "      <td>95.400002</td>\n",
       "      <td>0.000000</td>\n",
       "      <td>0.166667</td>\n",
       "      <td>0.000000</td>\n",
       "      <td>0.083333</td>\n",
       "      <td>0.00</td>\n",
       "      <td>0.0</td>\n",
       "      <td>2.0</td>\n",
       "      <td>1000.0</td>\n",
       "      <td>201.802078</td>\n",
       "      <td>139.509781</td>\n",
       "      <td>0.000000</td>\n",
       "      <td>12</td>\n",
       "      <td>[40.90074920654297, 0.8181819915771484, 95.400...</td>\n",
       "    </tr>\n",
       "    <tr>\n",
       "      <th>1</th>\n",
       "      <td>C10002</td>\n",
       "      <td>3202.467529</td>\n",
       "      <td>0.909091</td>\n",
       "      <td>0.000000</td>\n",
       "      <td>0.000000</td>\n",
       "      <td>0.000000</td>\n",
       "      <td>6442.945312</td>\n",
       "      <td>0.000000</td>\n",
       "      <td>0.000000</td>\n",
       "      <td>0.000000</td>\n",
       "      <td>0.25</td>\n",
       "      <td>4.0</td>\n",
       "      <td>0.0</td>\n",
       "      <td>7000.0</td>\n",
       "      <td>4103.032715</td>\n",
       "      <td>1072.340210</td>\n",
       "      <td>0.222222</td>\n",
       "      <td>12</td>\n",
       "      <td>(3202.467529296875, 0.9090909957885742, 0.0, 0...</td>\n",
       "    </tr>\n",
       "    <tr>\n",
       "      <th>2</th>\n",
       "      <td>C10003</td>\n",
       "      <td>2495.148926</td>\n",
       "      <td>1.000000</td>\n",
       "      <td>773.169983</td>\n",
       "      <td>773.169983</td>\n",
       "      <td>0.000000</td>\n",
       "      <td>0.000000</td>\n",
       "      <td>1.000000</td>\n",
       "      <td>1.000000</td>\n",
       "      <td>0.000000</td>\n",
       "      <td>0.00</td>\n",
       "      <td>0.0</td>\n",
       "      <td>12.0</td>\n",
       "      <td>7500.0</td>\n",
       "      <td>622.066772</td>\n",
       "      <td>627.284790</td>\n",
       "      <td>0.000000</td>\n",
       "      <td>12</td>\n",
       "      <td>[2495.14892578125, 1.0, 773.1699829101562, 773...</td>\n",
       "    </tr>\n",
       "    <tr>\n",
       "      <th>3</th>\n",
       "      <td>C10005</td>\n",
       "      <td>817.714355</td>\n",
       "      <td>1.000000</td>\n",
       "      <td>16.000000</td>\n",
       "      <td>16.000000</td>\n",
       "      <td>0.000000</td>\n",
       "      <td>0.000000</td>\n",
       "      <td>0.083333</td>\n",
       "      <td>0.083333</td>\n",
       "      <td>0.000000</td>\n",
       "      <td>0.00</td>\n",
       "      <td>0.0</td>\n",
       "      <td>1.0</td>\n",
       "      <td>1200.0</td>\n",
       "      <td>678.334778</td>\n",
       "      <td>244.791245</td>\n",
       "      <td>0.000000</td>\n",
       "      <td>12</td>\n",
       "      <td>[817.71435546875, 1.0, 16.0, 16.0, 0.0, 0.0, 0...</td>\n",
       "    </tr>\n",
       "    <tr>\n",
       "      <th>4</th>\n",
       "      <td>C10006</td>\n",
       "      <td>1809.828735</td>\n",
       "      <td>1.000000</td>\n",
       "      <td>1333.280029</td>\n",
       "      <td>0.000000</td>\n",
       "      <td>1333.280029</td>\n",
       "      <td>0.000000</td>\n",
       "      <td>0.666667</td>\n",
       "      <td>0.000000</td>\n",
       "      <td>0.583333</td>\n",
       "      <td>0.00</td>\n",
       "      <td>0.0</td>\n",
       "      <td>8.0</td>\n",
       "      <td>1800.0</td>\n",
       "      <td>1400.057739</td>\n",
       "      <td>2407.246094</td>\n",
       "      <td>0.000000</td>\n",
       "      <td>12</td>\n",
       "      <td>[1809.8287353515625, 1.0, 1333.280029296875, 0...</td>\n",
       "    </tr>\n",
       "    <tr>\n",
       "      <th>5</th>\n",
       "      <td>C10007</td>\n",
       "      <td>627.260803</td>\n",
       "      <td>1.000000</td>\n",
       "      <td>7091.009766</td>\n",
       "      <td>6402.629883</td>\n",
       "      <td>688.380005</td>\n",
       "      <td>0.000000</td>\n",
       "      <td>1.000000</td>\n",
       "      <td>1.000000</td>\n",
       "      <td>1.000000</td>\n",
       "      <td>0.00</td>\n",
       "      <td>0.0</td>\n",
       "      <td>64.0</td>\n",
       "      <td>13500.0</td>\n",
       "      <td>6354.314453</td>\n",
       "      <td>198.065887</td>\n",
       "      <td>1.000000</td>\n",
       "      <td>12</td>\n",
       "      <td>[627.2608032226562, 1.0, 7091.009765625, 6402....</td>\n",
       "    </tr>\n",
       "    <tr>\n",
       "      <th>6</th>\n",
       "      <td>C10008</td>\n",
       "      <td>1823.652710</td>\n",
       "      <td>1.000000</td>\n",
       "      <td>436.200012</td>\n",
       "      <td>0.000000</td>\n",
       "      <td>436.200012</td>\n",
       "      <td>0.000000</td>\n",
       "      <td>1.000000</td>\n",
       "      <td>0.000000</td>\n",
       "      <td>1.000000</td>\n",
       "      <td>0.00</td>\n",
       "      <td>0.0</td>\n",
       "      <td>12.0</td>\n",
       "      <td>2300.0</td>\n",
       "      <td>679.065063</td>\n",
       "      <td>532.033997</td>\n",
       "      <td>0.000000</td>\n",
       "      <td>12</td>\n",
       "      <td>[1823.6527099609375, 1.0, 436.20001220703125, ...</td>\n",
       "    </tr>\n",
       "    <tr>\n",
       "      <th>7</th>\n",
       "      <td>C10009</td>\n",
       "      <td>1014.926453</td>\n",
       "      <td>1.000000</td>\n",
       "      <td>861.489990</td>\n",
       "      <td>661.489990</td>\n",
       "      <td>200.000000</td>\n",
       "      <td>0.000000</td>\n",
       "      <td>0.333333</td>\n",
       "      <td>0.083333</td>\n",
       "      <td>0.250000</td>\n",
       "      <td>0.00</td>\n",
       "      <td>0.0</td>\n",
       "      <td>5.0</td>\n",
       "      <td>7000.0</td>\n",
       "      <td>688.278564</td>\n",
       "      <td>311.963409</td>\n",
       "      <td>0.000000</td>\n",
       "      <td>12</td>\n",
       "      <td>[1014.9264526367188, 1.0, 861.489990234375, 66...</td>\n",
       "    </tr>\n",
       "    <tr>\n",
       "      <th>8</th>\n",
       "      <td>C10010</td>\n",
       "      <td>152.225967</td>\n",
       "      <td>0.545455</td>\n",
       "      <td>1281.599976</td>\n",
       "      <td>1281.599976</td>\n",
       "      <td>0.000000</td>\n",
       "      <td>0.000000</td>\n",
       "      <td>0.166667</td>\n",
       "      <td>0.166667</td>\n",
       "      <td>0.000000</td>\n",
       "      <td>0.00</td>\n",
       "      <td>0.0</td>\n",
       "      <td>3.0</td>\n",
       "      <td>11000.0</td>\n",
       "      <td>1164.770630</td>\n",
       "      <td>100.302261</td>\n",
       "      <td>0.000000</td>\n",
       "      <td>12</td>\n",
       "      <td>[152.22596740722656, 0.5454549789428711, 1281....</td>\n",
       "    </tr>\n",
       "    <tr>\n",
       "      <th>9</th>\n",
       "      <td>C10011</td>\n",
       "      <td>1293.125000</td>\n",
       "      <td>1.000000</td>\n",
       "      <td>920.119995</td>\n",
       "      <td>0.000000</td>\n",
       "      <td>920.119995</td>\n",
       "      <td>0.000000</td>\n",
       "      <td>1.000000</td>\n",
       "      <td>0.000000</td>\n",
       "      <td>1.000000</td>\n",
       "      <td>0.00</td>\n",
       "      <td>0.0</td>\n",
       "      <td>12.0</td>\n",
       "      <td>1200.0</td>\n",
       "      <td>1083.301025</td>\n",
       "      <td>2172.697754</td>\n",
       "      <td>0.000000</td>\n",
       "      <td>12</td>\n",
       "      <td>[1293.125, 1.0, 920.1199951171875, 0.0, 920.11...</td>\n",
       "    </tr>\n",
       "  </tbody>\n",
       "</table>\n",
       "</div>"
      ],
      "text/plain": [
       "  CUST_ID      BALANCE  BALANCE_FREQUENCY    PURCHASES  ONEOFF_PURCHASES  \\\n",
       "0  C10001    40.900749           0.818182    95.400002          0.000000   \n",
       "1  C10002  3202.467529           0.909091     0.000000          0.000000   \n",
       "2  C10003  2495.148926           1.000000   773.169983        773.169983   \n",
       "3  C10005   817.714355           1.000000    16.000000         16.000000   \n",
       "4  C10006  1809.828735           1.000000  1333.280029          0.000000   \n",
       "5  C10007   627.260803           1.000000  7091.009766       6402.629883   \n",
       "6  C10008  1823.652710           1.000000   436.200012          0.000000   \n",
       "7  C10009  1014.926453           1.000000   861.489990        661.489990   \n",
       "8  C10010   152.225967           0.545455  1281.599976       1281.599976   \n",
       "9  C10011  1293.125000           1.000000   920.119995          0.000000   \n",
       "\n",
       "   INSTALLMENTS_PURCHASES  CASH_ADVANCE  PURCHASES_FREQUENCY  \\\n",
       "0               95.400002      0.000000             0.166667   \n",
       "1                0.000000   6442.945312             0.000000   \n",
       "2                0.000000      0.000000             1.000000   \n",
       "3                0.000000      0.000000             0.083333   \n",
       "4             1333.280029      0.000000             0.666667   \n",
       "5              688.380005      0.000000             1.000000   \n",
       "6              436.200012      0.000000             1.000000   \n",
       "7              200.000000      0.000000             0.333333   \n",
       "8                0.000000      0.000000             0.166667   \n",
       "9              920.119995      0.000000             1.000000   \n",
       "\n",
       "   ONEOFF_PURCHASES_FREQUENCY  PURCHASES_INSTALLMENTS_FREQUENCY  \\\n",
       "0                    0.000000                          0.083333   \n",
       "1                    0.000000                          0.000000   \n",
       "2                    1.000000                          0.000000   \n",
       "3                    0.083333                          0.000000   \n",
       "4                    0.000000                          0.583333   \n",
       "5                    1.000000                          1.000000   \n",
       "6                    0.000000                          1.000000   \n",
       "7                    0.083333                          0.250000   \n",
       "8                    0.166667                          0.000000   \n",
       "9                    0.000000                          1.000000   \n",
       "\n",
       "   CASH_ADVANCE_FREQUENCY  CASH_ADVANCE_TRX  PURCHASES_TRX  CREDIT_LIMIT  \\\n",
       "0                    0.00               0.0            2.0        1000.0   \n",
       "1                    0.25               4.0            0.0        7000.0   \n",
       "2                    0.00               0.0           12.0        7500.0   \n",
       "3                    0.00               0.0            1.0        1200.0   \n",
       "4                    0.00               0.0            8.0        1800.0   \n",
       "5                    0.00               0.0           64.0       13500.0   \n",
       "6                    0.00               0.0           12.0        2300.0   \n",
       "7                    0.00               0.0            5.0        7000.0   \n",
       "8                    0.00               0.0            3.0       11000.0   \n",
       "9                    0.00               0.0           12.0        1200.0   \n",
       "\n",
       "      PAYMENTS  MINIMUM_PAYMENTS  PRC_FULL_PAYMENT  TENURE  \\\n",
       "0   201.802078        139.509781          0.000000      12   \n",
       "1  4103.032715       1072.340210          0.222222      12   \n",
       "2   622.066772        627.284790          0.000000      12   \n",
       "3   678.334778        244.791245          0.000000      12   \n",
       "4  1400.057739       2407.246094          0.000000      12   \n",
       "5  6354.314453        198.065887          1.000000      12   \n",
       "6   679.065063        532.033997          0.000000      12   \n",
       "7   688.278564        311.963409          0.000000      12   \n",
       "8  1164.770630        100.302261          0.000000      12   \n",
       "9  1083.301025       2172.697754          0.000000      12   \n",
       "\n",
       "                                            features  \n",
       "0  [40.90074920654297, 0.8181819915771484, 95.400...  \n",
       "1  (3202.467529296875, 0.9090909957885742, 0.0, 0...  \n",
       "2  [2495.14892578125, 1.0, 773.1699829101562, 773...  \n",
       "3  [817.71435546875, 1.0, 16.0, 16.0, 0.0, 0.0, 0...  \n",
       "4  [1809.8287353515625, 1.0, 1333.280029296875, 0...  \n",
       "5  [627.2608032226562, 1.0, 7091.009765625, 6402....  \n",
       "6  [1823.6527099609375, 1.0, 436.20001220703125, ...  \n",
       "7  [1014.9264526367188, 1.0, 861.489990234375, 66...  \n",
       "8  [152.22596740722656, 0.5454549789428711, 1281....  \n",
       "9  [1293.125, 1.0, 920.1199951171875, 0.0, 920.11...  "
      ]
     },
     "metadata": {},
     "output_type": "display_data"
    },
    {
     "name": "stdout",
     "output_type": "stream",
     "text": [
      "+-------+----------------------------------------------------------------------------------------------------------------------------------------------------------------------------------------------------+\n",
      "|CUST_ID|features                                                                                                                                                                                            |\n",
      "+-------+----------------------------------------------------------------------------------------------------------------------------------------------------------------------------------------------------+\n",
      "|C10001 |[40.90074920654297,0.8181819915771484,95.4000015258789,0.0,95.4000015258789,0.0,0.16666699945926666,0.0,0.08333300054073334,0.0,0.0,2.0,1000.0,201.8020782470703,139.50978088378906,0.0,12.0]       |\n",
      "|C10002 |(17,[0,1,5,9,10,12,13,14,15,16],[3202.467529296875,0.9090909957885742,6442.9453125,0.25,4.0,7000.0,4103.03271484375,1072.3402099609375,0.2222220003604889,12.0])                                    |\n",
      "|C10003 |[2495.14892578125,1.0,773.1699829101562,773.1699829101562,0.0,0.0,1.0,1.0,0.0,0.0,0.0,12.0,7500.0,622.0667724609375,627.2847900390625,0.0,12.0]                                                     |\n",
      "|C10005 |[817.71435546875,1.0,16.0,16.0,0.0,0.0,0.08333300054073334,0.08333300054073334,0.0,0.0,0.0,1.0,1200.0,678.3347778320312,244.79124450683594,0.0,12.0]                                                |\n",
      "|C10006 |[1809.8287353515625,1.0,1333.280029296875,0.0,1333.280029296875,0.0,0.6666669845581055,0.0,0.5833330154418945,0.0,0.0,8.0,1800.0,1400.0577392578125,2407.24609375,0.0,12.0]                         |\n",
      "|C10007 |[627.2608032226562,1.0,7091.009765625,6402.6298828125,688.3800048828125,0.0,1.0,1.0,1.0,0.0,0.0,64.0,13500.0,6354.314453125,198.06588745117188,1.0,12.0]                                            |\n",
      "|C10008 |[1823.6527099609375,1.0,436.20001220703125,0.0,436.20001220703125,0.0,1.0,0.0,1.0,0.0,0.0,12.0,2300.0,679.0650634765625,532.0339965820312,0.0,12.0]                                                 |\n",
      "|C10009 |[1014.9264526367188,1.0,861.489990234375,661.489990234375,200.0,0.0,0.33333298563957214,0.08333300054073334,0.25,0.0,0.0,5.0,7000.0,688.278564453125,311.9634094238281,0.0,12.0]                    |\n",
      "|C10010 |[152.22596740722656,0.5454549789428711,1281.5999755859375,1281.5999755859375,0.0,0.0,0.16666699945926666,0.16666699945926666,0.0,0.0,0.0,3.0,11000.0,1164.7706298828125,100.30226135253906,0.0,12.0]|\n",
      "|C10011 |[1293.125,1.0,920.1199951171875,0.0,920.1199951171875,0.0,1.0,0.0,1.0,0.0,0.0,12.0,1200.0,1083.301025390625,2172.69775390625,0.0,12.0]                                                              |\n",
      "|C10012 |[630.7947387695312,0.8181819915771484,1492.1800537109375,1492.1800537109375,0.0,0.0,0.25,0.25,0.0,0.0,0.0,6.0,2000.0,705.61865234375,155.549072265625,0.0,12.0]                                     |\n",
      "|C10013 |[1516.9285888671875,1.0,3217.989990234375,2500.22998046875,717.760009765625,0.0,1.0,0.25,0.9166669845581055,0.0,0.0,26.0,3000.0,608.263671875,490.2070007324219,0.25,12.0]                          |\n",
      "|C10014 |[921.693359375,1.0,2137.929931640625,419.9599914550781,1717.969970703125,0.0,0.75,0.16666699945926666,0.75,0.0,0.0,26.0,7500.0,1655.8914794921875,251.1379852294922,0.08333300054073334,12.0]       |\n",
      "|C10015 |(17,[0,1,5,9,10,12,13,14,16],[2772.772705078125,1.0,346.8114013671875,0.08333300054073334,1.0,3000.0,805.64794921875,989.962890625,12.0])                                                           |\n",
      "|C10016 |[6886.21337890625,1.0,1611.699951171875,0.0,1611.699951171875,2301.4912109375,0.5,0.0,0.5,0.16666699945926666,4.0,11.0,8000.0,1993.4393310546875,2109.906494140625,0.0,12.0]                        |\n",
      "|C10017 |(17,[0,1,5,9,10,12,13,14,16],[2072.074462890625,0.875,2784.274658203125,0.25,3.0,3000.0,391.97454833984375,376.5796203613281,8.0])                                                                  |\n",
      "|C10018 |[41.0894889831543,0.4545449912548065,519.0,0.0,519.0,0.0,0.41666701436042786,0.0,0.33333298563957214,0.0,0.0,8.0,2500.0,254.59066772460938,73.2032241821289,0.25,12.0]                              |\n",
      "|C10019 |[1989.072265625,1.0,504.3500061035156,166.0,338.3500061035156,0.0,0.6666669845581055,0.08333300054073334,0.5833330154418945,0.0,0.0,9.0,13000.0,1720.83740234375,744.6134033203125,0.0,12.0]        |\n",
      "|C10020 |[3577.970947265625,1.0,398.6400146484375,0.0,398.6400146484375,0.0,1.0,0.0,1.0,0.0,0.0,12.0,4000.0,1053.98046875,12465.5498046875,0.0,12.0]                                                         |\n",
      "|C10021 |[2016.6846923828125,1.0,176.67999267578125,0.0,176.67999267578125,0.0,0.6666669845581055,0.0,0.6666669845581055,0.0,0.0,8.0,2000.0,223.068603515625,13557.296875,0.0,12.0]                          |\n",
      "+-------+----------------------------------------------------------------------------------------------------------------------------------------------------------------------------------------------------+\n",
      "only showing top 20 rows\n",
      "\n",
      "First row features = [40.90074920654297,0.8181819915771484,95.4000015258789,0.0,95.4000015258789,0.0,0.16666699945926666,0.0,0.08333300054073334,0.0,0.0,2.0,1000.0,201.8020782470703,139.50978088378906,0.0,12.0]\n"
     ]
    }
   ],
   "source": [
    "''' prepare the features '''\n",
    "# get the features\n",
    "features = [c for c in cc.columns if c not in ['CUST_ID']]\n",
    "\n",
    "# create & scale the features vector\n",
    "assr = VectorAssembler(inputCols=features, outputCol='features')\n",
    "#scalr = MinMaxScaler(inputCol='features_raw', outputCol='features')\n",
    "#pipe = Pipeline(stages=[assr, scalr]).fit(cc)\n",
    "#cc = pipe.transform(cc).drop('features_raw')\n",
    "cc = assr.transform(cc)\n",
    "\n",
    "# talk\n",
    "display(cc.limit(10).toPandas())\n",
    "cc.select('CUST_ID', 'features').show(truncate=False)\n",
    "cc.select('features').take(1)\n",
    "print('First row features = %s'%cc.select('features').take(1)[0])"
   ]
  },
  {
   "cell_type": "markdown",
   "id": "c5bf49cf-1a63-4978-87fc-1b07b093f160",
   "metadata": {},
   "source": [
    "## Modeling"
   ]
  },
  {
   "cell_type": "code",
   "execution_count": 7,
   "id": "d650d61f-d8ff-43ee-bc70-f360d8d01c89",
   "metadata": {},
   "outputs": [
    {
     "name": "stdout",
     "output_type": "stream",
     "text": [
      "Training Cases\n",
      "+-------+\n",
      "|CUST_ID|\n",
      "+-------+\n",
      "| C10001|\n",
      "| C10002|\n",
      "| C10005|\n",
      "| C10006|\n",
      "| C10007|\n",
      "| C10009|\n",
      "| C10012|\n",
      "| C10013|\n",
      "| C10014|\n",
      "| C10018|\n",
      "| C10019|\n",
      "| C10020|\n",
      "| C10022|\n",
      "| C10024|\n",
      "| C10027|\n",
      "| C10028|\n",
      "| C10029|\n",
      "| C10033|\n",
      "| C10035|\n",
      "| C10038|\n",
      "+-------+\n",
      "only showing top 20 rows\n",
      "\n",
      "Testing Cases\n",
      "+-------+\n",
      "|CUST_ID|\n",
      "+-------+\n",
      "| C10003|\n",
      "| C10008|\n",
      "| C10010|\n",
      "| C10011|\n",
      "| C10015|\n",
      "| C10016|\n",
      "| C10017|\n",
      "| C10021|\n",
      "| C10023|\n",
      "| C10025|\n",
      "| C10026|\n",
      "| C10030|\n",
      "| C10031|\n",
      "| C10032|\n",
      "| C10034|\n",
      "| C10036|\n",
      "| C10037|\n",
      "| C10041|\n",
      "| C10045|\n",
      "| C10046|\n",
      "+-------+\n",
      "only showing top 20 rows\n",
      "\n"
     ]
    }
   ],
   "source": [
    "# split for cross-val\n",
    "trainPerc = 0.7\n",
    "randSeed = 42\n",
    "tran, test = cc.select('CUST_ID', 'features').randomSplit([trainPerc, 1.0 - trainPerc], seed=randSeed)\n",
    "\n",
    "# talk\n",
    "print('Training Cases')\n",
    "tran.select('CUST_ID').show()\n",
    "print('Testing Cases')\n",
    "test.select('CUST_ID').show()"
   ]
  },
  {
   "cell_type": "code",
   "execution_count": 9,
   "id": "afeca445-332e-4c5c-9fba-447e4bfd98b1",
   "metadata": {},
   "outputs": [
    {
     "name": "stdout",
     "output_type": "stream",
     "text": [
      "Trying k = 2\n",
      "\tTraining Cost = 198883103490.410\n",
      "\tSilhouette score = 0.658\n",
      "Trying k = 3\n",
      "\tTraining Cost = 164165627669.426\n",
      "\tSilhouette score = 0.598\n",
      "Trying k = 4\n",
      "\tTraining Cost = 147002156377.305\n",
      "\tSilhouette score = 0.568\n",
      "Trying k = 5\n",
      "\tTraining Cost = 131300805025.705\n",
      "\tSilhouette score = 0.526\n",
      "Trying k = 6\n",
      "\tTraining Cost = 113478760787.669\n",
      "\tSilhouette score = 0.546\n",
      "Trying k = 7\n",
      "\tTraining Cost = 101128582903.553\n",
      "\tSilhouette score = 0.506\n",
      "Trying k = 8\n",
      "\tTraining Cost = 95925798274.583\n",
      "\tSilhouette score = 0.507\n",
      "Trying k = 9\n",
      "\tTraining Cost = 88496292478.927\n",
      "\tSilhouette score = 0.545\n",
      "Trying k = 10\n",
      "\tTraining Cost = 82305242416.357\n",
      "\tSilhouette score = 0.506\n",
      "Trying k = 11\n",
      "\tTraining Cost = 78405156111.143\n",
      "\tSilhouette score = 0.496\n",
      "Trying k = 12\n",
      "\tTraining Cost = 72216479764.587\n",
      "\tSilhouette score = 0.492\n",
      "Trying k = 13\n",
      "\tTraining Cost = 71241346013.984\n",
      "\tSilhouette score = 0.374\n",
      "Trying k = 14\n",
      "\tTraining Cost = 68601131368.074\n",
      "\tSilhouette score = 0.353\n",
      "Trying k = 15\n",
      "\tTraining Cost = 64945867797.233\n",
      "\tSilhouette score = 0.380\n",
      "Trying k = 16\n",
      "\tTraining Cost = 62899138131.662\n",
      "\tSilhouette score = 0.432\n",
      "Trying k = 17\n",
      "\tTraining Cost = 60061069092.188\n",
      "\tSilhouette score = 0.424\n",
      "Trying k = 18\n",
      "\tTraining Cost = 58401449756.098\n",
      "\tSilhouette score = 0.423\n",
      "Trying k = 19\n",
      "\tTraining Cost = 57656508861.094\n",
      "\tSilhouette score = 0.436\n",
      "Trying k = 20\n",
      "\tTraining Cost = 55271538515.548\n",
      "\tSilhouette score = 0.358\n",
      "Trying k = 21\n",
      "\tTraining Cost = 53472070865.624\n",
      "\tSilhouette score = 0.367\n",
      "Trying k = 22\n",
      "\tTraining Cost = 52199167737.799\n",
      "\tSilhouette score = 0.390\n",
      "Trying k = 23\n",
      "\tTraining Cost = 51534661526.633\n",
      "\tSilhouette score = 0.383\n",
      "Trying k = 24\n",
      "\tTraining Cost = 50272065618.861\n",
      "\tSilhouette score = 0.387\n",
      "Trying k = 25\n",
      "\tTraining Cost = 48628718850.320\n",
      "\tSilhouette score = 0.403\n",
      "Trying k = 26\n",
      "\tTraining Cost = 48055949738.856\n",
      "\tSilhouette score = 0.332\n",
      "Trying k = 27\n",
      "\tTraining Cost = 47462787022.876\n",
      "\tSilhouette score = 0.372\n",
      "Trying k = 28\n",
      "\tTraining Cost = 46490740935.307\n",
      "\tSilhouette score = 0.375\n",
      "Trying k = 29\n",
      "\tTraining Cost = 44492800927.950\n",
      "\tSilhouette score = 0.365\n",
      "Trying k = 30\n",
      "\tTraining Cost = 45140611285.196\n",
      "\tSilhouette score = 0.380\n",
      "Trying k = 31\n",
      "\tTraining Cost = 42250025827.335\n",
      "\tSilhouette score = 0.388\n",
      "Trying k = 32\n",
      "\tTraining Cost = 42211433578.697\n",
      "\tSilhouette score = 0.370\n",
      "Trying k = 33\n",
      "\tTraining Cost = 42406144721.435\n",
      "\tSilhouette score = 0.301\n",
      "Trying k = 34\n",
      "\tTraining Cost = 41837571047.982\n",
      "\tSilhouette score = 0.294\n",
      "Trying k = 35\n",
      "\tTraining Cost = 39473291111.784\n",
      "\tSilhouette score = 0.291\n",
      "Trying k = 36\n",
      "\tTraining Cost = 40678913320.152\n",
      "\tSilhouette score = 0.275\n",
      "Trying k = 37\n",
      "\tTraining Cost = 39545248519.981\n",
      "\tSilhouette score = 0.299\n",
      "Trying k = 38\n",
      "\tTraining Cost = 39548781494.991\n",
      "\tSilhouette score = 0.302\n",
      "Trying k = 39\n",
      "\tTraining Cost = 39716515810.059\n",
      "\tSilhouette score = 0.338\n",
      "Trying k = 40\n",
      "\tTraining Cost = 38326895434.253\n",
      "\tSilhouette score = 0.308\n",
      "Best model has 40 clusters, with a cost of 38326895434.253\n"
     ]
    }
   ],
   "source": [
    "''' evaluate different clustering cardinalities - kmeans '''\n",
    "# setup range that will be tried\n",
    "kMax = 41\n",
    "xs = list(range(2, kMax))\n",
    "kCost = np.ones(kMax)*np.inf\n",
    "kSil = np.ones(kMax)*-1\n",
    "\n",
    "# iterate over k\n",
    "models = [None]*kMax\n",
    "for k in range(2, kMax):\n",
    "    print('Trying k = %d'%k)\n",
    "    # fit the kmeans model on the training set\n",
    "    kmeans = KMeans(k=k, seed=randSeed, featuresCol='features')\n",
    "    models[k] = kmeans.fit(tran)\n",
    "    # eval the model on the training set\n",
    "    kCost[k] = models[k].summary.trainingCost\n",
    "    print('\\tTraining Cost = %0.3f'%kCost[k])\n",
    "    # eval the model on the testing set \n",
    "    testPred = models[k].transform(test)\n",
    "    kSil[k] = ClusteringEvaluator().evaluate(testPred)\n",
    "    print('\\tSilhouette score = %0.3f'%kSil[k])\n",
    "    \n",
    "# show the scree plot\n",
    "fig = plysub.make_subplots(rows=2, cols=1, print_grid=False, subplot_titles=('Train SSE vs. k', 'Test Silhouette vs. k'))\n",
    "fig.add_trace(go.Scatter(x=xs, y=kCost[2:], mode='markers+lines'), 1, 1)\n",
    "fig.add_trace(go.Scatter(x=xs, y=kSil[2:], mode='markers+lines'), 2, 1)\n",
    "fig['layout']['title'] = 'Kmeans Results'\n",
    "plyoff.plot(fig)\n",
    "\n",
    "# find the min\n",
    "bestK = np.argmin(kCost)\n",
    "print('Best model has %d clusters, with a cost of %0.3f'%(bestK, kCost[bestK]))"
   ]
  },
  {
   "cell_type": "code",
   "execution_count": 10,
   "id": "2a92e0e6-a431-451c-9ae2-868d63b755df",
   "metadata": {},
   "outputs": [
    {
     "name": "stdout",
     "output_type": "stream",
     "text": [
      "Trying k = 2\n",
      "\tTraining Cost = 198883103490.411\n",
      "\tSilhouette score = 0.658\n",
      "Trying k = 3\n",
      "\tTraining Cost = 183049788754.766\n",
      "\tSilhouette score = 0.327\n",
      "Trying k = 4\n",
      "\tTraining Cost = 150403430502.307\n",
      "\tSilhouette score = 0.357\n",
      "Trying k = 5\n",
      "\tTraining Cost = 142900976401.824\n",
      "\tSilhouette score = 0.377\n",
      "Trying k = 6\n",
      "\tTraining Cost = 138401316594.269\n",
      "\tSilhouette score = 0.374\n",
      "Trying k = 7\n",
      "\tTraining Cost = 124901568437.786\n",
      "\tSilhouette score = 0.404\n",
      "Trying k = 8\n",
      "\tTraining Cost = 111891064559.740\n",
      "\tSilhouette score = 0.406\n",
      "Trying k = 9\n",
      "\tTraining Cost = 109398716443.580\n",
      "\tSilhouette score = 0.268\n",
      "Trying k = 10\n",
      "\tTraining Cost = 106148210034.392\n",
      "\tSilhouette score = 0.262\n",
      "Trying k = 11\n",
      "\tTraining Cost = 100575058904.100\n",
      "\tSilhouette score = 0.279\n",
      "Trying k = 12\n",
      "\tTraining Cost = 86893344984.014\n",
      "\tSilhouette score = 0.302\n",
      "Trying k = 13\n",
      "\tTraining Cost = 85521048393.448\n",
      "\tSilhouette score = 0.299\n",
      "Trying k = 14\n",
      "\tTraining Cost = 85961183679.397\n",
      "\tSilhouette score = 0.272\n",
      "Trying k = 15\n",
      "\tTraining Cost = 77057331427.004\n",
      "\tSilhouette score = 0.304\n",
      "Trying k = 16\n",
      "\tTraining Cost = 75486981445.039\n",
      "\tSilhouette score = 0.304\n",
      "Trying k = 17\n",
      "\tTraining Cost = 73992106884.789\n",
      "\tSilhouette score = 0.197\n",
      "Trying k = 18\n",
      "\tTraining Cost = 72593251349.939\n",
      "\tSilhouette score = 0.226\n",
      "Trying k = 19\n",
      "\tTraining Cost = 71565703319.778\n",
      "\tSilhouette score = 0.205\n",
      "Trying k = 20\n",
      "\tTraining Cost = 67047004277.945\n",
      "\tSilhouette score = 0.215\n",
      "Trying k = 21\n",
      "\tTraining Cost = 64359506949.878\n",
      "\tSilhouette score = 0.223\n",
      "Trying k = 22\n",
      "\tTraining Cost = 63872372086.315\n",
      "\tSilhouette score = 0.228\n",
      "Trying k = 23\n",
      "\tTraining Cost = 63120536277.417\n",
      "\tSilhouette score = 0.226\n",
      "Trying k = 24\n",
      "\tTraining Cost = 61541316430.851\n",
      "\tSilhouette score = 0.233\n",
      "Trying k = 25\n",
      "\tTraining Cost = 59581413003.874\n",
      "\tSilhouette score = 0.229\n",
      "Trying k = 26\n",
      "\tTraining Cost = 59323871164.995\n",
      "\tSilhouette score = 0.227\n",
      "Trying k = 27\n",
      "\tTraining Cost = 57291656184.644\n",
      "\tSilhouette score = 0.226\n",
      "Trying k = 28\n",
      "\tTraining Cost = 57138988245.359\n",
      "\tSilhouette score = 0.226\n",
      "Trying k = 29\n",
      "\tTraining Cost = 56903544363.987\n",
      "\tSilhouette score = 0.226\n",
      "Trying k = 30\n",
      "\tTraining Cost = 54102189963.960\n",
      "\tSilhouette score = 0.230\n",
      "Trying k = 31\n",
      "\tTraining Cost = 53758625247.128\n",
      "\tSilhouette score = 0.230\n",
      "Trying k = 32\n",
      "\tTraining Cost = 54603088246.360\n",
      "\tSilhouette score = 0.227\n",
      "Trying k = 33\n",
      "\tTraining Cost = 54047485173.503\n",
      "\tSilhouette score = 0.166\n",
      "Trying k = 34\n",
      "\tTraining Cost = 53866545116.378\n",
      "\tSilhouette score = 0.125\n",
      "Trying k = 35\n",
      "\tTraining Cost = 53044220577.055\n",
      "\tSilhouette score = 0.147\n",
      "Trying k = 36\n",
      "\tTraining Cost = 52764649848.140\n",
      "\tSilhouette score = 0.137\n",
      "Trying k = 37\n",
      "\tTraining Cost = 52561358328.247\n",
      "\tSilhouette score = 0.146\n",
      "Trying k = 38\n",
      "\tTraining Cost = 48514310151.099\n",
      "\tSilhouette score = 0.159\n",
      "Trying k = 39\n",
      "\tTraining Cost = 48218050844.300\n",
      "\tSilhouette score = 0.162\n",
      "Trying k = 40\n",
      "\tTraining Cost = 47328127087.553\n",
      "\tSilhouette score = 0.168\n",
      "Best model has 40 clusters, with a cost of 47328127087.553\n"
     ]
    }
   ],
   "source": [
    "''' evaluate different clustering cardinalities  - bisecting kmeans '''\n",
    "# setup range that will be tried\n",
    "bkCost = np.ones(kMax)*np.inf\n",
    "bkSil = np.ones(kMax)*-1\n",
    "\n",
    "# iterate over k\n",
    "bmodels = [None]*kMax\n",
    "for k in range(2, kMax):\n",
    "    print('Trying k = %d'%k)\n",
    "    # fit the bisecting kmeans model on the training set\n",
    "    kmeans = BisectingKMeans(k=k, seed=randSeed, featuresCol='features')\n",
    "    bmodels[k] = kmeans.fit(tran)\n",
    "    # eval the model on the training set\n",
    "    bkCost[k] = bmodels[k].summary.trainingCost\n",
    "    print('\\tTraining Cost = %0.3f'%bkCost[k])\n",
    "    # eval the model on the testing set \n",
    "    testPred = bmodels[k].transform(test)\n",
    "    bkSil[k] = ClusteringEvaluator().evaluate(testPred)\n",
    "    print('\\tSilhouette score = %0.3f'%bkSil[k])\n",
    "    \n",
    "# show the scree plot\n",
    "fig = plysub.make_subplots(rows=2, cols=1, print_grid=False, subplot_titles=('Train SSE vs. k', 'Test Silhouette vs. k'))\n",
    "fig.add_trace(go.Scatter(x=xs, y=bkCost[2:], mode='markers+lines'), 1, 1)\n",
    "fig.add_trace(go.Scatter(x=xs, y=bkSil[2:], mode='markers+lines'), 2, 1)\n",
    "fig['layout']['title'] = 'Bisecting Kmeans Results'\n",
    "plyoff.plot(fig)\n",
    "\n",
    "# find the min\n",
    "bestBK = np.argmin(bkCost)\n",
    "print('Best model has %d clusters, with a cost of %0.3f'%(bestBK, bkCost[bestBK]))"
   ]
  },
  {
   "cell_type": "code",
   "execution_count": 12,
   "id": "6d6db6c1-8d77-4ae7-9839-5250b97a596a",
   "metadata": {},
   "outputs": [
    {
     "name": "stdin",
     "output_type": "stream",
     "text": [
      "Enter the \"best\" k 6\n",
      "Enter the best model (\"k\" or bk\") k\n"
     ]
    },
    {
     "name": "stdout",
     "output_type": "stream",
     "text": [
      "Best k model has 6 clusters, with a cost of 113478760787.669\n",
      "Silhouette score for k model with 6 cluster = [-1, 0.546, 1]\n"
     ]
    },
    {
     "data": {
      "text/html": [
       "<div>\n",
       "<style scoped>\n",
       "    .dataframe tbody tr th:only-of-type {\n",
       "        vertical-align: middle;\n",
       "    }\n",
       "\n",
       "    .dataframe tbody tr th {\n",
       "        vertical-align: top;\n",
       "    }\n",
       "\n",
       "    .dataframe thead th {\n",
       "        text-align: right;\n",
       "    }\n",
       "</style>\n",
       "<table border=\"1\" class=\"dataframe\">\n",
       "  <thead>\n",
       "    <tr style=\"text-align: right;\">\n",
       "      <th></th>\n",
       "      <th>BALANCE</th>\n",
       "      <th>BALANCE_FREQUENCY</th>\n",
       "      <th>PURCHASES</th>\n",
       "      <th>ONEOFF_PURCHASES</th>\n",
       "      <th>INSTALLMENTS_PURCHASES</th>\n",
       "      <th>CASH_ADVANCE</th>\n",
       "      <th>PURCHASES_FREQUENCY</th>\n",
       "      <th>ONEOFF_PURCHASES_FREQUENCY</th>\n",
       "      <th>PURCHASES_INSTALLMENTS_FREQUENCY</th>\n",
       "      <th>CASH_ADVANCE_FREQUENCY</th>\n",
       "      <th>CASH_ADVANCE_TRX</th>\n",
       "      <th>PURCHASES_TRX</th>\n",
       "      <th>CREDIT_LIMIT</th>\n",
       "      <th>PAYMENTS</th>\n",
       "      <th>MINIMUM_PAYMENTS</th>\n",
       "      <th>PRC_FULL_PAYMENT</th>\n",
       "      <th>TENURE</th>\n",
       "    </tr>\n",
       "  </thead>\n",
       "  <tbody>\n",
       "    <tr>\n",
       "      <th>0</th>\n",
       "      <td>885.125388</td>\n",
       "      <td>0.877749</td>\n",
       "      <td>520.789541</td>\n",
       "      <td>254.259873</td>\n",
       "      <td>266.908278</td>\n",
       "      <td>522.593912</td>\n",
       "      <td>0.453244</td>\n",
       "      <td>0.134040</td>\n",
       "      <td>0.347990</td>\n",
       "      <td>0.115121</td>\n",
       "      <td>2.391327</td>\n",
       "      <td>9.756427</td>\n",
       "      <td>2306.067832</td>\n",
       "      <td>961.693053</td>\n",
       "      <td>508.738340</td>\n",
       "      <td>0.152709</td>\n",
       "      <td>11.411841</td>\n",
       "    </tr>\n",
       "    <tr>\n",
       "      <th>1</th>\n",
       "      <td>5544.311042</td>\n",
       "      <td>0.990431</td>\n",
       "      <td>26880.324681</td>\n",
       "      <td>21526.438425</td>\n",
       "      <td>5353.886316</td>\n",
       "      <td>1928.995464</td>\n",
       "      <td>0.934210</td>\n",
       "      <td>0.855263</td>\n",
       "      <td>0.741228</td>\n",
       "      <td>0.070175</td>\n",
       "      <td>3.105263</td>\n",
       "      <td>145.000000</td>\n",
       "      <td>15473.684211</td>\n",
       "      <td>26231.987202</td>\n",
       "      <td>3746.668123</td>\n",
       "      <td>0.533892</td>\n",
       "      <td>12.000000</td>\n",
       "    </tr>\n",
       "    <tr>\n",
       "      <th>2</th>\n",
       "      <td>5995.346297</td>\n",
       "      <td>0.978321</td>\n",
       "      <td>965.681010</td>\n",
       "      <td>613.125827</td>\n",
       "      <td>352.555183</td>\n",
       "      <td>3906.114271</td>\n",
       "      <td>0.386316</td>\n",
       "      <td>0.206737</td>\n",
       "      <td>0.269639</td>\n",
       "      <td>0.366853</td>\n",
       "      <td>10.280000</td>\n",
       "      <td>14.911304</td>\n",
       "      <td>9729.304348</td>\n",
       "      <td>2769.085880</td>\n",
       "      <td>2032.775805</td>\n",
       "      <td>0.010739</td>\n",
       "      <td>11.605217</td>\n",
       "    </tr>\n",
       "    <tr>\n",
       "      <th>3</th>\n",
       "      <td>4162.668319</td>\n",
       "      <td>0.911015</td>\n",
       "      <td>4658.854711</td>\n",
       "      <td>2860.404946</td>\n",
       "      <td>1798.587246</td>\n",
       "      <td>6333.460749</td>\n",
       "      <td>0.590469</td>\n",
       "      <td>0.418067</td>\n",
       "      <td>0.473431</td>\n",
       "      <td>0.314137</td>\n",
       "      <td>11.787500</td>\n",
       "      <td>52.643750</td>\n",
       "      <td>10499.375000</td>\n",
       "      <td>13198.580695</td>\n",
       "      <td>1826.988108</td>\n",
       "      <td>0.259879</td>\n",
       "      <td>11.793750</td>\n",
       "    </tr>\n",
       "    <tr>\n",
       "      <th>4</th>\n",
       "      <td>3777.277374</td>\n",
       "      <td>0.988215</td>\n",
       "      <td>957.584638</td>\n",
       "      <td>119.282223</td>\n",
       "      <td>838.302406</td>\n",
       "      <td>983.472515</td>\n",
       "      <td>0.479517</td>\n",
       "      <td>0.032969</td>\n",
       "      <td>0.459035</td>\n",
       "      <td>0.105359</td>\n",
       "      <td>3.037037</td>\n",
       "      <td>17.333333</td>\n",
       "      <td>4007.407407</td>\n",
       "      <td>1613.468025</td>\n",
       "      <td>20010.987865</td>\n",
       "      <td>0.003086</td>\n",
       "      <td>11.888889</td>\n",
       "    </tr>\n",
       "    <tr>\n",
       "      <th>5</th>\n",
       "      <td>1379.812970</td>\n",
       "      <td>0.906336</td>\n",
       "      <td>1714.878170</td>\n",
       "      <td>1075.327396</td>\n",
       "      <td>640.182679</td>\n",
       "      <td>527.534935</td>\n",
       "      <td>0.637986</td>\n",
       "      <td>0.371339</td>\n",
       "      <td>0.446599</td>\n",
       "      <td>0.082384</td>\n",
       "      <td>1.779432</td>\n",
       "      <td>23.966847</td>\n",
       "      <td>7618.172592</td>\n",
       "      <td>2073.782462</td>\n",
       "      <td>533.072375</td>\n",
       "      <td>0.229995</td>\n",
       "      <td>11.805142</td>\n",
       "    </tr>\n",
       "  </tbody>\n",
       "</table>\n",
       "</div>"
      ],
      "text/plain": [
       "       BALANCE  BALANCE_FREQUENCY     PURCHASES  ONEOFF_PURCHASES  \\\n",
       "0   885.125388           0.877749    520.789541        254.259873   \n",
       "1  5544.311042           0.990431  26880.324681      21526.438425   \n",
       "2  5995.346297           0.978321    965.681010        613.125827   \n",
       "3  4162.668319           0.911015   4658.854711       2860.404946   \n",
       "4  3777.277374           0.988215    957.584638        119.282223   \n",
       "5  1379.812970           0.906336   1714.878170       1075.327396   \n",
       "\n",
       "   INSTALLMENTS_PURCHASES  CASH_ADVANCE  PURCHASES_FREQUENCY  \\\n",
       "0              266.908278    522.593912             0.453244   \n",
       "1             5353.886316   1928.995464             0.934210   \n",
       "2              352.555183   3906.114271             0.386316   \n",
       "3             1798.587246   6333.460749             0.590469   \n",
       "4              838.302406    983.472515             0.479517   \n",
       "5              640.182679    527.534935             0.637986   \n",
       "\n",
       "   ONEOFF_PURCHASES_FREQUENCY  PURCHASES_INSTALLMENTS_FREQUENCY  \\\n",
       "0                    0.134040                          0.347990   \n",
       "1                    0.855263                          0.741228   \n",
       "2                    0.206737                          0.269639   \n",
       "3                    0.418067                          0.473431   \n",
       "4                    0.032969                          0.459035   \n",
       "5                    0.371339                          0.446599   \n",
       "\n",
       "   CASH_ADVANCE_FREQUENCY  CASH_ADVANCE_TRX  PURCHASES_TRX  CREDIT_LIMIT  \\\n",
       "0                0.115121          2.391327       9.756427   2306.067832   \n",
       "1                0.070175          3.105263     145.000000  15473.684211   \n",
       "2                0.366853         10.280000      14.911304   9729.304348   \n",
       "3                0.314137         11.787500      52.643750  10499.375000   \n",
       "4                0.105359          3.037037      17.333333   4007.407407   \n",
       "5                0.082384          1.779432      23.966847   7618.172592   \n",
       "\n",
       "       PAYMENTS  MINIMUM_PAYMENTS  PRC_FULL_PAYMENT     TENURE  \n",
       "0    961.693053        508.738340          0.152709  11.411841  \n",
       "1  26231.987202       3746.668123          0.533892  12.000000  \n",
       "2   2769.085880       2032.775805          0.010739  11.605217  \n",
       "3  13198.580695       1826.988108          0.259879  11.793750  \n",
       "4   1613.468025      20010.987865          0.003086  11.888889  \n",
       "5   2073.782462        533.072375          0.229995  11.805142  "
      ]
     },
     "metadata": {},
     "output_type": "display_data"
    }
   ],
   "source": [
    "''' Evaluate best model on test set '''\n",
    "# get the best\n",
    "bestK = int(input('Enter the \"best\" k'))\n",
    "bestMod = input('Enter the best model (\"k\" or bk\")')\n",
    "if bestMod == 'k':\n",
    "    # kmeans\n",
    "    bestModel = models[bestK]\n",
    "    cst = kCost[bestK]\n",
    "else:\n",
    "    # bisecting kmeans\n",
    "    bestModel = bmodels[bestK]\n",
    "    cst = bkCost[bestK]\n",
    "print('Best %s model has %d clusters, with a cost of %0.3f'%(bestMod, bestK, cst))\n",
    "\n",
    "# predict\n",
    "testPred = bestModel.transform(test)\n",
    "# eval\n",
    "evalSil = ClusteringEvaluator()\n",
    "silhouette = evalSil.evaluate(testPred)\n",
    "print('Silhouette score for %s model with %d cluster = [-1, %0.3f, 1]'%(bestMod, bestK, silhouette))\n",
    "# get the centers\n",
    "cents = pd.DataFrame(index=list(range(bestK)), data=bestModel.clusterCenters(), columns=features)\n",
    "display(cents)"
   ]
  },
  {
   "cell_type": "code",
   "execution_count": 13,
   "id": "81c2c77c-d036-436b-aac3-83041f9141ca",
   "metadata": {},
   "outputs": [
    {
     "name": "stdout",
     "output_type": "stream",
     "text": [
      "+----------+------------+------------------+------------+\n",
      "|prediction|min(BALANCE)|      avg(BALANCE)|max(BALANCE)|\n",
      "+----------+------------+------------------+------------+\n",
      "|         1|   1268.8091| 5405.330897013347|   19043.139|\n",
      "|         3|    4.382924| 4189.620371494737|   15244.749|\n",
      "|         5|         0.0|1370.0603074958822|   6257.3906|\n",
      "|         4|    915.7177| 3731.417682423311|   11209.371|\n",
      "|         2|   43.103897|  6036.56365059162|   18495.559|\n",
      "|         0|         0.0| 883.5241210564602|     4931.59|\n",
      "+----------+------------+------------------+------------+\n",
      "\n",
      "+----------+----------------------+----------------------+----------------------+\n",
      "|prediction|min(BALANCE_FREQUENCY)|avg(BALANCE_FREQUENCY)|max(BALANCE_FREQUENCY)|\n",
      "+----------+----------------------+----------------------+----------------------+\n",
      "|         1|              0.272727|     0.957954540848732|                   1.0|\n",
      "|         3|              0.090909|    0.9121116585163183|                   1.0|\n",
      "|         5|                   0.0|    0.9071421345635183|                   1.0|\n",
      "|         4|              0.727273|    0.9879679259131936|                   1.0|\n",
      "|         2|              0.181818|     0.977806440513269|                   1.0|\n",
      "|         0|                   0.0|    0.8760579249142727|                   1.0|\n",
      "+----------+----------------------+----------------------+----------------------+\n",
      "\n",
      "+----------+--------------+------------------+--------------+\n",
      "|prediction|min(PURCHASES)|    avg(PURCHASES)|max(PURCHASES)|\n",
      "+----------+--------------+------------------+--------------+\n",
      "|         1|      12551.95|27276.363728841145|      49039.57|\n",
      "|         3|           0.0| 4679.331227380176|       22500.0|\n",
      "|         5|           0.0|1712.7902450559204|      11994.71|\n",
      "|         4|           0.0| 930.1995649337769|      11147.33|\n",
      "|         2|           0.0| 967.4006291489998|      10166.69|\n",
      "|         0|           0.0| 517.0266634163062|       6661.25|\n",
      "+----------+--------------+------------------+--------------+\n",
      "\n",
      "+----------+---------------------+---------------------+---------------------+\n",
      "|prediction|min(ONEOFF_PURCHASES)|avg(ONEOFF_PURCHASES)|max(ONEOFF_PURCHASES)|\n",
      "+----------+---------------------+---------------------+---------------------+\n",
      "|         1|              9449.07|   21877.102945963543|             40761.25|\n",
      "|         3|                  0.0|   2904.7915884860727|              14215.0|\n",
      "|         5|                  0.0|   1078.1165246950306|             11994.71|\n",
      "|         4|                  0.0|   106.23176524218391|               2463.0|\n",
      "|         2|                  0.0|    584.8346313341254|              8775.37|\n",
      "|         0|                  0.0|   251.74963195045777|               5805.5|\n",
      "+----------+---------------------+---------------------+---------------------+\n",
      "\n",
      "+----------+---------------------------+---------------------------+---------------------------+\n",
      "|prediction|min(INSTALLMENTS_PURCHASES)|avg(INSTALLMENTS_PURCHASES)|max(INSTALLMENTS_PURCHASES)|\n",
      "+----------+---------------------------+---------------------------+---------------------------+\n",
      "|         1|                        0.0|          5399.260860443115|                   15497.19|\n",
      "|         3|                        0.0|         1774.6419508135596|                    22500.0|\n",
      "|         5|                        0.0|          635.1277584990194|                     7571.4|\n",
      "|         4|                        0.0|          823.9677927353803|                   10009.93|\n",
      "|         2|                        0.0|         382.64844806088604|                    8391.55|\n",
      "|         0|                        0.0|          265.5817436601216|                    4249.92|\n",
      "+----------+---------------------------+---------------------------+---------------------------+\n",
      "\n",
      "+----------+-----------------+------------------+-----------------+\n",
      "|prediction|min(CASH_ADVANCE)| avg(CASH_ADVANCE)|max(CASH_ADVANCE)|\n",
      "+----------+-----------------+------------------+-----------------+\n",
      "|         1|              0.0|1550.3783620198567|        19513.475|\n",
      "|         3|              0.0| 6145.624266016761|         47137.21|\n",
      "|         5|              0.0| 538.5416223092976|         6322.766|\n",
      "|         4|              0.0| 933.9633181515862|       10616.2705|\n",
      "|         2|              0.0|3850.2067845819033|        14827.308|\n",
      "|         0|              0.0| 536.5428564005282|        7663.9062|\n",
      "+----------+-----------------+------------------+-----------------+\n",
      "\n",
      "+----------+------------------------+------------------------+------------------------+\n",
      "|prediction|min(PURCHASES_FREQUENCY)|avg(PURCHASES_FREQUENCY)|max(PURCHASES_FREQUENCY)|\n",
      "+----------+------------------------+------------------------+------------------------+\n",
      "|         1|                0.166667|      0.9090277496725321|                     1.0|\n",
      "|         3|                     0.0|      0.5968856224486995|                     1.0|\n",
      "|         5|                     0.0|      0.6385291720340712|                     1.0|\n",
      "|         4|                     0.0|     0.46535202904659156|                     1.0|\n",
      "|         2|                     0.0|      0.3854868494965173|                     1.0|\n",
      "|         0|                     0.0|     0.45333244661380956|                     1.0|\n",
      "+----------+------------------------+------------------------+------------------------+\n",
      "\n",
      "+----------+-------------------------------+-------------------------------+-------------------------------+\n",
      "|prediction|min(ONEOFF_PURCHASES_FREQUENCY)|avg(ONEOFF_PURCHASES_FREQUENCY)|max(ONEOFF_PURCHASES_FREQUENCY)|\n",
      "+----------+-------------------------------+-------------------------------+-------------------------------+\n",
      "|         1|                       0.166667|             0.8423611639688412|                            1.0|\n",
      "|         3|                            0.0|            0.41646480851395185|                            1.0|\n",
      "|         5|                            0.0|            0.37578132341121895|                            1.0|\n",
      "|         4|                            0.0|           0.035984808469519895|                       0.333333|\n",
      "|         2|                            0.0|            0.19927225721623804|                            1.0|\n",
      "|         0|                            0.0|            0.13392546897679022|                            1.0|\n",
      "+----------+-------------------------------+-------------------------------+-------------------------------+\n",
      "\n",
      "+----------+-------------------------------------+-------------------------------------+-------------------------------------+\n",
      "|prediction|min(PURCHASES_INSTALLMENTS_FREQUENCY)|avg(PURCHASES_INSTALLMENTS_FREQUENCY)|max(PURCHASES_INSTALLMENTS_FREQUENCY)|\n",
      "+----------+-------------------------------------+-------------------------------------+-------------------------------------+\n",
      "|         1|                                  0.0|                   0.7208332934727272|                                  1.0|\n",
      "|         3|                                  0.0|                   0.4777328234079272|                                  1.0|\n",
      "|         5|                                  0.0|                  0.44627650027780436|                                  1.0|\n",
      "|         4|                                  0.0|                   0.4392825584201252|                                  1.0|\n",
      "|         2|                                  0.0|                  0.27652205146041703|                                  1.0|\n",
      "|         0|                                  0.0|                   0.3466523934606012|                                  1.0|\n",
      "+----------+-------------------------------------+-------------------------------------+-------------------------------------+\n",
      "\n",
      "+----------+---------------------------+---------------------------+---------------------------+\n",
      "|prediction|min(CASH_ADVANCE_FREQUENCY)|avg(CASH_ADVANCE_FREQUENCY)|max(CASH_ADVANCE_FREQUENCY)|\n",
      "+----------+---------------------------+---------------------------+---------------------------+\n",
      "|         1|                        0.0|         0.0590277494241794|                   0.666667|\n",
      "|         3|                        0.0|         0.3255919405540755|                        1.0|\n",
      "|         5|                        0.0|        0.08275162661153829|                        1.5|\n",
      "|         4|                        0.0|        0.10695182291023872|                        0.5|\n",
      "|         2|                        0.0|        0.37183641542318124|                       1.25|\n",
      "|         0|                        0.0|        0.11675952085235836|                   1.166667|\n",
      "+----------+---------------------------+---------------------------+---------------------------+\n",
      "\n",
      "+----------+---------------------+---------------------+---------------------+\n",
      "|prediction|min(CASH_ADVANCE_TRX)|avg(CASH_ADVANCE_TRX)|max(CASH_ADVANCE_TRX)|\n",
      "+----------+---------------------+---------------------+---------------------+\n",
      "|         1|                  0.0|                  2.5|                 35.0|\n",
      "|         3|                  0.0|   12.888372093023255|                123.0|\n",
      "|         5|                  0.0|   1.8439474963539135|                 48.0|\n",
      "|         4|                  0.0|   3.1176470588235294|                 17.0|\n",
      "|         2|                  0.0|   10.264778325123153|                110.0|\n",
      "|         0|                  0.0|    2.463003663003663|                123.0|\n",
      "+----------+---------------------+---------------------+---------------------+\n",
      "\n",
      "+----------+------------------+------------------+------------------+\n",
      "|prediction|min(PURCHASES_TRX)|avg(PURCHASES_TRX)|max(PURCHASES_TRX)|\n",
      "+----------+------------------+------------------+------------------+\n",
      "|         1|               3.0|127.95833333333333|             358.0|\n",
      "|         3|               0.0|51.972093023255816|             347.0|\n",
      "|         5|               0.0|23.826446280991735|             273.0|\n",
      "|         4|               0.0|17.691176470588236|             162.0|\n",
      "|         2|               0.0|15.524630541871922|             309.0|\n",
      "|         0|               0.0| 9.663369963369963|             186.0|\n",
      "+----------+------------------+------------------+------------------+\n",
      "\n",
      "+----------+-----------------+------------------+-----------------+\n",
      "|prediction|min(CREDIT_LIMIT)| avg(CREDIT_LIMIT)|max(CREDIT_LIMIT)|\n",
      "+----------+-----------------+------------------+-----------------+\n",
      "|         1|           7500.0|16083.333333333334|          30000.0|\n",
      "|         3|           1200.0|10548.625794876454|          30000.0|\n",
      "|         5|           1000.0| 7590.343395361115|          20000.0|\n",
      "|         4|           1000.0|3908.0882352941176|          11000.0|\n",
      "|         2|           3000.0| 9716.748768472906|          25000.0|\n",
      "|         0|             50.0| 2313.138685401106|           5500.0|\n",
      "+----------+-----------------+------------------+-----------------+\n",
      "\n",
      "+----------+-------------+------------------+-------------+\n",
      "|prediction|min(PAYMENTS)|     avg(PAYMENTS)|max(PAYMENTS)|\n",
      "+----------+-------------+------------------+-------------+\n",
      "|         1|    13002.304|27925.634643554688|    50721.484|\n",
      "|         3|     5772.813|12923.676337663517|    40627.594|\n",
      "|         5|     4.523555| 2123.268028995976|     9933.623|\n",
      "|         4|    46.969048|1422.5073080623852|     8735.607|\n",
      "|         2|    217.05951|  2760.54127077751|     9542.247|\n",
      "|         0|     0.049513|  962.654739083394|    10893.778|\n",
      "+----------+-------------+------------------+-------------+\n",
      "\n",
      "+----------+---------------------+---------------------+---------------------+\n",
      "|prediction|min(MINIMUM_PAYMENTS)|avg(MINIMUM_PAYMENTS)|max(MINIMUM_PAYMENTS)|\n",
      "+----------+---------------------+---------------------+---------------------+\n",
      "|         1|            410.80008|    3266.671023050944|            18621.014|\n",
      "|         3|             5.045387|    1791.795562564495|            21235.064|\n",
      "|         5|             0.117036|    526.8588413003077|             8296.913|\n",
      "|         4|            10474.564|   20663.140538832722|             76406.21|\n",
      "|         2|             68.72549|   2093.6766281409805|            11142.933|\n",
      "|         0|             0.019163|    514.9439053397192|             9957.743|\n",
      "+----------+---------------------+---------------------+---------------------+\n",
      "\n",
      "+----------+---------------------+---------------------+---------------------+\n",
      "|prediction|min(PRC_FULL_PAYMENT)|avg(PRC_FULL_PAYMENT)|max(PRC_FULL_PAYMENT)|\n",
      "+----------+---------------------+---------------------+---------------------+\n",
      "|         1|                  0.0|   0.5112057911852995|                  1.0|\n",
      "|         3|                  0.0|   0.2496180551343186|                  1.0|\n",
      "|         5|                  0.0|   0.2313625018212421|                  1.0|\n",
      "|         4|                  0.0| 0.003676455906208...|             0.083333|\n",
      "|         2|                  0.0| 0.009954433438592944|             0.916667|\n",
      "|         0|                  0.0|  0.15120212745344463|                  1.0|\n",
      "+----------+---------------------+---------------------+---------------------+\n",
      "\n",
      "+----------+-----------+------------------+-----------+\n",
      "|prediction|min(TENURE)|       avg(TENURE)|max(TENURE)|\n",
      "+----------+-----------+------------------+-----------+\n",
      "|         1|         10|11.916666666666666|         12|\n",
      "|         3|          6|11.786046511627907|         12|\n",
      "|         5|          6|11.804569761789013|         12|\n",
      "|         4|         11|11.911764705882353|         12|\n",
      "|         2|          6|11.608374384236454|         12|\n",
      "|         0|          6|11.405311355311355|         12|\n",
      "+----------+-----------+------------------+-----------+\n",
      "\n"
     ]
    }
   ],
   "source": [
    "# add predictions to entire dataset\n",
    "ccpred = bestModel.transform(cc)\n",
    "for feat in features:\n",
    "    ccpred.groupBy('prediction').agg(min(col(feat)), mean(col(feat)), max(col(feat))).show()"
   ]
  },
  {
   "cell_type": "code",
   "execution_count": null,
   "id": "f96928b1",
   "metadata": {},
   "outputs": [],
   "source": [
    "sc.stop()"
   ]
  },
  {
   "cell_type": "code",
   "execution_count": null,
   "id": "2c22f013-c95e-48c7-8bda-edff5bb310e9",
   "metadata": {},
   "outputs": [],
   "source": []
  }
 ],
 "metadata": {
  "kernelspec": {
   "display_name": "Python 3",
   "language": "python",
   "name": "python3"
  },
  "language_info": {
   "codemirror_mode": {
    "name": "ipython",
    "version": 3
   },
   "file_extension": ".py",
   "mimetype": "text/x-python",
   "name": "python",
   "nbconvert_exporter": "python",
   "pygments_lexer": "ipython3",
   "version": "3.8.8"
  }
 },
 "nbformat": 4,
 "nbformat_minor": 5
}
