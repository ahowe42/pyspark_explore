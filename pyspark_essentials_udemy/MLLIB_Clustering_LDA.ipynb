{
 "cells": [
  {
   "cell_type": "code",
   "execution_count": 1,
   "id": "c6884cf0",
   "metadata": {},
   "outputs": [
    {
     "data": {
      "text/html": [
       "        <script type=\"text/javascript\">\n",
       "        window.PlotlyConfig = {MathJaxConfig: 'local'};\n",
       "        if (window.MathJax) {MathJax.Hub.Config({SVG: {font: \"STIX-Web\"}});}\n",
       "        if (typeof require !== 'undefined') {\n",
       "        require.undef(\"plotly\");\n",
       "        requirejs.config({\n",
       "            paths: {\n",
       "                'plotly': ['https://cdn.plot.ly/plotly-latest.min']\n",
       "            }\n",
       "        });\n",
       "        require(['plotly'], function(Plotly) {\n",
       "            window._Plotly = Plotly;\n",
       "        });\n",
       "        }\n",
       "        </script>\n",
       "        "
      ]
     },
     "metadata": {},
     "output_type": "display_data"
    },
    {
     "data": {
      "application/vnd.plotly.v1+json": {
       "config": {
        "linkText": "Export to plot.ly",
        "plotlyServerURL": "https://plot.ly",
        "showLink": false
       },
       "data": [
        {
         "type": "scatter",
         "x": [
          1,
          2
         ],
         "y": [
          42,
          42
         ]
        }
       ],
       "layout": {
        "template": {
         "data": {
          "bar": [
           {
            "error_x": {
             "color": "#2a3f5f"
            },
            "error_y": {
             "color": "#2a3f5f"
            },
            "marker": {
             "line": {
              "color": "#E5ECF6",
              "width": 0.5
             }
            },
            "type": "bar"
           }
          ],
          "barpolar": [
           {
            "marker": {
             "line": {
              "color": "#E5ECF6",
              "width": 0.5
             }
            },
            "type": "barpolar"
           }
          ],
          "carpet": [
           {
            "aaxis": {
             "endlinecolor": "#2a3f5f",
             "gridcolor": "white",
             "linecolor": "white",
             "minorgridcolor": "white",
             "startlinecolor": "#2a3f5f"
            },
            "baxis": {
             "endlinecolor": "#2a3f5f",
             "gridcolor": "white",
             "linecolor": "white",
             "minorgridcolor": "white",
             "startlinecolor": "#2a3f5f"
            },
            "type": "carpet"
           }
          ],
          "choropleth": [
           {
            "colorbar": {
             "outlinewidth": 0,
             "ticks": ""
            },
            "type": "choropleth"
           }
          ],
          "contour": [
           {
            "colorbar": {
             "outlinewidth": 0,
             "ticks": ""
            },
            "colorscale": [
             [
              0,
              "#0d0887"
             ],
             [
              0.1111111111111111,
              "#46039f"
             ],
             [
              0.2222222222222222,
              "#7201a8"
             ],
             [
              0.3333333333333333,
              "#9c179e"
             ],
             [
              0.4444444444444444,
              "#bd3786"
             ],
             [
              0.5555555555555556,
              "#d8576b"
             ],
             [
              0.6666666666666666,
              "#ed7953"
             ],
             [
              0.7777777777777778,
              "#fb9f3a"
             ],
             [
              0.8888888888888888,
              "#fdca26"
             ],
             [
              1,
              "#f0f921"
             ]
            ],
            "type": "contour"
           }
          ],
          "contourcarpet": [
           {
            "colorbar": {
             "outlinewidth": 0,
             "ticks": ""
            },
            "type": "contourcarpet"
           }
          ],
          "heatmap": [
           {
            "colorbar": {
             "outlinewidth": 0,
             "ticks": ""
            },
            "colorscale": [
             [
              0,
              "#0d0887"
             ],
             [
              0.1111111111111111,
              "#46039f"
             ],
             [
              0.2222222222222222,
              "#7201a8"
             ],
             [
              0.3333333333333333,
              "#9c179e"
             ],
             [
              0.4444444444444444,
              "#bd3786"
             ],
             [
              0.5555555555555556,
              "#d8576b"
             ],
             [
              0.6666666666666666,
              "#ed7953"
             ],
             [
              0.7777777777777778,
              "#fb9f3a"
             ],
             [
              0.8888888888888888,
              "#fdca26"
             ],
             [
              1,
              "#f0f921"
             ]
            ],
            "type": "heatmap"
           }
          ],
          "heatmapgl": [
           {
            "colorbar": {
             "outlinewidth": 0,
             "ticks": ""
            },
            "colorscale": [
             [
              0,
              "#0d0887"
             ],
             [
              0.1111111111111111,
              "#46039f"
             ],
             [
              0.2222222222222222,
              "#7201a8"
             ],
             [
              0.3333333333333333,
              "#9c179e"
             ],
             [
              0.4444444444444444,
              "#bd3786"
             ],
             [
              0.5555555555555556,
              "#d8576b"
             ],
             [
              0.6666666666666666,
              "#ed7953"
             ],
             [
              0.7777777777777778,
              "#fb9f3a"
             ],
             [
              0.8888888888888888,
              "#fdca26"
             ],
             [
              1,
              "#f0f921"
             ]
            ],
            "type": "heatmapgl"
           }
          ],
          "histogram": [
           {
            "marker": {
             "colorbar": {
              "outlinewidth": 0,
              "ticks": ""
             }
            },
            "type": "histogram"
           }
          ],
          "histogram2d": [
           {
            "colorbar": {
             "outlinewidth": 0,
             "ticks": ""
            },
            "colorscale": [
             [
              0,
              "#0d0887"
             ],
             [
              0.1111111111111111,
              "#46039f"
             ],
             [
              0.2222222222222222,
              "#7201a8"
             ],
             [
              0.3333333333333333,
              "#9c179e"
             ],
             [
              0.4444444444444444,
              "#bd3786"
             ],
             [
              0.5555555555555556,
              "#d8576b"
             ],
             [
              0.6666666666666666,
              "#ed7953"
             ],
             [
              0.7777777777777778,
              "#fb9f3a"
             ],
             [
              0.8888888888888888,
              "#fdca26"
             ],
             [
              1,
              "#f0f921"
             ]
            ],
            "type": "histogram2d"
           }
          ],
          "histogram2dcontour": [
           {
            "colorbar": {
             "outlinewidth": 0,
             "ticks": ""
            },
            "colorscale": [
             [
              0,
              "#0d0887"
             ],
             [
              0.1111111111111111,
              "#46039f"
             ],
             [
              0.2222222222222222,
              "#7201a8"
             ],
             [
              0.3333333333333333,
              "#9c179e"
             ],
             [
              0.4444444444444444,
              "#bd3786"
             ],
             [
              0.5555555555555556,
              "#d8576b"
             ],
             [
              0.6666666666666666,
              "#ed7953"
             ],
             [
              0.7777777777777778,
              "#fb9f3a"
             ],
             [
              0.8888888888888888,
              "#fdca26"
             ],
             [
              1,
              "#f0f921"
             ]
            ],
            "type": "histogram2dcontour"
           }
          ],
          "mesh3d": [
           {
            "colorbar": {
             "outlinewidth": 0,
             "ticks": ""
            },
            "type": "mesh3d"
           }
          ],
          "parcoords": [
           {
            "line": {
             "colorbar": {
              "outlinewidth": 0,
              "ticks": ""
             }
            },
            "type": "parcoords"
           }
          ],
          "pie": [
           {
            "automargin": true,
            "type": "pie"
           }
          ],
          "scatter": [
           {
            "marker": {
             "colorbar": {
              "outlinewidth": 0,
              "ticks": ""
             }
            },
            "type": "scatter"
           }
          ],
          "scatter3d": [
           {
            "line": {
             "colorbar": {
              "outlinewidth": 0,
              "ticks": ""
             }
            },
            "marker": {
             "colorbar": {
              "outlinewidth": 0,
              "ticks": ""
             }
            },
            "type": "scatter3d"
           }
          ],
          "scattercarpet": [
           {
            "marker": {
             "colorbar": {
              "outlinewidth": 0,
              "ticks": ""
             }
            },
            "type": "scattercarpet"
           }
          ],
          "scattergeo": [
           {
            "marker": {
             "colorbar": {
              "outlinewidth": 0,
              "ticks": ""
             }
            },
            "type": "scattergeo"
           }
          ],
          "scattergl": [
           {
            "marker": {
             "colorbar": {
              "outlinewidth": 0,
              "ticks": ""
             }
            },
            "type": "scattergl"
           }
          ],
          "scattermapbox": [
           {
            "marker": {
             "colorbar": {
              "outlinewidth": 0,
              "ticks": ""
             }
            },
            "type": "scattermapbox"
           }
          ],
          "scatterpolar": [
           {
            "marker": {
             "colorbar": {
              "outlinewidth": 0,
              "ticks": ""
             }
            },
            "type": "scatterpolar"
           }
          ],
          "scatterpolargl": [
           {
            "marker": {
             "colorbar": {
              "outlinewidth": 0,
              "ticks": ""
             }
            },
            "type": "scatterpolargl"
           }
          ],
          "scatterternary": [
           {
            "marker": {
             "colorbar": {
              "outlinewidth": 0,
              "ticks": ""
             }
            },
            "type": "scatterternary"
           }
          ],
          "surface": [
           {
            "colorbar": {
             "outlinewidth": 0,
             "ticks": ""
            },
            "colorscale": [
             [
              0,
              "#0d0887"
             ],
             [
              0.1111111111111111,
              "#46039f"
             ],
             [
              0.2222222222222222,
              "#7201a8"
             ],
             [
              0.3333333333333333,
              "#9c179e"
             ],
             [
              0.4444444444444444,
              "#bd3786"
             ],
             [
              0.5555555555555556,
              "#d8576b"
             ],
             [
              0.6666666666666666,
              "#ed7953"
             ],
             [
              0.7777777777777778,
              "#fb9f3a"
             ],
             [
              0.8888888888888888,
              "#fdca26"
             ],
             [
              1,
              "#f0f921"
             ]
            ],
            "type": "surface"
           }
          ],
          "table": [
           {
            "cells": {
             "fill": {
              "color": "#EBF0F8"
             },
             "line": {
              "color": "white"
             }
            },
            "header": {
             "fill": {
              "color": "#C8D4E3"
             },
             "line": {
              "color": "white"
             }
            },
            "type": "table"
           }
          ]
         },
         "layout": {
          "annotationdefaults": {
           "arrowcolor": "#2a3f5f",
           "arrowhead": 0,
           "arrowwidth": 1
          },
          "autotypenumbers": "strict",
          "coloraxis": {
           "colorbar": {
            "outlinewidth": 0,
            "ticks": ""
           }
          },
          "colorscale": {
           "diverging": [
            [
             0,
             "#8e0152"
            ],
            [
             0.1,
             "#c51b7d"
            ],
            [
             0.2,
             "#de77ae"
            ],
            [
             0.3,
             "#f1b6da"
            ],
            [
             0.4,
             "#fde0ef"
            ],
            [
             0.5,
             "#f7f7f7"
            ],
            [
             0.6,
             "#e6f5d0"
            ],
            [
             0.7,
             "#b8e186"
            ],
            [
             0.8,
             "#7fbc41"
            ],
            [
             0.9,
             "#4d9221"
            ],
            [
             1,
             "#276419"
            ]
           ],
           "sequential": [
            [
             0,
             "#0d0887"
            ],
            [
             0.1111111111111111,
             "#46039f"
            ],
            [
             0.2222222222222222,
             "#7201a8"
            ],
            [
             0.3333333333333333,
             "#9c179e"
            ],
            [
             0.4444444444444444,
             "#bd3786"
            ],
            [
             0.5555555555555556,
             "#d8576b"
            ],
            [
             0.6666666666666666,
             "#ed7953"
            ],
            [
             0.7777777777777778,
             "#fb9f3a"
            ],
            [
             0.8888888888888888,
             "#fdca26"
            ],
            [
             1,
             "#f0f921"
            ]
           ],
           "sequentialminus": [
            [
             0,
             "#0d0887"
            ],
            [
             0.1111111111111111,
             "#46039f"
            ],
            [
             0.2222222222222222,
             "#7201a8"
            ],
            [
             0.3333333333333333,
             "#9c179e"
            ],
            [
             0.4444444444444444,
             "#bd3786"
            ],
            [
             0.5555555555555556,
             "#d8576b"
            ],
            [
             0.6666666666666666,
             "#ed7953"
            ],
            [
             0.7777777777777778,
             "#fb9f3a"
            ],
            [
             0.8888888888888888,
             "#fdca26"
            ],
            [
             1,
             "#f0f921"
            ]
           ]
          },
          "colorway": [
           "#636efa",
           "#EF553B",
           "#00cc96",
           "#ab63fa",
           "#FFA15A",
           "#19d3f3",
           "#FF6692",
           "#B6E880",
           "#FF97FF",
           "#FECB52"
          ],
          "font": {
           "color": "#2a3f5f"
          },
          "geo": {
           "bgcolor": "white",
           "lakecolor": "white",
           "landcolor": "#E5ECF6",
           "showlakes": true,
           "showland": true,
           "subunitcolor": "white"
          },
          "hoverlabel": {
           "align": "left"
          },
          "hovermode": "closest",
          "mapbox": {
           "style": "light"
          },
          "paper_bgcolor": "white",
          "plot_bgcolor": "#E5ECF6",
          "polar": {
           "angularaxis": {
            "gridcolor": "white",
            "linecolor": "white",
            "ticks": ""
           },
           "bgcolor": "#E5ECF6",
           "radialaxis": {
            "gridcolor": "white",
            "linecolor": "white",
            "ticks": ""
           }
          },
          "scene": {
           "xaxis": {
            "backgroundcolor": "#E5ECF6",
            "gridcolor": "white",
            "gridwidth": 2,
            "linecolor": "white",
            "showbackground": true,
            "ticks": "",
            "zerolinecolor": "white"
           },
           "yaxis": {
            "backgroundcolor": "#E5ECF6",
            "gridcolor": "white",
            "gridwidth": 2,
            "linecolor": "white",
            "showbackground": true,
            "ticks": "",
            "zerolinecolor": "white"
           },
           "zaxis": {
            "backgroundcolor": "#E5ECF6",
            "gridcolor": "white",
            "gridwidth": 2,
            "linecolor": "white",
            "showbackground": true,
            "ticks": "",
            "zerolinecolor": "white"
           }
          },
          "shapedefaults": {
           "line": {
            "color": "#2a3f5f"
           }
          },
          "ternary": {
           "aaxis": {
            "gridcolor": "white",
            "linecolor": "white",
            "ticks": ""
           },
           "baxis": {
            "gridcolor": "white",
            "linecolor": "white",
            "ticks": ""
           },
           "bgcolor": "#E5ECF6",
           "caxis": {
            "gridcolor": "white",
            "linecolor": "white",
            "ticks": ""
           }
          },
          "title": {
           "x": 0.05
          },
          "xaxis": {
           "automargin": true,
           "gridcolor": "white",
           "linecolor": "white",
           "ticks": "",
           "title": {
            "standoff": 15
           },
           "zerolinecolor": "white",
           "zerolinewidth": 2
          },
          "yaxis": {
           "automargin": true,
           "gridcolor": "white",
           "linecolor": "white",
           "ticks": "",
           "title": {
            "standoff": 15
           },
           "zerolinecolor": "white",
           "zerolinewidth": 2
          }
         }
        },
        "title": {
         "text": "Init"
        }
       }
      },
      "text/html": [
       "<div>                            <div id=\"34e7df61-74db-43a7-9317-06d656a83c47\" class=\"plotly-graph-div\" style=\"height:525px; width:100%;\"></div>            <script type=\"text/javascript\">                require([\"plotly\"], function(Plotly) {                    window.PLOTLYENV=window.PLOTLYENV || {};                                    if (document.getElementById(\"34e7df61-74db-43a7-9317-06d656a83c47\")) {                    Plotly.newPlot(                        \"34e7df61-74db-43a7-9317-06d656a83c47\",                        [{\"type\": \"scatter\", \"x\": [1, 2], \"y\": [42, 42]}],                        {\"template\": {\"data\": {\"bar\": [{\"error_x\": {\"color\": \"#2a3f5f\"}, \"error_y\": {\"color\": \"#2a3f5f\"}, \"marker\": {\"line\": {\"color\": \"#E5ECF6\", \"width\": 0.5}}, \"type\": \"bar\"}], \"barpolar\": [{\"marker\": {\"line\": {\"color\": \"#E5ECF6\", \"width\": 0.5}}, \"type\": \"barpolar\"}], \"carpet\": [{\"aaxis\": {\"endlinecolor\": \"#2a3f5f\", \"gridcolor\": \"white\", \"linecolor\": \"white\", \"minorgridcolor\": \"white\", \"startlinecolor\": \"#2a3f5f\"}, \"baxis\": {\"endlinecolor\": \"#2a3f5f\", \"gridcolor\": \"white\", \"linecolor\": \"white\", \"minorgridcolor\": \"white\", \"startlinecolor\": \"#2a3f5f\"}, \"type\": \"carpet\"}], \"choropleth\": [{\"colorbar\": {\"outlinewidth\": 0, \"ticks\": \"\"}, \"type\": \"choropleth\"}], \"contour\": [{\"colorbar\": {\"outlinewidth\": 0, \"ticks\": \"\"}, \"colorscale\": [[0.0, \"#0d0887\"], [0.1111111111111111, \"#46039f\"], [0.2222222222222222, \"#7201a8\"], [0.3333333333333333, \"#9c179e\"], [0.4444444444444444, \"#bd3786\"], [0.5555555555555556, \"#d8576b\"], [0.6666666666666666, \"#ed7953\"], [0.7777777777777778, \"#fb9f3a\"], [0.8888888888888888, \"#fdca26\"], [1.0, \"#f0f921\"]], \"type\": \"contour\"}], \"contourcarpet\": [{\"colorbar\": {\"outlinewidth\": 0, \"ticks\": \"\"}, \"type\": \"contourcarpet\"}], \"heatmap\": [{\"colorbar\": {\"outlinewidth\": 0, \"ticks\": \"\"}, \"colorscale\": [[0.0, \"#0d0887\"], [0.1111111111111111, \"#46039f\"], [0.2222222222222222, \"#7201a8\"], [0.3333333333333333, \"#9c179e\"], [0.4444444444444444, \"#bd3786\"], [0.5555555555555556, \"#d8576b\"], [0.6666666666666666, \"#ed7953\"], [0.7777777777777778, \"#fb9f3a\"], [0.8888888888888888, \"#fdca26\"], [1.0, \"#f0f921\"]], \"type\": \"heatmap\"}], \"heatmapgl\": [{\"colorbar\": {\"outlinewidth\": 0, \"ticks\": \"\"}, \"colorscale\": [[0.0, \"#0d0887\"], [0.1111111111111111, \"#46039f\"], [0.2222222222222222, \"#7201a8\"], [0.3333333333333333, \"#9c179e\"], [0.4444444444444444, \"#bd3786\"], [0.5555555555555556, \"#d8576b\"], [0.6666666666666666, \"#ed7953\"], [0.7777777777777778, \"#fb9f3a\"], [0.8888888888888888, \"#fdca26\"], [1.0, \"#f0f921\"]], \"type\": \"heatmapgl\"}], \"histogram\": [{\"marker\": {\"colorbar\": {\"outlinewidth\": 0, \"ticks\": \"\"}}, \"type\": \"histogram\"}], \"histogram2d\": [{\"colorbar\": {\"outlinewidth\": 0, \"ticks\": \"\"}, \"colorscale\": [[0.0, \"#0d0887\"], [0.1111111111111111, \"#46039f\"], [0.2222222222222222, \"#7201a8\"], [0.3333333333333333, \"#9c179e\"], [0.4444444444444444, \"#bd3786\"], [0.5555555555555556, \"#d8576b\"], [0.6666666666666666, \"#ed7953\"], [0.7777777777777778, \"#fb9f3a\"], [0.8888888888888888, \"#fdca26\"], [1.0, \"#f0f921\"]], \"type\": \"histogram2d\"}], \"histogram2dcontour\": [{\"colorbar\": {\"outlinewidth\": 0, \"ticks\": \"\"}, \"colorscale\": [[0.0, \"#0d0887\"], [0.1111111111111111, \"#46039f\"], [0.2222222222222222, \"#7201a8\"], [0.3333333333333333, \"#9c179e\"], [0.4444444444444444, \"#bd3786\"], [0.5555555555555556, \"#d8576b\"], [0.6666666666666666, \"#ed7953\"], [0.7777777777777778, \"#fb9f3a\"], [0.8888888888888888, \"#fdca26\"], [1.0, \"#f0f921\"]], \"type\": \"histogram2dcontour\"}], \"mesh3d\": [{\"colorbar\": {\"outlinewidth\": 0, \"ticks\": \"\"}, \"type\": \"mesh3d\"}], \"parcoords\": [{\"line\": {\"colorbar\": {\"outlinewidth\": 0, \"ticks\": \"\"}}, \"type\": \"parcoords\"}], \"pie\": [{\"automargin\": true, \"type\": \"pie\"}], \"scatter\": [{\"marker\": {\"colorbar\": {\"outlinewidth\": 0, \"ticks\": \"\"}}, \"type\": \"scatter\"}], \"scatter3d\": [{\"line\": {\"colorbar\": {\"outlinewidth\": 0, \"ticks\": \"\"}}, \"marker\": {\"colorbar\": {\"outlinewidth\": 0, \"ticks\": \"\"}}, \"type\": \"scatter3d\"}], \"scattercarpet\": [{\"marker\": {\"colorbar\": {\"outlinewidth\": 0, \"ticks\": \"\"}}, \"type\": \"scattercarpet\"}], \"scattergeo\": [{\"marker\": {\"colorbar\": {\"outlinewidth\": 0, \"ticks\": \"\"}}, \"type\": \"scattergeo\"}], \"scattergl\": [{\"marker\": {\"colorbar\": {\"outlinewidth\": 0, \"ticks\": \"\"}}, \"type\": \"scattergl\"}], \"scattermapbox\": [{\"marker\": {\"colorbar\": {\"outlinewidth\": 0, \"ticks\": \"\"}}, \"type\": \"scattermapbox\"}], \"scatterpolar\": [{\"marker\": {\"colorbar\": {\"outlinewidth\": 0, \"ticks\": \"\"}}, \"type\": \"scatterpolar\"}], \"scatterpolargl\": [{\"marker\": {\"colorbar\": {\"outlinewidth\": 0, \"ticks\": \"\"}}, \"type\": \"scatterpolargl\"}], \"scatterternary\": [{\"marker\": {\"colorbar\": {\"outlinewidth\": 0, \"ticks\": \"\"}}, \"type\": \"scatterternary\"}], \"surface\": [{\"colorbar\": {\"outlinewidth\": 0, \"ticks\": \"\"}, \"colorscale\": [[0.0, \"#0d0887\"], [0.1111111111111111, \"#46039f\"], [0.2222222222222222, \"#7201a8\"], [0.3333333333333333, \"#9c179e\"], [0.4444444444444444, \"#bd3786\"], [0.5555555555555556, \"#d8576b\"], [0.6666666666666666, \"#ed7953\"], [0.7777777777777778, \"#fb9f3a\"], [0.8888888888888888, \"#fdca26\"], [1.0, \"#f0f921\"]], \"type\": \"surface\"}], \"table\": [{\"cells\": {\"fill\": {\"color\": \"#EBF0F8\"}, \"line\": {\"color\": \"white\"}}, \"header\": {\"fill\": {\"color\": \"#C8D4E3\"}, \"line\": {\"color\": \"white\"}}, \"type\": \"table\"}]}, \"layout\": {\"annotationdefaults\": {\"arrowcolor\": \"#2a3f5f\", \"arrowhead\": 0, \"arrowwidth\": 1}, \"autotypenumbers\": \"strict\", \"coloraxis\": {\"colorbar\": {\"outlinewidth\": 0, \"ticks\": \"\"}}, \"colorscale\": {\"diverging\": [[0, \"#8e0152\"], [0.1, \"#c51b7d\"], [0.2, \"#de77ae\"], [0.3, \"#f1b6da\"], [0.4, \"#fde0ef\"], [0.5, \"#f7f7f7\"], [0.6, \"#e6f5d0\"], [0.7, \"#b8e186\"], [0.8, \"#7fbc41\"], [0.9, \"#4d9221\"], [1, \"#276419\"]], \"sequential\": [[0.0, \"#0d0887\"], [0.1111111111111111, \"#46039f\"], [0.2222222222222222, \"#7201a8\"], [0.3333333333333333, \"#9c179e\"], [0.4444444444444444, \"#bd3786\"], [0.5555555555555556, \"#d8576b\"], [0.6666666666666666, \"#ed7953\"], [0.7777777777777778, \"#fb9f3a\"], [0.8888888888888888, \"#fdca26\"], [1.0, \"#f0f921\"]], \"sequentialminus\": [[0.0, \"#0d0887\"], [0.1111111111111111, \"#46039f\"], [0.2222222222222222, \"#7201a8\"], [0.3333333333333333, \"#9c179e\"], [0.4444444444444444, \"#bd3786\"], [0.5555555555555556, \"#d8576b\"], [0.6666666666666666, \"#ed7953\"], [0.7777777777777778, \"#fb9f3a\"], [0.8888888888888888, \"#fdca26\"], [1.0, \"#f0f921\"]]}, \"colorway\": [\"#636efa\", \"#EF553B\", \"#00cc96\", \"#ab63fa\", \"#FFA15A\", \"#19d3f3\", \"#FF6692\", \"#B6E880\", \"#FF97FF\", \"#FECB52\"], \"font\": {\"color\": \"#2a3f5f\"}, \"geo\": {\"bgcolor\": \"white\", \"lakecolor\": \"white\", \"landcolor\": \"#E5ECF6\", \"showlakes\": true, \"showland\": true, \"subunitcolor\": \"white\"}, \"hoverlabel\": {\"align\": \"left\"}, \"hovermode\": \"closest\", \"mapbox\": {\"style\": \"light\"}, \"paper_bgcolor\": \"white\", \"plot_bgcolor\": \"#E5ECF6\", \"polar\": {\"angularaxis\": {\"gridcolor\": \"white\", \"linecolor\": \"white\", \"ticks\": \"\"}, \"bgcolor\": \"#E5ECF6\", \"radialaxis\": {\"gridcolor\": \"white\", \"linecolor\": \"white\", \"ticks\": \"\"}}, \"scene\": {\"xaxis\": {\"backgroundcolor\": \"#E5ECF6\", \"gridcolor\": \"white\", \"gridwidth\": 2, \"linecolor\": \"white\", \"showbackground\": true, \"ticks\": \"\", \"zerolinecolor\": \"white\"}, \"yaxis\": {\"backgroundcolor\": \"#E5ECF6\", \"gridcolor\": \"white\", \"gridwidth\": 2, \"linecolor\": \"white\", \"showbackground\": true, \"ticks\": \"\", \"zerolinecolor\": \"white\"}, \"zaxis\": {\"backgroundcolor\": \"#E5ECF6\", \"gridcolor\": \"white\", \"gridwidth\": 2, \"linecolor\": \"white\", \"showbackground\": true, \"ticks\": \"\", \"zerolinecolor\": \"white\"}}, \"shapedefaults\": {\"line\": {\"color\": \"#2a3f5f\"}}, \"ternary\": {\"aaxis\": {\"gridcolor\": \"white\", \"linecolor\": \"white\", \"ticks\": \"\"}, \"baxis\": {\"gridcolor\": \"white\", \"linecolor\": \"white\", \"ticks\": \"\"}, \"bgcolor\": \"#E5ECF6\", \"caxis\": {\"gridcolor\": \"white\", \"linecolor\": \"white\", \"ticks\": \"\"}}, \"title\": {\"x\": 0.05}, \"xaxis\": {\"automargin\": true, \"gridcolor\": \"white\", \"linecolor\": \"white\", \"ticks\": \"\", \"title\": {\"standoff\": 15}, \"zerolinecolor\": \"white\", \"zerolinewidth\": 2}, \"yaxis\": {\"automargin\": true, \"gridcolor\": \"white\", \"linecolor\": \"white\", \"ticks\": \"\", \"title\": {\"standoff\": 15}, \"zerolinecolor\": \"white\", \"zerolinewidth\": 2}}}, \"title\": {\"text\": \"Init\"}},                        {\"responsive\": true}                    ).then(function(){\n",
       "                            \n",
       "var gd = document.getElementById('34e7df61-74db-43a7-9317-06d656a83c47');\n",
       "var x = new MutationObserver(function (mutations, observer) {{\n",
       "        var display = window.getComputedStyle(gd).display;\n",
       "        if (!display || display === 'none') {{\n",
       "            console.log([gd, 'removed!']);\n",
       "            Plotly.purge(gd);\n",
       "            observer.disconnect();\n",
       "        }}\n",
       "}});\n",
       "\n",
       "// Listen for the removal of the full notebook cells\n",
       "var notebookContainer = gd.closest('#notebook-container');\n",
       "if (notebookContainer) {{\n",
       "    x.observe(notebookContainer, {childList: true});\n",
       "}}\n",
       "\n",
       "// Listen for the clearing of the current output cell\n",
       "var outputEl = gd.closest('.output');\n",
       "if (outputEl) {{\n",
       "    x.observe(outputEl, {childList: true});\n",
       "}}\n",
       "\n",
       "                        })                };                });            </script>        </div>"
      ]
     },
     "metadata": {},
     "output_type": "display_data"
    }
   ],
   "source": [
    "import pandas as pd\n",
    "import numpy as np\n",
    "import datetime as dt\n",
    "\n",
    "import findspark\n",
    "findspark.init()\n",
    "import pyspark\n",
    "from pyspark.sql import SparkSession\n",
    "from pyspark.sql.functions import *\n",
    "from pyspark.sql.types import *\n",
    "from pyspark.ml.feature import VectorAssembler, StringIndexer, IndexToString, RegexTokenizer,\\\n",
    "    StopWordsRemover, Word2Vec, CountVectorizer, IDF, HashingTF\n",
    "from pyspark.ml.clustering import *\n",
    "from pyspark.ml.evaluation import *\n",
    "from pyspark.ml.tuning import CrossValidator, ParamGridBuilder\n",
    "from pyspark.ml.functions import vector_to_array\n",
    "from pyspark.ml import Pipeline\n",
    "\n",
    "# iplot won't work because I've not installed the extension\n",
    "import chart_studio.plotly as ply\n",
    "import plotly.offline as plyoff\n",
    "import plotly.graph_objects as go\n",
    "import plotly.subplots as plysub\n",
    "\n",
    "plyoff.init_notebook_mode(connected=True)\n",
    "init = go.Figure(data=[go.Scatter(x=[1,2], y=[42,42])], layout=go.Layout(title='Init'))\n",
    "plyoff.iplot(init)"
   ]
  },
  {
   "cell_type": "code",
   "execution_count": 2,
   "id": "0c365c54",
   "metadata": {},
   "outputs": [
    {
     "name": "stdout",
     "output_type": "stream",
     "text": [
      "1 cores\n"
     ]
    },
    {
     "data": {
      "text/html": [
       "\n",
       "            <div>\n",
       "                <p><b>SparkSession - in-memory</b></p>\n",
       "                \n",
       "        <div>\n",
       "            <p><b>SparkContext</b></p>\n",
       "\n",
       "            <p><a href=\"http://192.168.150.128:4040\">Spark UI</a></p>\n",
       "\n",
       "            <dl>\n",
       "              <dt>Version</dt>\n",
       "                <dd><code>v3.1.1</code></dd>\n",
       "              <dt>Master</dt>\n",
       "                <dd><code>local[*]</code></dd>\n",
       "              <dt>AppName</dt>\n",
       "                <dd><code>latentdirichlet</code></dd>\n",
       "            </dl>\n",
       "        </div>\n",
       "        \n",
       "            </div>\n",
       "        "
      ],
      "text/plain": [
       "<pyspark.sql.session.SparkSession at 0x7f22b40ad610>"
      ]
     },
     "execution_count": 2,
     "metadata": {},
     "output_type": "execute_result"
    }
   ],
   "source": [
    "# initialize\n",
    "sc = pyspark.SparkContext()\n",
    "spark = SparkSession(sc)\n",
    "spark.sparkContext.appName = 'latentdirichlet'\n",
    "# show the number of cores\n",
    "print('%d cores'%spark._jsc.sc().getExecutorMemoryStatus().keySet().size())\n",
    "spark"
   ]
  },
  {
   "cell_type": "code",
   "execution_count": 3,
   "id": "b238b49d",
   "metadata": {},
   "outputs": [
    {
     "name": "stdout",
     "output_type": "stream",
     "text": [
      "1617 records\n",
      "+---+------------+------------------------------------------------------------------------------------------------+------------------------------------------------------------------------------------------------------------------------------------------------------------------------------------------------------------------------------------------------------------------------------------------------------------------------------------------------------------------------------------------------------------------------------------------------------+----------------------------------------------------------------------------------------------------------------------------------------------------------------------------------------------------------------------------------------------------------------------------------------------------------------------------------------------------------------------------------------------------------------------------------------------------------------------------------------------------------------------------------------------------------------------------------------------------------------------------------------------------------------------------------------------------------------------------------------------------------------------------------------------------------------------------------------------------------------------------------------------------------------------------------------------------------------------------------------------------------------------------------------------------------------------------------------------------------------------------------------------------------------------------------------------------------------------------------------------------------------------------------------------------------------------------------------------------------------------------------------------------------------------------------------------------------------------------------------------------------------------------------------------------------------------------------------------------------------------------------------------------------------------------------------------------------------------------------------+----------------------------+---------------------------------------------------------------------+\n",
      "|id |Author      |Description                                                                                     |Ingredients                                                                                                                                                                                                                                                                                                                                                                                                                                           |Method                                                                                                                                                                                                                                                                                                                                                                                                                                                                                                                                                                                                                                                                                                                                                                                                                                                                                                                                                                                                                                                                                                                                                                                                                                                                                                                                                                                                                                                                                                                                                                                                                                                                                                                                  |Name                        |url                                                                  |\n",
      "+---+------------+------------------------------------------------------------------------------------------------+------------------------------------------------------------------------------------------------------------------------------------------------------------------------------------------------------------------------------------------------------------------------------------------------------------------------------------------------------------------------------------------------------------------------------------------------------+----------------------------------------------------------------------------------------------------------------------------------------------------------------------------------------------------------------------------------------------------------------------------------------------------------------------------------------------------------------------------------------------------------------------------------------------------------------------------------------------------------------------------------------------------------------------------------------------------------------------------------------------------------------------------------------------------------------------------------------------------------------------------------------------------------------------------------------------------------------------------------------------------------------------------------------------------------------------------------------------------------------------------------------------------------------------------------------------------------------------------------------------------------------------------------------------------------------------------------------------------------------------------------------------------------------------------------------------------------------------------------------------------------------------------------------------------------------------------------------------------------------------------------------------------------------------------------------------------------------------------------------------------------------------------------------------------------------------------------------+----------------------------+---------------------------------------------------------------------+\n",
      "|0  |Mary Cadogan|Combine a few key Christmas flavours here to make a pie that both children and adults will adore|[2 tbsp olive oil, knob butter, 1 onion, finely chopped, 500g sausagemeat or skinned sausages, grated zest of 1 lemon, 100g fresh white breadcrumbs, 85g ready-to-eat dried apricots, chopped, 50g chestnut, canned or vacuum-packed, chopped, 2 tsp chopped fresh or 1tsp dried thyme, 100g cranberries, fresh or frozen, 500g boneless, skinless chicken breasts, 500g pack ready-made shortcrust pastry, beaten egg, to glaze]                     |[Heat oven to 190C/fan 170C/gas 5. Heat 1 tbsp oil and the butter in a frying pan, then add the onion and fry for 5 mins until softened. Cool slightly. Tip the sausagemeat, lemon zest, breadcrumbs, apricots, chestnuts and thyme into a bowl. Add the onion and cranberries, and mix everything together with your hands, adding plenty of pepper and a little salt., Cut each chicken breast into three fillets lengthwise and season all over with salt and pepper. Heat the remaining oil in the frying pan, and fry the chicken fillets quickly until browned, about 6-8 mins., Roll out two-thirds of the pastry to line a 20-23cm springform or deep loose-based tart tin. Press in half the sausage mix and spread to level. Then add the chicken pieces in one layer and cover with the rest of the sausage. Press down lightly., Roll out the remaining pastry. Brush the edges of the pastry with beaten egg and cover with the pastry lid. Pinch the edges to seal, then trim. Brush the top of the pie with egg, then roll out the trimmings to make holly leaf shapes and berries. Decorate the pie and brush again with egg., Set the tin on a baking sheet and bake for 50-60 mins, then cool in the tin for 15 mins. Remove and leave to cool completely. Serve with a winter salad and pickles.]                                                                                                                                                                                                                                                                                                                                                                                                                    |Christmas pie               |https://www.bbcgoodfood.com/recipes/2793/christmas-pie               |\n",
      "|1  |Mary Cadogan|An easy-to-make alternative to traditional Christmas cakes which requires no beating            |[175g butter, chopped, 200g dark muscovado sugar, 750g luxury mixed dried fruit (one that includes mixed peel and glacé cherries), finely grated zest and juice of 1 orange, finely grated zest of 1 lemon, 100ml/3½ fl oz cherry brandy or brandy plus 4tbsp more, 85g macadamia nut, 3 large eggs, lightly beaten, 85g ground almond, 200g plain flour, ½ tsp baking powder, 1 tsp ground mixed spice, 1 tsp ground cinnamon, ¼ tsp ground allspice]|[Put the butter, sugar, fruit, zests, juice and 100ml/3½fl oz brandy in a large pan. Bring slowly to the boil, stirring until the butter has melted. Reduce the heat and bubble for 10 minutes, stirring occasionally., Remove the pan from the heat and leave to cool for 30 minutes., Meanwhile, preheat the oven to 150C/gas 2/ fan 130C and line a 20cm round cake tin. Toast the nuts in a dry frying pan, tossing them until evenly browned, or in the oven for 8-10 minutes - keep an eye on them as they burn easily. When they are cool, chop roughly. Stir the eggs, nuts and ground almonds into the fruit mixture and mix well. Sift the flour, baking powder and spices into the pan. Stir in gently, until there are no traces of flour left., Spoon the mixture into the tin and smooth it down evenly - you will find this is easiest with the back of a metal spoon which has been dipped into boiling water., Bake for 45 minutes, then turn down the heat to 140C/gas 1/ fan120C and cook for a further 1-1¼ hours (about a further 1¾ hours if you have a gas oven) until the cake is dark golden in appearance and firm to the touch. Cover the top of the cake with foil if it starts to darken too much. To check the cake is done, insert a fine skewer into the centre - if it comes out clean, the cake is cooked., Make holes all over the warm cake with a fine skewer and spoon the extra 4tbsp brandy over the holes until it has all soaked in. Leave the cake to cool in the tin. When it's cold, remove it from the tin, peel off the lining paper, then wrap first in baking parchment and then in foil. The cake will keep in a cupboard for up to three months or you can freeze it for six months.]|Simmer-&-stir Christmas cake|https://www.bbcgoodfood.com/recipes/1160/simmerandstir-christmas-cake|\n",
      "+---+------------+------------------------------------------------------------------------------------------------+------------------------------------------------------------------------------------------------------------------------------------------------------------------------------------------------------------------------------------------------------------------------------------------------------------------------------------------------------------------------------------------------------------------------------------------------------+----------------------------------------------------------------------------------------------------------------------------------------------------------------------------------------------------------------------------------------------------------------------------------------------------------------------------------------------------------------------------------------------------------------------------------------------------------------------------------------------------------------------------------------------------------------------------------------------------------------------------------------------------------------------------------------------------------------------------------------------------------------------------------------------------------------------------------------------------------------------------------------------------------------------------------------------------------------------------------------------------------------------------------------------------------------------------------------------------------------------------------------------------------------------------------------------------------------------------------------------------------------------------------------------------------------------------------------------------------------------------------------------------------------------------------------------------------------------------------------------------------------------------------------------------------------------------------------------------------------------------------------------------------------------------------------------------------------------------------------+----------------------------+---------------------------------------------------------------------+\n",
      "only showing top 2 rows\n",
      "\n"
     ]
    }
   ],
   "source": [
    "''' get the data '''\n",
    "# load the data\n",
    "fil = '../data/recipes.json'\n",
    "rec = spark.read.format('json').load(fil)\n",
    "\n",
    "# add an ID - don't actually care if it's monotonic\n",
    "rec = rec.select(monotonically_increasing_id().alias('id'), '*')\n",
    "\n",
    "\n",
    "# talk\n",
    "cnt = rec.count()\n",
    "print('%d records'%cnt)\n",
    "rec.show(2, truncate=False)"
   ]
  },
  {
   "cell_type": "markdown",
   "id": "6e099cfe-d4ff-487c-8969-626e2f2f9f9c",
   "metadata": {},
   "source": [
    "### Data Prep"
   ]
  },
  {
   "cell_type": "code",
   "execution_count": 4,
   "id": "a6b443b6-ca5e-4629-9aec-a3ce22320110",
   "metadata": {},
   "outputs": [
    {
     "data": {
      "text/html": [
       "<div>\n",
       "<style scoped>\n",
       "    .dataframe tbody tr th:only-of-type {\n",
       "        vertical-align: middle;\n",
       "    }\n",
       "\n",
       "    .dataframe tbody tr th {\n",
       "        vertical-align: top;\n",
       "    }\n",
       "\n",
       "    .dataframe thead th {\n",
       "        text-align: right;\n",
       "    }\n",
       "</style>\n",
       "<table border=\"1\" class=\"dataframe\">\n",
       "  <thead>\n",
       "    <tr style=\"text-align: right;\">\n",
       "      <th></th>\n",
       "      <th>Column</th>\n",
       "      <th>Freq.</th>\n",
       "      <th>Rel. Freq.</th>\n",
       "      <th>Type</th>\n",
       "    </tr>\n",
       "  </thead>\n",
       "  <tbody>\n",
       "    <tr>\n",
       "      <th>0</th>\n",
       "      <td>Description</td>\n",
       "      <td>188.0</td>\n",
       "      <td>0.116265</td>\n",
       "      <td>StringType</td>\n",
       "    </tr>\n",
       "    <tr>\n",
       "      <th>1</th>\n",
       "      <td>Author</td>\n",
       "      <td>6.0</td>\n",
       "      <td>0.003711</td>\n",
       "      <td>StringType</td>\n",
       "    </tr>\n",
       "    <tr>\n",
       "      <th>2</th>\n",
       "      <td>id</td>\n",
       "      <td>0.0</td>\n",
       "      <td>0.000000</td>\n",
       "      <td>LongType</td>\n",
       "    </tr>\n",
       "    <tr>\n",
       "      <th>3</th>\n",
       "      <td>Ingredients</td>\n",
       "      <td>0.0</td>\n",
       "      <td>0.000000</td>\n",
       "      <td>ArrayType(StringType,true)</td>\n",
       "    </tr>\n",
       "    <tr>\n",
       "      <th>4</th>\n",
       "      <td>Method</td>\n",
       "      <td>0.0</td>\n",
       "      <td>0.000000</td>\n",
       "      <td>ArrayType(StringType,true)</td>\n",
       "    </tr>\n",
       "    <tr>\n",
       "      <th>5</th>\n",
       "      <td>Name</td>\n",
       "      <td>0.0</td>\n",
       "      <td>0.000000</td>\n",
       "      <td>StringType</td>\n",
       "    </tr>\n",
       "    <tr>\n",
       "      <th>6</th>\n",
       "      <td>url</td>\n",
       "      <td>0.0</td>\n",
       "      <td>0.000000</td>\n",
       "      <td>StringType</td>\n",
       "    </tr>\n",
       "  </tbody>\n",
       "</table>\n",
       "</div>"
      ],
      "text/plain": [
       "        Column  Freq.  Rel. Freq.                        Type\n",
       "0  Description  188.0    0.116265                  StringType\n",
       "1       Author    6.0    0.003711                  StringType\n",
       "2           id    0.0    0.000000                    LongType\n",
       "3  Ingredients    0.0    0.000000  ArrayType(StringType,true)\n",
       "4       Method    0.0    0.000000  ArrayType(StringType,true)\n",
       "5         Name    0.0    0.000000                  StringType\n",
       "6          url    0.0    0.000000                  StringType"
      ]
     },
     "metadata": {},
     "output_type": "display_data"
    },
    {
     "name": "stdout",
     "output_type": "stream",
     "text": [
      "1423 records\n"
     ]
    }
   ],
   "source": [
    "''' handle missing values '''\n",
    "# check for missing values\n",
    "nullCounts = {colm:rec.select(colm).where(col(colm).isNull()).count() for colm in rec.columns}\n",
    "nullCounts = {colm:(ncnt, ncnt/cnt) for (colm, ncnt) in nullCounts.items()}\n",
    "nullCountsDF = pd.DataFrame(nullCounts).T.reset_index(drop=False).sort_values(1, ascending=False)\n",
    "nullCountsDF.columns = ['Column', 'Freq.', 'Rel. Freq.']\n",
    "nullCountsDF = nullCountsDF.merge(pd.DataFrame([[colm.name, colm.dataType] for colm in rec.schema], columns=['Column', 'Type']),\n",
    "                                how='inner', on=['Column'])\n",
    "\n",
    "# talk\n",
    "display(nullCountsDF)\n",
    "\n",
    "# remove\n",
    "rec = rec.dropna(how='any')\n",
    "\n",
    "# talk some more\n",
    "print('%d records'%rec.count())"
   ]
  },
  {
   "cell_type": "code",
   "execution_count": 5,
   "id": "c1fcb4e6-547a-4201-9046-fdbf81c47f75",
   "metadata": {},
   "outputs": [
    {
     "name": "stdout",
     "output_type": "stream",
     "text": [
      "+---+---------------------------------------------------------------------------------------------------------------------------------------------------------------------------------------------------------------------------------------------------------------------------------------------------------------------------------------------------------------------------------------------------------------------------------------------------------------------------------------------------------------------------------------+\n",
      "|id |text                                                                                                                                                                                                                                                                                                                                                                                                                                                                                                                                   |\n",
      "+---+---------------------------------------------------------------------------------------------------------------------------------------------------------------------------------------------------------------------------------------------------------------------------------------------------------------------------------------------------------------------------------------------------------------------------------------------------------------------------------------------------------------------------------------+\n",
      "|0  |Christmas pie Combine a few key Christmas flavours here to make a pie that both children and adults will adore 2tbsp olive oil knob butter 1onion finely chopped 500g sausagemeat or skinned sausages grated zest of 1lemon 100g fresh white breadcrumbs 85g ready to eat dried apricots chopped 50g chestnut canned or vacuum packed chopped 2tsp chopped fresh or 1tsp dried thyme 100g cranberries fresh or frozen 500g boneless skinless chicken breasts 500g pack ready made shortcrust pastry beaten egg to glaze                |\n",
      "|1  |Simmer stir Christmas cake An easy to make alternative to traditional Christmas cakes which requires no beating 175g butter chopped 200g dark muscovado sugar 750g luxury mixed dried fruit one that includes mixed peel and glac cherries finely grated zest and juice of 1orange finely grated zest of 1lemon 100ml 3fl oz cherry brandy or brandy plus 4tbsp more 85g macadamia nut 3large eggs lightly beaten 85g ground almond 200g plain flour tsp baking powder 1tsp ground mixed spice 1tsp ground cinnamon tsp ground allspice|\n",
      "+---+---------------------------------------------------------------------------------------------------------------------------------------------------------------------------------------------------------------------------------------------------------------------------------------------------------------------------------------------------------------------------------------------------------------------------------------------------------------------------------------------------------------------------------------+\n",
      "only showing top 2 rows\n",
      "\n"
     ]
    }
   ],
   "source": [
    "''' get rid of\n",
    "non-alphanumeric or whitespace chars\n",
    "drop spaces after a number befor a word\n",
    "get rid of multiplied spaces\n",
    "'''\n",
    "# Name + Description + Ingredients?\n",
    "recML = rec.select('id', concat_ws(' ', 'Name', 'Description', 'Ingredients').alias('text'))\\\n",
    "    .withColumn('text', regexp_replace(col('text'), '[^A-Za-z0-9 ]', ' ').alias('text'))\\\n",
    "    .withColumn('text', regexp_replace(col('text'), '([0-9])\\s+([A-Za-z])', '$1$2'))\\\n",
    "    .withColumn('text', regexp_replace(col('text'), ' +', ' '))\n",
    "\n",
    "# talk\n",
    "recML.show(2, truncate=False)"
   ]
  },
  {
   "cell_type": "code",
   "execution_count": 6,
   "id": "3c40337b",
   "metadata": {},
   "outputs": [
    {
     "name": "stdout",
     "output_type": "stream",
     "text": [
      "+---+--------------------------------------------------------------------------------------------------------------------------------------------------------------------------------------------------------------------------------------------------------------------------------------------------------------------------------------------------------------------------------------------------------------------------------------------------------------------------------------------------------------------------------------------------------------------+-----------------------------------------------------------------------------------------------------------------------------------------------------------------------------------------------------------------------------------------------------------------------------------------------------------------------------------------------------------------------------------------------------------------------------------------------------------------------------------------------------------------------------------------------------------------------------------------------------------------------------------------------------------------------------------------------------------------------------------------------------------------------------------------------------------------------------------------------------------------------------------------------------------------------------------------------------------------------------------------------------------------------------------------------------------------------------------------------------------------------------------------------------------------------------------------------------------------------------------------------------------------------------------------------------------------------------------------------------------+\n",
      "|id |fewer_words                                                                                                                                                                                                                                                                                                                                                                                                                                                                                                                                                         |features                                                                                                                                                                                                                                                                                                                                                                                                                                                                                                                                                                                                                                                                                                                                                                                                                                                                                                                                                                                                                                                                                                                                                                                                                                                                                                                                                   |\n",
      "+---+--------------------------------------------------------------------------------------------------------------------------------------------------------------------------------------------------------------------------------------------------------------------------------------------------------------------------------------------------------------------------------------------------------------------------------------------------------------------------------------------------------------------------------------------------------------------+-----------------------------------------------------------------------------------------------------------------------------------------------------------------------------------------------------------------------------------------------------------------------------------------------------------------------------------------------------------------------------------------------------------------------------------------------------------------------------------------------------------------------------------------------------------------------------------------------------------------------------------------------------------------------------------------------------------------------------------------------------------------------------------------------------------------------------------------------------------------------------------------------------------------------------------------------------------------------------------------------------------------------------------------------------------------------------------------------------------------------------------------------------------------------------------------------------------------------------------------------------------------------------------------------------------------------------------------------------------+\n",
      "|0  |[christmas, pie, combine, key, christmas, flavours, make, pie, children, adults, adore, 2tbsp, olive, oil, knob, butter, 1onion, finely, chopped, 500g, sausagemeat, skinned, sausages, grated, zest, 1lemon, 100g, fresh, white, breadcrumbs, 85g, ready, eat, dried, apricots, chopped, 50g, chestnut, canned, vacuum, packed, chopped, 2tsp, chopped, fresh, 1tsp, dried, thyme, 100g, cranberries, fresh, frozen, 500g, boneless, skinless, chicken, breasts, 500g, pack, ready, made, shortcrust, pastry, beaten, egg, glaze]                                  |(6479,[0,2,3,4,6,7,9,10,15,16,25,26,29,30,33,34,39,44,50,54,61,66,78,87,92,100,128,132,142,152,168,214,260,279,285,313,375,431,448,460,521,560,729,765,792,866,887,916,982,1519,1631,2524,2712,3413],[3.2811142053560016,0.7950803677343017,2.141819372237548,1.095807237740501,0.9978268293802973,1.2377774990108883,1.3105825393841943,1.432279474361714,2.579926504362917,1.521432179792687,1.6372075857845827,1.5507980745970515,5.148142942477076,1.7238908249533844,3.799865852524992,1.6628031329735462,1.8144877203056111,1.8630623904541683,2.024783129141972,5.888723176271654,1.9679202672474287,2.096439118048407,2.4170380055133296,4.596760923424028,2.5427262206768266,2.499051157174165,2.5338372732595804,2.5338372732595804,2.6968769005040847,2.7073482003713805,3.056532472580955,2.9437369784356107,3.1836876480662015,6.909125204403202,3.218173824137371,3.349202086543775,3.5476530252676133,3.7348645673557597,3.827237887486775,3.7348645673557597,3.893929261985447,3.965388225967592,4.26549281841793,4.316786112805481,4.428011747915705,4.553174890869711,4.622167762356662,4.696275734510384,4.696275734510384,5.315314942916608,5.315314942916608,5.87493073085203,6.162612803303811,6.162612803303811])                                                                                                                   |\n",
      "|1  |[simmer, stir, christmas, cake, easy, make, alternative, traditional, christmas, cakes, requires, beating, 175g, butter, chopped, 200g, dark, muscovado, sugar, 750g, luxury, mixed, dried, fruit, one, includes, mixed, peel, glac, cherries, finely, grated, zest, juice, 1orange, finely, grated, zest, 1lemon, 100ml, 3fl, oz, cherry, brandy, brandy, plus, 4tbsp, 85g, macadamia, nut, 3large, eggs, lightly, beaten, 85g, ground, almond, 200g, plain, flour, tsp, baking, powder, 1tsp, ground, mixed, spice, 1tsp, ground, cinnamon, tsp, ground, allspice]|(6479,[0,1,2,8,9,10,13,14,15,18,24,25,28,30,33,34,37,47,49,50,56,57,61,74,79,80,89,97,99,107,114,117,119,132,140,146,156,163,220,231,233,248,281,293,325,342,362,406,411,467,581,954,1137,1227,1290,1657,4033,4653,5250],[0.8202785513390004,0.7888787974710205,0.7950803677343017,1.2475099359291193,2.6211650787683887,2.864558948723428,2.772588722239781,1.185879060883237,2.579926504362917,6.7109151327608885,1.594798403859489,3.2744151715691654,1.5507980745970515,3.447781649906769,1.899932926262496,1.6628031329735462,3.799865852524992,2.2914117923959205,6.058434230736836,4.049566258283944,2.143231279555166,1.9933669329085928,1.9679202672474287,2.204979286623613,2.257278786026462,2.3267511588412293,2.2707925051931848,2.3708759637501675,2.3936906415163386,2.341244166143796,2.7953169733173375,5.332210483674662,2.666105241837331,2.5338372732595804,2.5607447261795047,2.6865141134685384,2.63625227868765,2.6865141134685384,2.9437369784356107,3.218173824137371,3.0271185873746616,3.0715703499454956,3.1836876480662015,3.4110774902618624,3.572345637857985,3.454562602201601,3.454562602201601,3.929020581796717,3.7647175305054406,3.827237887486775,4.083171261623976,4.622167762356662,4.863329819173551,4.958639998977875,5.469465622743866,5.315314942916608,6.568077911411976,6.568077911411976,6.568077911411976])|\n",
      "+---+--------------------------------------------------------------------------------------------------------------------------------------------------------------------------------------------------------------------------------------------------------------------------------------------------------------------------------------------------------------------------------------------------------------------------------------------------------------------------------------------------------------------------------------------------------------------+-----------------------------------------------------------------------------------------------------------------------------------------------------------------------------------------------------------------------------------------------------------------------------------------------------------------------------------------------------------------------------------------------------------------------------------------------------------------------------------------------------------------------------------------------------------------------------------------------------------------------------------------------------------------------------------------------------------------------------------------------------------------------------------------------------------------------------------------------------------------------------------------------------------------------------------------------------------------------------------------------------------------------------------------------------------------------------------------------------------------------------------------------------------------------------------------------------------------------------------------------------------------------------------------------------------------------------------------------------------+\n",
      "only showing top 2 rows\n",
      "\n"
     ]
    }
   ],
   "source": [
    "''' all feature engineering stuff '''\n",
    "# could try HashingTF or Word2Vec - but want the vocabulary which HashingTF doesn't have\n",
    "\n",
    "# tokenizer\n",
    "toker = RegexTokenizer(inputCol='text', outputCol='words', pattern='\\\\W', toLowercase=True)\n",
    "# stopper\n",
    "stop = StopWordsRemover(inputCol=toker.getOutputCol(), outputCol='fewer_words')\n",
    "# hashing term frequency processor\n",
    "#tf = HashingTF(inputCol=stop.getOutputCol(), outputCol='freqs', numFeatures=256)\n",
    "tf = CountVectorizer(inputCol=stop.getOutputCol(), outputCol='freqs')\n",
    "# tfidf\n",
    "idf = IDF(inputCol=tf.getOutputCol(), outputCol='features')\n",
    "\n",
    "# pipeline\n",
    "featEngine = Pipeline(stages=[toker, stop, tf, idf]).fit(recML)\n",
    "recML = featEngine.transform(recML).drop('text', 'words', 'freqs')\n",
    "\n",
    "# talk\n",
    "recML.show(2, truncate=False)"
   ]
  },
  {
   "cell_type": "markdown",
   "id": "c5bf49cf-1a63-4978-87fc-1b07b093f160",
   "metadata": {},
   "source": [
    "## Modeling"
   ]
  },
  {
   "cell_type": "code",
   "execution_count": 7,
   "id": "d650d61f-d8ff-43ee-bc70-f360d8d01c89",
   "metadata": {
    "tags": []
   },
   "outputs": [
    {
     "name": "stdout",
     "output_type": "stream",
     "text": [
      "Training Cases\n",
      "+---+\n",
      "| id|\n",
      "+---+\n",
      "|  0|\n",
      "|  1|\n",
      "|  3|\n",
      "|  4|\n",
      "|  5|\n",
      "|  7|\n",
      "| 10|\n",
      "| 11|\n",
      "| 12|\n",
      "| 16|\n",
      "| 17|\n",
      "| 18|\n",
      "| 20|\n",
      "| 22|\n",
      "| 25|\n",
      "| 26|\n",
      "| 27|\n",
      "| 31|\n",
      "| 33|\n",
      "| 36|\n",
      "+---+\n",
      "only showing top 20 rows\n",
      "\n",
      "Testing Cases\n",
      "+---+\n",
      "| id|\n",
      "+---+\n",
      "|  2|\n",
      "|  6|\n",
      "|  8|\n",
      "|  9|\n",
      "| 13|\n",
      "| 14|\n",
      "| 15|\n",
      "| 19|\n",
      "| 21|\n",
      "| 23|\n",
      "| 24|\n",
      "| 28|\n",
      "| 29|\n",
      "| 30|\n",
      "| 32|\n",
      "| 34|\n",
      "| 35|\n",
      "| 39|\n",
      "| 42|\n",
      "| 43|\n",
      "+---+\n",
      "only showing top 20 rows\n",
      "\n"
     ]
    }
   ],
   "source": [
    "# split for cross-val\n",
    "trainPerc = 0.7\n",
    "randSeed = 42\n",
    "tran, test = recML.select('id', 'features').randomSplit([trainPerc, 1.0 - trainPerc], seed=randSeed)\n",
    "\n",
    "# talk\n",
    "print('Training Cases')\n",
    "tran.select('id').show()\n",
    "print('Testing Cases')\n",
    "test.select('id').show()"
   ]
  },
  {
   "cell_type": "code",
   "execution_count": 8,
   "id": "afeca445-332e-4c5c-9fba-447e4bfd98b1",
   "metadata": {
    "tags": []
   },
   "outputs": [
    {
     "name": "stdout",
     "output_type": "stream",
     "text": [
      "Trying k = 2\n",
      "\tTraining Likelihood = -1482383.888, Perplexity = 8.021\n",
      "\tTesting Likelihood = -552471.755, Perplexity = 8.304\n",
      "Trying k = 3\n",
      "\tTraining Likelihood = -1479175.572, Perplexity = 8.003\n",
      "\tTesting Likelihood = -553822.266, Perplexity = 8.324\n",
      "Trying k = 4\n",
      "\tTraining Likelihood = -1483075.810, Perplexity = 8.024\n",
      "\tTesting Likelihood = -558189.148, Perplexity = 8.390\n",
      "Trying k = 5\n",
      "\tTraining Likelihood = -1490646.355, Perplexity = 8.065\n",
      "\tTesting Likelihood = -565150.798, Perplexity = 8.494\n",
      "Trying k = 6\n",
      "\tTraining Likelihood = -1497750.753, Perplexity = 8.104\n",
      "\tTesting Likelihood = -572281.501, Perplexity = 8.602\n",
      "Trying k = 7\n",
      "\tTraining Likelihood = -1506976.706, Perplexity = 8.154\n",
      "\tTesting Likelihood = -581554.203, Perplexity = 8.741\n",
      "Trying k = 8\n",
      "\tTraining Likelihood = -1513467.641, Perplexity = 8.189\n",
      "\tTesting Likelihood = -589605.618, Perplexity = 8.862\n",
      "Trying k = 9\n",
      "\tTraining Likelihood = -1524530.095, Perplexity = 8.249\n",
      "\tTesting Likelihood = -600493.674, Perplexity = 9.026\n",
      "Trying k = 10\n",
      "\tTraining Likelihood = -1531801.966, Perplexity = 8.288\n",
      "\tTesting Likelihood = -608894.380, Perplexity = 9.152\n",
      "Trying k = 11\n",
      "\tTraining Likelihood = -1543061.561, Perplexity = 8.349\n",
      "\tTesting Likelihood = -619815.829, Perplexity = 9.316\n",
      "Trying k = 12\n",
      "\tTraining Likelihood = -1553959.742, Perplexity = 8.408\n",
      "\tTesting Likelihood = -631097.402, Perplexity = 9.486\n",
      "Trying k = 13\n",
      "\tTraining Likelihood = -1565582.361, Perplexity = 8.471\n",
      "\tTesting Likelihood = -642558.889, Perplexity = 9.658\n",
      "Trying k = 14\n",
      "\tTraining Likelihood = -1577914.320, Perplexity = 8.538\n",
      "\tTesting Likelihood = -655117.591, Perplexity = 9.847\n",
      "Trying k = 15\n",
      "\tTraining Likelihood = -1593665.949, Perplexity = 8.623\n",
      "\tTesting Likelihood = -669548.933, Perplexity = 10.064\n",
      "Trying k = 16\n",
      "\tTraining Likelihood = -1606710.135, Perplexity = 8.693\n",
      "\tTesting Likelihood = -682689.860, Perplexity = 10.261\n",
      "Trying k = 17\n",
      "\tTraining Likelihood = -1621663.091, Perplexity = 8.774\n",
      "\tTesting Likelihood = -696713.328, Perplexity = 10.472\n",
      "Trying k = 18\n",
      "\tTraining Likelihood = -1636001.432, Perplexity = 8.852\n",
      "\tTesting Likelihood = -710456.803, Perplexity = 10.678\n",
      "Trying k = 19\n",
      "\tTraining Likelihood = -1654265.903, Perplexity = 8.951\n",
      "\tTesting Likelihood = -726581.636, Perplexity = 10.921\n",
      "Trying k = 20\n",
      "\tTraining Likelihood = -1667302.799, Perplexity = 9.021\n",
      "\tTesting Likelihood = -740263.424, Perplexity = 11.126\n",
      "Best model has 3 topics, with testing values of -553822.266 and 8.324\n"
     ]
    }
   ],
   "source": [
    "''' evaluate different clustering cardinalities - kmeans '''\n",
    "# setup range that will be tried\n",
    "kMax = 21\n",
    "xs = list(range(2, kMax))\n",
    "kLogLike = np.ones(shape=(kMax, 2))*-1*np.inf # log likelihood maximize\n",
    "kLogPerp = np.ones(shape=(kMax, 2))*np.inf    # log perplexity minimize\n",
    "\n",
    "# iterate over k\n",
    "models = [None]*kMax\n",
    "for k in range(2, kMax):\n",
    "    print('Trying k = %d'%k)\n",
    "    # fit the LDA model on the training set\n",
    "    lda = LDA(k=k, maxIter=10, featuresCol='features')\n",
    "    models[k] = lda.fit(tran)\n",
    "    # eval the model on the training set\n",
    "    kLogLike[k, 0] = models[k].logLikelihood(tran)\n",
    "    kLogPerp[k, 0] = models[k].logPerplexity(tran)   \n",
    "    print('\\tTraining Likelihood = %0.3f, Perplexity = %0.3f'%(kLogLike[k, 0], kLogPerp[k, 0]))\n",
    "    # eval the model on the testing set \n",
    "    kLogLike[k, 1] = models[k].logLikelihood(test)\n",
    "    kLogPerp[k, 1] = models[k].logPerplexity(test)\n",
    "    print('\\tTesting Likelihood = %0.3f, Perplexity = %0.3f'%(kLogLike[k, 1], kLogPerp[k, 1]))\n",
    "    \n",
    "# build and show the scree plot\n",
    "fig = plysub.make_subplots(rows=2, cols=1, print_grid=False, subplot_titles=('Likelihood vs. k (maximize)', 'Perplexity vs. k (minimize)'))\n",
    "# add training traces\n",
    "fig.add_trace(go.Scatter(x=xs, y=kLogLike[2:, 0], mode='markers+lines',\n",
    "                         marker={'color':'red'}, line={'color':'red', 'width':1},\n",
    "                         name='Training Metrics', legendgroup='train', showlegend=True), 1, 1)\n",
    "fig.add_trace(go.Scatter(x=xs, y=kLogPerp[2:, 0], mode='markers+lines',\n",
    "                         marker={'color':'red'}, line={'color':'red', 'width':1},\n",
    "                         name='Training Metrics', legendgroup='train', showlegend=False), 2, 1)\n",
    "# add testing traces\n",
    "fig.add_trace(go.Scatter(x=xs, y=kLogLike[2:, 1], mode='markers+lines',\n",
    "                         marker={'color':'green'}, line={'color':'green', 'width':1},\n",
    "                         name='Testing Metrics', legendgroup='test', showlegend=True), 1, 1)\n",
    "fig.add_trace(go.Scatter(x=xs, y=kLogPerp[2:, 1], mode='markers+lines',\n",
    "                         marker={'color':'green'}, line={'color':'green', 'width':1},\n",
    "                         name='Testing Metrics', legendgroup='test', showlegend=False), 2, 1)\n",
    "\n",
    "fig['layout']['title'] = 'Latent Dirichlet Allocation Results'\n",
    "plyoff.plot(fig)\n",
    "\n",
    "# find the min\n",
    "bestK = np.argmax(kLogLike[:,0])\n",
    "print('Best model has %d topics, with testing values of %0.3f and %0.3f'%(bestK, kLogLike[bestK, 1], kLogPerp[bestK, 1]))"
   ]
  },
  {
   "cell_type": "code",
   "execution_count": 9,
   "id": "6d6db6c1-8d77-4ae7-9839-5250b97a596a",
   "metadata": {},
   "outputs": [
    {
     "name": "stdin",
     "output_type": "stream",
     "text": [
      "Enter the \"best\" k 5\n"
     ]
    },
    {
     "name": "stdout",
     "output_type": "stream",
     "text": [
      "Best model has 5 topics, with testing (training) values of -565150.798 (-1490646.355) and 8.494 (8.065)\n"
     ]
    }
   ],
   "source": [
    "''' Evaluate best model on test set '''\n",
    "# get the best\n",
    "bestK = int(input('Enter the \"best\" k'))\n",
    "bestModel = models[bestK]\n",
    "ll = kLogLike[bestK, :]\n",
    "lp = kLogPerp[bestK, :]\n",
    "print('Best model has %d topics, with testing (training) values of %0.3f (%0.3f) and %0.3f (%0.3f)'\\\n",
    "      %(bestK, kLogLike[bestK, 1], kLogLike[bestK, 0], kLogPerp[bestK, 1], kLogPerp[bestK, 0]))"
   ]
  },
  {
   "cell_type": "code",
   "execution_count": 10,
   "id": "1c89199f-0782-4be9-ba2a-41b8c3a0ad0e",
   "metadata": {
    "tags": []
   },
   "outputs": [
    {
     "name": "stdout",
     "output_type": "stream",
     "text": [
      "Topic 0 = horseradish=0.53%, pies=0.36%, prawn=0.35%, mincemeat=0.32%, mince=0.32%\n",
      "Topic 1 = chocolate=0.53%, ginger=0.49%, sugar=0.45%, cake=0.44%, icing=0.44%\n",
      "Topic 2 = sprouts=0.52%, ham=0.44%, fra=0.41%, cr=0.41%, really=0.40%\n",
      "Topic 3 = chopped=0.41%, 1tbsp=0.40%, sauce=0.38%, cheese=0.38%, finely=0.36%\n",
      "Topic 4 = maple=0.55%, haddock=0.36%, chorizo=0.31%, raspberry=0.27%, pecan=0.26%\n"
     ]
    }
   ],
   "source": [
    "''' Interpret the topics '''\n",
    "# get the topics & most important words for each\n",
    "topics = bestModel.describeTopics(maxTermsPerTopic=5).collect()\n",
    "words = featEngine.stages[-2].vocabulary\n",
    "\n",
    "# iterate over topics\n",
    "for (indx, topic) in enumerate(topics):\n",
    "    terms = ', '.join(['%s=%0.2f%%'%(words[term], 100*wait) for (term, wait) in zip(topic['termIndices'], topic['termWeights'])])\n",
    "    print('Topic %d = %s'%(indx, terms))"
   ]
  },
  {
   "cell_type": "code",
   "execution_count": 12,
   "id": "3613fd81-c92b-48ec-9d74-3c4a9b955f7c",
   "metadata": {
    "tags": []
   },
   "outputs": [
    {
     "data": {
      "text/html": [
       "<div>\n",
       "<style scoped>\n",
       "    .dataframe tbody tr th:only-of-type {\n",
       "        vertical-align: middle;\n",
       "    }\n",
       "\n",
       "    .dataframe tbody tr th {\n",
       "        vertical-align: top;\n",
       "    }\n",
       "\n",
       "    .dataframe thead th {\n",
       "        text-align: right;\n",
       "    }\n",
       "</style>\n",
       "<table border=\"1\" class=\"dataframe\">\n",
       "  <thead>\n",
       "    <tr style=\"text-align: right;\">\n",
       "      <th></th>\n",
       "      <th>id</th>\n",
       "      <th>Author</th>\n",
       "      <th>url</th>\n",
       "      <th>Name</th>\n",
       "      <th>Description</th>\n",
       "      <th>Ingredients</th>\n",
       "      <th>Topic 0</th>\n",
       "      <th>Topic 1</th>\n",
       "      <th>Topic 2</th>\n",
       "      <th>Topic 3</th>\n",
       "      <th>Topic 4</th>\n",
       "      <th>Predicted Topic</th>\n",
       "      <th>Predicted Topic Prob.</th>\n",
       "    </tr>\n",
       "  </thead>\n",
       "  <tbody>\n",
       "    <tr>\n",
       "      <th>0</th>\n",
       "      <td>0</td>\n",
       "      <td>Mary Cadogan</td>\n",
       "      <td>https://www.bbcgoodfood.com/recipes/2793/chris...</td>\n",
       "      <td>Christmas pie</td>\n",
       "      <td>Combine a few key Christmas flavours here to m...</td>\n",
       "      <td>[2 tbsp olive oil, knob butter, 1 onion, finel...</td>\n",
       "      <td>0.000923</td>\n",
       "      <td>0.001054</td>\n",
       "      <td>0.000956</td>\n",
       "      <td>0.996156</td>\n",
       "      <td>0.000911</td>\n",
       "      <td>Topic 3</td>\n",
       "      <td>0.996156</td>\n",
       "    </tr>\n",
       "    <tr>\n",
       "      <th>1</th>\n",
       "      <td>1</td>\n",
       "      <td>Mary Cadogan</td>\n",
       "      <td>https://www.bbcgoodfood.com/recipes/1160/simme...</td>\n",
       "      <td>Simmer-&amp;-stir Christmas cake</td>\n",
       "      <td>An easy-to-make alternative to traditional Chr...</td>\n",
       "      <td>[175g butter, chopped, 200g dark muscovado sug...</td>\n",
       "      <td>0.000865</td>\n",
       "      <td>0.839180</td>\n",
       "      <td>0.000899</td>\n",
       "      <td>0.158200</td>\n",
       "      <td>0.000856</td>\n",
       "      <td>Topic 1</td>\n",
       "      <td>0.839180</td>\n",
       "    </tr>\n",
       "    <tr>\n",
       "      <th>2</th>\n",
       "      <td>2</td>\n",
       "      <td>Sara Buenfeld</td>\n",
       "      <td>https://www.bbcgoodfood.com/recipes/72622/chri...</td>\n",
       "      <td>Christmas cupcakes</td>\n",
       "      <td>These beautiful and classy little cakes make l...</td>\n",
       "      <td>[200g dark muscovado sugar, 175g butter, chopp...</td>\n",
       "      <td>0.140048</td>\n",
       "      <td>0.857966</td>\n",
       "      <td>0.000605</td>\n",
       "      <td>0.000806</td>\n",
       "      <td>0.000575</td>\n",
       "      <td>Topic 1</td>\n",
       "      <td>0.857966</td>\n",
       "    </tr>\n",
       "    <tr>\n",
       "      <th>3</th>\n",
       "      <td>3</td>\n",
       "      <td>Paul Hollywood</td>\n",
       "      <td>https://www.bbcgoodfood.com/recipes/1803633/ch...</td>\n",
       "      <td>Christmas buns</td>\n",
       "      <td>Paul Hollywood's fruit rolls can be made ahead...</td>\n",
       "      <td>[500g strong white flour, plus extra for dusti...</td>\n",
       "      <td>0.000971</td>\n",
       "      <td>0.819254</td>\n",
       "      <td>0.001002</td>\n",
       "      <td>0.087722</td>\n",
       "      <td>0.091051</td>\n",
       "      <td>Topic 1</td>\n",
       "      <td>0.819254</td>\n",
       "    </tr>\n",
       "    <tr>\n",
       "      <th>4</th>\n",
       "      <td>4</td>\n",
       "      <td>Barney Desmazery</td>\n",
       "      <td>https://www.bbcgoodfood.com/recipes/981634/chr...</td>\n",
       "      <td>Christmas cupcakes</td>\n",
       "      <td>Made these for the second time today, and I ha...</td>\n",
       "      <td>[280g self-raising flour, 175g golden caster s...</td>\n",
       "      <td>0.000687</td>\n",
       "      <td>0.821378</td>\n",
       "      <td>0.000712</td>\n",
       "      <td>0.176543</td>\n",
       "      <td>0.000680</td>\n",
       "      <td>Topic 1</td>\n",
       "      <td>0.821378</td>\n",
       "    </tr>\n",
       "  </tbody>\n",
       "</table>\n",
       "</div>"
      ],
      "text/plain": [
       "   id            Author                                                url  \\\n",
       "0   0      Mary Cadogan  https://www.bbcgoodfood.com/recipes/2793/chris...   \n",
       "1   1      Mary Cadogan  https://www.bbcgoodfood.com/recipes/1160/simme...   \n",
       "2   2     Sara Buenfeld  https://www.bbcgoodfood.com/recipes/72622/chri...   \n",
       "3   3    Paul Hollywood  https://www.bbcgoodfood.com/recipes/1803633/ch...   \n",
       "4   4  Barney Desmazery  https://www.bbcgoodfood.com/recipes/981634/chr...   \n",
       "\n",
       "                           Name  \\\n",
       "0                 Christmas pie   \n",
       "1  Simmer-&-stir Christmas cake   \n",
       "2            Christmas cupcakes   \n",
       "3                Christmas buns   \n",
       "4            Christmas cupcakes   \n",
       "\n",
       "                                         Description  \\\n",
       "0  Combine a few key Christmas flavours here to m...   \n",
       "1  An easy-to-make alternative to traditional Chr...   \n",
       "2  These beautiful and classy little cakes make l...   \n",
       "3  Paul Hollywood's fruit rolls can be made ahead...   \n",
       "4  Made these for the second time today, and I ha...   \n",
       "\n",
       "                                         Ingredients   Topic 0   Topic 1  \\\n",
       "0  [2 tbsp olive oil, knob butter, 1 onion, finel...  0.000923  0.001054   \n",
       "1  [175g butter, chopped, 200g dark muscovado sug...  0.000865  0.839180   \n",
       "2  [200g dark muscovado sugar, 175g butter, chopp...  0.140048  0.857966   \n",
       "3  [500g strong white flour, plus extra for dusti...  0.000971  0.819254   \n",
       "4  [280g self-raising flour, 175g golden caster s...  0.000687  0.821378   \n",
       "\n",
       "    Topic 2   Topic 3   Topic 4 Predicted Topic  Predicted Topic Prob.  \n",
       "0  0.000956  0.996156  0.000911         Topic 3               0.996156  \n",
       "1  0.000899  0.158200  0.000856         Topic 1               0.839180  \n",
       "2  0.000605  0.000806  0.000575         Topic 1               0.857966  \n",
       "3  0.001002  0.087722  0.091051         Topic 1               0.819254  \n",
       "4  0.000712  0.176543  0.000680         Topic 1               0.821378  "
      ]
     },
     "metadata": {},
     "output_type": "display_data"
    }
   ],
   "source": [
    "''' predict topics on input data '''\n",
    "topicCols = ['Topic %d'%k for k in range(bestK)]\n",
    "# predict, join with the raw data, and parse the topic probabilities\n",
    "preds = bestModel.transform(recML).select('id', vector_to_array('topicDistribution').alias('topics'))\\\n",
    "    .join(rec, how='inner', on=['id']).select('id', 'Author', 'url', 'Name', 'Description', 'Ingredients', 'topics').toPandas()\n",
    "# label the topic probabilities and drop the vector column\n",
    "preds[topicCols] = preds['topics'].tolist()\n",
    "preds.drop(columns=['topics'], inplace=True)\n",
    "# get the most likely topic\n",
    "preds['Predicted Topic'] = preds[['Topic %d'%k for k in range(bestK)]].idxmax(axis=1)\n",
    "preds['Predicted Topic Prob.'] = preds[['Topic %d'%k for k in range(bestK)]].max(axis=1)\n",
    "# talk\n",
    "display(preds.head())"
   ]
  },
  {
   "cell_type": "code",
   "execution_count": null,
   "id": "f96928b1",
   "metadata": {},
   "outputs": [],
   "source": [
    "sc.stop()"
   ]
  },
  {
   "cell_type": "code",
   "execution_count": null,
   "id": "2c22f013-c95e-48c7-8bda-edff5bb310e9",
   "metadata": {},
   "outputs": [],
   "source": []
  }
 ],
 "metadata": {
  "kernelspec": {
   "display_name": "Python 3",
   "language": "python",
   "name": "python3"
  },
  "language_info": {
   "codemirror_mode": {
    "name": "ipython",
    "version": 3
   },
   "file_extension": ".py",
   "mimetype": "text/x-python",
   "name": "python",
   "nbconvert_exporter": "python",
   "pygments_lexer": "ipython3",
   "version": "3.8.8"
  }
 },
 "nbformat": 4,
 "nbformat_minor": 5
}
