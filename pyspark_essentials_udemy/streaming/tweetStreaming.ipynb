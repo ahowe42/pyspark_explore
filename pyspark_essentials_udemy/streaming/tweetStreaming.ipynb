{
 "cells": [
  {
   "cell_type": "code",
   "execution_count": 1,
   "id": "f5a698a8-c713-4ddc-ac39-fa1ada8cffd1",
   "metadata": {},
   "outputs": [],
   "source": [
    "import pandas as pd\n",
    "import numpy as np\n",
    "import datetime as dt\n",
    "import socket\n",
    "\n",
    "import findspark\n",
    "findspark.init()\n",
    "import pyspark\n",
    "from pyspark.sql import SparkSession\n",
    "from pyspark.sql.functions import *#avg, count, expr\n",
    "from pyspark.sql.types import *"
   ]
  },
  {
   "cell_type": "code",
   "execution_count": 2,
   "id": "8217ed2b-6a75-4d26-b4a6-67c89cf9b99b",
   "metadata": {},
   "outputs": [
    {
     "name": "stdout",
     "output_type": "stream",
     "text": [
      "1 cores\n"
     ]
    },
    {
     "data": {
      "text/html": [
       "\n",
       "            <div>\n",
       "                <p><b>SparkSession - in-memory</b></p>\n",
       "                \n",
       "        <div>\n",
       "            <p><b>SparkContext</b></p>\n",
       "\n",
       "            <p><a href=\"http://192.168.150.128:4040\">Spark UI</a></p>\n",
       "\n",
       "            <dl>\n",
       "              <dt>Version</dt>\n",
       "                <dd><code>v3.1.1</code></dd>\n",
       "              <dt>Master</dt>\n",
       "                <dd><code>local[*]</code></dd>\n",
       "              <dt>AppName</dt>\n",
       "                <dd><code>streaming</code></dd>\n",
       "            </dl>\n",
       "        </div>\n",
       "        \n",
       "            </div>\n",
       "        "
      ],
      "text/plain": [
       "<pyspark.sql.session.SparkSession at 0x7f09dcc51b50>"
      ]
     },
     "execution_count": 2,
     "metadata": {},
     "output_type": "execute_result"
    }
   ],
   "source": [
    "# initialize\n",
    "sc = pyspark.SparkContext()\n",
    "spark = SparkSession(sc)\n",
    "spark.sparkContext.appName = 'streaming'\n",
    "# show the number of cores\n",
    "print('%d cores'%spark._jsc.sc().getExecutorMemoryStatus().keySet().size())\n",
    "spark"
   ]
  },
  {
   "cell_type": "code",
   "execution_count": 3,
   "id": "893a29de-0c56-4c94-899c-fa0f5013115d",
   "metadata": {},
   "outputs": [],
   "source": [
    "# setup to read the tweets from the socket\n",
    "listenHost = '127.0.0.1' \n",
    "listenPort = 4208\n",
    "tweets = spark.readStream.format('socket').options(host=listenHost, port=listenPort).load()\\\n",
    "    .selectExpr(\"CAST(value AS STRING)\")"
   ]
  },
  {
   "cell_type": "code",
   "execution_count": 8,
   "id": "11eeec1c-4cab-4986-8eea-e4231f940886",
   "metadata": {},
   "outputs": [
    {
     "name": "stdout",
     "output_type": "stream",
     "text": [
      "Tweets streaming\n"
     ]
    }
   ],
   "source": [
    "''' get the tweets - user and tweet '''\n",
    "sep = '¬'\n",
    "# data prep\n",
    "tweetsTable = tweets.withColumn('user', split(col('value'), sep).getItem(0))\\\n",
    "    .withColumn('date', split(col('value'), sep).getItem(1))\\\n",
    "    .withColumn('tweet', split(col('value'), sep).getItem(2))#\\\n",
    "    #.drop('value')\n",
    "# start the streaming\n",
    "writeTweet = tweetsTable.writeStream.outputMode('append').format('memory').queryName('tweetquery').trigger(processingTime='2 seconds').start()\n",
    "print('Tweets streaming')"
   ]
  },
  {
   "cell_type": "code",
   "execution_count": null,
   "id": "6e7b89f2-2661-4975-9f55-a2f3ecf05d92",
   "metadata": {},
   "outputs": [],
   "source": [
    "''' get tweets - count the words '''\n",
    "# data prep\n",
    "tweetsTable = tweets.withColumn('word', explode(split(col('value'), ' '))).filter(col('word').contains('#'))\\\n",
    "    .groupBy('word').count().sort('count', ascending=False)\n",
    "# start the streaming\n",
    "writeTweet = tweetsTable.writeStream.outputMode('complete').format('memory').queryName('tweetquery').trigger(processingTime='2 seconds').start()\n",
    "print('Tweets streaming')"
   ]
  },
  {
   "cell_type": "code",
   "execution_count": 10,
   "id": "b3477bd6-a818-4f82-852d-8292355fd1a0",
   "metadata": {
    "tags": []
   },
   "outputs": [
    {
     "name": "stdout",
     "output_type": "stream",
     "text": [
      "+--------+\n",
      "|count(1)|\n",
      "+--------+\n",
      "|      28|\n",
      "+--------+\n",
      "\n",
      "+------------------------------------------------------------------------------------------------------------+------------------------------+--------------------------------------------------------------------------------------------------------------+\n",
      "|user                                                                                                        |date                          |tweet                                                                                                         |\n",
      "+------------------------------------------------------------------------------------------------------------+------------------------------+--------------------------------------------------------------------------------------------------------------+\n",
      "|dapimpisere15                                                                                               |Sun Aug 01 20:30:23 +0000 2021|RT @1DAFSanta: this is what the crowd at a one direction concert looked like https://t.co/XRQaXioTJuPCreu3    |\n",
      "|#space #pluto #UNIVERSE                                                                                     |null                          |null                                                                                                          |\n",
      "|@MargaretSiegien @PawlowskiMario                                                                            |null                          |null                                                                                                          |\n",
      "|                                                                                                            |null                          |null                                                                                                          |\n",
      "|Image Credit: NASA, Johns Hopkins…Mondkeyboy06                                                              |Sun Aug 01 20:30:24 +0000 2021|RT @KLev87: Thought this was Lollapaloozadragongirl94                                                         |\n",
      "|Image Credit: ESA/Hubble &amp; NASA &amp; the PHANGS-HST Team https://t.co/4AF5CFcdNIMongol09216757         |Sun Aug 01 20:30:30 +0000 2021|@RealBabyMusk #BabyMusk #RealBabyMusk #Nasa #tothemoon #BTC #ethirium #Uniswap #Coinbasehttpsntltc            |\n",
      "|                                                                                                            |null                          |null                                                                                                          |\n",
      "|Credit: NASA https://t.co/l4gAH…Stefan_Noni                                                                 |Sun Aug 01 20:30:34 +0000 2021|RT @knoxdotmp3: pls i thought this was the crowd at lollapaloozacatfarquad                                    |\n",
      "|                                                                                                            |null                          |null                                                                                                          |\n",
      "|👩‍🚀👨‍🚀 In a new episode of our…VerseauBlack                                                             |Sun Aug 01 20:30:40 +0000 2021|RT @WorldAndScience: Mind-blowing!                                                                            |\n",
      "|                                                                                                            |null                          |null                                                                                                          |\n",
      "|A zoom out of the sharpest view of the Andromeda Galaxy ever, showing more than 100 million stars!          |null                          |null                                                                                                          |\n",
      "|                                                                                                            |null                          |null                                                                                                          |\n",
      "|(C…saidtheraven_                                                                                            |Sun Aug 01 20:30:41 +0000 2021|RT @WorldAndScience: Mind-blowing!                                                                            |\n",
      "|                                                                                                            |null                          |null                                                                                                          |\n",
      "|A zoom out of the sharpest view of the Andromeda Galaxy ever, showing more than 100 million stars!          |null                          |null                                                                                                          |\n",
      "|                                                                                                            |null                          |null                                                                                                          |\n",
      "|(C…eajimenez147                                                                                             |Sun Aug 01 20:30:41 +0000 2021|RT @NASA: Dive into @NASAHistory with our Chief Scientist Jim Green &amp; former @NASAInterns Felicia Ragucci.|\n",
      "|                                                                                                            |null                          |null                                                                                                          |\n",
      "|👩‍🚀👨‍🚀 In a new episode of our…MrMichaelGlenn                                                           |Sun Aug 01 20:30:44 +0000 2021|RT @LilyYily: legit thought this was footage of lollapalooza https://t.co/nM3SQtisbspaymynt                   |\n",
      "|                                                                                                            |null                          |null                                                                                                          |\n",
      "|@NASAHubble captures a bickering set of galactic triplets engaging in a gravitational tug of war. This…MiMzV|Sun Aug 01 20:30:48 +0000 2021|RT @insta_science: \"Amazing! New Zealand as seen from the International Space Station.\"                       |\n",
      "|                                                                                                            |null                          |null                                                                                                          |\n",
      "|-Credits: NASA- https://t.co/yvW99mKf0vstringofgoId                                                         |Sun Aug 01 20:30:48 +0000 2021|RT @knoxdotmp3: pls i thought this was the crowd at lollapaloozaeajimenez147                                  |\n",
      "|                                                                                                            |null                          |null                                                                                                          |\n",
      "|A zoom out of the sharpest view of the Andromeda Galaxy ever, showing more than 100 million stars!          |null                          |null                                                                                                          |\n",
      "|                                                                                                            |null                          |null                                                                                                          |\n",
      "|(C…daevguy                                                                                                  |Sun Aug 01 20:30:52 +0000 2021|RT @konstructivizm: One of the most detailed picture ever taken from Jupiter so far. (NASA)                   |\n",
      "+------------------------------------------------------------------------------------------------------------+------------------------------+--------------------------------------------------------------------------------------------------------------+\n",
      "\n"
     ]
    }
   ],
   "source": [
    "spark.sql('select count(*) from tweetquery').show()\n",
    "spark.sql('select user, date, tweet from tweetquery').show(n=100, truncate=False)"
   ]
  },
  {
   "cell_type": "code",
   "execution_count": 11,
   "id": "2f0481ff-3254-41b9-97b3-408197a845e1",
   "metadata": {},
   "outputs": [],
   "source": [
    "writeTweet.stop()"
   ]
  },
  {
   "cell_type": "code",
   "execution_count": 12,
   "id": "cda56a93-5d7b-435c-b7e8-554191cdb90c",
   "metadata": {},
   "outputs": [],
   "source": [
    "sc.stop()"
   ]
  },
  {
   "cell_type": "code",
   "execution_count": null,
   "id": "b080ff26-546f-4ff0-9e50-4ed653e5e486",
   "metadata": {},
   "outputs": [],
   "source": []
  }
 ],
 "metadata": {
  "kernelspec": {
   "display_name": "Python 3",
   "language": "python",
   "name": "python3"
  },
  "language_info": {
   "codemirror_mode": {
    "name": "ipython",
    "version": 3
   },
   "file_extension": ".py",
   "mimetype": "text/x-python",
   "name": "python",
   "nbconvert_exporter": "python",
   "pygments_lexer": "ipython3",
   "version": "3.8.8"
  }
 },
 "nbformat": 4,
 "nbformat_minor": 5
}
