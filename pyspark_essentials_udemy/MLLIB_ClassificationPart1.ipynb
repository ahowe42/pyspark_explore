{
 "cells": [
  {
   "cell_type": "code",
   "execution_count": null,
   "metadata": {},
   "outputs": [],
   "source": [
    "import pandas as pd\n",
    "import numpy as np\n",
    "import datetime as dt\n",
    "\n",
    "import findspark\n",
    "findspark.init()\n",
    "import pyspark\n",
    "from pyspark.sql import SparkSession\n",
    "from pyspark.sql.functions import *#avg, count, expr\n",
    "from pyspark.sql.types import *\n",
    "from pyspark.ml.feature import VectorAssembler, StringIndexer, MinMaxScalar"
   ]
  },
  {
   "cell_type": "code",
   "execution_count": null,
   "metadata": {},
   "outputs": [],
   "source": [
    "# initialize\n",
    "sc = pyspark.SparkContext()\n",
    "spark = SparkSession(sc)\n",
    "spark.sparkContext.appName = 'exploreReadWrite'\n",
    "# show the number of cores\n",
    "print('%d cores'%spark._jsc.sc().getExecutorMemoryStatus().keySet().size())\n",
    "spark"
   ]
  },
  {
   "cell_type": "code",
   "execution_count": null,
   "metadata": {},
   "outputs": [],
   "source": [
    "# load the data\n",
    "fil = '../data/Toddler_Autism_dataset_July_2018.csv'\n",
    "schem = StructType([StructField('Case_No', IntegerType()), StructField('A1', IntegerType()), StructField('A2', IntegerType()),\n",
    "                    StructField('A3', IntegerType()), StructField('A4', IntegerType()), StuctField('A5', IntegerType()),\n",
    "                    StructField('A6', IntegerType()), StructField('A7', IntegerType()), StructField('A8', IntegerType()),\n",
    "                    StructField('A9', IntegerType()), StructField('A10', IntegerType()), StructField('Age_Mons', IntegerType()),\n",
    "                    StructField('Qchat-10-Score', IntegerType()), StructField('Sex', StringType()), StructField('Ethnicity', StringType()),\n",
    "                    StructField('Jaundice', StringType()), StructField('Family_mem_with_ASD', StringType()),\n",
    "                    StructField('Who completed the test', StringType()), StructField('Class/ASD Traits ', StringType())])\n",
    "\n",
    "asd = pyspark.read.format('csv').options(header=True).schema(schem).load(fil)\n",
    "print('%d records'%asd.count())\n",
    "asd.show(Truncate=False)"
   ]
  },
  {
   "cell_type": "code",
   "execution_count": null,
   "metadata": {},
   "outputs": [],
   "source": []
  },
  {
   "cell_type": "code",
   "execution_count": null,
   "metadata": {},
   "outputs": [],
   "source": []
  },
  {
   "cell_type": "code",
   "execution_count": null,
   "metadata": {},
   "outputs": [],
   "source": [
    "sc.stop()"
   ]
  }
 ],
 "metadata": {
  "kernelspec": {
   "display_name": "Python 3",
   "language": "python",
   "name": "python3"
  },
  "language_info": {
   "codemirror_mode": {
    "name": "ipython",
    "version": 3
   },
   "file_extension": ".py",
   "mimetype": "text/x-python",
   "name": "python",
   "nbconvert_exporter": "python",
   "pygments_lexer": "ipython3",
   "version": "3.7.9"
  }
 },
 "nbformat": 4,
 "nbformat_minor": 5
}
