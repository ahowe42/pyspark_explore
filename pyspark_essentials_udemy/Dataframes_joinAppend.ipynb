{
 "cells": [
  {
   "cell_type": "code",
   "execution_count": 23,
   "id": "casual-torture",
   "metadata": {},
   "outputs": [],
   "source": [
    "import pandas as pd\n",
    "import numpy as np\n",
    "import datetime as dt\n",
    "import os\n",
    "\n",
    "import findspark\n",
    "findspark.init()\n",
    "import pyspark\n",
    "from pyspark.sql import SparkSession\n",
    "from pyspark.sql.functions import *#avg, count, expr\n",
    "from pyspark.sql.types import *"
   ]
  },
  {
   "cell_type": "code",
   "execution_count": 10,
   "id": "swiss-training",
   "metadata": {},
   "outputs": [
    {
     "name": "stdout",
     "output_type": "stream",
     "text": [
      "1 cores\n"
     ]
    },
    {
     "data": {
      "text/html": [
       "\n",
       "            <div>\n",
       "                <p><b>SparkSession - in-memory</b></p>\n",
       "                \n",
       "        <div>\n",
       "            <p><b>SparkContext</b></p>\n",
       "\n",
       "            <p><a href=\"http://192.168.150.128:4040\">Spark UI</a></p>\n",
       "\n",
       "            <dl>\n",
       "              <dt>Version</dt>\n",
       "                <dd><code>v3.1.1</code></dd>\n",
       "              <dt>Master</dt>\n",
       "                <dd><code>local[*]</code></dd>\n",
       "              <dt>AppName</dt>\n",
       "                <dd><code>joinAppend</code></dd>\n",
       "            </dl>\n",
       "        </div>\n",
       "        \n",
       "            </div>\n",
       "        "
      ],
      "text/plain": [
       "<pyspark.sql.session.SparkSession at 0x7fe9105c35b0>"
      ]
     },
     "execution_count": 10,
     "metadata": {},
     "output_type": "execute_result"
    }
   ],
   "source": [
    "# initialize\n",
    "sc = pyspark.SparkContext()\n",
    "spark = SparkSession(sc)\n",
    "spark.sparkContext.appName = 'joinAppend'\n",
    "# show the number of cores\n",
    "print('%d cores'%spark._jsc.sc().getExecutorMemoryStatus().keySet().size())\n",
    "spark"
   ]
  },
  {
   "cell_type": "markdown",
   "id": "0a7a8364-99df-4c6d-855b-a7969d4e0029",
   "metadata": {},
   "source": [
    "## make / get some fake data"
   ]
  },
  {
   "cell_type": "code",
   "execution_count": 12,
   "id": "efb49233-9347-4195-b050-3756a82fba72",
   "metadata": {},
   "outputs": [
    {
     "name": "stdout",
     "output_type": "stream",
     "text": [
      "+-----------+---+----------+\n",
      "|     Animal| Id|EatsPlants|\n",
      "+-----------+---+----------+\n",
      "|   Elephant|  1|      true|\n",
      "| Sea Turtle|  2|      true|\n",
      "|Caterpillar|  3|      true|\n",
      "|      Human|  4|      true|\n",
      "+-----------+---+----------+\n",
      "\n",
      "+----------+---+--------+\n",
      "|    Animal| Id|EatsMeat|\n",
      "+----------+---+--------+\n",
      "|     Shark|  5|    true|\n",
      "|Sea Turtle|  2|    true|\n",
      "|     Tiger|  6|    true|\n",
      "|     Human|  4|    true|\n",
      "+----------+---+--------+\n",
      "\n"
     ]
    }
   ],
   "source": [
    "'''herb = (('Elephant', 1, True), ('Sea Turtle', 2, True), ('Caterpillar', 3, True), ('Human', 4, True))\n",
    "herbivores = spark.createDataFrame(herb, ['Animal', 'Id', 'EatsPlants'])\n",
    "herbivores.show()\n",
    "\n",
    "carn = (('Shark', 5, True), ('Sea Turtle', 2, True), ('Tiger', 6, True), ('Human', 4, True))\n",
    "carnivores = spark.createDataFrame(carn, ['Animal', 'Id', 'EatsMeat'])\n",
    "carnivores.show()'''\n",
    "\n",
    "schem = StructType([StructField('Animal', StringType()), StructField('Id', IntegerType()), StructField('EatsPlants', BooleanType())])\n",
    "herbivores = spark.read.format('csv').options(header=True).schema(schem).load('../data/herbivores.csv')\n",
    "herbivores.show()\n",
    "\n",
    "schem = StructType([StructField('Animal', StringType()), StructField('Id', IntegerType()), StructField('EatsMeat', BooleanType())])\n",
    "carnivores = spark.read.format('csv').options(header=True).schema(schem).load('../data/carnivores.csv')\n",
    "carnivores.show()"
   ]
  },
  {
   "cell_type": "code",
   "execution_count": 15,
   "id": "87b95e5f-4b18-4d1c-9892-3c3f1e03b10d",
   "metadata": {},
   "outputs": [
    {
     "name": "stdout",
     "output_type": "stream",
     "text": [
      "+---+-----------+\n",
      "| Id|     Animal|\n",
      "+---+-----------+\n",
      "|  1|   Elephant|\n",
      "|  2| Sea Turtle|\n",
      "|  3|Caterpillar|\n",
      "|  4|      Human|\n",
      "|  5|      Shark|\n",
      "|  6|      Tiger|\n",
      "+---+-----------+\n",
      "\n"
     ]
    }
   ],
   "source": [
    "# append (union or pd.concat)\n",
    "eatsall = herbivores.select('Id', 'Animal').union(carnivores.select('Id', 'Animal')).distinct()\n",
    "eatsall.orderBy('Id').show()"
   ]
  },
  {
   "cell_type": "code",
   "execution_count": 17,
   "id": "34daab36-fc99-48ac-aa41-fb5a7426e219",
   "metadata": {},
   "outputs": [
    {
     "name": "stdout",
     "output_type": "stream",
     "text": [
      "+---+----------+----------+--------+\n",
      "| Id|    Animal|EatsPlants|EatsMeat|\n",
      "+---+----------+----------+--------+\n",
      "|  2|Sea Turtle|      true|    true|\n",
      "|  4|     Human|      true|    true|\n",
      "+---+----------+----------+--------+\n",
      "\n"
     ]
    }
   ],
   "source": [
    "# inner join\n",
    "omnivores = herbivores.join(carnivores, how='inner', on=['Id', 'Animal'])\n",
    "omnivores.show()"
   ]
  },
  {
   "cell_type": "code",
   "execution_count": 19,
   "id": "9360ac7e-512e-440c-a9d6-4df61807bab0",
   "metadata": {},
   "outputs": [
    {
     "name": "stdout",
     "output_type": "stream",
     "text": [
      "+---+-----------+----------+--------+\n",
      "| Id|     Animal|EatsPlants|EatsMeat|\n",
      "+---+-----------+----------+--------+\n",
      "|  1|   Elephant|      true|    null|\n",
      "|  2| Sea Turtle|      true|    true|\n",
      "|  3|Caterpillar|      true|    null|\n",
      "|  4|      Human|      true|    true|\n",
      "|  5|      Shark|      null|    true|\n",
      "|  6|      Tiger|      null|    true|\n",
      "+---+-----------+----------+--------+\n",
      "\n"
     ]
    }
   ],
   "source": [
    "# full outer join\n",
    "eatsall = herbivores.join(carnivores, how='outer', on=['Id', 'Animal'])\n",
    "eatsall.orderBy('Id').show()"
   ]
  },
  {
   "cell_type": "code",
   "execution_count": 22,
   "id": "204da095-6b7f-44de-94ca-605880593ce6",
   "metadata": {},
   "outputs": [
    {
     "name": "stdout",
     "output_type": "stream",
     "text": [
      "+---+-----------+----------+--------+\n",
      "| Id|     Animal|EatsPlants|EatsMeat|\n",
      "+---+-----------+----------+--------+\n",
      "|  1|   Elephant|      true|    null|\n",
      "|  3|Caterpillar|      true|    null|\n",
      "+---+-----------+----------+--------+\n",
      "\n"
     ]
    }
   ],
   "source": [
    "# just get records in herbivores not in carnivores\n",
    "herbonly = herbivores.join(carnivores, how='left', on=['Id', 'Animal']).where(isnull('EatsMeat'))\n",
    "herbonly.show()"
   ]
  },
  {
   "cell_type": "code",
   "execution_count": 30,
   "id": "6e6eb4a2-95cc-4aba-9a0c-f0975177062a",
   "metadata": {},
   "outputs": [],
   "source": [
    "# load univ of wisconsin madison data into a dict of dataframes\n",
    "path = '../data/uw-madison-courses/'\n",
    "uofw = {f.split('.')[0]:spark.read.format('csv').options(header=True, inferSchema=True).load(path+f) for f in os.listdir(path) if f[-4:] == '.csv'}"
   ]
  },
  {
   "cell_type": "code",
   "execution_count": 31,
   "id": "879f68ae-4c95-4b97-a266-647d5d3aa931",
   "metadata": {},
   "outputs": [
    {
     "name": "stdout",
     "output_type": "stream",
     "text": [
      "subject_memberships\n",
      "+------------+------------------------------------+\n",
      "|subject_code|course_offering_uuid                |\n",
      "+------------+------------------------------------+\n",
      "|220         |344b3ebe-da7e-314c-83ed-9425269695fd|\n",
      "|320         |344b3ebe-da7e-314c-83ed-9425269695fd|\n",
      "|346         |344b3ebe-da7e-314c-83ed-9425269695fd|\n",
      "|612         |344b3ebe-da7e-314c-83ed-9425269695fd|\n",
      "|636         |344b3ebe-da7e-314c-83ed-9425269695fd|\n",
      "+------------+------------------------------------+\n",
      "only showing top 5 rows\n",
      "\n",
      "instructors\n",
      "+-------+------------------+\n",
      "|id     |name              |\n",
      "+-------+------------------+\n",
      "|761703 |JOHN ARCHAMBAULT  |\n",
      "|3677061|STEPHANIE KANN    |\n",
      "|788586 |KATHY PREM        |\n",
      "|1600463|KRISTIN KLARKOWSKI|\n",
      "|693634 |DAVID BOHNHOFF    |\n",
      "+-------+------------------+\n",
      "only showing top 5 rows\n",
      "\n",
      "rooms\n",
      "+------------------------------------+-------------+---------+\n",
      "|uuid                                |facility_code|room_code|\n",
      "+------------------------------------+-------------+---------+\n",
      "|04368a56-c959-3e4b-8b3d-f4cc3538fea5|OFF CAMPUS   |null     |\n",
      "|2cc50da3-ef0e-3572-a557-ca44930a0688|0032         |0249     |\n",
      "|ebbf62b4-2ac3-356b-b0fa-7897f4446a17|0032         |B101     |\n",
      "|ed828265-475b-31b4-b9a8-daec2a600449|0032         |0549     |\n",
      "|b277dc8e-bab1-3a12-bc17-48d4a364d297|0032         |0349     |\n",
      "+------------------------------------+-------------+---------+\n",
      "only showing top 5 rows\n",
      "\n",
      "schedules\n",
      "+------------------------------------+----------+--------+-----+-----+-----+-----+-----+-----+-----+\n",
      "|uuid                                |start_time|end_time|mon  |tues |wed  |thurs|fri  |sat  |sun  |\n",
      "+------------------------------------+----------+--------+-----+-----+-----+-----+-----+-----+-----+\n",
      "|f2d66a4d-0c08-3b48-abf6-649fffd7ae90|-1        |-1      |false|false|false|false|false|false|false|\n",
      "|875542a2-f786-34dd-933b-84a8af1aaaba|530       |580     |true |false|true |false|false|false|false|\n",
      "|f41f1e4d-cb4f-3ded-b4b0-4a7c4da044e5|660       |710     |false|true |false|true |false|false|false|\n",
      "|46da55a4-17f7-31a1-9492-fddb5af9cf13|800       |850     |false|true |false|true |false|false|false|\n",
      "|8c7cd81e-4f81-357c-a40b-43f954484804|725       |775     |false|true |false|true |false|false|false|\n",
      "+------------------------------------+----------+--------+-----+-----+-----+-----+-----+-----+-----+\n",
      "only showing top 5 rows\n",
      "\n",
      "courses\n",
      "+------------------------------------+---------------------------------------------------------------+------+\n",
      "|uuid                                |name                                                           |number|\n",
      "+------------------------------------+---------------------------------------------------------------+------+\n",
      "|a3e3e1c3-543d-3bb5-ae65-5f2aec4ad1de|Cooperative Education Program                                  |1     |\n",
      "|c070a84f-648f-351d-9499-5d0e30ad02cc|Cooperative Education/Co-op in Life Sciences Communication     |1     |\n",
      "|e6b4b7ae-0e0b-3aa5-9d77-7fcd90c9cfa3|Cooperative Education Program                                  |1     |\n",
      "|8f63bde1-ff7f-3fe7-9901-862908bf134c|Workshop in Dance Activity                                     |1     |\n",
      "|f3541888-584a-3923-9ce7-6341ff3d84a1|Cooperative Education/Co-op in Agricultural & Applied Economics|1     |\n",
      "+------------------------------------+---------------------------------------------------------------+------+\n",
      "only showing top 5 rows\n",
      "\n",
      "course_offerings\n",
      "+------------------------------------+------------------------------------+---------+--------------------------+\n",
      "|uuid                                |course_uuid                         |term_code|name                      |\n",
      "+------------------------------------+------------------------------------+---------+--------------------------+\n",
      "|344b3ebe-da7e-314c-83ed-9425269695fd|a3e3e1c3-543d-3bb5-ae65-5f2aec4ad1de|1092     |Cooperative Education Prog|\n",
      "|f718e6cd-33f0-3c14-a9a6-834d9c3610a8|a3e3e1c3-543d-3bb5-ae65-5f2aec4ad1de|1082     |Cooperative Education Prog|\n",
      "|ea3b717c-d66b-30dc-8b37-964d9688295f|a3e3e1c3-543d-3bb5-ae65-5f2aec4ad1de|1172     |Cooperative Education Prog|\n",
      "|075da420-5f49-3dd0-93df-13e3c152e1b1|a3e3e1c3-543d-3bb5-ae65-5f2aec4ad1de|1114     |Cooperative Education Prog|\n",
      "|2b4e216d-a728-3713-8c7c-19afffc6b2fd|a3e3e1c3-543d-3bb5-ae65-5f2aec4ad1de|1104     |Cooperative Education Prog|\n",
      "+------------------------------------+------------------------------------+---------+--------------------------+\n",
      "only showing top 5 rows\n",
      "\n",
      "grade_distributions\n",
      "+------------------------------------+--------------+-------+--------+-------+--------+-------+-------+-------+-------+-------+--------+-------+-------+-------+--------+--------+-----------+\n",
      "|course_offering_uuid                |section_number|a_count|ab_count|b_count|bc_count|c_count|d_count|f_count|s_count|u_count|cr_count|n_count|p_count|i_count|nw_count|nr_count|other_count|\n",
      "+------------------------------------+--------------+-------+--------+-------+--------+-------+-------+-------+-------+-------+--------+-------+-------+-------+--------+--------+-----------+\n",
      "|344b3ebe-da7e-314c-83ed-9425269695fd|1             |105    |0       |0      |0       |0      |0      |0      |0      |0      |0       |0      |0      |0      |0       |0       |0          |\n",
      "|f718e6cd-33f0-3c14-a9a6-834d9c3610a8|1             |158    |0       |0      |0       |0      |0      |0      |0      |0      |0       |0      |0      |1      |0       |0       |0          |\n",
      "|ea3b717c-d66b-30dc-8b37-964d9688295f|1             |139    |12      |2      |0       |3      |0      |0      |0      |0      |0       |0      |0      |0      |0       |0       |0          |\n",
      "|075da420-5f49-3dd0-93df-13e3c152e1b1|1             |87     |0       |0      |0       |0      |0      |0      |0      |0      |0       |0      |0      |1      |0       |0       |0          |\n",
      "|2b4e216d-a728-3713-8c7c-19afffc6b2fd|1             |70     |0       |0      |0       |0      |0      |0      |0      |0      |0       |0      |0      |1      |0       |0       |0          |\n",
      "+------------------------------------+--------------+-------+--------+-------+--------+-------+-------+-------+-------+-------+--------+-------+-------+-------+--------+--------+-----------+\n",
      "only showing top 5 rows\n",
      "\n",
      "teachings\n",
      "+-------------+------------------------------------+\n",
      "|instructor_id|section_uuid                        |\n",
      "+-------------+------------------------------------+\n",
      "|761703       |45adf63c-48c9-3659-8561-07556d2d4ddf|\n",
      "|761703       |c6280e23-5e43-3859-893e-540d94993529|\n",
      "|761703       |9395dc21-15d1-3fab-8d1f-6f3fe6114c48|\n",
      "|3677061      |b99e440b-39db-350a-81eb-b6eb1bd8b0bc|\n",
      "|761703       |ca1c841f-41d5-3298-bd25-01c65751f150|\n",
      "+-------------+------------------------------------+\n",
      "only showing top 5 rows\n",
      "\n",
      "sections\n",
      "+------------------------------------+------------------------------------+------------+------+------------------------------------+------------------------------------+\n",
      "|uuid                                |course_offering_uuid                |section_type|number|room_uuid                           |schedule_uuid                       |\n",
      "+------------------------------------+------------------------------------+------------+------+------------------------------------+------------------------------------+\n",
      "|45adf63c-48c9-3659-8561-07556d2d4ddf|344b3ebe-da7e-314c-83ed-9425269695fd|FLD         |1     |null                                |f2d66a4d-0c08-3b48-abf6-649fffd7ae90|\n",
      "|c6280e23-5e43-3859-893e-540d94993529|f718e6cd-33f0-3c14-a9a6-834d9c3610a8|FLD         |1     |null                                |f2d66a4d-0c08-3b48-abf6-649fffd7ae90|\n",
      "|9395dc21-15d1-3fab-8d1f-6f3fe6114c48|ea3b717c-d66b-30dc-8b37-964d9688295f|FLD         |1     |04368a56-c959-3e4b-8b3d-f4cc3538fea5|f2d66a4d-0c08-3b48-abf6-649fffd7ae90|\n",
      "|b99e440b-39db-350a-81eb-b6eb1bd8b0bc|ea3b717c-d66b-30dc-8b37-964d9688295f|FLD         |1     |null                                |f2d66a4d-0c08-3b48-abf6-649fffd7ae90|\n",
      "|ca1c841f-41d5-3298-bd25-01c65751f150|ea3b717c-d66b-30dc-8b37-964d9688295f|FLD         |1     |null                                |f2d66a4d-0c08-3b48-abf6-649fffd7ae90|\n",
      "+------------------------------------+------------------------------------+------------+------+------------------------------------+------------------------------------+\n",
      "only showing top 5 rows\n",
      "\n",
      "subjects\n",
      "+----+------------------------------------+------------+\n",
      "|code|name                                |abbreviation|\n",
      "+----+------------------------------------+------------+\n",
      "|908 |Soil Science                        |SOIL SCI    |\n",
      "|350 |ENGLISH                             |ENGLISH     |\n",
      "|351 |English as a Second Language        |ESL         |\n",
      "|230 |Human Development and Family Studies|HDFS        |\n",
      "|352 |English                             |ENGL        |\n",
      "+----+------------------------------------+------------+\n",
      "only showing top 5 rows\n",
      "\n"
     ]
    }
   ],
   "source": [
    "# show the head of each\n",
    "for (key, val) in uofw.items():\n",
    "    print(key)\n",
    "    val.show(5, truncate=False)"
   ]
  },
  {
   "cell_type": "code",
   "execution_count": 54,
   "id": "6d4dae4b-8713-465a-81a8-1acd69aefb1d",
   "metadata": {},
   "outputs": [
    {
     "data": {
      "text/html": [
       "<div>\n",
       "<style scoped>\n",
       "    .dataframe tbody tr th:only-of-type {\n",
       "        vertical-align: middle;\n",
       "    }\n",
       "\n",
       "    .dataframe tbody tr th {\n",
       "        vertical-align: top;\n",
       "    }\n",
       "\n",
       "    .dataframe thead th {\n",
       "        text-align: right;\n",
       "    }\n",
       "</style>\n",
       "<table border=\"1\" class=\"dataframe\">\n",
       "  <thead>\n",
       "    <tr style=\"text-align: right;\">\n",
       "      <th></th>\n",
       "      <th>course_name</th>\n",
       "      <th>instructor_name</th>\n",
       "      <th>days</th>\n",
       "      <th>start_time</th>\n",
       "      <th>end_time</th>\n",
       "      <th>section_type</th>\n",
       "      <th>number</th>\n",
       "    </tr>\n",
       "  </thead>\n",
       "  <tbody>\n",
       "    <tr>\n",
       "      <th>0</th>\n",
       "      <td>Master's Research or Thesis</td>\n",
       "      <td>THOMAS JAHNS</td>\n",
       "      <td>[False, False, False, False, False]</td>\n",
       "      <td>-1</td>\n",
       "      <td>-1</td>\n",
       "      <td>IND</td>\n",
       "      <td>45</td>\n",
       "    </tr>\n",
       "    <tr>\n",
       "      <th>1</th>\n",
       "      <td>Wrkshp-Industrl Organizatn</td>\n",
       "      <td>JEAN-FRANCOIS HOUDE</td>\n",
       "      <td>[False, False, True, False, False]</td>\n",
       "      <td>945</td>\n",
       "      <td>1050</td>\n",
       "      <td>LEC</td>\n",
       "      <td>1</td>\n",
       "    </tr>\n",
       "    <tr>\n",
       "      <th>2</th>\n",
       "      <td>Workshop - Public Economics</td>\n",
       "      <td>CHRISTOPHER R TABER</td>\n",
       "      <td>[False, True, False, False, False]</td>\n",
       "      <td>945</td>\n",
       "      <td>1050</td>\n",
       "      <td>LEC</td>\n",
       "      <td>1</td>\n",
       "    </tr>\n",
       "    <tr>\n",
       "      <th>3</th>\n",
       "      <td>Plant Cell Biology</td>\n",
       "      <td>MARISA S OTEGUI</td>\n",
       "      <td>[False, True, False, True, False]</td>\n",
       "      <td>595</td>\n",
       "      <td>645</td>\n",
       "      <td>LEC</td>\n",
       "      <td>1</td>\n",
       "    </tr>\n",
       "  </tbody>\n",
       "</table>\n",
       "</div>"
      ],
      "text/plain": [
       "                   course_name      instructor_name  \\\n",
       "0  Master's Research or Thesis         THOMAS JAHNS   \n",
       "1   Wrkshp-Industrl Organizatn  JEAN-FRANCOIS HOUDE   \n",
       "2  Workshop - Public Economics  CHRISTOPHER R TABER   \n",
       "3           Plant Cell Biology      MARISA S OTEGUI   \n",
       "\n",
       "                                  days  start_time  end_time section_type  \\\n",
       "0  [False, False, False, False, False]          -1        -1          IND   \n",
       "1   [False, False, True, False, False]         945      1050          LEC   \n",
       "2   [False, True, False, False, False]         945      1050          LEC   \n",
       "3    [False, True, False, True, False]         595       645          LEC   \n",
       "\n",
       "   number  \n",
       "0      45  \n",
       "1       1  \n",
       "2       1  \n",
       "3       1  "
      ]
     },
     "metadata": {},
     "output_type": "display_data"
    }
   ],
   "source": [
    "thisID = '344b3ebe-da7e-314c-83ed-9425269695fd' # in case I want to filter\n",
    "joined = uofw['course_offerings'].withColumnRenamed('uuid', 'course_offering_uuid').withColumnRenamed('name', 'course_name')\\\n",
    "    .join(uofw['sections'].withColumnRenamed('uuid', 'section_uuid'), how='inner', on='course_offering_uuid')\\\n",
    "    .join(uofw['teachings'].withColumnRenamed('uuid', 'teaching_uuid'), how='inner', on='section_uuid')\\\n",
    "    .join(uofw['instructors'].withColumnRenamed('id', 'instructor_id').withColumnRenamed('name', 'instructor_name'),\n",
    "          how='inner', on='instructor_id')\\\n",
    "    .join(uofw['schedules'].withColumn('days', array('mon', 'tues', 'wed', 'thurs', 'fri'))\\\n",
    "          .withColumnRenamed('uuid', 'schedule_uuid').select('schedule_uuid', 'days', 'start_time', 'end_time'),\n",
    "          how='inner', on='schedule_uuid')\n",
    "\n",
    "display(joined.select('course_name', 'instructor_name', 'days', 'start_time', 'end_time', 'section_type', 'number', ).limit(4).toPandas())"
   ]
  },
  {
   "cell_type": "code",
   "execution_count": null,
   "id": "f51e978b-d294-45dc-bc38-a81031100871",
   "metadata": {},
   "outputs": [],
   "source": []
  },
  {
   "cell_type": "code",
   "execution_count": 55,
   "id": "accomplished-romantic",
   "metadata": {},
   "outputs": [],
   "source": [
    "sc.stop()"
   ]
  },
  {
   "cell_type": "code",
   "execution_count": null,
   "id": "75c58a03-9f4f-4acc-8d53-0a8069a72465",
   "metadata": {},
   "outputs": [],
   "source": []
  }
 ],
 "metadata": {
  "kernelspec": {
   "display_name": "Python 3",
   "language": "python",
   "name": "python3"
  },
  "language_info": {
   "codemirror_mode": {
    "name": "ipython",
    "version": 3
   },
   "file_extension": ".py",
   "mimetype": "text/x-python",
   "name": "python",
   "nbconvert_exporter": "python",
   "pygments_lexer": "ipython3",
   "version": "3.8.8"
  }
 },
 "nbformat": 4,
 "nbformat_minor": 5
}
