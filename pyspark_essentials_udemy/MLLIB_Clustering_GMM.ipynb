{
 "cells": [
  {
   "cell_type": "code",
   "execution_count": 23,
   "id": "c6884cf0",
   "metadata": {},
   "outputs": [
    {
     "data": {
      "text/html": [
       "        <script type=\"text/javascript\">\n",
       "        window.PlotlyConfig = {MathJaxConfig: 'local'};\n",
       "        if (window.MathJax) {MathJax.Hub.Config({SVG: {font: \"STIX-Web\"}});}\n",
       "        if (typeof require !== 'undefined') {\n",
       "        require.undef(\"plotly\");\n",
       "        requirejs.config({\n",
       "            paths: {\n",
       "                'plotly': ['https://cdn.plot.ly/plotly-latest.min']\n",
       "            }\n",
       "        });\n",
       "        require(['plotly'], function(Plotly) {\n",
       "            window._Plotly = Plotly;\n",
       "        });\n",
       "        }\n",
       "        </script>\n",
       "        "
      ]
     },
     "metadata": {},
     "output_type": "display_data"
    },
    {
     "data": {
      "application/vnd.plotly.v1+json": {
       "config": {
        "linkText": "Export to plot.ly",
        "plotlyServerURL": "https://plot.ly",
        "showLink": false
       },
       "data": [
        {
         "type": "scatter",
         "x": [
          1,
          2
         ],
         "y": [
          42,
          42
         ]
        }
       ],
       "layout": {
        "template": {
         "data": {
          "bar": [
           {
            "error_x": {
             "color": "#2a3f5f"
            },
            "error_y": {
             "color": "#2a3f5f"
            },
            "marker": {
             "line": {
              "color": "#E5ECF6",
              "width": 0.5
             }
            },
            "type": "bar"
           }
          ],
          "barpolar": [
           {
            "marker": {
             "line": {
              "color": "#E5ECF6",
              "width": 0.5
             }
            },
            "type": "barpolar"
           }
          ],
          "carpet": [
           {
            "aaxis": {
             "endlinecolor": "#2a3f5f",
             "gridcolor": "white",
             "linecolor": "white",
             "minorgridcolor": "white",
             "startlinecolor": "#2a3f5f"
            },
            "baxis": {
             "endlinecolor": "#2a3f5f",
             "gridcolor": "white",
             "linecolor": "white",
             "minorgridcolor": "white",
             "startlinecolor": "#2a3f5f"
            },
            "type": "carpet"
           }
          ],
          "choropleth": [
           {
            "colorbar": {
             "outlinewidth": 0,
             "ticks": ""
            },
            "type": "choropleth"
           }
          ],
          "contour": [
           {
            "colorbar": {
             "outlinewidth": 0,
             "ticks": ""
            },
            "colorscale": [
             [
              0,
              "#0d0887"
             ],
             [
              0.1111111111111111,
              "#46039f"
             ],
             [
              0.2222222222222222,
              "#7201a8"
             ],
             [
              0.3333333333333333,
              "#9c179e"
             ],
             [
              0.4444444444444444,
              "#bd3786"
             ],
             [
              0.5555555555555556,
              "#d8576b"
             ],
             [
              0.6666666666666666,
              "#ed7953"
             ],
             [
              0.7777777777777778,
              "#fb9f3a"
             ],
             [
              0.8888888888888888,
              "#fdca26"
             ],
             [
              1,
              "#f0f921"
             ]
            ],
            "type": "contour"
           }
          ],
          "contourcarpet": [
           {
            "colorbar": {
             "outlinewidth": 0,
             "ticks": ""
            },
            "type": "contourcarpet"
           }
          ],
          "heatmap": [
           {
            "colorbar": {
             "outlinewidth": 0,
             "ticks": ""
            },
            "colorscale": [
             [
              0,
              "#0d0887"
             ],
             [
              0.1111111111111111,
              "#46039f"
             ],
             [
              0.2222222222222222,
              "#7201a8"
             ],
             [
              0.3333333333333333,
              "#9c179e"
             ],
             [
              0.4444444444444444,
              "#bd3786"
             ],
             [
              0.5555555555555556,
              "#d8576b"
             ],
             [
              0.6666666666666666,
              "#ed7953"
             ],
             [
              0.7777777777777778,
              "#fb9f3a"
             ],
             [
              0.8888888888888888,
              "#fdca26"
             ],
             [
              1,
              "#f0f921"
             ]
            ],
            "type": "heatmap"
           }
          ],
          "heatmapgl": [
           {
            "colorbar": {
             "outlinewidth": 0,
             "ticks": ""
            },
            "colorscale": [
             [
              0,
              "#0d0887"
             ],
             [
              0.1111111111111111,
              "#46039f"
             ],
             [
              0.2222222222222222,
              "#7201a8"
             ],
             [
              0.3333333333333333,
              "#9c179e"
             ],
             [
              0.4444444444444444,
              "#bd3786"
             ],
             [
              0.5555555555555556,
              "#d8576b"
             ],
             [
              0.6666666666666666,
              "#ed7953"
             ],
             [
              0.7777777777777778,
              "#fb9f3a"
             ],
             [
              0.8888888888888888,
              "#fdca26"
             ],
             [
              1,
              "#f0f921"
             ]
            ],
            "type": "heatmapgl"
           }
          ],
          "histogram": [
           {
            "marker": {
             "colorbar": {
              "outlinewidth": 0,
              "ticks": ""
             }
            },
            "type": "histogram"
           }
          ],
          "histogram2d": [
           {
            "colorbar": {
             "outlinewidth": 0,
             "ticks": ""
            },
            "colorscale": [
             [
              0,
              "#0d0887"
             ],
             [
              0.1111111111111111,
              "#46039f"
             ],
             [
              0.2222222222222222,
              "#7201a8"
             ],
             [
              0.3333333333333333,
              "#9c179e"
             ],
             [
              0.4444444444444444,
              "#bd3786"
             ],
             [
              0.5555555555555556,
              "#d8576b"
             ],
             [
              0.6666666666666666,
              "#ed7953"
             ],
             [
              0.7777777777777778,
              "#fb9f3a"
             ],
             [
              0.8888888888888888,
              "#fdca26"
             ],
             [
              1,
              "#f0f921"
             ]
            ],
            "type": "histogram2d"
           }
          ],
          "histogram2dcontour": [
           {
            "colorbar": {
             "outlinewidth": 0,
             "ticks": ""
            },
            "colorscale": [
             [
              0,
              "#0d0887"
             ],
             [
              0.1111111111111111,
              "#46039f"
             ],
             [
              0.2222222222222222,
              "#7201a8"
             ],
             [
              0.3333333333333333,
              "#9c179e"
             ],
             [
              0.4444444444444444,
              "#bd3786"
             ],
             [
              0.5555555555555556,
              "#d8576b"
             ],
             [
              0.6666666666666666,
              "#ed7953"
             ],
             [
              0.7777777777777778,
              "#fb9f3a"
             ],
             [
              0.8888888888888888,
              "#fdca26"
             ],
             [
              1,
              "#f0f921"
             ]
            ],
            "type": "histogram2dcontour"
           }
          ],
          "mesh3d": [
           {
            "colorbar": {
             "outlinewidth": 0,
             "ticks": ""
            },
            "type": "mesh3d"
           }
          ],
          "parcoords": [
           {
            "line": {
             "colorbar": {
              "outlinewidth": 0,
              "ticks": ""
             }
            },
            "type": "parcoords"
           }
          ],
          "pie": [
           {
            "automargin": true,
            "type": "pie"
           }
          ],
          "scatter": [
           {
            "marker": {
             "colorbar": {
              "outlinewidth": 0,
              "ticks": ""
             }
            },
            "type": "scatter"
           }
          ],
          "scatter3d": [
           {
            "line": {
             "colorbar": {
              "outlinewidth": 0,
              "ticks": ""
             }
            },
            "marker": {
             "colorbar": {
              "outlinewidth": 0,
              "ticks": ""
             }
            },
            "type": "scatter3d"
           }
          ],
          "scattercarpet": [
           {
            "marker": {
             "colorbar": {
              "outlinewidth": 0,
              "ticks": ""
             }
            },
            "type": "scattercarpet"
           }
          ],
          "scattergeo": [
           {
            "marker": {
             "colorbar": {
              "outlinewidth": 0,
              "ticks": ""
             }
            },
            "type": "scattergeo"
           }
          ],
          "scattergl": [
           {
            "marker": {
             "colorbar": {
              "outlinewidth": 0,
              "ticks": ""
             }
            },
            "type": "scattergl"
           }
          ],
          "scattermapbox": [
           {
            "marker": {
             "colorbar": {
              "outlinewidth": 0,
              "ticks": ""
             }
            },
            "type": "scattermapbox"
           }
          ],
          "scatterpolar": [
           {
            "marker": {
             "colorbar": {
              "outlinewidth": 0,
              "ticks": ""
             }
            },
            "type": "scatterpolar"
           }
          ],
          "scatterpolargl": [
           {
            "marker": {
             "colorbar": {
              "outlinewidth": 0,
              "ticks": ""
             }
            },
            "type": "scatterpolargl"
           }
          ],
          "scatterternary": [
           {
            "marker": {
             "colorbar": {
              "outlinewidth": 0,
              "ticks": ""
             }
            },
            "type": "scatterternary"
           }
          ],
          "surface": [
           {
            "colorbar": {
             "outlinewidth": 0,
             "ticks": ""
            },
            "colorscale": [
             [
              0,
              "#0d0887"
             ],
             [
              0.1111111111111111,
              "#46039f"
             ],
             [
              0.2222222222222222,
              "#7201a8"
             ],
             [
              0.3333333333333333,
              "#9c179e"
             ],
             [
              0.4444444444444444,
              "#bd3786"
             ],
             [
              0.5555555555555556,
              "#d8576b"
             ],
             [
              0.6666666666666666,
              "#ed7953"
             ],
             [
              0.7777777777777778,
              "#fb9f3a"
             ],
             [
              0.8888888888888888,
              "#fdca26"
             ],
             [
              1,
              "#f0f921"
             ]
            ],
            "type": "surface"
           }
          ],
          "table": [
           {
            "cells": {
             "fill": {
              "color": "#EBF0F8"
             },
             "line": {
              "color": "white"
             }
            },
            "header": {
             "fill": {
              "color": "#C8D4E3"
             },
             "line": {
              "color": "white"
             }
            },
            "type": "table"
           }
          ]
         },
         "layout": {
          "annotationdefaults": {
           "arrowcolor": "#2a3f5f",
           "arrowhead": 0,
           "arrowwidth": 1
          },
          "autotypenumbers": "strict",
          "coloraxis": {
           "colorbar": {
            "outlinewidth": 0,
            "ticks": ""
           }
          },
          "colorscale": {
           "diverging": [
            [
             0,
             "#8e0152"
            ],
            [
             0.1,
             "#c51b7d"
            ],
            [
             0.2,
             "#de77ae"
            ],
            [
             0.3,
             "#f1b6da"
            ],
            [
             0.4,
             "#fde0ef"
            ],
            [
             0.5,
             "#f7f7f7"
            ],
            [
             0.6,
             "#e6f5d0"
            ],
            [
             0.7,
             "#b8e186"
            ],
            [
             0.8,
             "#7fbc41"
            ],
            [
             0.9,
             "#4d9221"
            ],
            [
             1,
             "#276419"
            ]
           ],
           "sequential": [
            [
             0,
             "#0d0887"
            ],
            [
             0.1111111111111111,
             "#46039f"
            ],
            [
             0.2222222222222222,
             "#7201a8"
            ],
            [
             0.3333333333333333,
             "#9c179e"
            ],
            [
             0.4444444444444444,
             "#bd3786"
            ],
            [
             0.5555555555555556,
             "#d8576b"
            ],
            [
             0.6666666666666666,
             "#ed7953"
            ],
            [
             0.7777777777777778,
             "#fb9f3a"
            ],
            [
             0.8888888888888888,
             "#fdca26"
            ],
            [
             1,
             "#f0f921"
            ]
           ],
           "sequentialminus": [
            [
             0,
             "#0d0887"
            ],
            [
             0.1111111111111111,
             "#46039f"
            ],
            [
             0.2222222222222222,
             "#7201a8"
            ],
            [
             0.3333333333333333,
             "#9c179e"
            ],
            [
             0.4444444444444444,
             "#bd3786"
            ],
            [
             0.5555555555555556,
             "#d8576b"
            ],
            [
             0.6666666666666666,
             "#ed7953"
            ],
            [
             0.7777777777777778,
             "#fb9f3a"
            ],
            [
             0.8888888888888888,
             "#fdca26"
            ],
            [
             1,
             "#f0f921"
            ]
           ]
          },
          "colorway": [
           "#636efa",
           "#EF553B",
           "#00cc96",
           "#ab63fa",
           "#FFA15A",
           "#19d3f3",
           "#FF6692",
           "#B6E880",
           "#FF97FF",
           "#FECB52"
          ],
          "font": {
           "color": "#2a3f5f"
          },
          "geo": {
           "bgcolor": "white",
           "lakecolor": "white",
           "landcolor": "#E5ECF6",
           "showlakes": true,
           "showland": true,
           "subunitcolor": "white"
          },
          "hoverlabel": {
           "align": "left"
          },
          "hovermode": "closest",
          "mapbox": {
           "style": "light"
          },
          "paper_bgcolor": "white",
          "plot_bgcolor": "#E5ECF6",
          "polar": {
           "angularaxis": {
            "gridcolor": "white",
            "linecolor": "white",
            "ticks": ""
           },
           "bgcolor": "#E5ECF6",
           "radialaxis": {
            "gridcolor": "white",
            "linecolor": "white",
            "ticks": ""
           }
          },
          "scene": {
           "xaxis": {
            "backgroundcolor": "#E5ECF6",
            "gridcolor": "white",
            "gridwidth": 2,
            "linecolor": "white",
            "showbackground": true,
            "ticks": "",
            "zerolinecolor": "white"
           },
           "yaxis": {
            "backgroundcolor": "#E5ECF6",
            "gridcolor": "white",
            "gridwidth": 2,
            "linecolor": "white",
            "showbackground": true,
            "ticks": "",
            "zerolinecolor": "white"
           },
           "zaxis": {
            "backgroundcolor": "#E5ECF6",
            "gridcolor": "white",
            "gridwidth": 2,
            "linecolor": "white",
            "showbackground": true,
            "ticks": "",
            "zerolinecolor": "white"
           }
          },
          "shapedefaults": {
           "line": {
            "color": "#2a3f5f"
           }
          },
          "ternary": {
           "aaxis": {
            "gridcolor": "white",
            "linecolor": "white",
            "ticks": ""
           },
           "baxis": {
            "gridcolor": "white",
            "linecolor": "white",
            "ticks": ""
           },
           "bgcolor": "#E5ECF6",
           "caxis": {
            "gridcolor": "white",
            "linecolor": "white",
            "ticks": ""
           }
          },
          "title": {
           "x": 0.05
          },
          "xaxis": {
           "automargin": true,
           "gridcolor": "white",
           "linecolor": "white",
           "ticks": "",
           "title": {
            "standoff": 15
           },
           "zerolinecolor": "white",
           "zerolinewidth": 2
          },
          "yaxis": {
           "automargin": true,
           "gridcolor": "white",
           "linecolor": "white",
           "ticks": "",
           "title": {
            "standoff": 15
           },
           "zerolinecolor": "white",
           "zerolinewidth": 2
          }
         }
        },
        "title": {
         "text": "Init"
        }
       }
      },
      "text/html": [
       "<div>                            <div id=\"eb0e44b8-0b43-4103-810a-842c4c7e64dc\" class=\"plotly-graph-div\" style=\"height:525px; width:100%;\"></div>            <script type=\"text/javascript\">                require([\"plotly\"], function(Plotly) {                    window.PLOTLYENV=window.PLOTLYENV || {};                                    if (document.getElementById(\"eb0e44b8-0b43-4103-810a-842c4c7e64dc\")) {                    Plotly.newPlot(                        \"eb0e44b8-0b43-4103-810a-842c4c7e64dc\",                        [{\"type\": \"scatter\", \"x\": [1, 2], \"y\": [42, 42]}],                        {\"template\": {\"data\": {\"bar\": [{\"error_x\": {\"color\": \"#2a3f5f\"}, \"error_y\": {\"color\": \"#2a3f5f\"}, \"marker\": {\"line\": {\"color\": \"#E5ECF6\", \"width\": 0.5}}, \"type\": \"bar\"}], \"barpolar\": [{\"marker\": {\"line\": {\"color\": \"#E5ECF6\", \"width\": 0.5}}, \"type\": \"barpolar\"}], \"carpet\": [{\"aaxis\": {\"endlinecolor\": \"#2a3f5f\", \"gridcolor\": \"white\", \"linecolor\": \"white\", \"minorgridcolor\": \"white\", \"startlinecolor\": \"#2a3f5f\"}, \"baxis\": {\"endlinecolor\": \"#2a3f5f\", \"gridcolor\": \"white\", \"linecolor\": \"white\", \"minorgridcolor\": \"white\", \"startlinecolor\": \"#2a3f5f\"}, \"type\": \"carpet\"}], \"choropleth\": [{\"colorbar\": {\"outlinewidth\": 0, \"ticks\": \"\"}, \"type\": \"choropleth\"}], \"contour\": [{\"colorbar\": {\"outlinewidth\": 0, \"ticks\": \"\"}, \"colorscale\": [[0.0, \"#0d0887\"], [0.1111111111111111, \"#46039f\"], [0.2222222222222222, \"#7201a8\"], [0.3333333333333333, \"#9c179e\"], [0.4444444444444444, \"#bd3786\"], [0.5555555555555556, \"#d8576b\"], [0.6666666666666666, \"#ed7953\"], [0.7777777777777778, \"#fb9f3a\"], [0.8888888888888888, \"#fdca26\"], [1.0, \"#f0f921\"]], \"type\": \"contour\"}], \"contourcarpet\": [{\"colorbar\": {\"outlinewidth\": 0, \"ticks\": \"\"}, \"type\": \"contourcarpet\"}], \"heatmap\": [{\"colorbar\": {\"outlinewidth\": 0, \"ticks\": \"\"}, \"colorscale\": [[0.0, \"#0d0887\"], [0.1111111111111111, \"#46039f\"], [0.2222222222222222, \"#7201a8\"], [0.3333333333333333, \"#9c179e\"], [0.4444444444444444, \"#bd3786\"], [0.5555555555555556, \"#d8576b\"], [0.6666666666666666, \"#ed7953\"], [0.7777777777777778, \"#fb9f3a\"], [0.8888888888888888, \"#fdca26\"], [1.0, \"#f0f921\"]], \"type\": \"heatmap\"}], \"heatmapgl\": [{\"colorbar\": {\"outlinewidth\": 0, \"ticks\": \"\"}, \"colorscale\": [[0.0, \"#0d0887\"], [0.1111111111111111, \"#46039f\"], [0.2222222222222222, \"#7201a8\"], [0.3333333333333333, \"#9c179e\"], [0.4444444444444444, \"#bd3786\"], [0.5555555555555556, \"#d8576b\"], [0.6666666666666666, \"#ed7953\"], [0.7777777777777778, \"#fb9f3a\"], [0.8888888888888888, \"#fdca26\"], [1.0, \"#f0f921\"]], \"type\": \"heatmapgl\"}], \"histogram\": [{\"marker\": {\"colorbar\": {\"outlinewidth\": 0, \"ticks\": \"\"}}, \"type\": \"histogram\"}], \"histogram2d\": [{\"colorbar\": {\"outlinewidth\": 0, \"ticks\": \"\"}, \"colorscale\": [[0.0, \"#0d0887\"], [0.1111111111111111, \"#46039f\"], [0.2222222222222222, \"#7201a8\"], [0.3333333333333333, \"#9c179e\"], [0.4444444444444444, \"#bd3786\"], [0.5555555555555556, \"#d8576b\"], [0.6666666666666666, \"#ed7953\"], [0.7777777777777778, \"#fb9f3a\"], [0.8888888888888888, \"#fdca26\"], [1.0, \"#f0f921\"]], \"type\": \"histogram2d\"}], \"histogram2dcontour\": [{\"colorbar\": {\"outlinewidth\": 0, \"ticks\": \"\"}, \"colorscale\": [[0.0, \"#0d0887\"], [0.1111111111111111, \"#46039f\"], [0.2222222222222222, \"#7201a8\"], [0.3333333333333333, \"#9c179e\"], [0.4444444444444444, \"#bd3786\"], [0.5555555555555556, \"#d8576b\"], [0.6666666666666666, \"#ed7953\"], [0.7777777777777778, \"#fb9f3a\"], [0.8888888888888888, \"#fdca26\"], [1.0, \"#f0f921\"]], \"type\": \"histogram2dcontour\"}], \"mesh3d\": [{\"colorbar\": {\"outlinewidth\": 0, \"ticks\": \"\"}, \"type\": \"mesh3d\"}], \"parcoords\": [{\"line\": {\"colorbar\": {\"outlinewidth\": 0, \"ticks\": \"\"}}, \"type\": \"parcoords\"}], \"pie\": [{\"automargin\": true, \"type\": \"pie\"}], \"scatter\": [{\"marker\": {\"colorbar\": {\"outlinewidth\": 0, \"ticks\": \"\"}}, \"type\": \"scatter\"}], \"scatter3d\": [{\"line\": {\"colorbar\": {\"outlinewidth\": 0, \"ticks\": \"\"}}, \"marker\": {\"colorbar\": {\"outlinewidth\": 0, \"ticks\": \"\"}}, \"type\": \"scatter3d\"}], \"scattercarpet\": [{\"marker\": {\"colorbar\": {\"outlinewidth\": 0, \"ticks\": \"\"}}, \"type\": \"scattercarpet\"}], \"scattergeo\": [{\"marker\": {\"colorbar\": {\"outlinewidth\": 0, \"ticks\": \"\"}}, \"type\": \"scattergeo\"}], \"scattergl\": [{\"marker\": {\"colorbar\": {\"outlinewidth\": 0, \"ticks\": \"\"}}, \"type\": \"scattergl\"}], \"scattermapbox\": [{\"marker\": {\"colorbar\": {\"outlinewidth\": 0, \"ticks\": \"\"}}, \"type\": \"scattermapbox\"}], \"scatterpolar\": [{\"marker\": {\"colorbar\": {\"outlinewidth\": 0, \"ticks\": \"\"}}, \"type\": \"scatterpolar\"}], \"scatterpolargl\": [{\"marker\": {\"colorbar\": {\"outlinewidth\": 0, \"ticks\": \"\"}}, \"type\": \"scatterpolargl\"}], \"scatterternary\": [{\"marker\": {\"colorbar\": {\"outlinewidth\": 0, \"ticks\": \"\"}}, \"type\": \"scatterternary\"}], \"surface\": [{\"colorbar\": {\"outlinewidth\": 0, \"ticks\": \"\"}, \"colorscale\": [[0.0, \"#0d0887\"], [0.1111111111111111, \"#46039f\"], [0.2222222222222222, \"#7201a8\"], [0.3333333333333333, \"#9c179e\"], [0.4444444444444444, \"#bd3786\"], [0.5555555555555556, \"#d8576b\"], [0.6666666666666666, \"#ed7953\"], [0.7777777777777778, \"#fb9f3a\"], [0.8888888888888888, \"#fdca26\"], [1.0, \"#f0f921\"]], \"type\": \"surface\"}], \"table\": [{\"cells\": {\"fill\": {\"color\": \"#EBF0F8\"}, \"line\": {\"color\": \"white\"}}, \"header\": {\"fill\": {\"color\": \"#C8D4E3\"}, \"line\": {\"color\": \"white\"}}, \"type\": \"table\"}]}, \"layout\": {\"annotationdefaults\": {\"arrowcolor\": \"#2a3f5f\", \"arrowhead\": 0, \"arrowwidth\": 1}, \"autotypenumbers\": \"strict\", \"coloraxis\": {\"colorbar\": {\"outlinewidth\": 0, \"ticks\": \"\"}}, \"colorscale\": {\"diverging\": [[0, \"#8e0152\"], [0.1, \"#c51b7d\"], [0.2, \"#de77ae\"], [0.3, \"#f1b6da\"], [0.4, \"#fde0ef\"], [0.5, \"#f7f7f7\"], [0.6, \"#e6f5d0\"], [0.7, \"#b8e186\"], [0.8, \"#7fbc41\"], [0.9, \"#4d9221\"], [1, \"#276419\"]], \"sequential\": [[0.0, \"#0d0887\"], [0.1111111111111111, \"#46039f\"], [0.2222222222222222, \"#7201a8\"], [0.3333333333333333, \"#9c179e\"], [0.4444444444444444, \"#bd3786\"], [0.5555555555555556, \"#d8576b\"], [0.6666666666666666, \"#ed7953\"], [0.7777777777777778, \"#fb9f3a\"], [0.8888888888888888, \"#fdca26\"], [1.0, \"#f0f921\"]], \"sequentialminus\": [[0.0, \"#0d0887\"], [0.1111111111111111, \"#46039f\"], [0.2222222222222222, \"#7201a8\"], [0.3333333333333333, \"#9c179e\"], [0.4444444444444444, \"#bd3786\"], [0.5555555555555556, \"#d8576b\"], [0.6666666666666666, \"#ed7953\"], [0.7777777777777778, \"#fb9f3a\"], [0.8888888888888888, \"#fdca26\"], [1.0, \"#f0f921\"]]}, \"colorway\": [\"#636efa\", \"#EF553B\", \"#00cc96\", \"#ab63fa\", \"#FFA15A\", \"#19d3f3\", \"#FF6692\", \"#B6E880\", \"#FF97FF\", \"#FECB52\"], \"font\": {\"color\": \"#2a3f5f\"}, \"geo\": {\"bgcolor\": \"white\", \"lakecolor\": \"white\", \"landcolor\": \"#E5ECF6\", \"showlakes\": true, \"showland\": true, \"subunitcolor\": \"white\"}, \"hoverlabel\": {\"align\": \"left\"}, \"hovermode\": \"closest\", \"mapbox\": {\"style\": \"light\"}, \"paper_bgcolor\": \"white\", \"plot_bgcolor\": \"#E5ECF6\", \"polar\": {\"angularaxis\": {\"gridcolor\": \"white\", \"linecolor\": \"white\", \"ticks\": \"\"}, \"bgcolor\": \"#E5ECF6\", \"radialaxis\": {\"gridcolor\": \"white\", \"linecolor\": \"white\", \"ticks\": \"\"}}, \"scene\": {\"xaxis\": {\"backgroundcolor\": \"#E5ECF6\", \"gridcolor\": \"white\", \"gridwidth\": 2, \"linecolor\": \"white\", \"showbackground\": true, \"ticks\": \"\", \"zerolinecolor\": \"white\"}, \"yaxis\": {\"backgroundcolor\": \"#E5ECF6\", \"gridcolor\": \"white\", \"gridwidth\": 2, \"linecolor\": \"white\", \"showbackground\": true, \"ticks\": \"\", \"zerolinecolor\": \"white\"}, \"zaxis\": {\"backgroundcolor\": \"#E5ECF6\", \"gridcolor\": \"white\", \"gridwidth\": 2, \"linecolor\": \"white\", \"showbackground\": true, \"ticks\": \"\", \"zerolinecolor\": \"white\"}}, \"shapedefaults\": {\"line\": {\"color\": \"#2a3f5f\"}}, \"ternary\": {\"aaxis\": {\"gridcolor\": \"white\", \"linecolor\": \"white\", \"ticks\": \"\"}, \"baxis\": {\"gridcolor\": \"white\", \"linecolor\": \"white\", \"ticks\": \"\"}, \"bgcolor\": \"#E5ECF6\", \"caxis\": {\"gridcolor\": \"white\", \"linecolor\": \"white\", \"ticks\": \"\"}}, \"title\": {\"x\": 0.05}, \"xaxis\": {\"automargin\": true, \"gridcolor\": \"white\", \"linecolor\": \"white\", \"ticks\": \"\", \"title\": {\"standoff\": 15}, \"zerolinecolor\": \"white\", \"zerolinewidth\": 2}, \"yaxis\": {\"automargin\": true, \"gridcolor\": \"white\", \"linecolor\": \"white\", \"ticks\": \"\", \"title\": {\"standoff\": 15}, \"zerolinecolor\": \"white\", \"zerolinewidth\": 2}}}, \"title\": {\"text\": \"Init\"}},                        {\"responsive\": true}                    ).then(function(){\n",
       "                            \n",
       "var gd = document.getElementById('eb0e44b8-0b43-4103-810a-842c4c7e64dc');\n",
       "var x = new MutationObserver(function (mutations, observer) {{\n",
       "        var display = window.getComputedStyle(gd).display;\n",
       "        if (!display || display === 'none') {{\n",
       "            console.log([gd, 'removed!']);\n",
       "            Plotly.purge(gd);\n",
       "            observer.disconnect();\n",
       "        }}\n",
       "}});\n",
       "\n",
       "// Listen for the removal of the full notebook cells\n",
       "var notebookContainer = gd.closest('#notebook-container');\n",
       "if (notebookContainer) {{\n",
       "    x.observe(notebookContainer, {childList: true});\n",
       "}}\n",
       "\n",
       "// Listen for the clearing of the current output cell\n",
       "var outputEl = gd.closest('.output');\n",
       "if (outputEl) {{\n",
       "    x.observe(outputEl, {childList: true});\n",
       "}}\n",
       "\n",
       "                        })                };                });            </script>        </div>"
      ]
     },
     "metadata": {},
     "output_type": "display_data"
    }
   ],
   "source": [
    "import pandas as pd\n",
    "import numpy as np\n",
    "import datetime as dt\n",
    "\n",
    "import findspark\n",
    "findspark.init()\n",
    "import pyspark\n",
    "from pyspark.sql import SparkSession\n",
    "from pyspark.sql.functions import *\n",
    "from pyspark.sql.types import *\n",
    "from pyspark.ml.feature import VectorAssembler, StringIndexer\n",
    "from pyspark.ml.clustering import *\n",
    "from pyspark.ml.evaluation import *\n",
    "from pyspark.ml.tuning import CrossValidator, ParamGridBuilder\n",
    "from pyspark.ml.stat import Correlation\n",
    "from pyspark.ml import Pipeline\n",
    "\n",
    "# iplot won't work because I've not installed the extension\n",
    "import chart_studio.plotly as ply\n",
    "import plotly.offline as plyoff\n",
    "import plotly.graph_objects as go\n",
    "import plotly.subplots as plysub\n",
    "\n",
    "plyoff.init_notebook_mode(connected=True)\n",
    "init = go.Figure(data=[go.Scatter(x=[1,2], y=[42,42])], layout=go.Layout(title='Init'))\n",
    "plyoff.iplot(init)"
   ]
  },
  {
   "cell_type": "code",
   "execution_count": 2,
   "id": "0c365c54",
   "metadata": {},
   "outputs": [
    {
     "name": "stdout",
     "output_type": "stream",
     "text": [
      "1 cores\n"
     ]
    },
    {
     "data": {
      "text/html": [
       "\n",
       "            <div>\n",
       "                <p><b>SparkSession - in-memory</b></p>\n",
       "                \n",
       "        <div>\n",
       "            <p><b>SparkContext</b></p>\n",
       "\n",
       "            <p><a href=\"http://192.168.150.128:4040\">Spark UI</a></p>\n",
       "\n",
       "            <dl>\n",
       "              <dt>Version</dt>\n",
       "                <dd><code>v3.1.1</code></dd>\n",
       "              <dt>Master</dt>\n",
       "                <dd><code>local[*]</code></dd>\n",
       "              <dt>AppName</dt>\n",
       "                <dd><code>gmm</code></dd>\n",
       "            </dl>\n",
       "        </div>\n",
       "        \n",
       "            </div>\n",
       "        "
      ],
      "text/plain": [
       "<pyspark.sql.session.SparkSession at 0x7fe9682f0310>"
      ]
     },
     "execution_count": 2,
     "metadata": {},
     "output_type": "execute_result"
    }
   ],
   "source": [
    "# initialize\n",
    "sc = pyspark.SparkContext()\n",
    "spark = SparkSession(sc)\n",
    "spark.sparkContext.appName = 'gmm'\n",
    "# show the number of cores\n",
    "print('%d cores'%spark._jsc.sc().getExecutorMemoryStatus().keySet().size())\n",
    "spark"
   ]
  },
  {
   "cell_type": "code",
   "execution_count": 20,
   "id": "b238b49d",
   "metadata": {},
   "outputs": [
    {
     "name": "stdout",
     "output_type": "stream",
     "text": [
      "2823 records\n",
      "+-----------+---------------+---------+---------------+-------+---------------+-------+------+--------+-------+-----------+----+-----------+--------------------------+----------+-----------------------------+------------+-------------+--------+----------+---------+---------+---------------+----------------+--------+\n",
      "|ORDERNUMBER|QUANTITYORDERED|PRICEEACH|ORDERLINENUMBER|SALES  |ORDERDATE      |STATUS |QTR_ID|MONTH_ID|YEAR_ID|PRODUCTLINE|MSRP|PRODUCTCODE|CUSTOMERNAME              |PHONE     |ADDRESSLINE1                 |ADDRESSLINE2|CITY         |STATE   |POSTALCODE|COUNTRY  |TERRITORY|CONTACTLASTNAME|CONTACTFIRSTNAME|DEALSIZE|\n",
      "+-----------+---------------+---------+---------------+-------+---------------+-------+------+--------+-------+-----------+----+-----------+--------------------------+----------+-----------------------------+------------+-------------+--------+----------+---------+---------+---------------+----------------+--------+\n",
      "|10107      |30             |95.7     |2              |2871.0 |2/24/2003 0:00 |Shipped|1     |2       |2003   |Motorcycles|95.0|S10_1678   |Land of Toys Inc.         |2125557818|897 Long Airport Avenue      |null        |NYC          |NY      |10022     |USA      |NA       |null           |Kwai            |Small   |\n",
      "|10121      |34             |81.35    |5              |2765.9 |5/7/2003 0:00  |Shipped|2     |5       |2003   |Motorcycles|95.0|S10_1678   |Reims Collectables        |null      |59 rue de l'Abbaye           |null        |Reims        |null    |51100     |France   |EMEA     |null           |Paul            |Small   |\n",
      "|10134      |41             |94.74    |2              |3884.34|7/1/2003 0:00  |Shipped|3     |7       |2003   |Motorcycles|95.0|S10_1678   |Lyon Souveniers           |null      |27 rue du Colonel Pierre Avia|null        |Paris        |null    |75508     |France   |EMEA     |null           |Daniel          |Medium  |\n",
      "|10145      |45             |83.26    |6              |3746.7 |8/25/2003 0:00 |Shipped|3     |8       |2003   |Motorcycles|95.0|S10_1678   |Toys4GrownUps.com         |null      |78934 Hillside Dr.           |null        |Pasadena     |CA      |90003     |USA      |NA       |null           |Julie           |Medium  |\n",
      "|10159      |49             |100.0    |14             |5205.27|10/10/2003 0:00|Shipped|4     |10      |2003   |Motorcycles|95.0|S10_1678   |Corporate Gift Ideas Co.  |null      |7734 Strong St.              |null        |San Francisco|CA      |null      |USA      |NA       |null           |Julie           |Medium  |\n",
      "|10168      |36             |96.66    |1              |3479.76|10/28/2003 0:00|Shipped|4     |10      |2003   |Motorcycles|95.0|S10_1678   |Technics Stores Inc.      |null      |9408 Furth Circle            |null        |Burlingame   |CA      |94217     |USA      |NA       |null           |Juri            |Medium  |\n",
      "|10180      |29             |86.13    |9              |2497.77|11/11/2003 0:00|Shipped|4     |11      |2003   |Motorcycles|95.0|S10_1678   |Daedalus Designs Imports  |null      |184, chausse de Tournai      |null        |Lille        |null    |59000     |France   |EMEA     |null           |Martine         |Small   |\n",
      "|10188      |48             |100.0    |1              |5512.32|11/18/2003 0:00|Shipped|4     |11      |2003   |Motorcycles|95.0|S10_1678   |Herkku Gifts              |null      |Drammen 121, PR 744 Sentrum  |null        |Bergen       |null    |N 5804    |Norway   |EMEA     |null           |Veysel          |Medium  |\n",
      "|10201      |22             |98.57    |2              |2168.54|12/1/2003 0:00 |Shipped|4     |12      |2003   |Motorcycles|95.0|S10_1678   |Mini Wheels Co.           |null      |5557 North Pendale Street    |null        |San Francisco|CA      |null      |USA      |NA       |null           |Julie           |Small   |\n",
      "|10211      |41             |100.0    |14             |4708.44|1/15/2004 0:00 |Shipped|1     |1       |2004   |Motorcycles|95.0|S10_1678   |Auto Canal Petit          |null      |25, rue Lauriston            |null        |Paris        |null    |75016     |France   |EMEA     |null           |Dominique       |Medium  |\n",
      "|10223      |37             |100.0    |1              |3965.66|2/20/2004 0:00 |Shipped|1     |2       |2004   |Motorcycles|95.0|S10_1678   |Australian Collectors, Co.|null      |636 St Kilda Road            |Level 3     |Melbourne    |Victoria|3004      |Australia|APAC     |null           |Peter           |Medium  |\n",
      "|10237      |23             |100.0    |7              |2333.12|4/5/2004 0:00  |Shipped|2     |4       |2004   |Motorcycles|95.0|S10_1678   |Vitachrome Inc.           |2125551500|2678 Kingston Rd.            |Suite 101   |NYC          |NY      |10022     |USA      |NA       |null           |Michael         |Small   |\n",
      "|10251      |28             |100.0    |2              |3188.64|5/18/2004 0:00 |Shipped|2     |5       |2004   |Motorcycles|95.0|S10_1678   |Tekni Collectables Inc.   |2015559350|7476 Moss Rd.                |null        |Newark       |NJ      |94019     |USA      |NA       |null           |William         |Medium  |\n",
      "|10263      |34             |100.0    |2              |3676.76|6/28/2004 0:00 |Shipped|2     |6       |2004   |Motorcycles|95.0|S10_1678   |Gift Depot Inc.           |2035552570|25593 South Bay Ln.          |null        |Bridgewater  |CT      |97562     |USA      |NA       |null           |Julie           |Medium  |\n",
      "|10275      |45             |92.83    |1              |4177.35|7/23/2004 0:00 |Shipped|3     |7       |2004   |Motorcycles|95.0|S10_1678   |La Rochelle Gifts         |null      |67, rue des Cinquante Otages |null        |Nantes       |null    |44000     |France   |EMEA     |null           |Janine          |Medium  |\n",
      "|10285      |36             |100.0    |6              |4099.68|8/27/2004 0:00 |Shipped|3     |8       |2004   |Motorcycles|95.0|S10_1678   |Marta's Replicas Co.      |null      |39323 Spinnaker Dr.          |null        |Cambridge    |MA      |51247     |USA      |NA       |null           |Marta           |Medium  |\n",
      "|10299      |23             |100.0    |9              |2597.39|9/30/2004 0:00 |Shipped|3     |9       |2004   |Motorcycles|95.0|S10_1678   |Toys of Finland, Co.      |null      |Keskuskatu 45                |null        |Helsinki     |null    |21240     |Finland  |EMEA     |null           |Matti           |Small   |\n",
      "|10309      |41             |100.0    |5              |4394.38|10/15/2004 0:00|Shipped|4     |10      |2004   |Motorcycles|95.0|S10_1678   |Baane Mini Imports        |null      |Erling Skakkes gate 78       |null        |Stavern      |null    |4110      |Norway   |EMEA     |null           |Jonas           |Medium  |\n",
      "|10318      |46             |94.74    |1              |4358.04|11/2/2004 0:00 |Shipped|4     |11      |2004   |Motorcycles|95.0|S10_1678   |Diecast Classics Inc.     |null      |7586 Pompton St.             |null        |Allentown    |PA      |70267     |USA      |NA       |null           |Kyung           |Medium  |\n",
      "|10329      |42             |100.0    |1              |4396.14|11/15/2004 0:00|Shipped|4     |11      |2004   |Motorcycles|95.0|S10_1678   |Land of Toys Inc.         |2125557818|897 Long Airport Avenue      |null        |NYC          |NY      |10022     |USA      |NA       |null           |Kwai            |Medium  |\n",
      "+-----------+---------------+---------+---------------+-------+---------------+-------+------+--------+-------+-----------+----+-----------+--------------------------+----------+-----------------------------+------------+-------------+--------+----------+---------+---------+---------------+----------------+--------+\n",
      "only showing top 20 rows\n",
      "\n"
     ]
    }
   ],
   "source": [
    "''' get the data '''\n",
    "# load the data - can't parse the timestamp for some reason, so just let it be string\n",
    "fil = '../data/sales_data_sample.csv'\n",
    "schem = StructType([StructField('ORDERNUMBER', IntegerType()), StructField('QUANTITYORDERED', IntegerType()),\n",
    "                    StructField('PRICEEACH', FloatType()), StructField('ORDERLINENUMBER', IntegerType()),\n",
    "                    StructField('SALES', FloatType()), StructField('ORDERDATE', StringType()),# TimestampType()),\n",
    "                    StructField('STATUS', StringType()), StructField('QTR_ID', IntegerType()),\n",
    "                    StructField('MONTH_ID', IntegerType()), StructField('YEAR_ID', IntegerType()),\n",
    "                    StructField('PRODUCTLINE', StringType()), StructField('MSRP', FloatType()),\n",
    "                    StructField('PRODUCTCODE', StringType()), StructField('CUSTOMERNAME', StringType()),\n",
    "                    StructField('PHONE', IntegerType()), StructField('ADDRESSLINE1', StringType()),\n",
    "                    StructField('ADDRESSLINE2', StringType()), StructField('CITY', StringType()),\n",
    "                    StructField('STATE', StringType()), StructField('POSTALCODE', StringType()),\n",
    "                    StructField('COUNTRY', StringType()), StructField('TERRITORY', StringType()),\n",
    "                    StructField('CONTACTLASTNAME', FloatType()), StructField('CONTACTFIRSTNAME', StringType()),\n",
    "                    StructField('DEALSIZE', StringType())])\n",
    "sales = spark.read.format('csv').options(header=True, timestampFormat='M/d/yyyy HH:MM').schema(schem).load(fil)\n",
    "\n",
    "# talk\n",
    "cnt = sales.count()\n",
    "print('%d records'%cnt)\n",
    "sales.show(truncate=False)"
   ]
  },
  {
   "cell_type": "code",
   "execution_count": 36,
   "id": "7c151dfb-5ca0-48a1-ad2f-20278e556e52",
   "metadata": {},
   "outputs": [
    {
     "data": {
      "text/html": [
       "<div>\n",
       "<style scoped>\n",
       "    .dataframe tbody tr th:only-of-type {\n",
       "        vertical-align: middle;\n",
       "    }\n",
       "\n",
       "    .dataframe tbody tr th {\n",
       "        vertical-align: top;\n",
       "    }\n",
       "\n",
       "    .dataframe thead th {\n",
       "        text-align: right;\n",
       "    }\n",
       "</style>\n",
       "<table border=\"1\" class=\"dataframe\">\n",
       "  <thead>\n",
       "    <tr style=\"text-align: right;\">\n",
       "      <th></th>\n",
       "      <th>ORDERNUMBER</th>\n",
       "      <th>QUANTITYORDERED</th>\n",
       "      <th>PRICEEACH</th>\n",
       "      <th>ORDERLINENUMBER</th>\n",
       "      <th>SALES</th>\n",
       "      <th>STATUS</th>\n",
       "      <th>QTR_ID</th>\n",
       "      <th>MONTH_ID</th>\n",
       "      <th>YEAR_ID</th>\n",
       "      <th>PRODUCTLINE</th>\n",
       "      <th>...</th>\n",
       "      <th>TERRITORY</th>\n",
       "      <th>DEALSIZE</th>\n",
       "      <th>STATUS_str</th>\n",
       "      <th>PRODUCTCODE_str</th>\n",
       "      <th>STATE_str</th>\n",
       "      <th>COUNTRY_str</th>\n",
       "      <th>POSTALCODE_str</th>\n",
       "      <th>DEALSIZE_str</th>\n",
       "      <th>TERRITORY_str</th>\n",
       "      <th>PRODUCTLINE_str</th>\n",
       "    </tr>\n",
       "  </thead>\n",
       "  <tbody>\n",
       "    <tr>\n",
       "      <th>0</th>\n",
       "      <td>10159</td>\n",
       "      <td>50</td>\n",
       "      <td>69.800003</td>\n",
       "      <td>1</td>\n",
       "      <td>3490.000000</td>\n",
       "      <td>Shipped</td>\n",
       "      <td>4</td>\n",
       "      <td>10</td>\n",
       "      <td>2003</td>\n",
       "      <td>Classic Cars</td>\n",
       "      <td>...</td>\n",
       "      <td>NA</td>\n",
       "      <td>Medium</td>\n",
       "      <td>0.0</td>\n",
       "      <td>56.0</td>\n",
       "      <td>1.0</td>\n",
       "      <td>0.0</td>\n",
       "      <td>4.0</td>\n",
       "      <td>0.0</td>\n",
       "      <td>1.0</td>\n",
       "      <td>0.0</td>\n",
       "    </tr>\n",
       "    <tr>\n",
       "      <th>1</th>\n",
       "      <td>10159</td>\n",
       "      <td>41</td>\n",
       "      <td>100.000000</td>\n",
       "      <td>2</td>\n",
       "      <td>8296.349609</td>\n",
       "      <td>Shipped</td>\n",
       "      <td>4</td>\n",
       "      <td>10</td>\n",
       "      <td>2003</td>\n",
       "      <td>Classic Cars</td>\n",
       "      <td>...</td>\n",
       "      <td>NA</td>\n",
       "      <td>Large</td>\n",
       "      <td>0.0</td>\n",
       "      <td>69.0</td>\n",
       "      <td>1.0</td>\n",
       "      <td>0.0</td>\n",
       "      <td>4.0</td>\n",
       "      <td>2.0</td>\n",
       "      <td>1.0</td>\n",
       "      <td>0.0</td>\n",
       "    </tr>\n",
       "    <tr>\n",
       "      <th>2</th>\n",
       "      <td>10159</td>\n",
       "      <td>24</td>\n",
       "      <td>73.419998</td>\n",
       "      <td>3</td>\n",
       "      <td>1762.079956</td>\n",
       "      <td>Shipped</td>\n",
       "      <td>4</td>\n",
       "      <td>10</td>\n",
       "      <td>2003</td>\n",
       "      <td>Classic Cars</td>\n",
       "      <td>...</td>\n",
       "      <td>NA</td>\n",
       "      <td>Small</td>\n",
       "      <td>0.0</td>\n",
       "      <td>72.0</td>\n",
       "      <td>1.0</td>\n",
       "      <td>0.0</td>\n",
       "      <td>4.0</td>\n",
       "      <td>1.0</td>\n",
       "      <td>1.0</td>\n",
       "      <td>0.0</td>\n",
       "    </tr>\n",
       "    <tr>\n",
       "      <th>3</th>\n",
       "      <td>10159</td>\n",
       "      <td>25</td>\n",
       "      <td>100.000000</td>\n",
       "      <td>4</td>\n",
       "      <td>3638.000000</td>\n",
       "      <td>Shipped</td>\n",
       "      <td>4</td>\n",
       "      <td>10</td>\n",
       "      <td>2003</td>\n",
       "      <td>Classic Cars</td>\n",
       "      <td>...</td>\n",
       "      <td>NA</td>\n",
       "      <td>Medium</td>\n",
       "      <td>0.0</td>\n",
       "      <td>78.0</td>\n",
       "      <td>1.0</td>\n",
       "      <td>0.0</td>\n",
       "      <td>4.0</td>\n",
       "      <td>0.0</td>\n",
       "      <td>1.0</td>\n",
       "      <td>0.0</td>\n",
       "    </tr>\n",
       "    <tr>\n",
       "      <th>4</th>\n",
       "      <td>10159</td>\n",
       "      <td>21</td>\n",
       "      <td>81.209999</td>\n",
       "      <td>5</td>\n",
       "      <td>1705.410034</td>\n",
       "      <td>Shipped</td>\n",
       "      <td>4</td>\n",
       "      <td>10</td>\n",
       "      <td>2003</td>\n",
       "      <td>Classic Cars</td>\n",
       "      <td>...</td>\n",
       "      <td>NA</td>\n",
       "      <td>Small</td>\n",
       "      <td>0.0</td>\n",
       "      <td>90.0</td>\n",
       "      <td>1.0</td>\n",
       "      <td>0.0</td>\n",
       "      <td>4.0</td>\n",
       "      <td>1.0</td>\n",
       "      <td>1.0</td>\n",
       "      <td>0.0</td>\n",
       "    </tr>\n",
       "    <tr>\n",
       "      <th>5</th>\n",
       "      <td>10159</td>\n",
       "      <td>23</td>\n",
       "      <td>67.099998</td>\n",
       "      <td>6</td>\n",
       "      <td>1543.300049</td>\n",
       "      <td>Shipped</td>\n",
       "      <td>4</td>\n",
       "      <td>10</td>\n",
       "      <td>2003</td>\n",
       "      <td>Classic Cars</td>\n",
       "      <td>...</td>\n",
       "      <td>NA</td>\n",
       "      <td>Small</td>\n",
       "      <td>0.0</td>\n",
       "      <td>94.0</td>\n",
       "      <td>1.0</td>\n",
       "      <td>0.0</td>\n",
       "      <td>4.0</td>\n",
       "      <td>1.0</td>\n",
       "      <td>1.0</td>\n",
       "      <td>0.0</td>\n",
       "    </tr>\n",
       "    <tr>\n",
       "      <th>6</th>\n",
       "      <td>10159</td>\n",
       "      <td>32</td>\n",
       "      <td>100.000000</td>\n",
       "      <td>7</td>\n",
       "      <td>4618.879883</td>\n",
       "      <td>Shipped</td>\n",
       "      <td>4</td>\n",
       "      <td>10</td>\n",
       "      <td>2003</td>\n",
       "      <td>Classic Cars</td>\n",
       "      <td>...</td>\n",
       "      <td>NA</td>\n",
       "      <td>Medium</td>\n",
       "      <td>0.0</td>\n",
       "      <td>91.0</td>\n",
       "      <td>1.0</td>\n",
       "      <td>0.0</td>\n",
       "      <td>4.0</td>\n",
       "      <td>0.0</td>\n",
       "      <td>1.0</td>\n",
       "      <td>0.0</td>\n",
       "    </tr>\n",
       "    <tr>\n",
       "      <th>7</th>\n",
       "      <td>10159</td>\n",
       "      <td>21</td>\n",
       "      <td>64.660004</td>\n",
       "      <td>8</td>\n",
       "      <td>1357.859985</td>\n",
       "      <td>Shipped</td>\n",
       "      <td>4</td>\n",
       "      <td>10</td>\n",
       "      <td>2003</td>\n",
       "      <td>Motorcycles</td>\n",
       "      <td>...</td>\n",
       "      <td>NA</td>\n",
       "      <td>Small</td>\n",
       "      <td>0.0</td>\n",
       "      <td>80.0</td>\n",
       "      <td>1.0</td>\n",
       "      <td>0.0</td>\n",
       "      <td>4.0</td>\n",
       "      <td>1.0</td>\n",
       "      <td>1.0</td>\n",
       "      <td>2.0</td>\n",
       "    </tr>\n",
       "    <tr>\n",
       "      <th>8</th>\n",
       "      <td>10159</td>\n",
       "      <td>35</td>\n",
       "      <td>35.400002</td>\n",
       "      <td>9</td>\n",
       "      <td>1239.000000</td>\n",
       "      <td>Shipped</td>\n",
       "      <td>4</td>\n",
       "      <td>10</td>\n",
       "      <td>2003</td>\n",
       "      <td>Motorcycles</td>\n",
       "      <td>...</td>\n",
       "      <td>NA</td>\n",
       "      <td>Small</td>\n",
       "      <td>0.0</td>\n",
       "      <td>84.0</td>\n",
       "      <td>1.0</td>\n",
       "      <td>0.0</td>\n",
       "      <td>4.0</td>\n",
       "      <td>1.0</td>\n",
       "      <td>1.0</td>\n",
       "      <td>2.0</td>\n",
       "    </tr>\n",
       "    <tr>\n",
       "      <th>9</th>\n",
       "      <td>10159</td>\n",
       "      <td>31</td>\n",
       "      <td>71.599998</td>\n",
       "      <td>10</td>\n",
       "      <td>2219.600098</td>\n",
       "      <td>Shipped</td>\n",
       "      <td>4</td>\n",
       "      <td>10</td>\n",
       "      <td>2003</td>\n",
       "      <td>Motorcycles</td>\n",
       "      <td>...</td>\n",
       "      <td>NA</td>\n",
       "      <td>Small</td>\n",
       "      <td>0.0</td>\n",
       "      <td>86.0</td>\n",
       "      <td>1.0</td>\n",
       "      <td>0.0</td>\n",
       "      <td>4.0</td>\n",
       "      <td>1.0</td>\n",
       "      <td>1.0</td>\n",
       "      <td>2.0</td>\n",
       "    </tr>\n",
       "    <tr>\n",
       "      <th>10</th>\n",
       "      <td>10159</td>\n",
       "      <td>27</td>\n",
       "      <td>80.339996</td>\n",
       "      <td>11</td>\n",
       "      <td>2169.179932</td>\n",
       "      <td>Shipped</td>\n",
       "      <td>4</td>\n",
       "      <td>10</td>\n",
       "      <td>2003</td>\n",
       "      <td>Motorcycles</td>\n",
       "      <td>...</td>\n",
       "      <td>NA</td>\n",
       "      <td>Small</td>\n",
       "      <td>0.0</td>\n",
       "      <td>83.0</td>\n",
       "      <td>1.0</td>\n",
       "      <td>0.0</td>\n",
       "      <td>4.0</td>\n",
       "      <td>1.0</td>\n",
       "      <td>1.0</td>\n",
       "      <td>2.0</td>\n",
       "    </tr>\n",
       "    <tr>\n",
       "      <th>11</th>\n",
       "      <td>10159</td>\n",
       "      <td>23</td>\n",
       "      <td>100.000000</td>\n",
       "      <td>12</td>\n",
       "      <td>2347.149902</td>\n",
       "      <td>Shipped</td>\n",
       "      <td>4</td>\n",
       "      <td>10</td>\n",
       "      <td>2003</td>\n",
       "      <td>Motorcycles</td>\n",
       "      <td>...</td>\n",
       "      <td>NA</td>\n",
       "      <td>Small</td>\n",
       "      <td>0.0</td>\n",
       "      <td>85.0</td>\n",
       "      <td>1.0</td>\n",
       "      <td>0.0</td>\n",
       "      <td>4.0</td>\n",
       "      <td>1.0</td>\n",
       "      <td>1.0</td>\n",
       "      <td>2.0</td>\n",
       "    </tr>\n",
       "    <tr>\n",
       "      <th>12</th>\n",
       "      <td>10159</td>\n",
       "      <td>38</td>\n",
       "      <td>100.000000</td>\n",
       "      <td>13</td>\n",
       "      <td>6238.839844</td>\n",
       "      <td>Shipped</td>\n",
       "      <td>4</td>\n",
       "      <td>10</td>\n",
       "      <td>2003</td>\n",
       "      <td>Motorcycles</td>\n",
       "      <td>...</td>\n",
       "      <td>NA</td>\n",
       "      <td>Medium</td>\n",
       "      <td>0.0</td>\n",
       "      <td>36.0</td>\n",
       "      <td>1.0</td>\n",
       "      <td>0.0</td>\n",
       "      <td>4.0</td>\n",
       "      <td>0.0</td>\n",
       "      <td>1.0</td>\n",
       "      <td>2.0</td>\n",
       "    </tr>\n",
       "    <tr>\n",
       "      <th>13</th>\n",
       "      <td>10159</td>\n",
       "      <td>49</td>\n",
       "      <td>100.000000</td>\n",
       "      <td>14</td>\n",
       "      <td>5205.270020</td>\n",
       "      <td>Shipped</td>\n",
       "      <td>4</td>\n",
       "      <td>10</td>\n",
       "      <td>2003</td>\n",
       "      <td>Motorcycles</td>\n",
       "      <td>...</td>\n",
       "      <td>NA</td>\n",
       "      <td>Medium</td>\n",
       "      <td>0.0</td>\n",
       "      <td>32.0</td>\n",
       "      <td>1.0</td>\n",
       "      <td>0.0</td>\n",
       "      <td>4.0</td>\n",
       "      <td>0.0</td>\n",
       "      <td>1.0</td>\n",
       "      <td>2.0</td>\n",
       "    </tr>\n",
       "    <tr>\n",
       "      <th>14</th>\n",
       "      <td>10159</td>\n",
       "      <td>44</td>\n",
       "      <td>100.000000</td>\n",
       "      <td>15</td>\n",
       "      <td>5355.680176</td>\n",
       "      <td>Shipped</td>\n",
       "      <td>4</td>\n",
       "      <td>10</td>\n",
       "      <td>2003</td>\n",
       "      <td>Motorcycles</td>\n",
       "      <td>...</td>\n",
       "      <td>NA</td>\n",
       "      <td>Medium</td>\n",
       "      <td>0.0</td>\n",
       "      <td>51.0</td>\n",
       "      <td>1.0</td>\n",
       "      <td>0.0</td>\n",
       "      <td>4.0</td>\n",
       "      <td>0.0</td>\n",
       "      <td>1.0</td>\n",
       "      <td>2.0</td>\n",
       "    </tr>\n",
       "    <tr>\n",
       "      <th>15</th>\n",
       "      <td>10159</td>\n",
       "      <td>22</td>\n",
       "      <td>100.000000</td>\n",
       "      <td>16</td>\n",
       "      <td>4132.700195</td>\n",
       "      <td>Shipped</td>\n",
       "      <td>4</td>\n",
       "      <td>10</td>\n",
       "      <td>2003</td>\n",
       "      <td>Motorcycles</td>\n",
       "      <td>...</td>\n",
       "      <td>NA</td>\n",
       "      <td>Medium</td>\n",
       "      <td>0.0</td>\n",
       "      <td>34.0</td>\n",
       "      <td>1.0</td>\n",
       "      <td>0.0</td>\n",
       "      <td>4.0</td>\n",
       "      <td>0.0</td>\n",
       "      <td>1.0</td>\n",
       "      <td>2.0</td>\n",
       "    </tr>\n",
       "    <tr>\n",
       "      <th>16</th>\n",
       "      <td>10159</td>\n",
       "      <td>37</td>\n",
       "      <td>100.000000</td>\n",
       "      <td>17</td>\n",
       "      <td>5016.830078</td>\n",
       "      <td>Shipped</td>\n",
       "      <td>4</td>\n",
       "      <td>10</td>\n",
       "      <td>2003</td>\n",
       "      <td>Motorcycles</td>\n",
       "      <td>...</td>\n",
       "      <td>NA</td>\n",
       "      <td>Medium</td>\n",
       "      <td>0.0</td>\n",
       "      <td>33.0</td>\n",
       "      <td>1.0</td>\n",
       "      <td>0.0</td>\n",
       "      <td>4.0</td>\n",
       "      <td>0.0</td>\n",
       "      <td>1.0</td>\n",
       "      <td>2.0</td>\n",
       "    </tr>\n",
       "    <tr>\n",
       "      <th>17</th>\n",
       "      <td>10159</td>\n",
       "      <td>42</td>\n",
       "      <td>51.480000</td>\n",
       "      <td>18</td>\n",
       "      <td>2162.159912</td>\n",
       "      <td>Shipped</td>\n",
       "      <td>4</td>\n",
       "      <td>10</td>\n",
       "      <td>2003</td>\n",
       "      <td>Motorcycles</td>\n",
       "      <td>...</td>\n",
       "      <td>NA</td>\n",
       "      <td>Small</td>\n",
       "      <td>0.0</td>\n",
       "      <td>44.0</td>\n",
       "      <td>1.0</td>\n",
       "      <td>0.0</td>\n",
       "      <td>4.0</td>\n",
       "      <td>1.0</td>\n",
       "      <td>1.0</td>\n",
       "      <td>2.0</td>\n",
       "    </tr>\n",
       "  </tbody>\n",
       "</table>\n",
       "<p>18 rows × 27 columns</p>\n",
       "</div>"
      ],
      "text/plain": [
       "    ORDERNUMBER  QUANTITYORDERED   PRICEEACH  ORDERLINENUMBER        SALES  \\\n",
       "0         10159               50   69.800003                1  3490.000000   \n",
       "1         10159               41  100.000000                2  8296.349609   \n",
       "2         10159               24   73.419998                3  1762.079956   \n",
       "3         10159               25  100.000000                4  3638.000000   \n",
       "4         10159               21   81.209999                5  1705.410034   \n",
       "5         10159               23   67.099998                6  1543.300049   \n",
       "6         10159               32  100.000000                7  4618.879883   \n",
       "7         10159               21   64.660004                8  1357.859985   \n",
       "8         10159               35   35.400002                9  1239.000000   \n",
       "9         10159               31   71.599998               10  2219.600098   \n",
       "10        10159               27   80.339996               11  2169.179932   \n",
       "11        10159               23  100.000000               12  2347.149902   \n",
       "12        10159               38  100.000000               13  6238.839844   \n",
       "13        10159               49  100.000000               14  5205.270020   \n",
       "14        10159               44  100.000000               15  5355.680176   \n",
       "15        10159               22  100.000000               16  4132.700195   \n",
       "16        10159               37  100.000000               17  5016.830078   \n",
       "17        10159               42   51.480000               18  2162.159912   \n",
       "\n",
       "     STATUS  QTR_ID  MONTH_ID  YEAR_ID   PRODUCTLINE  ...  TERRITORY DEALSIZE  \\\n",
       "0   Shipped       4        10     2003  Classic Cars  ...         NA   Medium   \n",
       "1   Shipped       4        10     2003  Classic Cars  ...         NA    Large   \n",
       "2   Shipped       4        10     2003  Classic Cars  ...         NA    Small   \n",
       "3   Shipped       4        10     2003  Classic Cars  ...         NA   Medium   \n",
       "4   Shipped       4        10     2003  Classic Cars  ...         NA    Small   \n",
       "5   Shipped       4        10     2003  Classic Cars  ...         NA    Small   \n",
       "6   Shipped       4        10     2003  Classic Cars  ...         NA   Medium   \n",
       "7   Shipped       4        10     2003   Motorcycles  ...         NA    Small   \n",
       "8   Shipped       4        10     2003   Motorcycles  ...         NA    Small   \n",
       "9   Shipped       4        10     2003   Motorcycles  ...         NA    Small   \n",
       "10  Shipped       4        10     2003   Motorcycles  ...         NA    Small   \n",
       "11  Shipped       4        10     2003   Motorcycles  ...         NA    Small   \n",
       "12  Shipped       4        10     2003   Motorcycles  ...         NA   Medium   \n",
       "13  Shipped       4        10     2003   Motorcycles  ...         NA   Medium   \n",
       "14  Shipped       4        10     2003   Motorcycles  ...         NA   Medium   \n",
       "15  Shipped       4        10     2003   Motorcycles  ...         NA   Medium   \n",
       "16  Shipped       4        10     2003   Motorcycles  ...         NA   Medium   \n",
       "17  Shipped       4        10     2003   Motorcycles  ...         NA    Small   \n",
       "\n",
       "    STATUS_str PRODUCTCODE_str STATE_str COUNTRY_str POSTALCODE_str  \\\n",
       "0          0.0            56.0       1.0         0.0            4.0   \n",
       "1          0.0            69.0       1.0         0.0            4.0   \n",
       "2          0.0            72.0       1.0         0.0            4.0   \n",
       "3          0.0            78.0       1.0         0.0            4.0   \n",
       "4          0.0            90.0       1.0         0.0            4.0   \n",
       "5          0.0            94.0       1.0         0.0            4.0   \n",
       "6          0.0            91.0       1.0         0.0            4.0   \n",
       "7          0.0            80.0       1.0         0.0            4.0   \n",
       "8          0.0            84.0       1.0         0.0            4.0   \n",
       "9          0.0            86.0       1.0         0.0            4.0   \n",
       "10         0.0            83.0       1.0         0.0            4.0   \n",
       "11         0.0            85.0       1.0         0.0            4.0   \n",
       "12         0.0            36.0       1.0         0.0            4.0   \n",
       "13         0.0            32.0       1.0         0.0            4.0   \n",
       "14         0.0            51.0       1.0         0.0            4.0   \n",
       "15         0.0            34.0       1.0         0.0            4.0   \n",
       "16         0.0            33.0       1.0         0.0            4.0   \n",
       "17         0.0            44.0       1.0         0.0            4.0   \n",
       "\n",
       "   DEALSIZE_str TERRITORY_str  PRODUCTLINE_str  \n",
       "0           0.0           1.0              0.0  \n",
       "1           2.0           1.0              0.0  \n",
       "2           1.0           1.0              0.0  \n",
       "3           0.0           1.0              0.0  \n",
       "4           1.0           1.0              0.0  \n",
       "5           1.0           1.0              0.0  \n",
       "6           0.0           1.0              0.0  \n",
       "7           1.0           1.0              2.0  \n",
       "8           1.0           1.0              2.0  \n",
       "9           1.0           1.0              2.0  \n",
       "10          1.0           1.0              2.0  \n",
       "11          1.0           1.0              2.0  \n",
       "12          0.0           1.0              2.0  \n",
       "13          0.0           1.0              2.0  \n",
       "14          0.0           1.0              2.0  \n",
       "15          0.0           1.0              2.0  \n",
       "16          0.0           1.0              2.0  \n",
       "17          1.0           1.0              2.0  \n",
       "\n",
       "[18 rows x 27 columns]"
      ]
     },
     "metadata": {},
     "output_type": "display_data"
    }
   ],
   "source": [
    "# check out an order - will need to aggregate the data by orderid\n",
    "display(sales.where(col('ORDERNUMBER')==10159).orderBy(col('ORDERLINENUMBER')).toPandas())"
   ]
  },
  {
   "cell_type": "markdown",
   "id": "6e099cfe-d4ff-487c-8969-626e2f2f9f9c",
   "metadata": {},
   "source": [
    "### Data Prep"
   ]
  },
  {
   "cell_type": "code",
   "execution_count": 21,
   "id": "beceae02-9a07-4b7b-8974-674ed1017f03",
   "metadata": {},
   "outputs": [],
   "source": [
    "# drop some columns that I have no doubt will not be useful for modeling\n",
    "sales = sales.drop('CONTACTLASTNAME', 'ADDRESSLINE2', 'CUSTOMERNAME', 'CONTACTFIRSTNAME', 'ADDRESSLINE1', 'ORDERDATE')"
   ]
  },
  {
   "cell_type": "code",
   "execution_count": 30,
   "id": "a6b443b6-ca5e-4629-9aec-a3ce22320110",
   "metadata": {},
   "outputs": [
    {
     "data": {
      "text/html": [
       "<div>\n",
       "<style scoped>\n",
       "    .dataframe tbody tr th:only-of-type {\n",
       "        vertical-align: middle;\n",
       "    }\n",
       "\n",
       "    .dataframe tbody tr th {\n",
       "        vertical-align: top;\n",
       "    }\n",
       "\n",
       "    .dataframe thead th {\n",
       "        text-align: right;\n",
       "    }\n",
       "</style>\n",
       "<table border=\"1\" class=\"dataframe\">\n",
       "  <thead>\n",
       "    <tr style=\"text-align: right;\">\n",
       "      <th></th>\n",
       "      <th>Column</th>\n",
       "      <th>Freq.</th>\n",
       "      <th>Rel. Freq.</th>\n",
       "      <th>Type</th>\n",
       "      <th>Important</th>\n",
       "    </tr>\n",
       "  </thead>\n",
       "  <tbody>\n",
       "    <tr>\n",
       "      <th>0</th>\n",
       "      <td>PHONE</td>\n",
       "      <td>2589.0</td>\n",
       "      <td>0.917109</td>\n",
       "      <td>IntegerType</td>\n",
       "      <td>False</td>\n",
       "    </tr>\n",
       "    <tr>\n",
       "      <th>1</th>\n",
       "      <td>STATE</td>\n",
       "      <td>1486.0</td>\n",
       "      <td>0.526390</td>\n",
       "      <td>StringType</td>\n",
       "      <td>True</td>\n",
       "    </tr>\n",
       "    <tr>\n",
       "      <th>2</th>\n",
       "      <td>POSTALCODE</td>\n",
       "      <td>76.0</td>\n",
       "      <td>0.026922</td>\n",
       "      <td>StringType</td>\n",
       "      <td>True</td>\n",
       "    </tr>\n",
       "    <tr>\n",
       "      <th>3</th>\n",
       "      <td>ORDERNUMBER</td>\n",
       "      <td>0.0</td>\n",
       "      <td>0.000000</td>\n",
       "      <td>IntegerType</td>\n",
       "      <td>True</td>\n",
       "    </tr>\n",
       "    <tr>\n",
       "      <th>4</th>\n",
       "      <td>MSRP</td>\n",
       "      <td>0.0</td>\n",
       "      <td>0.000000</td>\n",
       "      <td>FloatType</td>\n",
       "      <td>True</td>\n",
       "    </tr>\n",
       "    <tr>\n",
       "      <th>5</th>\n",
       "      <td>TERRITORY</td>\n",
       "      <td>0.0</td>\n",
       "      <td>0.000000</td>\n",
       "      <td>StringType</td>\n",
       "      <td>True</td>\n",
       "    </tr>\n",
       "    <tr>\n",
       "      <th>6</th>\n",
       "      <td>COUNTRY</td>\n",
       "      <td>0.0</td>\n",
       "      <td>0.000000</td>\n",
       "      <td>StringType</td>\n",
       "      <td>True</td>\n",
       "    </tr>\n",
       "    <tr>\n",
       "      <th>7</th>\n",
       "      <td>CITY</td>\n",
       "      <td>0.0</td>\n",
       "      <td>0.000000</td>\n",
       "      <td>StringType</td>\n",
       "      <td>True</td>\n",
       "    </tr>\n",
       "    <tr>\n",
       "      <th>8</th>\n",
       "      <td>PRODUCTCODE</td>\n",
       "      <td>0.0</td>\n",
       "      <td>0.000000</td>\n",
       "      <td>StringType</td>\n",
       "      <td>True</td>\n",
       "    </tr>\n",
       "    <tr>\n",
       "      <th>9</th>\n",
       "      <td>PRODUCTLINE</td>\n",
       "      <td>0.0</td>\n",
       "      <td>0.000000</td>\n",
       "      <td>StringType</td>\n",
       "      <td>True</td>\n",
       "    </tr>\n",
       "    <tr>\n",
       "      <th>10</th>\n",
       "      <td>QUANTITYORDERED</td>\n",
       "      <td>0.0</td>\n",
       "      <td>0.000000</td>\n",
       "      <td>IntegerType</td>\n",
       "      <td>True</td>\n",
       "    </tr>\n",
       "    <tr>\n",
       "      <th>11</th>\n",
       "      <td>YEAR_ID</td>\n",
       "      <td>0.0</td>\n",
       "      <td>0.000000</td>\n",
       "      <td>IntegerType</td>\n",
       "      <td>True</td>\n",
       "    </tr>\n",
       "    <tr>\n",
       "      <th>12</th>\n",
       "      <td>MONTH_ID</td>\n",
       "      <td>0.0</td>\n",
       "      <td>0.000000</td>\n",
       "      <td>IntegerType</td>\n",
       "      <td>True</td>\n",
       "    </tr>\n",
       "    <tr>\n",
       "      <th>13</th>\n",
       "      <td>QTR_ID</td>\n",
       "      <td>0.0</td>\n",
       "      <td>0.000000</td>\n",
       "      <td>IntegerType</td>\n",
       "      <td>True</td>\n",
       "    </tr>\n",
       "    <tr>\n",
       "      <th>14</th>\n",
       "      <td>STATUS</td>\n",
       "      <td>0.0</td>\n",
       "      <td>0.000000</td>\n",
       "      <td>StringType</td>\n",
       "      <td>True</td>\n",
       "    </tr>\n",
       "    <tr>\n",
       "      <th>15</th>\n",
       "      <td>SALES</td>\n",
       "      <td>0.0</td>\n",
       "      <td>0.000000</td>\n",
       "      <td>FloatType</td>\n",
       "      <td>True</td>\n",
       "    </tr>\n",
       "    <tr>\n",
       "      <th>16</th>\n",
       "      <td>ORDERLINENUMBER</td>\n",
       "      <td>0.0</td>\n",
       "      <td>0.000000</td>\n",
       "      <td>IntegerType</td>\n",
       "      <td>True</td>\n",
       "    </tr>\n",
       "    <tr>\n",
       "      <th>17</th>\n",
       "      <td>PRICEEACH</td>\n",
       "      <td>0.0</td>\n",
       "      <td>0.000000</td>\n",
       "      <td>FloatType</td>\n",
       "      <td>True</td>\n",
       "    </tr>\n",
       "    <tr>\n",
       "      <th>18</th>\n",
       "      <td>DEALSIZE</td>\n",
       "      <td>0.0</td>\n",
       "      <td>0.000000</td>\n",
       "      <td>StringType</td>\n",
       "      <td>True</td>\n",
       "    </tr>\n",
       "  </tbody>\n",
       "</table>\n",
       "</div>"
      ],
      "text/plain": [
       "             Column   Freq.  Rel. Freq.         Type  Important\n",
       "0             PHONE  2589.0    0.917109  IntegerType      False\n",
       "1             STATE  1486.0    0.526390   StringType       True\n",
       "2        POSTALCODE    76.0    0.026922   StringType       True\n",
       "3       ORDERNUMBER     0.0    0.000000  IntegerType       True\n",
       "4              MSRP     0.0    0.000000    FloatType       True\n",
       "5         TERRITORY     0.0    0.000000   StringType       True\n",
       "6           COUNTRY     0.0    0.000000   StringType       True\n",
       "7              CITY     0.0    0.000000   StringType       True\n",
       "8       PRODUCTCODE     0.0    0.000000   StringType       True\n",
       "9       PRODUCTLINE     0.0    0.000000   StringType       True\n",
       "10  QUANTITYORDERED     0.0    0.000000  IntegerType       True\n",
       "11          YEAR_ID     0.0    0.000000  IntegerType       True\n",
       "12         MONTH_ID     0.0    0.000000  IntegerType       True\n",
       "13           QTR_ID     0.0    0.000000  IntegerType       True\n",
       "14           STATUS     0.0    0.000000   StringType       True\n",
       "15            SALES     0.0    0.000000    FloatType       True\n",
       "16  ORDERLINENUMBER     0.0    0.000000  IntegerType       True\n",
       "17        PRICEEACH     0.0    0.000000    FloatType       True\n",
       "18         DEALSIZE     0.0    0.000000   StringType       True"
      ]
     },
     "metadata": {},
     "output_type": "display_data"
    },
    {
     "name": "stdout",
     "output_type": "stream",
     "text": [
      "2823 records\n"
     ]
    },
    {
     "data": {
      "text/html": [
       "<div>\n",
       "<style scoped>\n",
       "    .dataframe tbody tr th:only-of-type {\n",
       "        vertical-align: middle;\n",
       "    }\n",
       "\n",
       "    .dataframe tbody tr th {\n",
       "        vertical-align: top;\n",
       "    }\n",
       "\n",
       "    .dataframe thead th {\n",
       "        text-align: right;\n",
       "    }\n",
       "</style>\n",
       "<table border=\"1\" class=\"dataframe\">\n",
       "  <thead>\n",
       "    <tr style=\"text-align: right;\">\n",
       "      <th></th>\n",
       "      <th>ORDERNUMBER</th>\n",
       "      <th>QUANTITYORDERED</th>\n",
       "      <th>PRICEEACH</th>\n",
       "      <th>ORDERLINENUMBER</th>\n",
       "      <th>SALES</th>\n",
       "      <th>STATUS</th>\n",
       "      <th>QTR_ID</th>\n",
       "      <th>MONTH_ID</th>\n",
       "      <th>YEAR_ID</th>\n",
       "      <th>PRODUCTLINE</th>\n",
       "      <th>MSRP</th>\n",
       "      <th>PRODUCTCODE</th>\n",
       "      <th>PHONE</th>\n",
       "      <th>CITY</th>\n",
       "      <th>STATE</th>\n",
       "      <th>POSTALCODE</th>\n",
       "      <th>COUNTRY</th>\n",
       "      <th>TERRITORY</th>\n",
       "      <th>DEALSIZE</th>\n",
       "    </tr>\n",
       "  </thead>\n",
       "  <tbody>\n",
       "    <tr>\n",
       "      <th>0</th>\n",
       "      <td>10107</td>\n",
       "      <td>30</td>\n",
       "      <td>95.699997</td>\n",
       "      <td>2</td>\n",
       "      <td>2871.000000</td>\n",
       "      <td>Shipped</td>\n",
       "      <td>1</td>\n",
       "      <td>2</td>\n",
       "      <td>2003</td>\n",
       "      <td>Motorcycles</td>\n",
       "      <td>95.0</td>\n",
       "      <td>S10_1678</td>\n",
       "      <td>2.125558e+09</td>\n",
       "      <td>NYC</td>\n",
       "      <td>NY</td>\n",
       "      <td>10022</td>\n",
       "      <td>USA</td>\n",
       "      <td>NA</td>\n",
       "      <td>Small</td>\n",
       "    </tr>\n",
       "    <tr>\n",
       "      <th>1</th>\n",
       "      <td>10121</td>\n",
       "      <td>34</td>\n",
       "      <td>81.349998</td>\n",
       "      <td>5</td>\n",
       "      <td>2765.899902</td>\n",
       "      <td>Shipped</td>\n",
       "      <td>2</td>\n",
       "      <td>5</td>\n",
       "      <td>2003</td>\n",
       "      <td>Motorcycles</td>\n",
       "      <td>95.0</td>\n",
       "      <td>S10_1678</td>\n",
       "      <td>NaN</td>\n",
       "      <td>Reims</td>\n",
       "      <td>NA</td>\n",
       "      <td>51100</td>\n",
       "      <td>France</td>\n",
       "      <td>EMEA</td>\n",
       "      <td>Small</td>\n",
       "    </tr>\n",
       "    <tr>\n",
       "      <th>2</th>\n",
       "      <td>10134</td>\n",
       "      <td>41</td>\n",
       "      <td>94.739998</td>\n",
       "      <td>2</td>\n",
       "      <td>3884.340088</td>\n",
       "      <td>Shipped</td>\n",
       "      <td>3</td>\n",
       "      <td>7</td>\n",
       "      <td>2003</td>\n",
       "      <td>Motorcycles</td>\n",
       "      <td>95.0</td>\n",
       "      <td>S10_1678</td>\n",
       "      <td>NaN</td>\n",
       "      <td>Paris</td>\n",
       "      <td>NA</td>\n",
       "      <td>75508</td>\n",
       "      <td>France</td>\n",
       "      <td>EMEA</td>\n",
       "      <td>Medium</td>\n",
       "    </tr>\n",
       "    <tr>\n",
       "      <th>3</th>\n",
       "      <td>10145</td>\n",
       "      <td>45</td>\n",
       "      <td>83.260002</td>\n",
       "      <td>6</td>\n",
       "      <td>3746.699951</td>\n",
       "      <td>Shipped</td>\n",
       "      <td>3</td>\n",
       "      <td>8</td>\n",
       "      <td>2003</td>\n",
       "      <td>Motorcycles</td>\n",
       "      <td>95.0</td>\n",
       "      <td>S10_1678</td>\n",
       "      <td>NaN</td>\n",
       "      <td>Pasadena</td>\n",
       "      <td>CA</td>\n",
       "      <td>90003</td>\n",
       "      <td>USA</td>\n",
       "      <td>NA</td>\n",
       "      <td>Medium</td>\n",
       "    </tr>\n",
       "    <tr>\n",
       "      <th>4</th>\n",
       "      <td>10159</td>\n",
       "      <td>49</td>\n",
       "      <td>100.000000</td>\n",
       "      <td>14</td>\n",
       "      <td>5205.270020</td>\n",
       "      <td>Shipped</td>\n",
       "      <td>4</td>\n",
       "      <td>10</td>\n",
       "      <td>2003</td>\n",
       "      <td>Motorcycles</td>\n",
       "      <td>95.0</td>\n",
       "      <td>S10_1678</td>\n",
       "      <td>NaN</td>\n",
       "      <td>San Francisco</td>\n",
       "      <td>CA</td>\n",
       "      <td>90001_96162</td>\n",
       "      <td>USA</td>\n",
       "      <td>NA</td>\n",
       "      <td>Medium</td>\n",
       "    </tr>\n",
       "    <tr>\n",
       "      <th>5</th>\n",
       "      <td>10168</td>\n",
       "      <td>36</td>\n",
       "      <td>96.660004</td>\n",
       "      <td>1</td>\n",
       "      <td>3479.760010</td>\n",
       "      <td>Shipped</td>\n",
       "      <td>4</td>\n",
       "      <td>10</td>\n",
       "      <td>2003</td>\n",
       "      <td>Motorcycles</td>\n",
       "      <td>95.0</td>\n",
       "      <td>S10_1678</td>\n",
       "      <td>NaN</td>\n",
       "      <td>Burlingame</td>\n",
       "      <td>CA</td>\n",
       "      <td>94217</td>\n",
       "      <td>USA</td>\n",
       "      <td>NA</td>\n",
       "      <td>Medium</td>\n",
       "    </tr>\n",
       "    <tr>\n",
       "      <th>6</th>\n",
       "      <td>10180</td>\n",
       "      <td>29</td>\n",
       "      <td>86.129997</td>\n",
       "      <td>9</td>\n",
       "      <td>2497.770020</td>\n",
       "      <td>Shipped</td>\n",
       "      <td>4</td>\n",
       "      <td>11</td>\n",
       "      <td>2003</td>\n",
       "      <td>Motorcycles</td>\n",
       "      <td>95.0</td>\n",
       "      <td>S10_1678</td>\n",
       "      <td>NaN</td>\n",
       "      <td>Lille</td>\n",
       "      <td>NA</td>\n",
       "      <td>59000</td>\n",
       "      <td>France</td>\n",
       "      <td>EMEA</td>\n",
       "      <td>Small</td>\n",
       "    </tr>\n",
       "    <tr>\n",
       "      <th>7</th>\n",
       "      <td>10188</td>\n",
       "      <td>48</td>\n",
       "      <td>100.000000</td>\n",
       "      <td>1</td>\n",
       "      <td>5512.319824</td>\n",
       "      <td>Shipped</td>\n",
       "      <td>4</td>\n",
       "      <td>11</td>\n",
       "      <td>2003</td>\n",
       "      <td>Motorcycles</td>\n",
       "      <td>95.0</td>\n",
       "      <td>S10_1678</td>\n",
       "      <td>NaN</td>\n",
       "      <td>Bergen</td>\n",
       "      <td>NA</td>\n",
       "      <td>N 5804</td>\n",
       "      <td>Norway</td>\n",
       "      <td>EMEA</td>\n",
       "      <td>Medium</td>\n",
       "    </tr>\n",
       "    <tr>\n",
       "      <th>8</th>\n",
       "      <td>10201</td>\n",
       "      <td>22</td>\n",
       "      <td>98.570000</td>\n",
       "      <td>2</td>\n",
       "      <td>2168.540039</td>\n",
       "      <td>Shipped</td>\n",
       "      <td>4</td>\n",
       "      <td>12</td>\n",
       "      <td>2003</td>\n",
       "      <td>Motorcycles</td>\n",
       "      <td>95.0</td>\n",
       "      <td>S10_1678</td>\n",
       "      <td>NaN</td>\n",
       "      <td>San Francisco</td>\n",
       "      <td>CA</td>\n",
       "      <td>90001_96162</td>\n",
       "      <td>USA</td>\n",
       "      <td>NA</td>\n",
       "      <td>Small</td>\n",
       "    </tr>\n",
       "    <tr>\n",
       "      <th>9</th>\n",
       "      <td>10211</td>\n",
       "      <td>41</td>\n",
       "      <td>100.000000</td>\n",
       "      <td>14</td>\n",
       "      <td>4708.439941</td>\n",
       "      <td>Shipped</td>\n",
       "      <td>1</td>\n",
       "      <td>1</td>\n",
       "      <td>2004</td>\n",
       "      <td>Motorcycles</td>\n",
       "      <td>95.0</td>\n",
       "      <td>S10_1678</td>\n",
       "      <td>NaN</td>\n",
       "      <td>Paris</td>\n",
       "      <td>NA</td>\n",
       "      <td>75016</td>\n",
       "      <td>France</td>\n",
       "      <td>EMEA</td>\n",
       "      <td>Medium</td>\n",
       "    </tr>\n",
       "  </tbody>\n",
       "</table>\n",
       "</div>"
      ],
      "text/plain": [
       "   ORDERNUMBER  QUANTITYORDERED   PRICEEACH  ORDERLINENUMBER        SALES  \\\n",
       "0        10107               30   95.699997                2  2871.000000   \n",
       "1        10121               34   81.349998                5  2765.899902   \n",
       "2        10134               41   94.739998                2  3884.340088   \n",
       "3        10145               45   83.260002                6  3746.699951   \n",
       "4        10159               49  100.000000               14  5205.270020   \n",
       "5        10168               36   96.660004                1  3479.760010   \n",
       "6        10180               29   86.129997                9  2497.770020   \n",
       "7        10188               48  100.000000                1  5512.319824   \n",
       "8        10201               22   98.570000                2  2168.540039   \n",
       "9        10211               41  100.000000               14  4708.439941   \n",
       "\n",
       "    STATUS  QTR_ID  MONTH_ID  YEAR_ID  PRODUCTLINE  MSRP PRODUCTCODE  \\\n",
       "0  Shipped       1         2     2003  Motorcycles  95.0    S10_1678   \n",
       "1  Shipped       2         5     2003  Motorcycles  95.0    S10_1678   \n",
       "2  Shipped       3         7     2003  Motorcycles  95.0    S10_1678   \n",
       "3  Shipped       3         8     2003  Motorcycles  95.0    S10_1678   \n",
       "4  Shipped       4        10     2003  Motorcycles  95.0    S10_1678   \n",
       "5  Shipped       4        10     2003  Motorcycles  95.0    S10_1678   \n",
       "6  Shipped       4        11     2003  Motorcycles  95.0    S10_1678   \n",
       "7  Shipped       4        11     2003  Motorcycles  95.0    S10_1678   \n",
       "8  Shipped       4        12     2003  Motorcycles  95.0    S10_1678   \n",
       "9  Shipped       1         1     2004  Motorcycles  95.0    S10_1678   \n",
       "\n",
       "          PHONE           CITY STATE   POSTALCODE COUNTRY TERRITORY DEALSIZE  \n",
       "0  2.125558e+09            NYC    NY        10022     USA        NA    Small  \n",
       "1           NaN          Reims    NA        51100  France      EMEA    Small  \n",
       "2           NaN          Paris    NA        75508  France      EMEA   Medium  \n",
       "3           NaN       Pasadena    CA        90003     USA        NA   Medium  \n",
       "4           NaN  San Francisco    CA  90001_96162     USA        NA   Medium  \n",
       "5           NaN     Burlingame    CA        94217     USA        NA   Medium  \n",
       "6           NaN          Lille    NA        59000  France      EMEA    Small  \n",
       "7           NaN         Bergen    NA       N 5804  Norway      EMEA   Medium  \n",
       "8           NaN  San Francisco    CA  90001_96162     USA        NA    Small  \n",
       "9           NaN          Paris    NA        75016  France      EMEA   Medium  "
      ]
     },
     "metadata": {},
     "output_type": "display_data"
    }
   ],
   "source": [
    "''' handle missing values '''\n",
    "# presumably important columns (for modeling)\n",
    "importantCols = ['STATE', 'POSTALCODE', 'ORDERNUMBER', 'TERRITORY', 'COUNTRY',\n",
    "                 'CITY', 'PRODUCTCODE', 'QUANTITYORDERED', 'MSRP', 'PRODUCTLINE',\n",
    "                 'YEAR_ID', 'MONTH_ID', 'QTR_ID', 'STATUS', 'SALES', 'ORDERLINENUMBER',\n",
    "                 'PRICEEACH', 'DEALSIZE']\n",
    "\n",
    "# check for missing values\n",
    "nullCounts = {colm:sales.select(colm).where(col(colm).isNull()).count() for colm in sales.columns}\n",
    "nullCounts = {colm:(ncnt, ncnt/cnt) for (colm, ncnt) in nullCounts.items()}\n",
    "nullCountsDF = pd.DataFrame(nullCounts).T.reset_index(drop=False).sort_values(1, ascending=False)\n",
    "nullCountsDF.columns = ['Column', 'Freq.', 'Rel. Freq.']\n",
    "nullCountsDF = nullCountsDF.merge(pd.DataFrame([[colm.name, colm.dataType] for colm in sales.schema], columns=['Column', 'Type']),\n",
    "                                how='inner', on=['Column'])\n",
    "nullCountsDF['Important'] = [c in importantCols for c in nullCountsDF['Column']]\n",
    "\n",
    "# talk\n",
    "display(nullCountsDF)\n",
    "\n",
    "# fill null states with 'NA' as they are ex-US\n",
    "sales = sales.fillna(value='NA', subset='STATE').fillna(value='90001_96162', subset='POSTALCODE')\n",
    "\n",
    "# talk some more\n",
    "print('%d records'%sales.count())\n",
    "display(sales.limit(10).toPandas())"
   ]
  },
  {
   "cell_type": "code",
   "execution_count": 33,
   "id": "6ed92e96-3828-4cde-a9da-aed58f3dbcbe",
   "metadata": {},
   "outputs": [
    {
     "name": "stdout",
     "output_type": "stream",
     "text": [
      "STATUS\n",
      "+----------+-----+\n",
      "|    STATUS|count|\n",
      "+----------+-----+\n",
      "|   Shipped| 2617|\n",
      "|   On Hold|   44|\n",
      "| Cancelled|   60|\n",
      "|  Resolved|   47|\n",
      "|In Process|   41|\n",
      "|  Disputed|   14|\n",
      "+----------+-----+\n",
      "\n",
      "PRODUCTLINE\n",
      "+----------------+-----+\n",
      "|     PRODUCTLINE|count|\n",
      "+----------------+-----+\n",
      "|     Motorcycles|  331|\n",
      "|    Vintage Cars|  607|\n",
      "|           Ships|  234|\n",
      "|Trucks and Buses|  301|\n",
      "|    Classic Cars|  967|\n",
      "|          Trains|   77|\n",
      "|          Planes|  306|\n",
      "+----------------+-----+\n",
      "\n",
      "PRODUCTCODE\n",
      "+-----------+-----+\n",
      "|PRODUCTCODE|count|\n",
      "+-----------+-----+\n",
      "|   S18_4600|   27|\n",
      "|   S18_1749|   22|\n",
      "|   S12_3891|   26|\n",
      "|   S18_2248|   22|\n",
      "|  S700_1138|   26|\n",
      "|   S32_1268|   27|\n",
      "|   S12_1099|   25|\n",
      "|   S18_2795|   26|\n",
      "|   S24_1937|   25|\n",
      "|   S32_3522|   27|\n",
      "|   S18_1097|   28|\n",
      "|   S18_1662|   26|\n",
      "|   S12_1666|   28|\n",
      "|   S24_3969|   22|\n",
      "|   S24_1578|   26|\n",
      "|   S24_4048|   26|\n",
      "|   S18_3320|   26|\n",
      "|   S24_3816|   26|\n",
      "|   S18_3136|   27|\n",
      "|   S32_2509|   28|\n",
      "+-----------+-----+\n",
      "only showing top 20 rows\n",
      "\n",
      "STATE\n",
      "+-------------+-----+\n",
      "|        STATE|count|\n",
      "+-------------+-----+\n",
      "|           NJ|   21|\n",
      "|           NA| 1486|\n",
      "|     Victoria|   78|\n",
      "|           BC|   48|\n",
      "|           NH|   34|\n",
      "|           NV|   29|\n",
      "|        Tokyo|   32|\n",
      "|           CA|  416|\n",
      "|           CT|   61|\n",
      "|           PA|   75|\n",
      "|           NY|  178|\n",
      "|       Quebec|   22|\n",
      "|Isle of Wight|   26|\n",
      "|        Osaka|   20|\n",
      "|           MA|  190|\n",
      "|   Queensland|   15|\n",
      "|          NSW|   92|\n",
      "+-------------+-----+\n",
      "\n",
      "POSTALCODE\n",
      "+----------+-----+\n",
      "|POSTALCODE|count|\n",
      "+----------+-----+\n",
      "|     28034|  259|\n",
      "|   WX1 6LT|   29|\n",
      "|     97823|   17|\n",
      "|     51003|   44|\n",
      "|     97562|  205|\n",
      "|     67000|   19|\n",
      "|    B-6000|    8|\n",
      "|     92561|    3|\n",
      "|     80686|   14|\n",
      "|     41101|   15|\n",
      "|      8200|   27|\n",
      "|  530-0003|   20|\n",
      "|     44000|   60|\n",
      "|     69045|   36|\n",
      "|   H1J 1C3|   22|\n",
      "| FIN-02271|   30|\n",
      "|   T2F 8M4|   26|\n",
      "|     78000|   18|\n",
      "|     51100|   41|\n",
      "|     13008|   25|\n",
      "+----------+-----+\n",
      "only showing top 20 rows\n",
      "\n",
      "COUNTRY\n",
      "+-----------+-----+\n",
      "|    COUNTRY|count|\n",
      "+-----------+-----+\n",
      "|     Sweden|   57|\n",
      "|Philippines|   26|\n",
      "|  Singapore|   79|\n",
      "|    Germany|   62|\n",
      "|     France|  314|\n",
      "|    Belgium|   33|\n",
      "|    Finland|   92|\n",
      "|      Italy|  113|\n",
      "|     Norway|   85|\n",
      "|      Spain|  342|\n",
      "|    Denmark|   63|\n",
      "|    Ireland|   16|\n",
      "|        USA| 1004|\n",
      "|         UK|  144|\n",
      "|Switzerland|   31|\n",
      "|     Canada|   70|\n",
      "|      Japan|   52|\n",
      "|  Australia|  185|\n",
      "|    Austria|   55|\n",
      "+-----------+-----+\n",
      "\n",
      "TERRITORY\n",
      "+---------+-----+\n",
      "|TERRITORY|count|\n",
      "+---------+-----+\n",
      "|       NA| 1074|\n",
      "|     APAC|  221|\n",
      "|    Japan|  121|\n",
      "|     EMEA| 1407|\n",
      "+---------+-----+\n",
      "\n",
      "DEALSIZE\n",
      "+--------+-----+\n",
      "|DEALSIZE|count|\n",
      "+--------+-----+\n",
      "|  Medium| 1384|\n",
      "|   Small| 1282|\n",
      "|   Large|  157|\n",
      "+--------+-----+\n",
      "\n"
     ]
    }
   ],
   "source": [
    "''' see some value counts '''\n",
    "for colm in ['STATUS', 'PRODUCTLINE', 'PRODUCTCODE', 'STATE', 'POSTALCODE', 'COUNTRY', 'TERRITORY', 'DEALSIZE']:\n",
    "    print(colm)\n",
    "    sales.select(colm).groupBy(colm).count().show()"
   ]
  },
  {
   "cell_type": "code",
   "execution_count": 31,
   "id": "245d97ce-ee0c-4142-a073-606a5736a3c6",
   "metadata": {},
   "outputs": [
    {
     "data": {
      "text/html": [
       "<div>\n",
       "<style scoped>\n",
       "    .dataframe tbody tr th:only-of-type {\n",
       "        vertical-align: middle;\n",
       "    }\n",
       "\n",
       "    .dataframe tbody tr th {\n",
       "        vertical-align: top;\n",
       "    }\n",
       "\n",
       "    .dataframe thead th {\n",
       "        text-align: right;\n",
       "    }\n",
       "</style>\n",
       "<table border=\"1\" class=\"dataframe\">\n",
       "  <thead>\n",
       "    <tr style=\"text-align: right;\">\n",
       "      <th></th>\n",
       "      <th>ORDERNUMBER</th>\n",
       "      <th>QUANTITYORDERED</th>\n",
       "      <th>PRICEEACH</th>\n",
       "      <th>ORDERLINENUMBER</th>\n",
       "      <th>SALES</th>\n",
       "      <th>STATUS</th>\n",
       "      <th>QTR_ID</th>\n",
       "      <th>MONTH_ID</th>\n",
       "      <th>YEAR_ID</th>\n",
       "      <th>PRODUCTLINE</th>\n",
       "      <th>...</th>\n",
       "      <th>TERRITORY</th>\n",
       "      <th>DEALSIZE</th>\n",
       "      <th>STATUS_str</th>\n",
       "      <th>PRODUCTCODE_str</th>\n",
       "      <th>STATE_str</th>\n",
       "      <th>COUNTRY_str</th>\n",
       "      <th>POSTALCODE_str</th>\n",
       "      <th>DEALSIZE_str</th>\n",
       "      <th>TERRITORY_str</th>\n",
       "      <th>PRODUCTLINE_str</th>\n",
       "    </tr>\n",
       "  </thead>\n",
       "  <tbody>\n",
       "    <tr>\n",
       "      <th>0</th>\n",
       "      <td>10107</td>\n",
       "      <td>30</td>\n",
       "      <td>95.699997</td>\n",
       "      <td>2</td>\n",
       "      <td>2871.000000</td>\n",
       "      <td>Shipped</td>\n",
       "      <td>1</td>\n",
       "      <td>2</td>\n",
       "      <td>2003</td>\n",
       "      <td>Motorcycles</td>\n",
       "      <td>...</td>\n",
       "      <td>NA</td>\n",
       "      <td>Small</td>\n",
       "      <td>0.0</td>\n",
       "      <td>32.0</td>\n",
       "      <td>3.0</td>\n",
       "      <td>0.0</td>\n",
       "      <td>2.0</td>\n",
       "      <td>1.0</td>\n",
       "      <td>1.0</td>\n",
       "      <td>2.0</td>\n",
       "    </tr>\n",
       "    <tr>\n",
       "      <th>1</th>\n",
       "      <td>10121</td>\n",
       "      <td>34</td>\n",
       "      <td>81.349998</td>\n",
       "      <td>5</td>\n",
       "      <td>2765.899902</td>\n",
       "      <td>Shipped</td>\n",
       "      <td>2</td>\n",
       "      <td>5</td>\n",
       "      <td>2003</td>\n",
       "      <td>Motorcycles</td>\n",
       "      <td>...</td>\n",
       "      <td>EMEA</td>\n",
       "      <td>Small</td>\n",
       "      <td>0.0</td>\n",
       "      <td>32.0</td>\n",
       "      <td>0.0</td>\n",
       "      <td>2.0</td>\n",
       "      <td>17.0</td>\n",
       "      <td>1.0</td>\n",
       "      <td>0.0</td>\n",
       "      <td>2.0</td>\n",
       "    </tr>\n",
       "    <tr>\n",
       "      <th>2</th>\n",
       "      <td>10134</td>\n",
       "      <td>41</td>\n",
       "      <td>94.739998</td>\n",
       "      <td>2</td>\n",
       "      <td>3884.340088</td>\n",
       "      <td>Shipped</td>\n",
       "      <td>3</td>\n",
       "      <td>7</td>\n",
       "      <td>2003</td>\n",
       "      <td>Motorcycles</td>\n",
       "      <td>...</td>\n",
       "      <td>EMEA</td>\n",
       "      <td>Medium</td>\n",
       "      <td>0.0</td>\n",
       "      <td>32.0</td>\n",
       "      <td>0.0</td>\n",
       "      <td>2.0</td>\n",
       "      <td>60.0</td>\n",
       "      <td>0.0</td>\n",
       "      <td>0.0</td>\n",
       "      <td>2.0</td>\n",
       "    </tr>\n",
       "    <tr>\n",
       "      <th>3</th>\n",
       "      <td>10145</td>\n",
       "      <td>45</td>\n",
       "      <td>83.260002</td>\n",
       "      <td>6</td>\n",
       "      <td>3746.699951</td>\n",
       "      <td>Shipped</td>\n",
       "      <td>3</td>\n",
       "      <td>8</td>\n",
       "      <td>2003</td>\n",
       "      <td>Motorcycles</td>\n",
       "      <td>...</td>\n",
       "      <td>NA</td>\n",
       "      <td>Medium</td>\n",
       "      <td>0.0</td>\n",
       "      <td>32.0</td>\n",
       "      <td>1.0</td>\n",
       "      <td>0.0</td>\n",
       "      <td>33.0</td>\n",
       "      <td>0.0</td>\n",
       "      <td>1.0</td>\n",
       "      <td>2.0</td>\n",
       "    </tr>\n",
       "    <tr>\n",
       "      <th>4</th>\n",
       "      <td>10159</td>\n",
       "      <td>49</td>\n",
       "      <td>100.000000</td>\n",
       "      <td>14</td>\n",
       "      <td>5205.270020</td>\n",
       "      <td>Shipped</td>\n",
       "      <td>4</td>\n",
       "      <td>10</td>\n",
       "      <td>2003</td>\n",
       "      <td>Motorcycles</td>\n",
       "      <td>...</td>\n",
       "      <td>NA</td>\n",
       "      <td>Medium</td>\n",
       "      <td>0.0</td>\n",
       "      <td>32.0</td>\n",
       "      <td>1.0</td>\n",
       "      <td>0.0</td>\n",
       "      <td>4.0</td>\n",
       "      <td>0.0</td>\n",
       "      <td>1.0</td>\n",
       "      <td>2.0</td>\n",
       "    </tr>\n",
       "    <tr>\n",
       "      <th>5</th>\n",
       "      <td>10168</td>\n",
       "      <td>36</td>\n",
       "      <td>96.660004</td>\n",
       "      <td>1</td>\n",
       "      <td>3479.760010</td>\n",
       "      <td>Shipped</td>\n",
       "      <td>4</td>\n",
       "      <td>10</td>\n",
       "      <td>2003</td>\n",
       "      <td>Motorcycles</td>\n",
       "      <td>...</td>\n",
       "      <td>NA</td>\n",
       "      <td>Medium</td>\n",
       "      <td>0.0</td>\n",
       "      <td>32.0</td>\n",
       "      <td>1.0</td>\n",
       "      <td>0.0</td>\n",
       "      <td>3.0</td>\n",
       "      <td>0.0</td>\n",
       "      <td>1.0</td>\n",
       "      <td>2.0</td>\n",
       "    </tr>\n",
       "    <tr>\n",
       "      <th>6</th>\n",
       "      <td>10180</td>\n",
       "      <td>29</td>\n",
       "      <td>86.129997</td>\n",
       "      <td>9</td>\n",
       "      <td>2497.770020</td>\n",
       "      <td>Shipped</td>\n",
       "      <td>4</td>\n",
       "      <td>11</td>\n",
       "      <td>2003</td>\n",
       "      <td>Motorcycles</td>\n",
       "      <td>...</td>\n",
       "      <td>EMEA</td>\n",
       "      <td>Small</td>\n",
       "      <td>0.0</td>\n",
       "      <td>32.0</td>\n",
       "      <td>0.0</td>\n",
       "      <td>2.0</td>\n",
       "      <td>59.0</td>\n",
       "      <td>1.0</td>\n",
       "      <td>0.0</td>\n",
       "      <td>2.0</td>\n",
       "    </tr>\n",
       "    <tr>\n",
       "      <th>7</th>\n",
       "      <td>10188</td>\n",
       "      <td>48</td>\n",
       "      <td>100.000000</td>\n",
       "      <td>1</td>\n",
       "      <td>5512.319824</td>\n",
       "      <td>Shipped</td>\n",
       "      <td>4</td>\n",
       "      <td>11</td>\n",
       "      <td>2003</td>\n",
       "      <td>Motorcycles</td>\n",
       "      <td>...</td>\n",
       "      <td>EMEA</td>\n",
       "      <td>Medium</td>\n",
       "      <td>0.0</td>\n",
       "      <td>32.0</td>\n",
       "      <td>0.0</td>\n",
       "      <td>7.0</td>\n",
       "      <td>36.0</td>\n",
       "      <td>0.0</td>\n",
       "      <td>0.0</td>\n",
       "      <td>2.0</td>\n",
       "    </tr>\n",
       "    <tr>\n",
       "      <th>8</th>\n",
       "      <td>10201</td>\n",
       "      <td>22</td>\n",
       "      <td>98.570000</td>\n",
       "      <td>2</td>\n",
       "      <td>2168.540039</td>\n",
       "      <td>Shipped</td>\n",
       "      <td>4</td>\n",
       "      <td>12</td>\n",
       "      <td>2003</td>\n",
       "      <td>Motorcycles</td>\n",
       "      <td>...</td>\n",
       "      <td>NA</td>\n",
       "      <td>Small</td>\n",
       "      <td>0.0</td>\n",
       "      <td>32.0</td>\n",
       "      <td>1.0</td>\n",
       "      <td>0.0</td>\n",
       "      <td>4.0</td>\n",
       "      <td>1.0</td>\n",
       "      <td>1.0</td>\n",
       "      <td>2.0</td>\n",
       "    </tr>\n",
       "    <tr>\n",
       "      <th>9</th>\n",
       "      <td>10211</td>\n",
       "      <td>41</td>\n",
       "      <td>100.000000</td>\n",
       "      <td>14</td>\n",
       "      <td>4708.439941</td>\n",
       "      <td>Shipped</td>\n",
       "      <td>1</td>\n",
       "      <td>1</td>\n",
       "      <td>2004</td>\n",
       "      <td>Motorcycles</td>\n",
       "      <td>...</td>\n",
       "      <td>EMEA</td>\n",
       "      <td>Medium</td>\n",
       "      <td>0.0</td>\n",
       "      <td>32.0</td>\n",
       "      <td>0.0</td>\n",
       "      <td>2.0</td>\n",
       "      <td>38.0</td>\n",
       "      <td>0.0</td>\n",
       "      <td>0.0</td>\n",
       "      <td>2.0</td>\n",
       "    </tr>\n",
       "  </tbody>\n",
       "</table>\n",
       "<p>10 rows × 27 columns</p>\n",
       "</div>"
      ],
      "text/plain": [
       "   ORDERNUMBER  QUANTITYORDERED   PRICEEACH  ORDERLINENUMBER        SALES  \\\n",
       "0        10107               30   95.699997                2  2871.000000   \n",
       "1        10121               34   81.349998                5  2765.899902   \n",
       "2        10134               41   94.739998                2  3884.340088   \n",
       "3        10145               45   83.260002                6  3746.699951   \n",
       "4        10159               49  100.000000               14  5205.270020   \n",
       "5        10168               36   96.660004                1  3479.760010   \n",
       "6        10180               29   86.129997                9  2497.770020   \n",
       "7        10188               48  100.000000                1  5512.319824   \n",
       "8        10201               22   98.570000                2  2168.540039   \n",
       "9        10211               41  100.000000               14  4708.439941   \n",
       "\n",
       "    STATUS  QTR_ID  MONTH_ID  YEAR_ID  PRODUCTLINE  ...  TERRITORY DEALSIZE  \\\n",
       "0  Shipped       1         2     2003  Motorcycles  ...         NA    Small   \n",
       "1  Shipped       2         5     2003  Motorcycles  ...       EMEA    Small   \n",
       "2  Shipped       3         7     2003  Motorcycles  ...       EMEA   Medium   \n",
       "3  Shipped       3         8     2003  Motorcycles  ...         NA   Medium   \n",
       "4  Shipped       4        10     2003  Motorcycles  ...         NA   Medium   \n",
       "5  Shipped       4        10     2003  Motorcycles  ...         NA   Medium   \n",
       "6  Shipped       4        11     2003  Motorcycles  ...       EMEA    Small   \n",
       "7  Shipped       4        11     2003  Motorcycles  ...       EMEA   Medium   \n",
       "8  Shipped       4        12     2003  Motorcycles  ...         NA    Small   \n",
       "9  Shipped       1         1     2004  Motorcycles  ...       EMEA   Medium   \n",
       "\n",
       "   STATUS_str PRODUCTCODE_str STATE_str COUNTRY_str POSTALCODE_str  \\\n",
       "0         0.0            32.0       3.0         0.0            2.0   \n",
       "1         0.0            32.0       0.0         2.0           17.0   \n",
       "2         0.0            32.0       0.0         2.0           60.0   \n",
       "3         0.0            32.0       1.0         0.0           33.0   \n",
       "4         0.0            32.0       1.0         0.0            4.0   \n",
       "5         0.0            32.0       1.0         0.0            3.0   \n",
       "6         0.0            32.0       0.0         2.0           59.0   \n",
       "7         0.0            32.0       0.0         7.0           36.0   \n",
       "8         0.0            32.0       1.0         0.0            4.0   \n",
       "9         0.0            32.0       0.0         2.0           38.0   \n",
       "\n",
       "  DEALSIZE_str TERRITORY_str  PRODUCTLINE_str  \n",
       "0          1.0           1.0              2.0  \n",
       "1          1.0           0.0              2.0  \n",
       "2          0.0           0.0              2.0  \n",
       "3          0.0           1.0              2.0  \n",
       "4          0.0           1.0              2.0  \n",
       "5          0.0           1.0              2.0  \n",
       "6          1.0           0.0              2.0  \n",
       "7          0.0           0.0              2.0  \n",
       "8          1.0           1.0              2.0  \n",
       "9          0.0           0.0              2.0  \n",
       "\n",
       "[10 rows x 27 columns]"
      ]
     },
     "metadata": {},
     "output_type": "display_data"
    }
   ],
   "source": [
    "''' index the string columns '''\n",
    "# set the string columns to index\n",
    "strCols = ['STATUS', 'PRODUCTLINE', 'PRODUCTCODE', 'STATE', 'POSTALCODE', 'COUNTRY', 'TERRITORY', 'DEALSIZE']\n",
    "featCols = [c+'_str' for c in strCols]\n",
    "# do the indexing\n",
    "indxr = StringIndexer(inputCols=strCols, outputCols=featCols)\n",
    "sales = indxr.fit(sales).transform(sales)\n",
    "# talk\n",
    "display(sales.limit(10).toPandas())"
   ]
  },
  {
   "cell_type": "code",
   "execution_count": null,
   "id": "3c40337b",
   "metadata": {},
   "outputs": [],
   "source": [
    "''' prepare the features '''\n",
    "# get the features\n",
    "features = featCols + ['QUANTITYORDERED', 'SALES', 'QTR_ID', 'MONTH_ID', 'YEAR_ID']\n",
    "\n",
    "# create & scale the features vector\n",
    "assr = VectorAssembler(inputCols=features, outputCol='features_raw')\n",
    "scalr = MinMaxScaler(inputCol='features_raw', outputCol='features')\n",
    "pipe = Pipeline(stages=[assr, scalr]).fit(sales)\n",
    "sales = pipe.transform(sales).drop('features_raw')\n",
    "sales = assr.transform(sales)\n",
    "\n",
    "# talk\n",
    "display(sales.limit(10).toPandas())\n",
    "sales.select('features').take(1)\n",
    "print('First row features = %s'%sales.select('features').take(1)[0])"
   ]
  },
  {
   "cell_type": "code",
   "execution_count": null,
   "id": "fb98e3a3-775d-446d-bfaf-f2ad1012f8c2",
   "metadata": {},
   "outputs": [],
   "source": [
    "# check for multicollinearity\n",
    "corr = Correlation.corr(sales, column='features', method='pearson')\n",
    "corrdf = pd.DataFrame(index=features, data=corr.collect()[0][0].toArray(), columns=features)\n",
    "display(corrdf)"
   ]
  },
  {
   "cell_type": "markdown",
   "id": "c5bf49cf-1a63-4978-87fc-1b07b093f160",
   "metadata": {},
   "source": [
    "## Modeling"
   ]
  },
  {
   "cell_type": "code",
   "execution_count": null,
   "id": "d650d61f-d8ff-43ee-bc70-f360d8d01c89",
   "metadata": {},
   "outputs": [],
   "source": [
    "# split for cross-val\n",
    "trainPerc = 0.7\n",
    "randSeed = 42\n",
    "tran, test = cc.select('CUST_ID', 'features').randomSplit([trainPerc, 1.0 - trainPerc], seed=randSeed)\n",
    "\n",
    "# talk\n",
    "print('Training Cases')\n",
    "tran.select('CUST_ID').show()\n",
    "print('Testing Cases')\n",
    "test.select('CUST_ID').show()"
   ]
  },
  {
   "cell_type": "code",
   "execution_count": null,
   "id": "afeca445-332e-4c5c-9fba-447e4bfd98b1",
   "metadata": {},
   "outputs": [],
   "source": [
    "''' evaluate different clustering cardinalities - kmeans '''\n",
    "# setup range that will be tried\n",
    "kMax = 41\n",
    "xs = list(range(2, kMax))\n",
    "kCost = np.ones(kMax)*np.inf\n",
    "kSil = np.ones(kMax)*-1\n",
    "\n",
    "# iterate over k\n",
    "models = [None]*kMax\n",
    "for k in range(2, kMax):\n",
    "    print('Trying k = %d'%k)\n",
    "    # fit the kmeans model on the training set\n",
    "    kmeans = KMeans(k=k, seed=randSeed, featuresCol='features')\n",
    "    models[k] = kmeans.fit(tran)\n",
    "    # eval the model on the training set\n",
    "    kCost[k] = models[k].summary.trainingCost\n",
    "    print('\\tTraining Cost = %0.3f'%kCost[k])\n",
    "    # eval the model on the testing set \n",
    "    testPred = models[k].transform(test)\n",
    "    kSil[k] = ClusteringEvaluator().evaluate(testPred)\n",
    "    print('\\tSilhouette score = %0.3f'%kSil[k])\n",
    "    \n",
    "# show the scree plot\n",
    "fig = plysub.make_subplots(rows=2, cols=1, print_grid=False, subplot_titles=('Train SSE vs. k', 'Test Silhouette vs. k'))\n",
    "fig.add_trace(go.Scatter(x=xs, y=kCost[2:], mode='markers+lines'), 1, 1)\n",
    "fig.add_trace(go.Scatter(x=xs, y=kSil[2:], mode='markers+lines'), 2, 1)\n",
    "fig['layout']['title'] = 'Kmeans Results'\n",
    "plyoff.plot(fig)\n",
    "\n",
    "# find the min\n",
    "bestK = np.argmin(kCost)\n",
    "print('Best model has %d clusters, with a cost of %0.3f'%(bestK, kCost[bestK]))"
   ]
  },
  {
   "cell_type": "code",
   "execution_count": null,
   "id": "2a92e0e6-a431-451c-9ae2-868d63b755df",
   "metadata": {},
   "outputs": [],
   "source": [
    "''' evaluate different clustering cardinalities  - bisecting kmeans '''\n",
    "# setup range that will be tried\n",
    "bkCost = np.ones(kMax)*np.inf\n",
    "bkSil = np.ones(kMax)*-1\n",
    "\n",
    "# iterate over k\n",
    "bmodels = [None]*kMax\n",
    "for k in range(2, kMax):\n",
    "    print('Trying k = %d'%k)\n",
    "    # fit the bisecting kmeans model on the training set\n",
    "    kmeans = BisectingKMeans(k=k, seed=randSeed, featuresCol='features')\n",
    "    bmodels[k] = kmeans.fit(tran)\n",
    "    # eval the model on the training set\n",
    "    bkCost[k] = bmodels[k].summary.trainingCost\n",
    "    print('\\tTraining Cost = %0.3f'%bkCost[k])\n",
    "    # eval the model on the testing set \n",
    "    testPred = bmodels[k].transform(test)\n",
    "    bkSil[k] = ClusteringEvaluator().evaluate(testPred)\n",
    "    print('\\tSilhouette score = %0.3f'%bkSil[k])\n",
    "    \n",
    "# show the scree plot\n",
    "fig = plysub.make_subplots(rows=2, cols=1, print_grid=False, subplot_titles=('Train SSE vs. k', 'Test Silhouette vs. k'))\n",
    "fig.add_trace(go.Scatter(x=xs, y=bkCost[2:], mode='markers+lines'), 1, 1)\n",
    "fig.add_trace(go.Scatter(x=xs, y=bkSil[2:], mode='markers+lines'), 2, 1)\n",
    "fig['layout']['title'] = 'Bisecting Kmeans Results'\n",
    "plyoff.plot(fig)\n",
    "\n",
    "# find the min\n",
    "bestBK = np.argmin(bkCost)\n",
    "print('Best model has %d clusters, with a cost of %0.3f'%(bestBK, bkCost[bestBK]))"
   ]
  },
  {
   "cell_type": "code",
   "execution_count": null,
   "id": "6d6db6c1-8d77-4ae7-9839-5250b97a596a",
   "metadata": {},
   "outputs": [],
   "source": [
    "''' Evaluate best model on test set '''\n",
    "# get the best\n",
    "bestK = int(input('Enter the \"best\" k'))\n",
    "bestMod = input('Enter the best model (\"k\" or bk\")')\n",
    "if bestMod == 'k':\n",
    "    # kmeans\n",
    "    bestModel = models[bestK]\n",
    "    cst = kCost[bestK]\n",
    "else:\n",
    "    # bisecting kmeans\n",
    "    bestModel = bmodels[bestK]\n",
    "    cst = bkCost[bestK]\n",
    "print('Best %s model has %d clusters, with a cost of %0.3f'%(bestMod, bestK, cst))\n",
    "\n",
    "# predict\n",
    "testPred = bestModel.transform(test)\n",
    "# eval\n",
    "evalSil = ClusteringEvaluator()\n",
    "silhouette = evalSil.evaluate(testPred)\n",
    "print('Silhouette score for %s model with %d cluster = [-1, %0.3f, 1]'%(bestMod, bestK, silhouette))\n",
    "# get the centers\n",
    "cents = pd.DataFrame(index=list(range(bestK)), data=bestModel.clusterCenters(), columns=features)\n",
    "display(cents)"
   ]
  },
  {
   "cell_type": "code",
   "execution_count": null,
   "id": "81c2c77c-d036-436b-aac3-83041f9141ca",
   "metadata": {},
   "outputs": [],
   "source": [
    "# add predictions to entire dataset\n",
    "ccpred = bestModel.transform(cc)\n",
    "for feat in features:\n",
    "    ccpred.groupBy('prediction').agg(min(col(feat)), mean(col(feat)), max(col(feat))).show()"
   ]
  },
  {
   "cell_type": "code",
   "execution_count": null,
   "id": "f96928b1",
   "metadata": {},
   "outputs": [],
   "source": [
    "sc.stop()"
   ]
  },
  {
   "cell_type": "code",
   "execution_count": null,
   "id": "2c22f013-c95e-48c7-8bda-edff5bb310e9",
   "metadata": {},
   "outputs": [],
   "source": []
  }
 ],
 "metadata": {
  "kernelspec": {
   "display_name": "Python 3",
   "language": "python",
   "name": "python3"
  },
  "language_info": {
   "codemirror_mode": {
    "name": "ipython",
    "version": 3
   },
   "file_extension": ".py",
   "mimetype": "text/x-python",
   "name": "python",
   "nbconvert_exporter": "python",
   "pygments_lexer": "ipython3",
   "version": "3.8.8"
  }
 },
 "nbformat": 4,
 "nbformat_minor": 5
}
