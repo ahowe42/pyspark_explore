{
 "cells": [
  {
   "cell_type": "code",
   "execution_count": 1,
   "id": "c6884cf0",
   "metadata": {},
   "outputs": [],
   "source": [
    "import pandas as pd\n",
    "import numpy as np\n",
    "import datetime as dt\n",
    "\n",
    "import findspark\n",
    "findspark.init()\n",
    "import pyspark\n",
    "from pyspark.sql import SparkSession\n",
    "from pyspark.sql.functions import *#avg, count, expr\n",
    "from pyspark.sql.types import *\n",
    "from pyspark.ml.feature import VectorAssembler, OneHotEncoder, MinMaxScaler, StringIndexer\n",
    "from pyspark.ml.regression import *\n",
    "from pyspark.ml.evaluation import *\n",
    "from pyspark.ml.tuning import CrossValidator, ParamGridBuilder\n",
    "from pyspark.ml.stat import Correlation\n",
    "from pyspark.ml import Pipeline"
   ]
  },
  {
   "cell_type": "code",
   "execution_count": 2,
   "id": "0c365c54",
   "metadata": {},
   "outputs": [
    {
     "name": "stdout",
     "output_type": "stream",
     "text": [
      "1 cores\n"
     ]
    },
    {
     "data": {
      "text/html": [
       "\n",
       "            <div>\n",
       "                <p><b>SparkSession - in-memory</b></p>\n",
       "                \n",
       "        <div>\n",
       "            <p><b>SparkContext</b></p>\n",
       "\n",
       "            <p><a href=\"http://192.168.150.128:4040\">Spark UI</a></p>\n",
       "\n",
       "            <dl>\n",
       "              <dt>Version</dt>\n",
       "                <dd><code>v3.1.1</code></dd>\n",
       "              <dt>Master</dt>\n",
       "                <dd><code>local[*]</code></dd>\n",
       "              <dt>AppName</dt>\n",
       "                <dd><code>fpmining</code></dd>\n",
       "            </dl>\n",
       "        </div>\n",
       "        \n",
       "            </div>\n",
       "        "
      ],
      "text/plain": [
       "<pyspark.sql.session.SparkSession at 0x7fc7fd43beb0>"
      ]
     },
     "execution_count": 2,
     "metadata": {},
     "output_type": "execute_result"
    }
   ],
   "source": [
    "# initialize\n",
    "sc = pyspark.SparkContext()\n",
    "spark = SparkSession(sc)\n",
    "spark.sparkContext.appName = 'fpmining'\n",
    "# show the number of cores\n",
    "print('%d cores'%spark._jsc.sc().getExecutorMemoryStatus().keySet().size())\n",
    "spark"
   ]
  },
  {
   "cell_type": "code",
   "execution_count": 11,
   "id": "b238b49d",
   "metadata": {},
   "outputs": [
    {
     "name": "stdout",
     "output_type": "stream",
     "text": [
      "696845 records\n",
      "+---+----+----+----+----+----+----+----+----+----+-----+----+----+----+----+----+----+----+----+----+-----+----+----+----+----+----+----+----+----+----+-----+----+----+----+----+----+----+----+----+----+-----+----+----+----+----+----+----+----+----+----+-----+--------+------+-------+------+------+-------+------+-------+-------+-------+-------+------+-------+--------+------+------+-------+------+-------+-------+-------+-------+-------+------+------+-------+-------+-------+------+-------+-------+-------+------+-------+------+------+-------+-------+------+-------+-------+------+-------+------+------+-------+-------+-------+------+-------+-------------------+-------+-------+-----------+----------+---------+---+-------+--------------------+---------------------+\n",
      "|id |EXT1|EXT2|EXT3|EXT4|EXT5|EXT6|EXT7|EXT8|EXT9|EXT10|EST1|EST2|EST3|EST4|EST5|EST6|EST7|EST8|EST9|EST10|AGR1|AGR2|AGR3|AGR4|AGR5|AGR6|AGR7|AGR8|AGR9|AGR10|CSN1|CSN2|CSN3|CSN4|CSN5|CSN6|CSN7|CSN8|CSN9|CSN10|OPN1|OPN2|OPN3|OPN4|OPN5|OPN6|OPN7|OPN8|OPN9|OPN10|EXT1_E  |EXT2_E|EXT3_E |EXT4_E|EXT5_E|EXT6_E |EXT7_E|EXT8_E |EXT9_E |EXT10_E|EST1_E |EST2_E|EST3_E |EST4_E  |EST5_E|EST6_E|EST7_E |EST8_E|EST9_E |EST10_E|AGR1_E |AGR2_E |AGR3_E |AGR4_E|AGR5_E|AGR6_E |AGR7_E |AGR8_E |AGR9_E|AGR10_E|CSN1_E |CSN2_E |CSN3_E|CSN4_E |CSN5_E|CSN6_E|CSN7_E |CSN8_E |CSN9_E|CSN10_E|OPN1_E |OPN2_E|OPN3_E |OPN4_E|OPN5_E|OPN6_E |OPN7_E |OPN8_E |OPN9_E|OPN10_E|dateload           |screenw|screenh|introelapse|testelapse|endelapse|IPC|country|lat_appx_lots_of_err|long_appx_lots_of_err|\n",
      "+---+----+----+----+----+----+----+----+----+----+-----+----+----+----+----+----+----+----+----+----+-----+----+----+----+----+----+----+----+----+----+-----+----+----+----+----+----+----+----+----+----+-----+----+----+----+----+----+----+----+----+----+-----+--------+------+-------+------+------+-------+------+-------+-------+-------+-------+------+-------+--------+------+------+-------+------+-------+-------+-------+-------+-------+------+------+-------+-------+-------+------+-------+-------+-------+------+-------+------+------+-------+-------+------+-------+-------+------+-------+------+------+-------+-------+-------+------+-------+-------------------+-------+-------+-----------+----------+---------+---+-------+--------------------+---------------------+\n",
      "|0  |4   |1   |5   |2   |5   |1   |5   |2   |4   |1    |1   |4   |4   |2   |2   |2   |2   |2   |3   |2    |2   |5   |2   |4   |2   |3   |2   |4   |3   |4    |3   |4   |3   |2   |2   |4   |4   |2   |4   |4    |5   |1   |4   |1   |4   |1   |5   |3   |4   |5    |9419.0  |5491.0|3959.0 |4821.0|5611.0|2756.0 |2388.0|2113.0 |5900.0 |4110.0 |6135.0 |4150.0|5739.0 |6364.0  |3663.0|5070.0|5709.0 |4285.0|2587.0 |3997.0 |4750.0 |5475.0 |11641.0|3115.0|3207.0|3260.0 |10235.0|5897.0 |1758.0|3081.0 |6602.0 |5457.0 |1569.0|2129.0 |3762.0|4420.0|9382.0 |5286.0 |4983.0|6339.0 |3146.0 |4067.0|2959.0 |3411.0|2170.0|4920.0 |4436.0 |3116.0 |2992.0|4354.0 |2016-03-03 02:01:01|768    |1024   |9          |234.0     |6.0      |1  |GB     |51.5448             |0.1991               |\n",
      "|1  |3   |5   |3   |4   |3   |3   |2   |5   |1   |5    |2   |3   |4   |1   |3   |1   |2   |1   |3   |1    |1   |4   |1   |5   |1   |5   |3   |4   |5   |3    |3   |2   |5   |3   |3   |1   |3   |3   |5   |3    |1   |2   |4   |2   |3   |1   |4   |2   |5   |3    |7235.0  |3598.0|3315.0 |2564.0|2976.0|3050.0 |4787.0|3228.0 |3465.0 |3309.0 |9036.0 |2406.0|3484.0 |3359.0  |3061.0|2539.0|4226.0 |2962.0|1799.0 |1607.0 |2158.0 |2090.0 |2143.0 |2807.0|3422.0|5324.0 |4494.0 |3627.0 |1850.0|1747.0 |5163.0 |5240.0 |7208.0|2783.0 |4103.0|3431.0|3347.0 |2399.0 |3360.0|5595.0 |2624.0 |4985.0|1684.0 |3026.0|4742.0|3336.0 |2718.0 |3374.0 |3096.0|3019.0 |2016-03-03 02:01:20|1360   |768    |12         |179.0     |11.0     |1  |MY     |3.1698              |101.706              |\n",
      "|2  |2   |3   |4   |4   |3   |2   |1   |3   |2   |5    |4   |4   |4   |2   |2   |2   |2   |2   |1   |3    |1   |4   |1   |4   |2   |4   |1   |4   |4   |3    |4   |2   |2   |2   |3   |3   |4   |2   |4   |2    |5   |1   |2   |1   |4   |2   |5   |3   |4   |4    |4657.0  |3549.0|2543.0 |3335.0|5847.0|2540.0 |4922.0|3142.0 |14621.0|2191.0 |5128.0 |3675.0|3442.0 |4546.0  |8275.0|2185.0|2164.0 |1175.0|3813.0 |1593.0 |1089.0 |2203.0 |3386.0 |1464.0|2562.0|1493.0 |3067.0 |13719.0|3892.0|4100.0 |4286.0 |4775.0 |2713.0|2813.0 |4237.0|6308.0|2690.0 |1516.0 |2379.0|2983.0 |1930.0 |1470.0|1644.0 |1683.0|2229.0|8114.0 |2043.0 |6295.0 |1585.0|2529.0 |2016-03-03 02:01:56|1366   |768    |3          |186.0     |7.0      |1  |GB     |54.9119             |-1.3833              |\n",
      "|3  |2   |2   |2   |3   |4   |2   |2   |4   |1   |4    |3   |3   |3   |2   |3   |2   |2   |2   |4   |3    |2   |4   |3   |4   |2   |4   |2   |4   |3   |4    |2   |4   |4   |4   |1   |2   |2   |3   |1   |4    |4   |2   |5   |2   |3   |1   |4   |4   |3   |3    |3996.0  |2896.0|5096.0 |4240.0|5168.0|5456.0 |4360.0|4496.0 |5240.0 |4000.0 |3736.0 |4616.0|3015.0 |2711.0  |3960.0|4064.0|4208.0 |2936.0|7336.0 |3896.0 |6062.0 |11952.0|1040.0 |2264.0|3664.0|3049.0 |4912.0 |7545.0 |4632.0|6896.0 |2824.0 |520.0  |2368.0|3225.0 |2848.0|6264.0|3760.0 |10472.0|3192.0|7704.0 |3456.0 |6665.0|1977.0 |3728.0|4128.0|3776.0 |2984.0 |4192.0 |3480.0|3257.0 |2016-03-03 02:02:02|1920   |1200   |186        |219.0     |7.0      |1  |GB     |51.75               |-1.25                |\n",
      "|4  |3   |3   |4   |2   |4   |2   |2   |3   |3   |4    |3   |4   |3   |2   |2   |1   |2   |1   |2   |2    |2   |3   |1   |4   |2   |3   |2   |3   |4   |4    |3   |2   |4   |1   |3   |2   |4   |3   |4   |3    |5   |1   |5   |1   |3   |1   |5   |4   |5   |2    |4834.0  |5064.0|1160.0 |2664.0|6711.0|3344.0 |2512.0|6264.0 |6992.0 |4592.0 |2808.0 |1776.0|3280.0 |4520.0  |2640.0|5408.0|3647.0 |3183.0|1575.0 |672.0  |6375.0 |4727.0 |3775.0 |1647.0|1233.0|8694.0 |2904.0 |2152.0 |2856.0|2848.0 |4288.0 |4360.0 |7328.0|3976.0 |7895.0|2640.0|1760.0 |5720.0 |9032.0|3928.0 |2104.0 |5488.0|3656.0 |4352.0|2681.0|3272.0 |2640.0 |1568.0 |1640.0|3192.0 |2016-03-03 02:03:12|1600   |1000   |4          |196.0     |3.0      |1  |SE     |59.3333             |18.05                |\n",
      "|5  |4   |3   |4   |3   |3   |3   |5   |3   |4   |3    |2   |4   |4   |2   |4   |2   |2   |2   |4   |4    |1   |2   |1   |5   |3   |5   |3   |4   |4   |5    |3   |2   |4   |2   |1   |4   |4   |2   |2   |5    |5   |2   |4   |3   |4   |1   |5   |5   |4   |4    |3908.0  |2965.0|2268.0 |5339.0|2669.0|2664.0 |3254.0|7038.0 |2782.0 |2696.0 |3075.0 |788.0 |3026.0 |2943.0  |2796.0|3964.0|2486.0 |4139.0|2546.0 |2912.0 |7876.0 |6190.0 |4352.0 |3050.0|3637.0|2589.0 |3644.0 |3259.0 |2843.0|6138.0 |6018.0 |4328.0 |3415.0|3107.0 |3193.0|3501.0|2385.0 |2661.0 |2565.0|1057.0 |3773.0 |3274.0|2292.0 |8305.0|2319.0|4013.0 |2661.0 |3591.0 |3484.0|3872.0 |2016-03-03 02:05:00|360    |640    |36         |179.0     |10.0     |1  |US     |30.3322             |-81.6556             |\n",
      "|6  |3   |1   |5   |2   |5   |2   |5   |2   |3   |2    |2   |4   |2   |4   |2   |1   |2   |1   |1   |1    |2   |5   |2   |4   |3   |2   |2   |4   |4   |4    |5   |1   |5   |1   |4   |2   |3   |2   |5   |5    |4   |1   |3   |1   |5   |1   |4   |3   |4   |5    |8559.0  |3120.0|4377.0 |4928.0|1656.0|2912.0 |4200.0|10848.0|3640.0 |3520.0 |5808.0 |2944.0|2487.0 |5952.0  |2560.0|5001.0|2576.0 |7952.0|4321.0 |3752.0 |5720.0 |2584.0 |3463.0 |3408.0|5168.0|7176.0 |3048.0 |2648.0 |3313.0|3936.0 |3928.0 |4752.0 |2777.0|4416.0 |4992.0|4224.0|3848.0 |3400.0 |2087.0|3048.0 |2000.0 |5248.0|2969.0 |8664.0|2264.0|5432.0 |2200.0 |4248.0 |3768.0|2520.0 |2016-03-03 02:05:08|1440   |900    |15         |210.0     |17.0     |1  |MY     |2.9927              |101.7909             |\n",
      "|7  |2   |2   |3   |3   |4   |2   |2   |2   |4   |4    |3   |4   |4   |1   |2   |2   |3   |2   |3   |4    |1   |5   |1   |5   |1   |3   |1   |4   |4   |4    |3   |3   |4   |0   |3   |4   |1   |2   |1   |4    |4   |1   |5   |1   |4   |1   |5   |2   |5   |5    |3973.0  |2970.0|7239.0 |2586.0|2235.0|5071.0 |2719.0|5806.0 |2986.0 |3102.0 |2453.0 |4553.0|4470.0 |8242.0  |4772.0|4070.0|5655.0 |5339.0|6390.0 |3203.0 |2601.0 |2486.0 |2853.0 |2667.0|2668.0|2186.0 |4220.0 |1867.0 |2685.0|3387.0 |4387.0 |5122.0 |2636.0|0.0    |1901.0|7473.0|2353.0 |2653.0 |5154.0|3086.0 |2834.0 |2936.0|2052.0 |3720.0|1684.0|2736.0 |4086.0 |5037.0 |2935.0|1135.0 |2016-03-03 02:05:27|2560   |1440   |2          |181.0     |4.0      |1  |GB     |53.423              |-2.2166              |\n",
      "|8  |1   |5   |3   |5   |2   |3   |2   |4   |5   |4    |3   |3   |3   |3   |4   |3   |3   |3   |3   |3    |5   |3   |5   |1   |5   |3   |4   |2   |3   |2    |2   |5   |1   |5   |1   |4   |3   |4   |2   |2    |3   |1   |3   |1   |3   |3   |4   |3   |3   |3    |5420.0  |7347.0|6391.0 |6083.0|8647.0|3221.0 |4300.0|11316.0|18051.0|3601.0 |3077.0 |3152.0|3206.0 |2113.0  |3684.0|2955.0|3002.0 |3202.0|2103.0 |1281.0 |2273.0 |3562.0 |3818.0 |7513.0|7159.0|2887.0 |3132.0 |17241.0|8739.0|2376.0 |4742.0 |4643.0 |4466.0|5816.0 |8356.0|3601.0|3128.0 |4884.0 |4276.0|6816.0 |3801.0 |3964.0|3499.0 |3319.0|9295.0|3113.0 |2418.0 |3028.0 |4745.0|1191.0 |2016-03-03 02:08:06|1600   |900    |6          |261.0     |13.0     |1  |FI     |60.1708             |24.9375              |\n",
      "|9  |3   |3   |2   |3   |3   |2   |4   |3   |3   |5    |4   |3   |4   |1   |2   |3   |5   |4   |4   |5    |2   |5   |3   |4   |2   |3   |1   |3   |4   |2    |1   |5   |5   |5   |1   |5   |3   |1   |1   |5    |5   |1   |5   |1   |5   |1   |5   |5   |5   |5    |2687.0  |2346.0|1784.0 |1696.0|2620.0|3288.0 |4442.0|1717.0 |2269.0 |2400.0 |2625.0 |2042.0|1803.0 |1811.0  |3687.0|3546.0|3794.0 |2054.0|2436.0 |1419.0 |3166.0 |1156.0 |2215.0 |2530.0|2227.0|2206.0 |3157.0 |2755.0 |2225.0|1288.0 |2207.0 |1318.0 |1459.0|3266.0 |1198.0|2397.0|2320.0 |1952.0 |1968.0|1832.0 |1870.0 |2105.0|1118.0 |1928.0|1606.0|1197.0 |964.0  |1434.0 |1858.0|1193.0 |2016-03-03 02:08:17|1440   |900    |6          |110.0     |7.0      |1  |UA     |50.4333             |30.5167              |\n",
      "|10 |3   |1   |5   |3   |5   |1   |5   |5   |5   |3    |5   |1   |3   |1   |5   |5   |5   |5   |5   |3    |2   |5   |5   |3   |3   |5   |3   |5   |5   |5    |5   |5   |5   |3   |5   |5   |5   |3   |3   |5    |4   |1   |5   |1   |5   |3   |1   |5   |5   |5    |6263.0  |4876.0|2547.0 |5647.0|2164.0|4082.0 |7001.0|2887.0 |3788.0 |3096.0 |1846.0 |3158.0|2714.0 |2534.0  |2748.0|2626.0|1066.0 |1540.0|2926.0 |4443.0 |6023.0 |2228.0 |2127.0 |2787.0|2966.0|2324.0 |1737.0 |4332.0 |2904.0|2558.0 |3350.0 |2452.0 |2752.0|3404.0 |5316.0|6112.0|5070.0 |2700.0 |1996.0|3688.0 |5122.0 |7515.0|4332.0 |2306.0|1722.0|2294.0 |3889.0 |2332.0 |2590.0|1624.0 |2016-03-03 02:08:52|1280   |720    |10         |172.0     |8.0      |1  |PH     |14.5833             |120.9667             |\n",
      "|11 |4   |1   |5   |4   |5   |1   |4   |1   |5   |2    |1   |5   |1   |2   |1   |1   |5   |4   |1   |5    |1   |5   |2   |5   |1   |4   |1   |5   |5   |5    |2   |4   |5   |4   |2   |3   |1   |4   |1   |2    |5   |1   |5   |1   |4   |1   |5   |5   |5   |5    |16824.0 |3363.0|3985.0 |4895.0|4005.0|9861.0 |5646.0|4559.0 |12550.0|10819.0|11723.0|4571.0|16338.0|5432.0  |6640.0|4814.0|12849.0|8155.0|12604.0|11423.0|10246.0|4074.0 |26903.0|5067.0|6245.0|6648.0 |5851.0 |7050.0 |4217.0|21209.0|4974.0 |7185.0 |8223.0|6640.0 |6144.0|8964.0|16574.0|56462.0|3923.0|17173.0|10268.0|5289.0|2288.0 |5150.0|5392.0|4426.0 |5185.0 |5963.0 |6688.0|1265.0 |2016-03-03 02:10:44|320    |480    |128        |459.0     |8.0      |1  |FR     |48.8539             |2.604                |\n",
      "|12 |1   |5   |1   |5   |1   |5   |1   |5   |1   |5    |5   |1   |5   |1   |4   |5   |3   |3   |4   |5    |2   |2   |2   |3   |3   |3   |3   |0   |3   |1    |3   |2   |5   |3   |4   |1   |5   |3   |4   |3    |5   |1   |4   |1   |2   |2   |4   |5   |5   |3    |3853.0  |1619.0|1435.0 |918.0 |917.0 |2269.0 |1734.0|1252.0 |1436.0 |700.0  |1436.0 |1903.0|934.0  |1299.0  |2153.0|1703.0|2553.0 |3236.0|2037.0 |750.0  |9794.0 |6174.0 |5706.0 |5622.0|2253.0|1652.0 |5290.0 |0.0    |5106.0|2620.0 |1768.0 |2669.0 |1819.0|12967.0|1401.0|1785.0|1535.0 |2736.0 |1484.0|3520.0 |1434.0 |1768.0|2069.0 |1869.0|1418.0|2736.0 |1618.0 |1335.0 |1434.0|1718.0 |2016-03-03 02:10:50|1920   |1080   |2          |129.0     |5.0      |1  |GB     |53.8                |-1.5833              |\n",
      "|13 |1   |5   |2   |5   |1   |4   |1   |2   |2   |5    |4   |3   |5   |1   |4   |4   |4   |2   |4   |5    |2   |5   |4   |5   |1   |5   |2   |4   |5   |5    |4   |4   |2   |4   |2   |3   |4   |1   |4   |5    |5   |4   |5   |5   |4   |1   |4   |4   |5   |5    |2174.0  |1728.0|1736.0 |1765.0|3279.0|2548.0 |2378.0|3808.0 |2443.0 |1035.0 |2744.0 |1687.0|1380.0 |1342.0  |1964.0|1885.0|3470.0 |1135.0|2212.0 |1916.0 |4808.0 |1508.0 |2594.0 |399.0 |1392.0|1408.0 |3313.0 |2881.0 |2362.0|1351.0 |2010.0 |1665.0 |4328.0|1931.0 |2611.0|4129.0|3183.0 |2177.0 |2700.0|1418.0 |1012.0 |6052.0|2133.0 |3744.0|2075.0|2230.0 |2587.0 |3350.0 |3743.0|636.0  |2016-03-03 02:11:06|1920   |1080   |6          |120.0     |8.0      |1  |AU     |-37.9333            |145.2333             |\n",
      "|14 |2   |1   |3   |4   |4   |3   |5   |3   |3   |5    |4   |2   |3   |3   |3   |4   |3   |3   |5   |5    |5   |5   |5   |5   |2   |3   |3   |3   |4   |5    |3   |3   |4   |4   |4   |2   |3   |3   |4   |5    |5   |2   |5   |3   |4   |1   |3   |3   |5   |5    |305890.0|3696.0|4296.0 |5952.0|2760.0|3992.0 |5040.0|3761.0 |5120.0 |3336.0 |3503.0 |4960.0|3288.0 |91526.0 |3400.0|3056.0|2487.0 |2352.0|2456.0 |1448.0 |4328.0 |1704.0 |3688.0 |3296.0|5007.0|3408.0 |3239.0 |3535.0 |3088.0|2720.0 |6696.0 |5280.0 |3088.0|2816.0 |7680.0|6464.0|3329.0 |30719.0|3616.0|6568.0 |3984.0 |8776.0|25911.0|5064.0|2376.0|5320.0 |5664.0 |3488.0 |4424.0|1847.0 |2016-03-03 02:11:53|1366   |768    |9          |641.0     |19.0     |1  |IN     |20.0                |77.0                 |\n",
      "|15 |1   |4   |2   |4   |2   |3   |2   |4   |2   |4    |4   |3   |4   |2   |4   |4   |3   |3   |4   |4    |2   |3   |3   |3   |3   |4   |3   |4   |4   |3    |2   |2   |3   |3   |2   |4   |3   |2   |2   |3    |4   |2   |4   |3   |4   |2   |4   |3   |4   |4    |2923.0  |2463.0|1752.0 |2353.0|1480.0|2904.0 |3400.0|3784.0 |2513.0 |1423.0 |3249.0 |2647.0|2528.0 |5695.0  |1592.0|2712.0|2520.0 |1840.0|1551.0 |1463.0 |4253.0 |1992.0 |3304.0 |2055.0|2184.0|16888.0|1777.0 |2528.0 |2599.0|1782.0 |2511.0 |4640.0 |1320.0|1969.0 |2088.0|3200.0|1623.0 |15848.0|2139.0|14107.0|3505.0 |2601.0|1455.0 |1025.0|2624.0|3432.0 |1992.0 |6928.0 |2977.0|2056.0 |2016-03-03 02:14:11|1920   |1080   |6          |169.0     |11.0     |1  |CA     |47.4596             |-69.7547             |\n",
      "|16 |4   |2   |5   |3   |4   |4   |5   |2   |5   |2    |2   |5   |4   |4   |3   |4   |2   |1   |1   |1    |1   |5   |1   |5   |1   |5   |1   |5   |5   |4    |0   |3   |5   |3   |1   |5   |3   |2   |1   |2    |4   |1   |5   |1   |3   |5   |4   |2   |5   |3    |15771.0 |7379.0|53546.0|4563.0|3381.0|10248.0|3100.0|4623.0 |5820.0 |5583.0 |9215.0 |2783.0|3997.0 |141423.0|4690.0|4703.0|7147.0 |3549.0|3452.0 |4284.0 |2422.0 |4034.0 |2848.0 |2086.0|3998.0|2654.0 |39228.0|2986.0 |3366.0|98375.0|0.0    |9418.0 |3053.0|5168.0 |4533.0|5996.0|2655.0 |10151.0|4852.0|3984.0 |7751.0 |3217.0|2702.0 |3998.0|3162.0|25811.0|12275.0|12978.0|4282.0|2950.0 |2016-03-03 02:16:17|1280   |768    |15         |592.0     |39.0     |1  |ZA     |-29.0               |24.0                 |\n",
      "|17 |5   |1   |5   |2   |5   |1   |5   |3   |5   |4    |4   |1   |4   |2   |4   |4   |4   |4   |5   |4    |3   |3   |4   |3   |2   |5   |1   |4   |4   |4    |4   |1   |5   |1   |5   |5   |5   |1   |5   |5    |4   |5   |3   |5   |4   |3   |5   |4   |2   |3    |3721.0  |5472.0|2457.0 |5191.0|2735.0|1960.0 |2392.0|3584.0 |2007.0 |1616.0 |2264.0 |4408.0|1632.0 |2392.0  |2768.0|1575.0|2432.0 |3063.0|688.0  |2991.0 |3950.0 |1488.0 |2063.0 |2073.0|3328.0|1936.0 |2232.0 |2872.0 |2033.0|1680.0 |2120.0 |3816.0 |3032.0|2504.0 |1968.0|2504.0|1320.0 |4184.0 |3159.0|3000.0 |1423.0 |3151.0|1744.0 |3128.0|1504.0|1976.0 |1880.0 |1769.0 |3568.0|1137.0 |2016-03-03 02:17:05|1829   |1029   |5          |130.0     |10.0     |1  |HK     |22.3167             |114.2167             |\n",
      "|18 |3   |3   |2   |3   |4   |3   |1   |5   |1   |2    |5   |1   |5   |1   |3   |3   |4   |3   |5   |4    |2   |4   |4   |4   |2   |4   |3   |3   |4   |3    |4   |3   |4   |2   |3   |2   |4   |2   |3   |4    |3   |2   |4   |3   |3   |2   |3   |3   |4   |3    |5929.0  |7401.0|3322.0 |5263.0|2361.0|2215.0 |4464.0|3768.0 |3104.0 |4241.0 |4368.0 |3032.0|3456.0 |3208.0  |2857.0|4167.0|2123.0 |2904.0|2424.0 |2152.0 |10291.0|2839.0 |5063.0 |3153.0|3831.0|6472.0 |3537.0 |4864.0 |3760.0|2743.0 |5588.0 |11895.0|1775.0|2744.0 |2947.0|2249.0|3023.0 |3008.0 |2432.0|2817.0 |7000.0 |2928.0|2328.0 |3565.0|2655.0|4136.0 |2077.0 |1856.0 |4327.0|2207.0 |2016-03-03 02:19:29|1280   |800    |14         |193.0     |10.0     |1  |GB     |51.5                |-0.13                |\n",
      "|19 |3   |2   |2   |4   |4   |4   |5   |3   |1   |3    |3   |3   |4   |4   |3   |3   |5   |4   |3   |4    |1   |5   |1   |4   |5   |3   |2   |3   |4   |2    |3   |3   |2   |2   |2   |2   |4   |3   |2   |2    |3   |4   |3   |2   |2   |5   |3   |2   |1   |2    |4531.0  |7268.0|8539.0 |8341.0|5960.0|10018.0|7010.0|6776.0 |5771.0 |8411.0 |4333.0 |5324.0|4476.0 |5918.0  |5290.0|2687.0|3592.0 |6369.0|2855.0 |5311.0 |18241.0|5808.0 |5324.0 |7424.0|7624.0|4529.0 |6419.0 |16404.0|5451.0|5441.0 |10968.0|5064.0 |3698.0|5150.0 |7550.0|6159.0|3651.0 |6258.0 |4131.0|9393.0 |2613.0 |4145.0|3856.0 |4080.0|3495.0|7096.0 |3945.0 |4079.0 |3782.0|3324.0 |2016-03-03 02:22:02|1366   |768    |8          |305.0     |17.0     |1  |US     |34.1073             |-118.3719            |\n",
      "+---+----+----+----+----+----+----+----+----+----+-----+----+----+----+----+----+----+----+----+----+-----+----+----+----+----+----+----+----+----+----+-----+----+----+----+----+----+----+----+----+----+-----+----+----+----+----+----+----+----+----+----+-----+--------+------+-------+------+------+-------+------+-------+-------+-------+-------+------+-------+--------+------+------+-------+------+-------+-------+-------+-------+-------+------+------+-------+-------+-------+------+-------+-------+-------+------+-------+------+------+-------+-------+------+-------+-------+------+-------+------+------+-------+-------+-------+------+-------+-------------------+-------+-------+-----------+----------+---------+---+-------+--------------------+---------------------+\n",
      "only showing top 20 rows\n",
      "\n"
     ]
    }
   ],
   "source": [
    "''' get the data '''\n",
    "# load the data\n",
    "fil = '../data/data-final.csv'\n",
    "schem = StructType([StructField('EXT1', IntegerType()), StructField('EXT2', IntegerType()), StructField('EXT3', IntegerType()),\n",
    "StructField('EXT4', IntegerType()), StructField('EXT5', IntegerType()), StructField('EXT6', IntegerType()),\n",
    "StructField('EXT7', IntegerType()), StructField('EXT8', IntegerType()), StructField('EXT9', IntegerType()),\n",
    "StructField('EXT10', IntegerType()), StructField('EST1', IntegerType()), StructField('EST2', IntegerType()),\n",
    "StructField('EST3', IntegerType()), StructField('EST4', IntegerType()), StructField('EST5', IntegerType()),\n",
    "StructField('EST6', IntegerType()), StructField('EST7', IntegerType()), StructField('EST8', IntegerType()),\n",
    "StructField('EST9', IntegerType()), StructField('EST10', IntegerType()), StructField('AGR1', IntegerType()),\n",
    "StructField('AGR2', IntegerType()), StructField('AGR3', IntegerType()), StructField('AGR4', IntegerType()),\n",
    "StructField('AGR5', IntegerType()), StructField('AGR6', IntegerType()), StructField('AGR7', IntegerType()),\n",
    "StructField('AGR8', IntegerType()), StructField('AGR9', IntegerType()), StructField('AGR10', IntegerType()),\n",
    "StructField('CSN1', IntegerType()), StructField('CSN2', IntegerType()), StructField('CSN3', IntegerType()),\n",
    "StructField('CSN4', IntegerType()), StructField('CSN5', IntegerType()), StructField('CSN6', IntegerType()),\n",
    "StructField('CSN7', IntegerType()), StructField('CSN8', IntegerType()), StructField('CSN9', IntegerType()),\n",
    "StructField('CSN10', IntegerType()), StructField('OPN1', IntegerType()), StructField('OPN2', IntegerType()),\n",
    "StructField('OPN3', IntegerType()), StructField('OPN4', IntegerType()), StructField('OPN5', IntegerType()),\n",
    "StructField('OPN6', IntegerType()), StructField('OPN7', IntegerType()), StructField('OPN8', IntegerType()),\n",
    "StructField('OPN9', IntegerType()), StructField('OPN10', IntegerType()), StructField('EXT1_E', FloatType()),\n",
    "StructField('EXT2_E', FloatType()), StructField('EXT3_E', FloatType()), StructField('EXT4_E', FloatType()),\n",
    "StructField('EXT5_E', FloatType()), StructField('EXT6_E', FloatType()), StructField('EXT7_E', FloatType()),\n",
    "StructField('EXT8_E', FloatType()), StructField('EXT9_E', FloatType()), StructField('EXT10_E', FloatType()),\n",
    "StructField('EST1_E', FloatType()), StructField('EST2_E', FloatType()), StructField('EST3_E', FloatType()),\n",
    "StructField('EST4_E', FloatType()), StructField('EST5_E', FloatType()), StructField('EST6_E', FloatType()),\n",
    "StructField('EST7_E', FloatType()), StructField('EST8_E', FloatType()), StructField('EST9_E', FloatType()),\n",
    "StructField('EST10_E', FloatType()), StructField('AGR1_E', FloatType()), StructField('AGR2_E', FloatType()),\n",
    "StructField('AGR3_E', FloatType()), StructField('AGR4_E', FloatType()), StructField('AGR5_E', FloatType()),\n",
    "StructField('AGR6_E', FloatType()), StructField('AGR7_E', FloatType()), StructField('AGR8_E', FloatType()),\n",
    "StructField('AGR9_E', FloatType()), StructField('AGR10_E', FloatType()), StructField('CSN1_E', FloatType()),\n",
    "StructField('CSN2_E', FloatType()), StructField('CSN3_E', FloatType()), StructField('CSN4_E', FloatType()),\n",
    "StructField('CSN5_E', FloatType()), StructField('CSN6_E', FloatType()), StructField('CSN7_E', FloatType()),\n",
    "StructField('CSN8_E', FloatType()), StructField('CSN9_E', FloatType()), StructField('CSN10_E', FloatType()),\n",
    "StructField('OPN1_E', FloatType()), StructField('OPN2_E', FloatType()), StructField('OPN3_E', FloatType()),\n",
    "StructField('OPN4_E', FloatType()), StructField('OPN5_E', FloatType()), StructField('OPN6_E', FloatType()),\n",
    "StructField('OPN7_E', FloatType()), StructField('OPN8_E', FloatType()), StructField('OPN9_E', FloatType()),\n",
    "StructField('OPN10_E', FloatType()), StructField('dateload', TimestampType()), StructField('screenw', IntegerType()),\n",
    "StructField('screenh', IntegerType()), StructField('introelapse', IntegerType()), StructField('testelapse', FloatType()),\n",
    "StructField('endelapse', FloatType()), StructField('IPC', IntegerType()), StructField('country', StringType()),\n",
    "StructField('lat_appx_lots_of_err', FloatType()), StructField('long_appx_lots_of_err', FloatType())])\n",
    "bigfive = spark.read.format('csv').options(header=True, delimiter='\\t', timeStampFormat='yyyy-MM-dd HH:mm:ss').schema(schem).load(fil)\n",
    "\n",
    "# add an ID - don't actually care if it's monotonic; also filter for IP count is 1\n",
    "bigfive = bigfive.where(col('IPC') == 1).select(monotonically_increasing_id().alias('id'), '*')\n",
    "\n",
    "# talk\n",
    "cnt = bigfive.count()\n",
    "print('%d records'%cnt)\n",
    "bigfive.show(truncate=False)\n",
    "#bigfive.printSchema()"
   ]
  },
  {
   "cell_type": "markdown",
   "id": "6e099cfe-d4ff-487c-8969-626e2f2f9f9c",
   "metadata": {},
   "source": [
    "### Data Prep"
   ]
  },
  {
   "cell_type": "code",
   "execution_count": null,
   "id": "a6b443b6-ca5e-4629-9aec-a3ce22320110",
   "metadata": {},
   "outputs": [],
   "source": [
    "''' handle missing values '''\n",
    "# check for missing values\n",
    "nullCounts = {colm:bigfive.select(colm).where(col(colm).isNull()).count() for colm in bigfive.columns}\n",
    "nullCounts = {colm:(ncnt, ncnt/cnt) for (colm, ncnt) in nullCounts.items()}\n",
    "nullCountsDF = pd.DataFrame(nullCounts).T.reset_index(drop=False).sort_values(1, ascending=False)\n",
    "nullCountsDF.columns = ['Column', 'Freq.', 'Rel. Freq.']\n",
    "nullCountsDF = nullCountsDF.merge(pd.DataFrame([[colm.name, colm.dataType] for colm in bigfive.schema], columns=['Column', 'Type']),\n",
    "                                how='inner', on=['Column'])\n",
    "\n",
    "# talk\n",
    "display(nullCountsDF)\n",
    "\n",
    "# remove\n",
    "#house = house.dropna(how='any')\n",
    "\n",
    "# talk some more\n",
    "print('%d records'%bigfive.count())"
   ]
  },
  {
   "cell_type": "code",
   "execution_count": null,
   "id": "7cfb0121-3f5d-4035-85bd-585dd6f97325",
   "metadata": {},
   "outputs": [],
   "source": [
    "''' OHE the ocean_proximity var '''\n",
    "# first review the distribution\n",
    "tab = house.groupBy('ocean_proximity').count().toPandas().sort_values(by='ocean_proximity')\n",
    "display(tab)\n",
    "\n",
    "# first need to string index ...\n",
    "indx = StringIndexer(inputCol='ocean_proximity', outputCol='oceanProx_int', stringOrderType='alphabetAsc')\n",
    "house = indx.fit(house).transform(house)\n",
    "\n",
    "# ... then we can encode\n",
    "ohe = OneHotEncoder(inputCol='oceanProx_int', outputCol='oceanProx')\n",
    "house = ohe.fit(house).transform(house).drop('oceanProx_int')\n",
    "\n",
    "# make the OHE columns - last is excluded; when all are 0, it's the last\n",
    "featOHE = ['oceanProx_%s'%c for c in tab.ocean_proximity.values[:-1]]\n",
    "print(featOHE)\n",
    "\n",
    "# talk\n",
    "house.show(truncate=False)"
   ]
  },
  {
   "cell_type": "code",
   "execution_count": null,
   "id": "26eba72b",
   "metadata": {},
   "outputs": [],
   "source": [
    "# prepare the response\n",
    "house = house.withColumnRenamed('median_house_value', 'label')"
   ]
  },
  {
   "cell_type": "code",
   "execution_count": null,
   "id": "3c40337b",
   "metadata": {},
   "outputs": [],
   "source": [
    "''' prepare the features '''\n",
    "# get the features\n",
    "features = [c for c in house.columns if c not in (['ocean_proximity', 'label', 'id'])]\n",
    "\n",
    "# create & scale the features vector\n",
    "assr = VectorAssembler(inputCols=features, outputCol='features_raw')\n",
    "scalr = MinMaxScaler(inputCol='features_raw', outputCol='features')\n",
    "pipe = Pipeline(stages=[assr, scalr]).fit(house)\n",
    "house = pipe.transform(house).drop('features_raw')\n",
    "\n",
    "# now update the features list with the ocean proximity OHE columns; this assumes\n",
    "# oceanProx was the last column, which should be true\n",
    "features = features[:-1] + featOHE\n",
    "print(features)\n",
    "\n",
    "# talk\n",
    "display(house.limit(10).toPandas())\n",
    "house.select('id', 'features', 'label').show(truncate=False)\n",
    "house.select('features').take(1)\n",
    "print('First row features = %s'%house.select('features').take(1)[0])"
   ]
  },
  {
   "cell_type": "code",
   "execution_count": null,
   "id": "8b6e84eb-4165-48f9-be0c-0b23c1c54153",
   "metadata": {},
   "outputs": [],
   "source": [
    "# check for multicollinearity\n",
    "# high: total_bedrooms vs. households, population vs. households, \n",
    "corr = Correlation.corr(house, column='features', method='pearson')\n",
    "corrdf = pd.DataFrame(index=features, data=corr.collect()[0][0].toArray(), columns=features)\n",
    "display(corrdf)"
   ]
  },
  {
   "cell_type": "markdown",
   "id": "c5bf49cf-1a63-4978-87fc-1b07b093f160",
   "metadata": {},
   "source": [
    "## Modeling"
   ]
  },
  {
   "cell_type": "code",
   "execution_count": null,
   "id": "d650d61f-d8ff-43ee-bc70-f360d8d01c89",
   "metadata": {},
   "outputs": [],
   "source": [
    "# split for cross-val\n",
    "trainPerc = 0.7\n",
    "randSeed = 42\n",
    "tran, test = house.select('id', 'label', 'features').randomSplit([trainPerc, 1.0 - trainPerc], seed=randSeed)\n",
    "\n",
    "# talk\n",
    "print('Training Cases')\n",
    "tran.select('id').show()\n",
    "print('Testing Cases')\n",
    "test.select('id').show()"
   ]
  },
  {
   "cell_type": "code",
   "execution_count": null,
   "id": "94df9aae-79fb-48b9-acd2-4b13ca9e033a",
   "metadata": {},
   "outputs": [],
   "source": [
    "''' set up the estimators & param grids '''\n",
    "models = {}\n",
    "\n",
    "'''# linear regression\n",
    "linreg = LinearRegression()\n",
    "params = (ParamGridBuilder().addGrid(linreg.elasticNetParam, [0.0, 0.25, 0.5, 0.75, 1.0]).build())\n",
    "paramNames = ['elasticnetparam']\n",
    "models['linear regression'] = [linreg, params, paramNames, None, None]\n",
    "\n",
    "# random forest\n",
    "ranfor = RandomForestRegressor(numTrees=20)\n",
    "params = (ParamGridBuilder().addGrid(ranfor.maxBins, [20, 40, 80, 100])\\\n",
    "              .addGrid(ranfor.maxDepth, [5, 10, 30]).build())\n",
    "paramNames = ['maxbins', 'maxdepth']\n",
    "models['random forest'] = [ranfor, params, paramNames, None, None]'''\n",
    "\n",
    "# gradient boosting trees\n",
    "gradbst = GBTRegressor(maxIter=20)\n",
    "params = (ParamGridBuilder().addGrid(gradbst.maxBins, [20, 40, 80, 100])\\\n",
    "              .addGrid(gradbst.maxDepth, [5, 10, 30]).build())\n",
    "paramNames = ['maxbins', 'maxdepth']\n",
    "models['gradient boost'] = [gradbst, params, paramNames, None, None]"
   ]
  },
  {
   "cell_type": "code",
   "execution_count": null,
   "id": "e94258b5-fa33-490f-8fa7-23c7eef84078",
   "metadata": {},
   "outputs": [],
   "source": [
    "''' run the models '''\n",
    "# number of cv folds\n",
    "folds = 5\n",
    "# define the evaulation function\n",
    "evl = RegressionEvaluator(metricName='rmse')\n",
    "\n",
    "# iterate over models\n",
    "for (model, stuff) in models.items():\n",
    "    print('Cross Validator: %s'%model)\n",
    "    # execute\n",
    "    cv = CrossValidator(estimator=stuff[0], estimatorParamMaps=stuff[1], evaluator=evl, numFolds=folds)\n",
    "    fitModel = cv.fit(house.select('features', 'label'))\n",
    "    # get the best\n",
    "    bestModel = fitModel.bestModel\n",
    "    # evaluate performance on the test set\n",
    "    testRMSE = evl.evaluate(bestModel.transform(test.select('features', 'label')))\n",
    "    print('\\tBest Model Test RMSE = %0.3f'%testRMSE)    \n",
    "    # get best parameters\n",
    "    bestParams = bestModel.extractParamMap()\n",
    "    for (key, val) in bestParams.items():\n",
    "        for parm in stuff[2]:\n",
    "            if parm in key.name.lower():\n",
    "                print('\\t%s = %0.2f'%(key, val))\n",
    "                break\n",
    "    # save stuff\n",
    "    models[model][3] = fitModel\n",
    "    models[model][4] = testRMSE"
   ]
  },
  {
   "cell_type": "code",
   "execution_count": null,
   "id": "86b70786-9369-4d23-aa98-16585e952025",
   "metadata": {},
   "outputs": [],
   "source": [
    "# look at linear regression coefficients\n",
    "bm = models['linear regression'][3].bestModel\n",
    "summ = bm.summary\n",
    "summ.predictions.describe().withColumn('Diff', col('prediction') - col('label')).show(truncate=False)\n",
    "print('Best Model RMSE = %0.3f'%summ.rootMeanSquaredError)\n",
    "\n",
    "# get a nice model coefficients table\n",
    "coefs = pd.concat([pd.DataFrame(index=['Intercept'], data=[bm.intercept], columns=['Coefficient']),\n",
    "                   pd.DataFrame(index=features, data=bm.coefficients.toArray(), columns=['Coefficient'])])\n",
    "coefs['Std. Error'] = bm.summary.coefficientStandardErrors\n",
    "coefs['pValue'] = bm.summary.pValues\n",
    "# make an absolute coef column temporarily for sorting\n",
    "coefs['tmp'] = coefs['Coefficient'].abs() a\n",
    "coefs.loc['Intercept', 'tmp'] = np.inf\n",
    "coefs = coefs.sort_values(by='tmp', ascending=False).drop(columns='tmp')\n",
    "\n",
    "# talk\n",
    "display(coefs)"
   ]
  },
  {
   "cell_type": "code",
   "execution_count": null,
   "id": "3bf575fc-a325-42d5-aa00-42bed99e0cef",
   "metadata": {},
   "outputs": [],
   "source": [
    "# view feature importances for random forest\n",
    "imports = models['random forest'][3].bestModel.featureImportances.toArray()\n",
    "imports = pd.DataFrame(index=features, data=imports, columns=['Importance']).sort_values(by='Importance', ascending=False, inplace=False)\n",
    "display(imports)"
   ]
  },
  {
   "cell_type": "code",
   "execution_count": null,
   "id": "a71d80b2-734b-4701-911a-8b9a704255de",
   "metadata": {},
   "outputs": [],
   "source": [
    "# view feature importances for gradient boost\n",
    "imports = models['gradient boost'][3].bestModel.featureImportances.toArray()\n",
    "imports = pd.DataFrame(index=features, data=imports, columns=['Importance']).sort_values(by='Importance', ascending=False, inplace=False)\n",
    "display(imports)"
   ]
  },
  {
   "cell_type": "code",
   "execution_count": null,
   "id": "fb222983-b161-44d0-ab9a-fe5689a7a1a1",
   "metadata": {},
   "outputs": [],
   "source": []
  },
  {
   "cell_type": "code",
   "execution_count": null,
   "id": "6cb97571-ffcf-4106-bf93-9bae9dd9d6ce",
   "metadata": {},
   "outputs": [],
   "source": []
  },
  {
   "cell_type": "code",
   "execution_count": null,
   "id": "f96928b1",
   "metadata": {},
   "outputs": [],
   "source": [
    "sc.stop()"
   ]
  },
  {
   "cell_type": "code",
   "execution_count": null,
   "id": "2c22f013-c95e-48c7-8bda-edff5bb310e9",
   "metadata": {},
   "outputs": [],
   "source": []
  }
 ],
 "metadata": {
  "kernelspec": {
   "display_name": "Python 3",
   "language": "python",
   "name": "python3"
  },
  "language_info": {
   "codemirror_mode": {
    "name": "ipython",
    "version": 3
   },
   "file_extension": ".py",
   "mimetype": "text/x-python",
   "name": "python",
   "nbconvert_exporter": "python",
   "pygments_lexer": "ipython3",
   "version": "3.8.8"
  }
 },
 "nbformat": 4,
 "nbformat_minor": 5
}
