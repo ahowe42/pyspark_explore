{
 "cells": [
  {
   "cell_type": "markdown",
   "metadata": {},
   "source": [
    "# Aggregating DataFrames in PySpark HW\n",
    "\n",
    "First let's start up our PySpark instance"
   ]
  },
  {
   "cell_type": "code",
   "execution_count": 1,
   "metadata": {},
   "outputs": [],
   "source": [
    "import pandas as pd\n",
    "import numpy as np\n",
    "import datetime as dt\n",
    "import time\n",
    "\n",
    "import findspark\n",
    "findspark.init()\n",
    "import pyspark\n",
    "from pyspark.sql import SparkSession\n",
    "from pyspark.sql.functions import *#avg, count, expr\n",
    "from pyspark.sql.types import *"
   ]
  },
  {
   "cell_type": "code",
   "execution_count": 2,
   "metadata": {},
   "outputs": [
    {
     "name": "stdout",
     "output_type": "stream",
     "text": [
      "1 cores\n"
     ]
    },
    {
     "data": {
      "text/html": [
       "\n",
       "            <div>\n",
       "                <p><b>SparkSession - in-memory</b></p>\n",
       "                \n",
       "        <div>\n",
       "            <p><b>SparkContext</b></p>\n",
       "\n",
       "            <p><a href=\"http://192.168.150.128:4040\">Spark UI</a></p>\n",
       "\n",
       "            <dl>\n",
       "              <dt>Version</dt>\n",
       "                <dd><code>v3.1.1</code></dd>\n",
       "              <dt>Master</dt>\n",
       "                <dd><code>local[*]</code></dd>\n",
       "              <dt>AppName</dt>\n",
       "                <dd><code>aggregating</code></dd>\n",
       "            </dl>\n",
       "        </div>\n",
       "        \n",
       "            </div>\n",
       "        "
      ],
      "text/plain": [
       "<pyspark.sql.session.SparkSession at 0x7fcd600fdcd0>"
      ]
     },
     "execution_count": 2,
     "metadata": {},
     "output_type": "execute_result"
    }
   ],
   "source": [
    "# initialize\n",
    "sc = pyspark.SparkContext()\n",
    "spark = SparkSession(sc)\n",
    "spark.sparkContext.appName = 'aggregating'\n",
    "# show the number of cores\n",
    "print('%d cores'%spark._jsc.sc().getExecutorMemoryStatus().keySet().size())\n",
    "spark"
   ]
  },
  {
   "cell_type": "code",
   "execution_count": 3,
   "metadata": {},
   "outputs": [],
   "source": [
    "# start the timer\n",
    "stt = time.perf_counter()"
   ]
  },
  {
   "cell_type": "markdown",
   "metadata": {},
   "source": [
    "## Read in the dataFrame for this Notebook"
   ]
  },
  {
   "cell_type": "code",
   "execution_count": 4,
   "metadata": {},
   "outputs": [],
   "source": [
    "# load the data\n",
    "fil = '../../data/nyc_air_bnb.csv'\n",
    "schem = StructType([StructField('id', IntegerType()), StructField('name', StringType()),\n",
    "                    StructField('host_id', IntegerType()), StructField('host_name', StringType()),\n",
    "                    StructField('neighbourhood_group', StringType()), StructField('neighbourhood', StringType()),\n",
    "                    StructField('latitude', FloatType()), StructField('longitude', FloatType()),\n",
    "                    StructField('room_type', StringType()), StructField('price', FloatType()),\n",
    "                    StructField('minimum_nights', IntegerType()), StructField('number_of_reviews', IntegerType()),\n",
    "                    StructField('last_review', DateType()), StructField('reviews_per_month', FloatType()),\n",
    "                    StructField('calculated_host_listings_count', IntegerType()), StructField('availability_365', IntegerType())])\n",
    "airbnb = spark.read.format('csv').options(header=True, dateFormat='yyyy-MM-dd').schema(schem).load(fil).repartition('neighbourhood_group')"
   ]
  },
  {
   "cell_type": "code",
   "execution_count": 5,
   "metadata": {},
   "outputs": [
    {
     "data": {
      "text/html": [
       "<div>\n",
       "<style scoped>\n",
       "    .dataframe tbody tr th:only-of-type {\n",
       "        vertical-align: middle;\n",
       "    }\n",
       "\n",
       "    .dataframe tbody tr th {\n",
       "        vertical-align: top;\n",
       "    }\n",
       "\n",
       "    .dataframe thead th {\n",
       "        text-align: right;\n",
       "    }\n",
       "</style>\n",
       "<table border=\"1\" class=\"dataframe\">\n",
       "  <thead>\n",
       "    <tr style=\"text-align: right;\">\n",
       "      <th></th>\n",
       "      <th>id</th>\n",
       "      <th>name</th>\n",
       "      <th>host_id</th>\n",
       "      <th>host_name</th>\n",
       "      <th>neighbourhood_group</th>\n",
       "      <th>neighbourhood</th>\n",
       "      <th>latitude</th>\n",
       "      <th>longitude</th>\n",
       "      <th>room_type</th>\n",
       "      <th>price</th>\n",
       "      <th>minimum_nights</th>\n",
       "      <th>number_of_reviews</th>\n",
       "      <th>last_review</th>\n",
       "      <th>reviews_per_month</th>\n",
       "      <th>calculated_host_listings_count</th>\n",
       "      <th>availability_365</th>\n",
       "    </tr>\n",
       "  </thead>\n",
       "  <tbody>\n",
       "    <tr>\n",
       "      <th>0</th>\n",
       "      <td>NaN</td>\n",
       "      <td>18996093</td>\n",
       "      <td>NaN</td>\n",
       "      <td>Queens</td>\n",
       "      <td>Douglaston</td>\n",
       "      <td>40.75754</td>\n",
       "      <td>-73.730682</td>\n",
       "      <td>NaN</td>\n",
       "      <td>45</td>\n",
       "      <td>1.0</td>\n",
       "      <td>12</td>\n",
       "      <td>NaN</td>\n",
       "      <td>None</td>\n",
       "      <td>5.00</td>\n",
       "      <td>226</td>\n",
       "      <td>NaN</td>\n",
       "    </tr>\n",
       "    <tr>\n",
       "      <th>1</th>\n",
       "      <td>12937.0</td>\n",
       "      <td>1 Stop fr. Manhattan! Private Suite,Landmark B...</td>\n",
       "      <td>50124.0</td>\n",
       "      <td>Orestes</td>\n",
       "      <td>Queens</td>\n",
       "      <td>Long Island City</td>\n",
       "      <td>40.747711</td>\n",
       "      <td>-73.947403</td>\n",
       "      <td>Private room</td>\n",
       "      <td>130.0</td>\n",
       "      <td>3</td>\n",
       "      <td>248.0</td>\n",
       "      <td>2019-07-01</td>\n",
       "      <td>2.25</td>\n",
       "      <td>1</td>\n",
       "      <td>215.0</td>\n",
       "    </tr>\n",
       "    <tr>\n",
       "      <th>2</th>\n",
       "      <td>18198.0</td>\n",
       "      <td>Little King of Queens</td>\n",
       "      <td>70091.0</td>\n",
       "      <td>Justin</td>\n",
       "      <td>Queens</td>\n",
       "      <td>Woodside</td>\n",
       "      <td>40.750381</td>\n",
       "      <td>-73.903343</td>\n",
       "      <td>Private room</td>\n",
       "      <td>70.0</td>\n",
       "      <td>30</td>\n",
       "      <td>25.0</td>\n",
       "      <td>2019-05-31</td>\n",
       "      <td>0.22</td>\n",
       "      <td>1</td>\n",
       "      <td>324.0</td>\n",
       "    </tr>\n",
       "    <tr>\n",
       "      <th>3</th>\n",
       "      <td>32363.0</td>\n",
       "      <td>Fully Furnished Basement Apartment</td>\n",
       "      <td>140025.0</td>\n",
       "      <td>Fredah</td>\n",
       "      <td>Queens</td>\n",
       "      <td>Flushing</td>\n",
       "      <td>40.740280</td>\n",
       "      <td>-73.831680</td>\n",
       "      <td>Private room</td>\n",
       "      <td>140.0</td>\n",
       "      <td>2</td>\n",
       "      <td>1.0</td>\n",
       "      <td>2011-09-19</td>\n",
       "      <td>0.01</td>\n",
       "      <td>1</td>\n",
       "      <td>1.0</td>\n",
       "    </tr>\n",
       "    <tr>\n",
       "      <th>4</th>\n",
       "      <td>39593.0</td>\n",
       "      <td>A room w/ a Manhattan view, longer stay</td>\n",
       "      <td>110506.0</td>\n",
       "      <td>Myung</td>\n",
       "      <td>Queens</td>\n",
       "      <td>Sunnyside</td>\n",
       "      <td>40.745590</td>\n",
       "      <td>-73.923126</td>\n",
       "      <td>Private room</td>\n",
       "      <td>79.0</td>\n",
       "      <td>30</td>\n",
       "      <td>28.0</td>\n",
       "      <td>2019-04-12</td>\n",
       "      <td>0.26</td>\n",
       "      <td>1</td>\n",
       "      <td>126.0</td>\n",
       "    </tr>\n",
       "    <tr>\n",
       "      <th>5</th>\n",
       "      <td>45910.0</td>\n",
       "      <td>Beautiful Queens Brownstone! - 5BR</td>\n",
       "      <td>204539.0</td>\n",
       "      <td>Mark</td>\n",
       "      <td>Queens</td>\n",
       "      <td>Ridgewood</td>\n",
       "      <td>40.703819</td>\n",
       "      <td>-73.897972</td>\n",
       "      <td>Entire home/apt</td>\n",
       "      <td>350.0</td>\n",
       "      <td>8</td>\n",
       "      <td>10.0</td>\n",
       "      <td>2019-05-12</td>\n",
       "      <td>0.11</td>\n",
       "      <td>5</td>\n",
       "      <td>365.0</td>\n",
       "    </tr>\n",
       "    <tr>\n",
       "      <th>6</th>\n",
       "      <td>51850.0</td>\n",
       "      <td>( F) Excellent/Pvt Rm</td>\n",
       "      <td>27848.0</td>\n",
       "      <td>Jullett</td>\n",
       "      <td>Queens</td>\n",
       "      <td>Jamaica</td>\n",
       "      <td>40.672520</td>\n",
       "      <td>-73.765968</td>\n",
       "      <td>Private room</td>\n",
       "      <td>55.0</td>\n",
       "      <td>2</td>\n",
       "      <td>52.0</td>\n",
       "      <td>2019-05-20</td>\n",
       "      <td>0.49</td>\n",
       "      <td>2</td>\n",
       "      <td>365.0</td>\n",
       "    </tr>\n",
       "    <tr>\n",
       "      <th>7</th>\n",
       "      <td>53469.0</td>\n",
       "      <td>cozy studio with parking spot</td>\n",
       "      <td>204539.0</td>\n",
       "      <td>Mark</td>\n",
       "      <td>Queens</td>\n",
       "      <td>Middle Village</td>\n",
       "      <td>40.717220</td>\n",
       "      <td>-73.878563</td>\n",
       "      <td>Entire home/apt</td>\n",
       "      <td>98.0</td>\n",
       "      <td>30</td>\n",
       "      <td>33.0</td>\n",
       "      <td>2015-05-09</td>\n",
       "      <td>0.31</td>\n",
       "      <td>5</td>\n",
       "      <td>240.0</td>\n",
       "    </tr>\n",
       "    <tr>\n",
       "      <th>8</th>\n",
       "      <td>53470.0</td>\n",
       "      <td>Clean and convenient 2BR apartment</td>\n",
       "      <td>204539.0</td>\n",
       "      <td>Mark</td>\n",
       "      <td>Queens</td>\n",
       "      <td>Ridgewood</td>\n",
       "      <td>40.702339</td>\n",
       "      <td>-73.898163</td>\n",
       "      <td>Private room</td>\n",
       "      <td>140.0</td>\n",
       "      <td>7</td>\n",
       "      <td>6.0</td>\n",
       "      <td>2015-10-08</td>\n",
       "      <td>0.06</td>\n",
       "      <td>5</td>\n",
       "      <td>365.0</td>\n",
       "    </tr>\n",
       "    <tr>\n",
       "      <th>9</th>\n",
       "      <td>53477.0</td>\n",
       "      <td>3 floors of luxury!</td>\n",
       "      <td>204539.0</td>\n",
       "      <td>Mark</td>\n",
       "      <td>Queens</td>\n",
       "      <td>Middle Village</td>\n",
       "      <td>40.715462</td>\n",
       "      <td>-73.878540</td>\n",
       "      <td>Entire home/apt</td>\n",
       "      <td>265.0</td>\n",
       "      <td>7</td>\n",
       "      <td>38.0</td>\n",
       "      <td>2019-04-27</td>\n",
       "      <td>0.38</td>\n",
       "      <td>5</td>\n",
       "      <td>365.0</td>\n",
       "    </tr>\n",
       "  </tbody>\n",
       "</table>\n",
       "</div>"
      ],
      "text/plain": [
       "        id                                               name   host_id  \\\n",
       "0      NaN                                           18996093       NaN   \n",
       "1  12937.0  1 Stop fr. Manhattan! Private Suite,Landmark B...   50124.0   \n",
       "2  18198.0                              Little King of Queens   70091.0   \n",
       "3  32363.0                 Fully Furnished Basement Apartment  140025.0   \n",
       "4  39593.0            A room w/ a Manhattan view, longer stay  110506.0   \n",
       "5  45910.0                 Beautiful Queens Brownstone! - 5BR  204539.0   \n",
       "6  51850.0                              ( F) Excellent/Pvt Rm   27848.0   \n",
       "7  53469.0                      cozy studio with parking spot  204539.0   \n",
       "8  53470.0                 Clean and convenient 2BR apartment  204539.0   \n",
       "9  53477.0                                3 floors of luxury!  204539.0   \n",
       "\n",
       "  host_name neighbourhood_group     neighbourhood   latitude  longitude  \\\n",
       "0    Queens          Douglaston          40.75754 -73.730682        NaN   \n",
       "1   Orestes              Queens  Long Island City  40.747711 -73.947403   \n",
       "2    Justin              Queens          Woodside  40.750381 -73.903343   \n",
       "3    Fredah              Queens          Flushing  40.740280 -73.831680   \n",
       "4     Myung              Queens         Sunnyside  40.745590 -73.923126   \n",
       "5      Mark              Queens         Ridgewood  40.703819 -73.897972   \n",
       "6   Jullett              Queens           Jamaica  40.672520 -73.765968   \n",
       "7      Mark              Queens    Middle Village  40.717220 -73.878563   \n",
       "8      Mark              Queens         Ridgewood  40.702339 -73.898163   \n",
       "9      Mark              Queens    Middle Village  40.715462 -73.878540   \n",
       "\n",
       "         room_type  price  minimum_nights  number_of_reviews last_review  \\\n",
       "0               45    1.0              12                NaN        None   \n",
       "1     Private room  130.0               3              248.0  2019-07-01   \n",
       "2     Private room   70.0              30               25.0  2019-05-31   \n",
       "3     Private room  140.0               2                1.0  2011-09-19   \n",
       "4     Private room   79.0              30               28.0  2019-04-12   \n",
       "5  Entire home/apt  350.0               8               10.0  2019-05-12   \n",
       "6     Private room   55.0               2               52.0  2019-05-20   \n",
       "7  Entire home/apt   98.0              30               33.0  2015-05-09   \n",
       "8     Private room  140.0               7                6.0  2015-10-08   \n",
       "9  Entire home/apt  265.0               7               38.0  2019-04-27   \n",
       "\n",
       "   reviews_per_month  calculated_host_listings_count  availability_365  \n",
       "0               5.00                             226               NaN  \n",
       "1               2.25                               1             215.0  \n",
       "2               0.22                               1             324.0  \n",
       "3               0.01                               1               1.0  \n",
       "4               0.26                               1             126.0  \n",
       "5               0.11                               5             365.0  \n",
       "6               0.49                               2             365.0  \n",
       "7               0.31                               5             240.0  \n",
       "8               0.06                               5             365.0  \n",
       "9               0.38                               5             365.0  "
      ]
     },
     "metadata": {},
     "output_type": "display_data"
    }
   ],
   "source": [
    "display(airbnb.limit(10).toPandas())"
   ]
  },
  {
   "cell_type": "markdown",
   "metadata": {},
   "source": [
    "## About this dataset\n",
    "\n",
    "This dataset describes the listing activity and metrics for Air BNB bookers in NYC, NY for 2019. Each line in the dataset is a booking. \n",
    "\n",
    "**Source:** https://www.kaggle.com/dgomonov/new-york-city-airbnb-open-data/data\n",
    "\n",
    "Let's go ahead and view the first few records of the dataset so we know what we are working with."
   ]
  },
  {
   "cell_type": "code",
   "execution_count": 6,
   "metadata": {},
   "outputs": [],
   "source": [
    "# did that above already"
   ]
  },
  {
   "cell_type": "markdown",
   "metadata": {},
   "source": [
    "Now print the schema so we can make sure all the variables have the correct types"
   ]
  },
  {
   "cell_type": "code",
   "execution_count": 7,
   "metadata": {},
   "outputs": [],
   "source": [
    "# no need as I set the schema"
   ]
  },
  {
   "cell_type": "markdown",
   "metadata": {},
   "source": [
    "Notice here that some of the columns that are obviously numeric have been incorrectly identified as \"strings\". Let's edit that. Otherwise we cannot aggregate any of the numeric columns."
   ]
  },
  {
   "cell_type": "code",
   "execution_count": 8,
   "metadata": {},
   "outputs": [],
   "source": [
    "# again, no need!"
   ]
  },
  {
   "cell_type": "markdown",
   "metadata": {},
   "source": [
    "### Alright now we are ready to dig in!\n",
    "\n",
    "\n",
    "### 1. How many rows are in this dataset?"
   ]
  },
  {
   "cell_type": "code",
   "execution_count": 9,
   "metadata": {},
   "outputs": [
    {
     "data": {
      "text/plain": [
       "49079"
      ]
     },
     "execution_count": 9,
     "metadata": {},
     "output_type": "execute_result"
    }
   ],
   "source": [
    "airbnb.count()"
   ]
  },
  {
   "cell_type": "markdown",
   "metadata": {},
   "source": [
    "### 2. How many total reviews does each host have?"
   ]
  },
  {
   "cell_type": "code",
   "execution_count": 10,
   "metadata": {},
   "outputs": [
    {
     "name": "stdout",
     "output_type": "stream",
     "text": [
      "+---------+-----------+\n",
      "|  host_id|ReviewCount|\n",
      "+---------+-----------+\n",
      "| 37312959|       2273|\n",
      "|   344035|       2205|\n",
      "| 26432133|       2017|\n",
      "| 35524316|       1971|\n",
      "| 40176101|       1818|\n",
      "|  4734398|       1798|\n",
      "| 16677326|       1355|\n",
      "|  6885157|       1346|\n",
      "|219517861|       1281|\n",
      "| 23591164|       1269|\n",
      "| 59529529|       1229|\n",
      "| 47621202|       1205|\n",
      "| 22959695|       1157|\n",
      "| 58391491|       1154|\n",
      "| 21641206|       1062|\n",
      "|   137814|       1059|\n",
      "|156948703|       1052|\n",
      "|156684502|       1046|\n",
      "|  3441272|       1013|\n",
      "|  7831209|        970|\n",
      "+---------+-----------+\n",
      "only showing top 20 rows\n",
      "\n"
     ]
    }
   ],
   "source": [
    "airbnb.select('host_id', 'number_of_reviews').groupBy('host_id').agg(sum('number_of_reviews').alias('ReviewCount'))\\\n",
    "    .orderBy(col('ReviewCount').desc()).show()"
   ]
  },
  {
   "cell_type": "markdown",
   "metadata": {},
   "source": [
    "### 3. Show the min and max of all the numeric variables in the dataset"
   ]
  },
  {
   "cell_type": "code",
   "execution_count": 11,
   "metadata": {},
   "outputs": [
    {
     "data": {
      "text/html": [
       "<div>\n",
       "<style scoped>\n",
       "    .dataframe tbody tr th:only-of-type {\n",
       "        vertical-align: middle;\n",
       "    }\n",
       "\n",
       "    .dataframe tbody tr th {\n",
       "        vertical-align: top;\n",
       "    }\n",
       "\n",
       "    .dataframe thead th {\n",
       "        text-align: right;\n",
       "    }\n",
       "</style>\n",
       "<table border=\"1\" class=\"dataframe\">\n",
       "  <thead>\n",
       "    <tr style=\"text-align: right;\">\n",
       "      <th></th>\n",
       "      <th>summary</th>\n",
       "      <th>id</th>\n",
       "      <th>host_id</th>\n",
       "      <th>latitude</th>\n",
       "      <th>longitude</th>\n",
       "      <th>price</th>\n",
       "      <th>minimum_nights</th>\n",
       "      <th>number_of_reviews</th>\n",
       "      <th>reviews_per_month</th>\n",
       "      <th>calculated_host_listings_count</th>\n",
       "      <th>availability_365</th>\n",
       "    </tr>\n",
       "  </thead>\n",
       "  <tbody>\n",
       "    <tr>\n",
       "      <th>0</th>\n",
       "      <td>min</td>\n",
       "      <td>2539</td>\n",
       "      <td>2438</td>\n",
       "      <td>-74.16254</td>\n",
       "      <td>-74.24442</td>\n",
       "      <td>-74.00828</td>\n",
       "      <td>0</td>\n",
       "      <td>0</td>\n",
       "      <td>0.0</td>\n",
       "      <td>0</td>\n",
       "      <td>0</td>\n",
       "    </tr>\n",
       "    <tr>\n",
       "      <th>1</th>\n",
       "      <td>max</td>\n",
       "      <td>36487245</td>\n",
       "      <td>274321313</td>\n",
       "      <td>40.91306</td>\n",
       "      <td>2.4906404E7</td>\n",
       "      <td>10000.0</td>\n",
       "      <td>1250</td>\n",
       "      <td>629</td>\n",
       "      <td>58.5</td>\n",
       "      <td>365</td>\n",
       "      <td>365</td>\n",
       "    </tr>\n",
       "  </tbody>\n",
       "</table>\n",
       "</div>"
      ],
      "text/plain": [
       "  summary        id    host_id   latitude    longitude      price  \\\n",
       "0     min      2539       2438  -74.16254    -74.24442  -74.00828   \n",
       "1     max  36487245  274321313   40.91306  2.4906404E7    10000.0   \n",
       "\n",
       "  minimum_nights number_of_reviews reviews_per_month  \\\n",
       "0              0                 0               0.0   \n",
       "1           1250               629              58.5   \n",
       "\n",
       "  calculated_host_listings_count availability_365  \n",
       "0                              0                0  \n",
       "1                            365              365  "
      ]
     },
     "metadata": {},
     "output_type": "display_data"
    }
   ],
   "source": [
    "# get numeric cols\n",
    "cols = [c.name for c in airbnb.schema if (c.dataType is IntegerType()) or (c.dataType is FloatType())]\n",
    "\n",
    "summ = airbnb.select(cols).summary('min', 'max')\n",
    "display(summ.toPandas())"
   ]
  },
  {
   "cell_type": "markdown",
   "metadata": {},
   "source": [
    "### 4. Which host had the highest number of reviews?\n",
    "\n",
    "Only display the top result.\n",
    "\n",
    "Bonus: format the column names"
   ]
  },
  {
   "cell_type": "code",
   "execution_count": 12,
   "metadata": {},
   "outputs": [],
   "source": [
    "# can already answer this because I sorted the answer for #2 descending by count"
   ]
  },
  {
   "cell_type": "markdown",
   "metadata": {},
   "source": [
    "### 5. On average, how many nights did most hosts specify for a minimum?"
   ]
  },
  {
   "cell_type": "code",
   "execution_count": 13,
   "metadata": {},
   "outputs": [
    {
     "name": "stdout",
     "output_type": "stream",
     "text": [
      "+---------+--------------+\n",
      "|  host_id|mean_min_night|\n",
      "+---------+--------------+\n",
      "|  1384111|          16.0|\n",
      "| 22171095|           2.0|\n",
      "| 11528105|          14.0|\n",
      "|  7174662|           2.0|\n",
      "| 13203690|           2.0|\n",
      "| 84141567|           2.0|\n",
      "| 96424121|           1.0|\n",
      "| 15864671|           4.0|\n",
      "| 70774951|           1.0|\n",
      "|  2108760|           1.0|\n",
      "|154848269|           3.0|\n",
      "|  9956828|           3.0|\n",
      "| 95014144|           1.0|\n",
      "| 37286422|           2.0|\n",
      "|202766239|           1.0|\n",
      "| 48167507|           2.0|\n",
      "|129875945|           2.0|\n",
      "|238685151|           1.0|\n",
      "|238733096|           2.0|\n",
      "|257474717|           2.0|\n",
      "+---------+--------------+\n",
      "only showing top 20 rows\n",
      "\n"
     ]
    }
   ],
   "source": [
    "mnmn = airbnb.select('host_id', 'minimum_nights').groupBy('host_id').agg(mean('minimum_nights').alias('mean_min_night'))\n",
    "mnmn.show()"
   ]
  },
  {
   "cell_type": "code",
   "execution_count": 14,
   "metadata": {},
   "outputs": [
    {
     "name": "stdout",
     "output_type": "stream",
     "text": [
      "+--------------+-----+\n",
      "|mean_min_night|count|\n",
      "+--------------+-----+\n",
      "|           1.0| 8988|\n",
      "|           2.0| 8962|\n",
      "|           3.0| 6399|\n",
      "|           4.0| 2778|\n",
      "|           5.0| 2507|\n",
      "|           7.0| 1665|\n",
      "|          30.0| 1194|\n",
      "|           6.0|  636|\n",
      "|          14.0|  446|\n",
      "|          10.0|  403|\n",
      "|           1.5|  285|\n",
      "|           2.5|  258|\n",
      "|          15.0|  197|\n",
      "|          20.0|  164|\n",
      "|           3.5|  133|\n",
      "|           8.0|  125|\n",
      "|          28.0|  125|\n",
      "|          31.0|  114|\n",
      "|          21.0|  105|\n",
      "|          60.0|   84|\n",
      "+--------------+-----+\n",
      "only showing top 20 rows\n",
      "\n"
     ]
    }
   ],
   "source": [
    "mnmn.select('mean_min_night').groupBy('mean_min_night').count().orderBy(col('count').desc()).show()"
   ]
  },
  {
   "cell_type": "raw",
   "metadata": {},
   "source": [
    "What I did was to show the most frequently selected avg min nights, which is precisely what the question says, but she just took the min. Perhaps I misunderstood what was wanted, but if we assume each host can have multiple properties - which seems reasonable - what I did better answers the question."
   ]
  },
  {
   "cell_type": "markdown",
   "metadata": {},
   "source": [
    "### 6. What is the most expensive neighborhood to stay in on average?\n",
    "\n",
    "Note: only show the one result"
   ]
  },
  {
   "cell_type": "code",
   "execution_count": 15,
   "metadata": {},
   "outputs": [
    {
     "name": "stdout",
     "output_type": "stream",
     "text": [
      "+-------------------+--------------+---------+\n",
      "|neighbourhood_group|neighbourhood |MeanPrice|\n",
      "+-------------------+--------------+---------+\n",
      "|Staten Island      |Fort Wadsworth|800.0    |\n",
      "+-------------------+--------------+---------+\n",
      "only showing top 1 row\n",
      "\n"
     ]
    }
   ],
   "source": [
    "airbnb.select('neighbourhood_group', 'neighbourhood', 'Price').groupBy('neighbourhood_group', 'neighbourhood')\\\n",
    "    .agg(mean('Price').alias('MeanPrice')).orderBy(col('MeanPrice').desc()).show(1, truncate=False)"
   ]
  },
  {
   "cell_type": "markdown",
   "metadata": {},
   "source": [
    "### 7. Display a two by two table that shows the average prices by room type (private and shared only) and neighborhood group (Manhattan and Brooklyn only)"
   ]
  },
  {
   "cell_type": "code",
   "execution_count": 16,
   "metadata": {},
   "outputs": [
    {
     "data": {
      "text/html": [
       "<div>\n",
       "<style scoped>\n",
       "    .dataframe tbody tr th:only-of-type {\n",
       "        vertical-align: middle;\n",
       "    }\n",
       "\n",
       "    .dataframe tbody tr th {\n",
       "        vertical-align: top;\n",
       "    }\n",
       "\n",
       "    .dataframe thead th {\n",
       "        text-align: right;\n",
       "    }\n",
       "</style>\n",
       "<table border=\"1\" class=\"dataframe\">\n",
       "  <thead>\n",
       "    <tr style=\"text-align: right;\">\n",
       "      <th></th>\n",
       "      <th>neighbourhood_group</th>\n",
       "      <th>Private room</th>\n",
       "      <th>Shared room</th>\n",
       "    </tr>\n",
       "  </thead>\n",
       "  <tbody>\n",
       "    <tr>\n",
       "      <th>0</th>\n",
       "      <td>Brooklyn</td>\n",
       "      <td>76.472340</td>\n",
       "      <td>50.527845</td>\n",
       "    </tr>\n",
       "    <tr>\n",
       "      <th>1</th>\n",
       "      <td>Manhattan</td>\n",
       "      <td>116.054003</td>\n",
       "      <td>89.069038</td>\n",
       "    </tr>\n",
       "  </tbody>\n",
       "</table>\n",
       "</div>"
      ],
      "text/plain": [
       "  neighbourhood_group  Private room  Shared room\n",
       "0            Brooklyn     76.472340    50.527845\n",
       "1           Manhattan    116.054003    89.069038"
      ]
     },
     "metadata": {},
     "output_type": "display_data"
    }
   ],
   "source": [
    "pvt = airbnb.select('neighbourhood_group', 'room_type', 'price')\\\n",
    "    .where(col('neighbourhood_group').isin('Manhattan', 'Brooklyn') & col('room_type').isin('Private room', 'Shared room'))\\\n",
    "    .groupBy('neighbourhood_group').pivot('room_type').agg(mean('price').alias('MeanPrice'))\n",
    "display(pvt.toPandas())"
   ]
  },
  {
   "cell_type": "markdown",
   "metadata": {},
   "source": [
    "### Alright that's all folks!\n",
    "\n",
    "### Great job!"
   ]
  },
  {
   "cell_type": "code",
   "execution_count": 17,
   "metadata": {},
   "outputs": [
    {
     "name": "stdout",
     "output_type": "stream",
     "text": [
      "Elapsed time = 1.033(m)\n"
     ]
    }
   ],
   "source": [
    "# stop the timer\n",
    "stp = time.perf_counter()\n",
    "print('Elapsed time = %0.3f(m)'%((stp-stt)/60))"
   ]
  },
  {
   "cell_type": "markdown",
   "metadata": {},
   "source": [
    "### Timing without repartitioning on neighbourhood group = 1.055(m)\n",
    "### Timing with repartitioning on neighbourhood gruop = 1.516(m)"
   ]
  },
  {
   "cell_type": "code",
   "execution_count": 18,
   "metadata": {},
   "outputs": [],
   "source": [
    "sc.stop()"
   ]
  },
  {
   "cell_type": "code",
   "execution_count": null,
   "metadata": {},
   "outputs": [],
   "source": []
  }
 ],
 "metadata": {
  "kernelspec": {
   "display_name": "Python 3",
   "language": "python",
   "name": "python3"
  },
  "language_info": {
   "codemirror_mode": {
    "name": "ipython",
    "version": 3
   },
   "file_extension": ".py",
   "mimetype": "text/x-python",
   "name": "python",
   "nbconvert_exporter": "python",
   "pygments_lexer": "ipython3",
   "version": "3.8.8"
  }
 },
 "nbformat": 4,
 "nbformat_minor": 4
}
