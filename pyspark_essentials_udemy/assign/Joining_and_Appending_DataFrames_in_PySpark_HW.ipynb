{
 "cells": [
  {
   "cell_type": "markdown",
   "metadata": {},
   "source": [
    "# Joining and Appending DataFrames in PySpark HW\n",
    "\n",
    "Now it's time to test your knowledge and further engrain the concepts we touched on in the lectures. Let's go ahead and get started.\n",
    "\n",
    "\n",
    "\n",
    "\n",
    "**As always let's start our Spark instance.**"
   ]
  },
  {
   "cell_type": "code",
   "execution_count": 1,
   "metadata": {},
   "outputs": [],
   "source": [
    "import pandas as pd\n",
    "import numpy as np\n",
    "import datetime as dt\n",
    "import os\n",
    "\n",
    "import findspark\n",
    "findspark.init()\n",
    "import pyspark\n",
    "from pyspark.sql import SparkSession\n",
    "from pyspark.sql.functions import *#avg, count, expr\n",
    "from pyspark.sql.types import *"
   ]
  },
  {
   "cell_type": "code",
   "execution_count": 4,
   "metadata": {},
   "outputs": [
    {
     "name": "stdout",
     "output_type": "stream",
     "text": [
      "1 cores\n"
     ]
    },
    {
     "data": {
      "text/html": [
       "\n",
       "            <div>\n",
       "                <p><b>SparkSession - in-memory</b></p>\n",
       "                \n",
       "        <div>\n",
       "            <p><b>SparkContext</b></p>\n",
       "\n",
       "            <p><a href=\"http://192.168.150.128:4040\">Spark UI</a></p>\n",
       "\n",
       "            <dl>\n",
       "              <dt>Version</dt>\n",
       "                <dd><code>v3.1.1</code></dd>\n",
       "              <dt>Master</dt>\n",
       "                <dd><code>local[*]</code></dd>\n",
       "              <dt>AppName</dt>\n",
       "                <dd><code>joinAppend</code></dd>\n",
       "            </dl>\n",
       "        </div>\n",
       "        \n",
       "            </div>\n",
       "        "
      ],
      "text/plain": [
       "<pyspark.sql.session.SparkSession at 0x7f70b4ff8130>"
      ]
     },
     "execution_count": 4,
     "metadata": {},
     "output_type": "execute_result"
    }
   ],
   "source": [
    "# initialize\n",
    "sc = pyspark.SparkContext()\n",
    "spark = SparkSession(sc)\n",
    "spark.sparkContext.appName = 'joinAppend'\n",
    "# show the number of cores\n",
    "print('%d cores'%spark._jsc.sc().getExecutorMemoryStatus().keySet().size())\n",
    "spark"
   ]
  },
  {
   "cell_type": "markdown",
   "metadata": {},
   "source": [
    "## Read in the database\n",
    "\n",
    "Let cotinue working with our college courses dataframe to get some more insights and practice what we have learned!Let's read in the whole database using the loop function that we learned about in the lecture to automatically read in all the datasets from the uw-madision-courses folder (there are too many datasets to each one individually."
   ]
  },
  {
   "cell_type": "code",
   "execution_count": 5,
   "metadata": {},
   "outputs": [],
   "source": [
    "# load univ of wisconsin madison data into a dict of dataframes\n",
    "path = '../../data/uw-madison-courses/'\n",
    "uofw = {f.split('.')[0]:spark.read.format('csv').options(header=True, inferSchema=True).load(path+f) for f in os.listdir(path) if f[-4:] == '.csv'}"
   ]
  },
  {
   "cell_type": "markdown",
   "metadata": {},
   "source": [
    "Now check the contents of a few of the dataframses that were read in above."
   ]
  },
  {
   "cell_type": "code",
   "execution_count": 6,
   "metadata": {},
   "outputs": [
    {
     "name": "stdout",
     "output_type": "stream",
     "text": [
      "subject_memberships\n",
      "+------------+------------------------------------+\n",
      "|subject_code|course_offering_uuid                |\n",
      "+------------+------------------------------------+\n",
      "|220         |344b3ebe-da7e-314c-83ed-9425269695fd|\n",
      "|320         |344b3ebe-da7e-314c-83ed-9425269695fd|\n",
      "|346         |344b3ebe-da7e-314c-83ed-9425269695fd|\n",
      "|612         |344b3ebe-da7e-314c-83ed-9425269695fd|\n",
      "|636         |344b3ebe-da7e-314c-83ed-9425269695fd|\n",
      "+------------+------------------------------------+\n",
      "only showing top 5 rows\n",
      "\n",
      "instructors\n",
      "+-------+------------------+\n",
      "|id     |name              |\n",
      "+-------+------------------+\n",
      "|761703 |JOHN ARCHAMBAULT  |\n",
      "|3677061|STEPHANIE KANN    |\n",
      "|788586 |KATHY PREM        |\n",
      "|1600463|KRISTIN KLARKOWSKI|\n",
      "|693634 |DAVID BOHNHOFF    |\n",
      "+-------+------------------+\n",
      "only showing top 5 rows\n",
      "\n",
      "rooms\n",
      "+------------------------------------+-------------+---------+\n",
      "|uuid                                |facility_code|room_code|\n",
      "+------------------------------------+-------------+---------+\n",
      "|04368a56-c959-3e4b-8b3d-f4cc3538fea5|OFF CAMPUS   |null     |\n",
      "|2cc50da3-ef0e-3572-a557-ca44930a0688|0032         |0249     |\n",
      "|ebbf62b4-2ac3-356b-b0fa-7897f4446a17|0032         |B101     |\n",
      "|ed828265-475b-31b4-b9a8-daec2a600449|0032         |0549     |\n",
      "|b277dc8e-bab1-3a12-bc17-48d4a364d297|0032         |0349     |\n",
      "+------------------------------------+-------------+---------+\n",
      "only showing top 5 rows\n",
      "\n",
      "schedules\n",
      "+------------------------------------+----------+--------+-----+-----+-----+-----+-----+-----+-----+\n",
      "|uuid                                |start_time|end_time|mon  |tues |wed  |thurs|fri  |sat  |sun  |\n",
      "+------------------------------------+----------+--------+-----+-----+-----+-----+-----+-----+-----+\n",
      "|f2d66a4d-0c08-3b48-abf6-649fffd7ae90|-1        |-1      |false|false|false|false|false|false|false|\n",
      "|875542a2-f786-34dd-933b-84a8af1aaaba|530       |580     |true |false|true |false|false|false|false|\n",
      "|f41f1e4d-cb4f-3ded-b4b0-4a7c4da044e5|660       |710     |false|true |false|true |false|false|false|\n",
      "|46da55a4-17f7-31a1-9492-fddb5af9cf13|800       |850     |false|true |false|true |false|false|false|\n",
      "|8c7cd81e-4f81-357c-a40b-43f954484804|725       |775     |false|true |false|true |false|false|false|\n",
      "+------------------------------------+----------+--------+-----+-----+-----+-----+-----+-----+-----+\n",
      "only showing top 5 rows\n",
      "\n",
      "courses\n",
      "+------------------------------------+---------------------------------------------------------------+------+\n",
      "|uuid                                |name                                                           |number|\n",
      "+------------------------------------+---------------------------------------------------------------+------+\n",
      "|a3e3e1c3-543d-3bb5-ae65-5f2aec4ad1de|Cooperative Education Program                                  |1     |\n",
      "|c070a84f-648f-351d-9499-5d0e30ad02cc|Cooperative Education/Co-op in Life Sciences Communication     |1     |\n",
      "|e6b4b7ae-0e0b-3aa5-9d77-7fcd90c9cfa3|Cooperative Education Program                                  |1     |\n",
      "|8f63bde1-ff7f-3fe7-9901-862908bf134c|Workshop in Dance Activity                                     |1     |\n",
      "|f3541888-584a-3923-9ce7-6341ff3d84a1|Cooperative Education/Co-op in Agricultural & Applied Economics|1     |\n",
      "+------------------------------------+---------------------------------------------------------------+------+\n",
      "only showing top 5 rows\n",
      "\n",
      "course_offerings\n",
      "+------------------------------------+------------------------------------+---------+--------------------------+\n",
      "|uuid                                |course_uuid                         |term_code|name                      |\n",
      "+------------------------------------+------------------------------------+---------+--------------------------+\n",
      "|344b3ebe-da7e-314c-83ed-9425269695fd|a3e3e1c3-543d-3bb5-ae65-5f2aec4ad1de|1092     |Cooperative Education Prog|\n",
      "|f718e6cd-33f0-3c14-a9a6-834d9c3610a8|a3e3e1c3-543d-3bb5-ae65-5f2aec4ad1de|1082     |Cooperative Education Prog|\n",
      "|ea3b717c-d66b-30dc-8b37-964d9688295f|a3e3e1c3-543d-3bb5-ae65-5f2aec4ad1de|1172     |Cooperative Education Prog|\n",
      "|075da420-5f49-3dd0-93df-13e3c152e1b1|a3e3e1c3-543d-3bb5-ae65-5f2aec4ad1de|1114     |Cooperative Education Prog|\n",
      "|2b4e216d-a728-3713-8c7c-19afffc6b2fd|a3e3e1c3-543d-3bb5-ae65-5f2aec4ad1de|1104     |Cooperative Education Prog|\n",
      "+------------------------------------+------------------------------------+---------+--------------------------+\n",
      "only showing top 5 rows\n",
      "\n",
      "grade_distributions\n",
      "+------------------------------------+--------------+-------+--------+-------+--------+-------+-------+-------+-------+-------+--------+-------+-------+-------+--------+--------+-----------+\n",
      "|course_offering_uuid                |section_number|a_count|ab_count|b_count|bc_count|c_count|d_count|f_count|s_count|u_count|cr_count|n_count|p_count|i_count|nw_count|nr_count|other_count|\n",
      "+------------------------------------+--------------+-------+--------+-------+--------+-------+-------+-------+-------+-------+--------+-------+-------+-------+--------+--------+-----------+\n",
      "|344b3ebe-da7e-314c-83ed-9425269695fd|1             |105    |0       |0      |0       |0      |0      |0      |0      |0      |0       |0      |0      |0      |0       |0       |0          |\n",
      "|f718e6cd-33f0-3c14-a9a6-834d9c3610a8|1             |158    |0       |0      |0       |0      |0      |0      |0      |0      |0       |0      |0      |1      |0       |0       |0          |\n",
      "|ea3b717c-d66b-30dc-8b37-964d9688295f|1             |139    |12      |2      |0       |3      |0      |0      |0      |0      |0       |0      |0      |0      |0       |0       |0          |\n",
      "|075da420-5f49-3dd0-93df-13e3c152e1b1|1             |87     |0       |0      |0       |0      |0      |0      |0      |0      |0       |0      |0      |1      |0       |0       |0          |\n",
      "|2b4e216d-a728-3713-8c7c-19afffc6b2fd|1             |70     |0       |0      |0       |0      |0      |0      |0      |0      |0       |0      |0      |1      |0       |0       |0          |\n",
      "+------------------------------------+--------------+-------+--------+-------+--------+-------+-------+-------+-------+-------+--------+-------+-------+-------+--------+--------+-----------+\n",
      "only showing top 5 rows\n",
      "\n",
      "teachings\n",
      "+-------------+------------------------------------+\n",
      "|instructor_id|section_uuid                        |\n",
      "+-------------+------------------------------------+\n",
      "|761703       |45adf63c-48c9-3659-8561-07556d2d4ddf|\n",
      "|761703       |c6280e23-5e43-3859-893e-540d94993529|\n",
      "|761703       |9395dc21-15d1-3fab-8d1f-6f3fe6114c48|\n",
      "|3677061      |b99e440b-39db-350a-81eb-b6eb1bd8b0bc|\n",
      "|761703       |ca1c841f-41d5-3298-bd25-01c65751f150|\n",
      "+-------------+------------------------------------+\n",
      "only showing top 5 rows\n",
      "\n",
      "sections\n",
      "+------------------------------------+------------------------------------+------------+------+------------------------------------+------------------------------------+\n",
      "|uuid                                |course_offering_uuid                |section_type|number|room_uuid                           |schedule_uuid                       |\n",
      "+------------------------------------+------------------------------------+------------+------+------------------------------------+------------------------------------+\n",
      "|45adf63c-48c9-3659-8561-07556d2d4ddf|344b3ebe-da7e-314c-83ed-9425269695fd|FLD         |1     |null                                |f2d66a4d-0c08-3b48-abf6-649fffd7ae90|\n",
      "|c6280e23-5e43-3859-893e-540d94993529|f718e6cd-33f0-3c14-a9a6-834d9c3610a8|FLD         |1     |null                                |f2d66a4d-0c08-3b48-abf6-649fffd7ae90|\n",
      "|9395dc21-15d1-3fab-8d1f-6f3fe6114c48|ea3b717c-d66b-30dc-8b37-964d9688295f|FLD         |1     |04368a56-c959-3e4b-8b3d-f4cc3538fea5|f2d66a4d-0c08-3b48-abf6-649fffd7ae90|\n",
      "|b99e440b-39db-350a-81eb-b6eb1bd8b0bc|ea3b717c-d66b-30dc-8b37-964d9688295f|FLD         |1     |null                                |f2d66a4d-0c08-3b48-abf6-649fffd7ae90|\n",
      "|ca1c841f-41d5-3298-bd25-01c65751f150|ea3b717c-d66b-30dc-8b37-964d9688295f|FLD         |1     |null                                |f2d66a4d-0c08-3b48-abf6-649fffd7ae90|\n",
      "+------------------------------------+------------------------------------+------------+------+------------------------------------+------------------------------------+\n",
      "only showing top 5 rows\n",
      "\n",
      "subjects\n",
      "+----+------------------------------------+------------+\n",
      "|code|name                                |abbreviation|\n",
      "+----+------------------------------------+------------+\n",
      "|908 |Soil Science                        |SOIL SCI    |\n",
      "|350 |ENGLISH                             |ENGLISH     |\n",
      "|351 |English as a Second Language        |ESL         |\n",
      "|230 |Human Development and Family Studies|HDFS        |\n",
      "|352 |English                             |ENGL        |\n",
      "+----+------------------------------------+------------+\n",
      "only showing top 5 rows\n",
      "\n"
     ]
    }
   ],
   "source": [
    "# show the head of each\n",
    "for (key, val) in uofw.items():\n",
    "    print(key)\n",
    "    val.show(5, truncate=False)"
   ]
  },
  {
   "cell_type": "markdown",
   "metadata": {},
   "source": [
    "## Recap: About this database\n",
    "\n",
    "You will notice that there are several more tables in the uw-madision-courses folder than there are read in above. This so that you will have a chance to practice your own custom joins and learn about the relationships between a real database work. Sometimes we don't know how they are related and we need to figure it out! I'll save that for the HW :) \n",
    "\n",
    "Here is a look at some of the important variables we can use to join our tables:\n",
    "\n",
    " - course_offerings: uuid, course_uuid, term_code, name\n",
    " - instructors: id, name\n",
    " - schedules: uuid\n",
    " - sections: uuid, course_offering_uuid,room_uuid, schedule_uuid\n",
    " - teachings: instructor_id, section_uuid\n",
    " - courses: uuid\n",
    " - grade_distributions: course_offering_uuid,section_number\n",
    " - rooms: uuid, facility_code, room_code\n",
    " - subjects: code\n",
    " - subject_memberships: subject_code, course_offering_uuid\n",
    " \n",
    " **Source:** https://www.kaggle.com/Madgrades/uw-madison-courses\n",
    " \n",
    "So alright, let's use this information to discover some insights from this data!"
   ]
  },
  {
   "cell_type": "markdown",
   "metadata": {},
   "source": [
    "## 1a. Can you assign the room numbers to each section of each course?\n",
    "\n",
    "Show only the rooms uuid, facility code, room number, term code and the name of the course from the course_offerings table."
   ]
  },
  {
   "cell_type": "code",
   "execution_count": null,
   "metadata": {},
   "outputs": [],
   "source": [
    "joined = uofw['course_offerings'].withColumnRenamed('uuid', 'course_offering_uuid').withColumnRenamed('name', 'course_name')\\\n",
    "    .join(uofw['sections'].withColumnRenamed('uuid', 'section_uuid'), how='inner', on='course_offering_uuid')\\\n",
    "    .join(uofw['rooms'].withColumnRenamed('uuid', 'room_uuid'), how='inner', on='room_uuid')\n",
    "\n",
    "display(joined.select('course_name', 'term_code', 'facility_code', 'room_code', 'room_uuid').limit(4).toPandas())"
   ]
  },
  {
   "cell_type": "markdown",
   "metadata": {},
   "source": [
    "## 1b. Now show same output as above but for only facility number 0469 (facility_code)"
   ]
  },
  {
   "cell_type": "code",
   "execution_count": null,
   "metadata": {},
   "outputs": [],
   "source": [
    "joined.select('course_name', 'term_code', 'facility_code', 'room_code', 'room_uuid').where(col('facility_code')=='0469').show(truncate=False)"
   ]
  },
  {
   "cell_type": "markdown",
   "metadata": {},
   "source": [
    "## 2. Count how many sections are offered for each subject for each facility\n",
    "\n",
    "*Note: this will involve a groupby*"
   ]
  },
  {
   "cell_type": "code",
   "execution_count": null,
   "metadata": {},
   "outputs": [],
   "source": [
    "joined.join(uofw['subject_memberships'], how='inner', on='course_offering_uuid')\\\n",
    "    .groupBy('subject_code', 'facility_code').count().orderBy(col('count').desc()).show()"
   ]
  },
  {
   "cell_type": "code",
   "execution_count": null,
   "metadata": {},
   "outputs": [],
   "source": []
  },
  {
   "cell_type": "code",
   "execution_count": null,
   "metadata": {},
   "outputs": [],
   "source": []
  },
  {
   "cell_type": "code",
   "execution_count": null,
   "metadata": {},
   "outputs": [],
   "source": []
  },
  {
   "cell_type": "markdown",
   "metadata": {},
   "source": [
    "## 3. What are the hardest classes?\n",
    "\n",
    "Let's see if we can figure out which classes are the hardest by seeing how many students failed. Note that you will first need to aggregate the grades table by the course uuid to include all sections. Show the name of the course as well that you will need to get from the course_offering table."
   ]
  },
  {
   "cell_type": "code",
   "execution_count": 7,
   "metadata": {},
   "outputs": [],
   "source": [
    "hardest = uofw['grade_distributions'].select('course_offering_uuid', 'f_count', (col('a_count') + col('ab_count') + col('b_count') + col('bc_count') +\n",
    "                                                                                 col('c_count') + col('d_count') + col('f_count')).alias('students'))\\\n",
    "    .groupBy('course_offering_uuid').agg(sum('f_count').alias('total_failed'), sum('students').alias('total_students'))\\\n",
    "    .join(uofw['course_offerings'].withColumnRenamed('uuid', 'course_offering_uuid').withColumnRenamed('name', 'course_name'))\\\n",
    "    .select('course_name', 'total_students', 'total_failed', (100*col('total_failed')/col('total_students')).alias('perc_failed'))\\\n",
    "    .orderBy(col('perc_failed').desc())"
   ]
  },
  {
   "cell_type": "code",
   "execution_count": 11,
   "metadata": {},
   "outputs": [
    {
     "name": "stdout",
     "output_type": "stream",
     "text": [
      "+--------------------------+--------------+------------+-----------------+\n",
      "|course_name               |total_students|total_failed|perc_failed      |\n",
      "+--------------------------+--------------+------------+-----------------+\n",
      "|Cooperative Education Prog|26            |8           |30.76923076923077|\n",
      "|Cooperative Education Prog|26            |8           |30.76923076923077|\n",
      "|Cooperative Education Prog|26            |8           |30.76923076923077|\n",
      "|Cooperative Education Prog|26            |8           |30.76923076923077|\n",
      "|Cooperative Education Prog|26            |8           |30.76923076923077|\n",
      "|Cooperative Education Prog|26            |8           |30.76923076923077|\n",
      "|Cooperative Education Prog|26            |8           |30.76923076923077|\n",
      "|Cooperative Education Prog|26            |8           |30.76923076923077|\n",
      "|Cooperative Education Prog|26            |8           |30.76923076923077|\n",
      "|Cooperative Education Prog|26            |8           |30.76923076923077|\n",
      "+--------------------------+--------------+------------+-----------------+\n",
      "only showing top 10 rows\n",
      "\n"
     ]
    }
   ],
   "source": [
    "hardest.where(col('total_students') > 10).show(10, truncate=False)"
   ]
  },
  {
   "cell_type": "markdown",
   "metadata": {},
   "source": [
    "## Challenge Question: Automating data entry errors\n",
    "\n",
    "We see in the dataframe below that there are several typos of various animal names. If this was a large database of several millions of records, correcting these errors would be way too labor intensive. How can we automate correcting these errors?\n",
    "\n",
    "*Hint: Leven...*"
   ]
  },
  {
   "cell_type": "code",
   "execution_count": null,
   "metadata": {},
   "outputs": [],
   "source": [
    "values = [('Monkey',10),('Monkay',36),('Mnky',123), \\\n",
    "          ('Elephant',48),('Elefant',16),('Ellafant',1), \\\n",
    "          ('Hippopotamus',48),('Hipopotamus',16),('Hippo',1)]\n",
    "zoo = spark.createDataFrame(values,['Animal','age'])\n",
    "zoo.show()"
   ]
  },
  {
   "cell_type": "code",
   "execution_count": null,
   "metadata": {},
   "outputs": [],
   "source": [
    "# not really interested in this..."
   ]
  },
  {
   "cell_type": "code",
   "execution_count": null,
   "metadata": {},
   "outputs": [],
   "source": []
  },
  {
   "cell_type": "code",
   "execution_count": null,
   "metadata": {},
   "outputs": [],
   "source": []
  },
  {
   "cell_type": "markdown",
   "metadata": {},
   "source": [
    "### Great job! "
   ]
  },
  {
   "cell_type": "code",
   "execution_count": 12,
   "metadata": {},
   "outputs": [],
   "source": [
    "sc.stop()"
   ]
  },
  {
   "cell_type": "code",
   "execution_count": null,
   "metadata": {},
   "outputs": [],
   "source": []
  }
 ],
 "metadata": {
  "kernelspec": {
   "display_name": "Python 3",
   "language": "python",
   "name": "python3"
  },
  "language_info": {
   "codemirror_mode": {
    "name": "ipython",
    "version": 3
   },
   "file_extension": ".py",
   "mimetype": "text/x-python",
   "name": "python",
   "nbconvert_exporter": "python",
   "pygments_lexer": "ipython3",
   "version": "3.8.8"
  }
 },
 "nbformat": 4,
 "nbformat_minor": 4
}
