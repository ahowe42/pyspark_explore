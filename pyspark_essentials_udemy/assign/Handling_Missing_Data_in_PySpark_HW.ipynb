{
 "cells": [
  {
   "cell_type": "markdown",
   "metadata": {},
   "source": [
    "# Handling Missing Data in PySpark HW Solutions\n",
    "\n",
    "In this HW assignment you will be strengthening your skill sets dealing with missing data.\n",
    " \n",
    "**Review:** you have 2 basic options for filling in missing data (you will personally have to make the decision for what is the right approach:\n",
    "\n",
    "1. Drop the missing data points (including the entire row)\n",
    "2. Fill them in with some other value.\n",
    "\n",
    "Let's practice some examples of each of these methods!\n",
    "\n",
    "\n",
    "#### But first!\n",
    "\n",
    "Start your Spark session"
   ]
  },
  {
   "cell_type": "code",
   "execution_count": 1,
   "metadata": {},
   "outputs": [],
   "source": [
    "import pandas as pd\n",
    "import numpy as np\n",
    "import datetime as dt\n",
    "\n",
    "import findspark\n",
    "findspark.init()\n",
    "import pyspark\n",
    "from pyspark.sql import SparkSession\n",
    "from pyspark.sql.functions import *#avg, count, expr\n",
    "from pyspark.sql.types import *"
   ]
  },
  {
   "cell_type": "code",
   "execution_count": 2,
   "metadata": {},
   "outputs": [
    {
     "name": "stdout",
     "output_type": "stream",
     "text": [
      "1 cores\n"
     ]
    },
    {
     "data": {
      "text/html": [
       "\n",
       "            <div>\n",
       "                <p><b>SparkSession - in-memory</b></p>\n",
       "                \n",
       "        <div>\n",
       "            <p><b>SparkContext</b></p>\n",
       "\n",
       "            <p><a href=\"http://192.168.150.128:4040\">Spark UI</a></p>\n",
       "\n",
       "            <dl>\n",
       "              <dt>Version</dt>\n",
       "                <dd><code>v3.1.1</code></dd>\n",
       "              <dt>Master</dt>\n",
       "                <dd><code>local[*]</code></dd>\n",
       "              <dt>AppName</dt>\n",
       "                <dd><code>handlingMissing</code></dd>\n",
       "            </dl>\n",
       "        </div>\n",
       "        \n",
       "            </div>\n",
       "        "
      ],
      "text/plain": [
       "<pyspark.sql.session.SparkSession at 0x7f4fac0c55e0>"
      ]
     },
     "execution_count": 2,
     "metadata": {},
     "output_type": "execute_result"
    }
   ],
   "source": [
    "# initialize\n",
    "sc = pyspark.SparkContext()\n",
    "spark = SparkSession(sc)\n",
    "spark.sparkContext.appName = 'handlingMissing'\n",
    "# show the number of cores\n",
    "print('%d cores'%spark._jsc.sc().getExecutorMemoryStatus().keySet().size())\n",
    "spark"
   ]
  },
  {
   "cell_type": "markdown",
   "metadata": {},
   "source": [
    "## Read in the dataset for this Notebook\n",
    "\n",
    "Weather.csv attached to this lecture. "
   ]
  },
  {
   "cell_type": "code",
   "execution_count": 13,
   "metadata": {},
   "outputs": [],
   "source": [
    "fil = '../../data/Weather.csv'\n",
    "schem = StructType([StructField('pickup_datetime', TimestampType()), StructField('tempm', FloatType()),\n",
    "                    StructField('tempi', FloatType()), StructField('dewptm', FloatType()),\n",
    "                    StructField('dewpti', FloatType()), StructField('hum', FloatType()),\n",
    "                    StructField('wspdm', StringType()), StructField('wspdi', FloatType()),\n",
    "                    StructField('wgustm', FloatType()), StructField('wgusti', FloatType()),\n",
    "                    StructField('wdird', FloatType()), StructField('wdire', FloatType()),\n",
    "                    StructField('vism', FloatType()), StructField('visi', FloatType()),\n",
    "                    StructField('pressurem', FloatType()), StructField('pressurei', FloatType()),\n",
    "                    StructField('windchillm', FloatType()), StructField('windchilli', FloatType()),\n",
    "                    StructField('heatindexm', FloatType()), StructField('heatindexi', FloatType()),\n",
    "                    StructField('precipm', FloatType()), StructField('precipi', FloatType()),\n",
    "                    StructField('conds', StringType()), StructField('icon', StringType()),\n",
    "                    StructField('fog', IntegerType()), StructField('rain', IntegerType()),\n",
    "                    StructField('snow', IntegerType()), StructField('hail', IntegerType()),\n",
    "                    StructField('thunder', IntegerType()), StructField('tornado', IntegerType())])\n",
    "weath = spark.read.format('csv').options(header='True', timestampFormat='YYYY-mm-DD HH:MM:SS').schema(schem).load(fil)"
   ]
  },
  {
   "cell_type": "code",
   "execution_count": 14,
   "metadata": {},
   "outputs": [
    {
     "name": "stdout",
     "output_type": "stream",
     "text": [
      "10481 rows\n"
     ]
    },
    {
     "data": {
      "text/html": [
       "<div>\n",
       "<style scoped>\n",
       "    .dataframe tbody tr th:only-of-type {\n",
       "        vertical-align: middle;\n",
       "    }\n",
       "\n",
       "    .dataframe tbody tr th {\n",
       "        vertical-align: top;\n",
       "    }\n",
       "\n",
       "    .dataframe thead th {\n",
       "        text-align: right;\n",
       "    }\n",
       "</style>\n",
       "<table border=\"1\" class=\"dataframe\">\n",
       "  <thead>\n",
       "    <tr style=\"text-align: right;\">\n",
       "      <th></th>\n",
       "      <th>pickup_datetime</th>\n",
       "      <th>tempm</th>\n",
       "      <th>tempi</th>\n",
       "      <th>dewptm</th>\n",
       "      <th>dewpti</th>\n",
       "      <th>hum</th>\n",
       "      <th>wspdm</th>\n",
       "      <th>wspdi</th>\n",
       "      <th>wgustm</th>\n",
       "      <th>wgusti</th>\n",
       "      <th>...</th>\n",
       "      <th>precipm</th>\n",
       "      <th>precipi</th>\n",
       "      <th>conds</th>\n",
       "      <th>icon</th>\n",
       "      <th>fog</th>\n",
       "      <th>rain</th>\n",
       "      <th>snow</th>\n",
       "      <th>hail</th>\n",
       "      <th>thunder</th>\n",
       "      <th>tornado</th>\n",
       "    </tr>\n",
       "  </thead>\n",
       "  <tbody>\n",
       "    <tr>\n",
       "      <th>0</th>\n",
       "      <td>2015-12-31 00:15:00</td>\n",
       "      <td>7.8</td>\n",
       "      <td>46.0</td>\n",
       "      <td>6.1</td>\n",
       "      <td>43.000000</td>\n",
       "      <td>89.0</td>\n",
       "      <td>7.4</td>\n",
       "      <td>4.6</td>\n",
       "      <td>NaN</td>\n",
       "      <td>NaN</td>\n",
       "      <td>...</td>\n",
       "      <td>0.5</td>\n",
       "      <td>0.02</td>\n",
       "      <td>Light Rain</td>\n",
       "      <td>rain</td>\n",
       "      <td>0</td>\n",
       "      <td>1</td>\n",
       "      <td>0</td>\n",
       "      <td>0</td>\n",
       "      <td>0</td>\n",
       "      <td>0</td>\n",
       "    </tr>\n",
       "    <tr>\n",
       "      <th>1</th>\n",
       "      <td>2015-12-31 00:42:00</td>\n",
       "      <td>7.8</td>\n",
       "      <td>46.0</td>\n",
       "      <td>6.1</td>\n",
       "      <td>43.000000</td>\n",
       "      <td>89.0</td>\n",
       "      <td>7.4</td>\n",
       "      <td>4.6</td>\n",
       "      <td>NaN</td>\n",
       "      <td>NaN</td>\n",
       "      <td>...</td>\n",
       "      <td>0.8</td>\n",
       "      <td>0.03</td>\n",
       "      <td>Overcast</td>\n",
       "      <td>cloudy</td>\n",
       "      <td>0</td>\n",
       "      <td>0</td>\n",
       "      <td>0</td>\n",
       "      <td>0</td>\n",
       "      <td>0</td>\n",
       "      <td>0</td>\n",
       "    </tr>\n",
       "    <tr>\n",
       "      <th>2</th>\n",
       "      <td>2015-12-31 00:51:00</td>\n",
       "      <td>7.8</td>\n",
       "      <td>46.0</td>\n",
       "      <td>6.1</td>\n",
       "      <td>43.000000</td>\n",
       "      <td>89.0</td>\n",
       "      <td>5.6</td>\n",
       "      <td>3.5</td>\n",
       "      <td>NaN</td>\n",
       "      <td>NaN</td>\n",
       "      <td>...</td>\n",
       "      <td>0.8</td>\n",
       "      <td>0.03</td>\n",
       "      <td>Overcast</td>\n",
       "      <td>cloudy</td>\n",
       "      <td>0</td>\n",
       "      <td>0</td>\n",
       "      <td>0</td>\n",
       "      <td>0</td>\n",
       "      <td>0</td>\n",
       "      <td>0</td>\n",
       "    </tr>\n",
       "    <tr>\n",
       "      <th>3</th>\n",
       "      <td>2015-12-31 01:51:00</td>\n",
       "      <td>7.2</td>\n",
       "      <td>45.0</td>\n",
       "      <td>5.6</td>\n",
       "      <td>42.099998</td>\n",
       "      <td>90.0</td>\n",
       "      <td>7.4</td>\n",
       "      <td>4.6</td>\n",
       "      <td>NaN</td>\n",
       "      <td>NaN</td>\n",
       "      <td>...</td>\n",
       "      <td>0.3</td>\n",
       "      <td>0.01</td>\n",
       "      <td>Overcast</td>\n",
       "      <td>cloudy</td>\n",
       "      <td>0</td>\n",
       "      <td>0</td>\n",
       "      <td>0</td>\n",
       "      <td>0</td>\n",
       "      <td>0</td>\n",
       "      <td>0</td>\n",
       "    </tr>\n",
       "    <tr>\n",
       "      <th>4</th>\n",
       "      <td>2015-12-31 02:51:00</td>\n",
       "      <td>7.2</td>\n",
       "      <td>45.0</td>\n",
       "      <td>5.6</td>\n",
       "      <td>42.099998</td>\n",
       "      <td>90.0</td>\n",
       "      <td>0.0</td>\n",
       "      <td>0.0</td>\n",
       "      <td>NaN</td>\n",
       "      <td>NaN</td>\n",
       "      <td>...</td>\n",
       "      <td>NaN</td>\n",
       "      <td>NaN</td>\n",
       "      <td>Overcast</td>\n",
       "      <td>cloudy</td>\n",
       "      <td>0</td>\n",
       "      <td>0</td>\n",
       "      <td>0</td>\n",
       "      <td>0</td>\n",
       "      <td>0</td>\n",
       "      <td>0</td>\n",
       "    </tr>\n",
       "  </tbody>\n",
       "</table>\n",
       "<p>5 rows × 30 columns</p>\n",
       "</div>"
      ],
      "text/plain": [
       "      pickup_datetime  tempm  tempi  dewptm     dewpti   hum wspdm  wspdi  \\\n",
       "0 2015-12-31 00:15:00    7.8   46.0     6.1  43.000000  89.0   7.4    4.6   \n",
       "1 2015-12-31 00:42:00    7.8   46.0     6.1  43.000000  89.0   7.4    4.6   \n",
       "2 2015-12-31 00:51:00    7.8   46.0     6.1  43.000000  89.0   5.6    3.5   \n",
       "3 2015-12-31 01:51:00    7.2   45.0     5.6  42.099998  90.0   7.4    4.6   \n",
       "4 2015-12-31 02:51:00    7.2   45.0     5.6  42.099998  90.0   0.0    0.0   \n",
       "\n",
       "   wgustm  wgusti  ...  precipm  precipi       conds    icon  fog  rain  snow  \\\n",
       "0     NaN     NaN  ...      0.5     0.02  Light Rain    rain    0     1     0   \n",
       "1     NaN     NaN  ...      0.8     0.03    Overcast  cloudy    0     0     0   \n",
       "2     NaN     NaN  ...      0.8     0.03    Overcast  cloudy    0     0     0   \n",
       "3     NaN     NaN  ...      0.3     0.01    Overcast  cloudy    0     0     0   \n",
       "4     NaN     NaN  ...      NaN      NaN    Overcast  cloudy    0     0     0   \n",
       "\n",
       "   hail  thunder  tornado  \n",
       "0     0        0        0  \n",
       "1     0        0        0  \n",
       "2     0        0        0  \n",
       "3     0        0        0  \n",
       "4     0        0        0  \n",
       "\n",
       "[5 rows x 30 columns]"
      ]
     },
     "metadata": {},
     "output_type": "display_data"
    }
   ],
   "source": [
    "print('%d rows'%weath.count())\n",
    "display(weath.limit(50).toPandas().head())"
   ]
  },
  {
   "cell_type": "markdown",
   "metadata": {},
   "source": [
    "## About this dataset\n",
    "\n",
    "**New York City Taxi Trip - Hourly Weather Data**\n",
    "\n",
    "Here is some detailed weather data for the New York City Taxi Trips.\n",
    "\n",
    "**Source:** https://www.kaggle.com/meinertsen/new-york-city-taxi-trip-hourly-weather-data"
   ]
  },
  {
   "cell_type": "markdown",
   "metadata": {},
   "source": [
    "### Print a view of the first several lines of the dataframe to see what our data looks like"
   ]
  },
  {
   "cell_type": "code",
   "execution_count": null,
   "metadata": {},
   "outputs": [],
   "source": [
    "# done"
   ]
  },
  {
   "cell_type": "markdown",
   "metadata": {},
   "source": [
    "### Print the schema \n",
    "\n",
    "So that we can see if we need to make any corrections to the data types."
   ]
  },
  {
   "cell_type": "code",
   "execution_count": null,
   "metadata": {},
   "outputs": [],
   "source": [
    "# not needed"
   ]
  },
  {
   "cell_type": "markdown",
   "metadata": {},
   "source": [
    "## 1. How much missing data are we working with?\n",
    "\n",
    "Get a count and percentage of each variable in the dataset to answer this question."
   ]
  },
  {
   "cell_type": "code",
   "execution_count": 15,
   "metadata": {},
   "outputs": [
    {
     "name": "stdout",
     "output_type": "stream",
     "text": [
      "{'pickup_datetime': (0, 0.0), 'tempm': (5, 0.00047705371624844956), 'tempi': (5, 0.00047705371624844956), 'dewptm': (5, 0.00047705371624844956), 'dewpti': (5, 0.00047705371624844956), 'hum': (5, 0.00047705371624844956), 'wspdm': (737, 0.07031771777502147), 'wspdi': (737, 0.07031771777502147), 'wgustm': (8605, 0.8210094456635817), 'wgusti': (8605, 0.8210094456635817), 'wdird': (0, 0.0), 'wdire': (10481, 1.0), 'vism': (245, 0.02337563209617403), 'visi': (245, 0.02337563209617403), 'pressurem': (239, 0.02280316763667589), 'pressurei': (239, 0.02280316763667589), 'windchillm': (7775, 0.7418185287663391), 'windchilli': (7775, 0.7418185287663391), 'heatindexm': (9644, 0.9201412079000095), 'heatindexi': (9644, 0.9201412079000095), 'precipm': (8775, 0.837229272016029), 'precipi': (8775, 0.837229272016029), 'conds': (0, 0.0), 'icon': (0, 0.0), 'fog': (0, 0.0), 'rain': (0, 0.0), 'snow': (0, 0.0), 'hail': (0, 0.0), 'thunder': (0, 0.0), 'tornado': (0, 0.0)}\n"
     ]
    }
   ],
   "source": [
    "# count nulls per column\n",
    "cnt = weath.count()\n",
    "nullCounts = {colm:weath.select(colm).where(col(colm).isNull()).count() for colm in weath.columns}\n",
    "nullCounts = {colm:(ncnt, ncnt/cnt) for (colm, ncnt) in nullCounts.items()}\n",
    "print(nullCounts)"
   ]
  },
  {
   "cell_type": "code",
   "execution_count": 16,
   "metadata": {},
   "outputs": [
    {
     "data": {
      "text/html": [
       "<div>\n",
       "<style scoped>\n",
       "    .dataframe tbody tr th:only-of-type {\n",
       "        vertical-align: middle;\n",
       "    }\n",
       "\n",
       "    .dataframe tbody tr th {\n",
       "        vertical-align: top;\n",
       "    }\n",
       "\n",
       "    .dataframe thead th {\n",
       "        text-align: right;\n",
       "    }\n",
       "</style>\n",
       "<table border=\"1\" class=\"dataframe\">\n",
       "  <thead>\n",
       "    <tr style=\"text-align: right;\">\n",
       "      <th></th>\n",
       "      <th>Column</th>\n",
       "      <th>Freq.</th>\n",
       "      <th>Rel. Freq.</th>\n",
       "      <th>Type</th>\n",
       "    </tr>\n",
       "  </thead>\n",
       "  <tbody>\n",
       "    <tr>\n",
       "      <th>0</th>\n",
       "      <td>wdire</td>\n",
       "      <td>10481.0</td>\n",
       "      <td>1.000000</td>\n",
       "      <td>FloatType</td>\n",
       "    </tr>\n",
       "    <tr>\n",
       "      <th>1</th>\n",
       "      <td>heatindexi</td>\n",
       "      <td>9644.0</td>\n",
       "      <td>0.920141</td>\n",
       "      <td>FloatType</td>\n",
       "    </tr>\n",
       "    <tr>\n",
       "      <th>2</th>\n",
       "      <td>heatindexm</td>\n",
       "      <td>9644.0</td>\n",
       "      <td>0.920141</td>\n",
       "      <td>FloatType</td>\n",
       "    </tr>\n",
       "    <tr>\n",
       "      <th>3</th>\n",
       "      <td>precipi</td>\n",
       "      <td>8775.0</td>\n",
       "      <td>0.837229</td>\n",
       "      <td>FloatType</td>\n",
       "    </tr>\n",
       "    <tr>\n",
       "      <th>4</th>\n",
       "      <td>precipm</td>\n",
       "      <td>8775.0</td>\n",
       "      <td>0.837229</td>\n",
       "      <td>FloatType</td>\n",
       "    </tr>\n",
       "    <tr>\n",
       "      <th>5</th>\n",
       "      <td>wgustm</td>\n",
       "      <td>8605.0</td>\n",
       "      <td>0.821009</td>\n",
       "      <td>FloatType</td>\n",
       "    </tr>\n",
       "    <tr>\n",
       "      <th>6</th>\n",
       "      <td>wgusti</td>\n",
       "      <td>8605.0</td>\n",
       "      <td>0.821009</td>\n",
       "      <td>FloatType</td>\n",
       "    </tr>\n",
       "    <tr>\n",
       "      <th>7</th>\n",
       "      <td>windchilli</td>\n",
       "      <td>7775.0</td>\n",
       "      <td>0.741819</td>\n",
       "      <td>FloatType</td>\n",
       "    </tr>\n",
       "    <tr>\n",
       "      <th>8</th>\n",
       "      <td>windchillm</td>\n",
       "      <td>7775.0</td>\n",
       "      <td>0.741819</td>\n",
       "      <td>FloatType</td>\n",
       "    </tr>\n",
       "    <tr>\n",
       "      <th>9</th>\n",
       "      <td>wspdm</td>\n",
       "      <td>737.0</td>\n",
       "      <td>0.070318</td>\n",
       "      <td>StringType</td>\n",
       "    </tr>\n",
       "    <tr>\n",
       "      <th>10</th>\n",
       "      <td>wspdi</td>\n",
       "      <td>737.0</td>\n",
       "      <td>0.070318</td>\n",
       "      <td>FloatType</td>\n",
       "    </tr>\n",
       "    <tr>\n",
       "      <th>11</th>\n",
       "      <td>vism</td>\n",
       "      <td>245.0</td>\n",
       "      <td>0.023376</td>\n",
       "      <td>FloatType</td>\n",
       "    </tr>\n",
       "    <tr>\n",
       "      <th>12</th>\n",
       "      <td>visi</td>\n",
       "      <td>245.0</td>\n",
       "      <td>0.023376</td>\n",
       "      <td>FloatType</td>\n",
       "    </tr>\n",
       "    <tr>\n",
       "      <th>13</th>\n",
       "      <td>pressurem</td>\n",
       "      <td>239.0</td>\n",
       "      <td>0.022803</td>\n",
       "      <td>FloatType</td>\n",
       "    </tr>\n",
       "    <tr>\n",
       "      <th>14</th>\n",
       "      <td>pressurei</td>\n",
       "      <td>239.0</td>\n",
       "      <td>0.022803</td>\n",
       "      <td>FloatType</td>\n",
       "    </tr>\n",
       "    <tr>\n",
       "      <th>15</th>\n",
       "      <td>tempm</td>\n",
       "      <td>5.0</td>\n",
       "      <td>0.000477</td>\n",
       "      <td>FloatType</td>\n",
       "    </tr>\n",
       "    <tr>\n",
       "      <th>16</th>\n",
       "      <td>hum</td>\n",
       "      <td>5.0</td>\n",
       "      <td>0.000477</td>\n",
       "      <td>FloatType</td>\n",
       "    </tr>\n",
       "    <tr>\n",
       "      <th>17</th>\n",
       "      <td>dewpti</td>\n",
       "      <td>5.0</td>\n",
       "      <td>0.000477</td>\n",
       "      <td>FloatType</td>\n",
       "    </tr>\n",
       "    <tr>\n",
       "      <th>18</th>\n",
       "      <td>dewptm</td>\n",
       "      <td>5.0</td>\n",
       "      <td>0.000477</td>\n",
       "      <td>FloatType</td>\n",
       "    </tr>\n",
       "    <tr>\n",
       "      <th>19</th>\n",
       "      <td>tempi</td>\n",
       "      <td>5.0</td>\n",
       "      <td>0.000477</td>\n",
       "      <td>FloatType</td>\n",
       "    </tr>\n",
       "    <tr>\n",
       "      <th>20</th>\n",
       "      <td>rain</td>\n",
       "      <td>0.0</td>\n",
       "      <td>0.000000</td>\n",
       "      <td>IntegerType</td>\n",
       "    </tr>\n",
       "    <tr>\n",
       "      <th>21</th>\n",
       "      <td>thunder</td>\n",
       "      <td>0.0</td>\n",
       "      <td>0.000000</td>\n",
       "      <td>IntegerType</td>\n",
       "    </tr>\n",
       "    <tr>\n",
       "      <th>22</th>\n",
       "      <td>hail</td>\n",
       "      <td>0.0</td>\n",
       "      <td>0.000000</td>\n",
       "      <td>IntegerType</td>\n",
       "    </tr>\n",
       "    <tr>\n",
       "      <th>23</th>\n",
       "      <td>snow</td>\n",
       "      <td>0.0</td>\n",
       "      <td>0.000000</td>\n",
       "      <td>IntegerType</td>\n",
       "    </tr>\n",
       "    <tr>\n",
       "      <th>24</th>\n",
       "      <td>pickup_datetime</td>\n",
       "      <td>0.0</td>\n",
       "      <td>0.000000</td>\n",
       "      <td>TimestampType</td>\n",
       "    </tr>\n",
       "    <tr>\n",
       "      <th>25</th>\n",
       "      <td>fog</td>\n",
       "      <td>0.0</td>\n",
       "      <td>0.000000</td>\n",
       "      <td>IntegerType</td>\n",
       "    </tr>\n",
       "    <tr>\n",
       "      <th>26</th>\n",
       "      <td>icon</td>\n",
       "      <td>0.0</td>\n",
       "      <td>0.000000</td>\n",
       "      <td>StringType</td>\n",
       "    </tr>\n",
       "    <tr>\n",
       "      <th>27</th>\n",
       "      <td>conds</td>\n",
       "      <td>0.0</td>\n",
       "      <td>0.000000</td>\n",
       "      <td>StringType</td>\n",
       "    </tr>\n",
       "    <tr>\n",
       "      <th>28</th>\n",
       "      <td>wdird</td>\n",
       "      <td>0.0</td>\n",
       "      <td>0.000000</td>\n",
       "      <td>FloatType</td>\n",
       "    </tr>\n",
       "    <tr>\n",
       "      <th>29</th>\n",
       "      <td>tornado</td>\n",
       "      <td>0.0</td>\n",
       "      <td>0.000000</td>\n",
       "      <td>IntegerType</td>\n",
       "    </tr>\n",
       "  </tbody>\n",
       "</table>\n",
       "</div>"
      ],
      "text/plain": [
       "             Column    Freq.  Rel. Freq.           Type\n",
       "0             wdire  10481.0    1.000000      FloatType\n",
       "1        heatindexi   9644.0    0.920141      FloatType\n",
       "2        heatindexm   9644.0    0.920141      FloatType\n",
       "3           precipi   8775.0    0.837229      FloatType\n",
       "4           precipm   8775.0    0.837229      FloatType\n",
       "5            wgustm   8605.0    0.821009      FloatType\n",
       "6            wgusti   8605.0    0.821009      FloatType\n",
       "7        windchilli   7775.0    0.741819      FloatType\n",
       "8        windchillm   7775.0    0.741819      FloatType\n",
       "9             wspdm    737.0    0.070318     StringType\n",
       "10            wspdi    737.0    0.070318      FloatType\n",
       "11             vism    245.0    0.023376      FloatType\n",
       "12             visi    245.0    0.023376      FloatType\n",
       "13        pressurem    239.0    0.022803      FloatType\n",
       "14        pressurei    239.0    0.022803      FloatType\n",
       "15            tempm      5.0    0.000477      FloatType\n",
       "16              hum      5.0    0.000477      FloatType\n",
       "17           dewpti      5.0    0.000477      FloatType\n",
       "18           dewptm      5.0    0.000477      FloatType\n",
       "19            tempi      5.0    0.000477      FloatType\n",
       "20             rain      0.0    0.000000    IntegerType\n",
       "21          thunder      0.0    0.000000    IntegerType\n",
       "22             hail      0.0    0.000000    IntegerType\n",
       "23             snow      0.0    0.000000    IntegerType\n",
       "24  pickup_datetime      0.0    0.000000  TimestampType\n",
       "25              fog      0.0    0.000000    IntegerType\n",
       "26             icon      0.0    0.000000     StringType\n",
       "27            conds      0.0    0.000000     StringType\n",
       "28            wdird      0.0    0.000000      FloatType\n",
       "29          tornado      0.0    0.000000    IntegerType"
      ]
     },
     "metadata": {},
     "output_type": "display_data"
    }
   ],
   "source": [
    "# pretty print\n",
    "nullCountsDF = pd.DataFrame(nullCounts).T.reset_index(drop=False).sort_values(1, ascending=False)\n",
    "nullCountsDF.columns = ['Column', 'Freq.', 'Rel. Freq.']\n",
    "nullCountsDF = nullCountsDF.merge(pd.DataFrame([[colm.name, colm.dataType] for colm in weath.schema], columns=['Column', 'Type']),\n",
    "                                how='inner', on=['Column'])\n",
    "display(nullCountsDF)"
   ]
  },
  {
   "cell_type": "markdown",
   "metadata": {},
   "source": [
    "## 2. How many rows contain at least one null value?\n",
    "\n",
    "We want to know, if we use the df.na option, how many rows will we loose. "
   ]
  },
  {
   "cell_type": "code",
   "execution_count": 19,
   "metadata": {},
   "outputs": [
    {
     "name": "stdout",
     "output_type": "stream",
     "text": [
      "10481 rows reduced to 0 (100.00% lost)\n"
     ]
    }
   ],
   "source": [
    "dcnt = weath.dropna().count()\n",
    "print('%d rows reduced to %d (%0.2f%% lost)'%(cnt, dcnt, 100*(cnt - dcnt)/cnt))"
   ]
  },
  {
   "cell_type": "markdown",
   "metadata": {},
   "source": [
    "## 3. Drop the missing data\n",
    "\n",
    "Drop any row that contains missing data across the whole dataset"
   ]
  },
  {
   "cell_type": "code",
   "execution_count": 20,
   "metadata": {},
   "outputs": [
    {
     "name": "stdout",
     "output_type": "stream",
     "text": [
      "10481 rows reduced to 10481 (0.00% lost)\n"
     ]
    }
   ],
   "source": [
    "dcnt = weath.dropna(how='all').count()\n",
    "print('%d rows reduced to %d (%0.2f%% lost)'%(cnt, dcnt, 100*(cnt - dcnt)/cnt))"
   ]
  },
  {
   "cell_type": "markdown",
   "metadata": {},
   "source": [
    "## 4. Drop with a threshold\n",
    "\n",
    "Count how many rows would be dropped if we only dropped rows that had a least 12 NON-Null values"
   ]
  },
  {
   "cell_type": "code",
   "execution_count": 21,
   "metadata": {},
   "outputs": [
    {
     "name": "stdout",
     "output_type": "stream",
     "text": [
      "10481 rows reduced to 10476 (0.05% lost)\n"
     ]
    }
   ],
   "source": [
    "dcnt = weath.dropna(thresh=12).count()\n",
    "print('%d rows reduced to %d (%0.2f%% lost)'%(cnt, dcnt, 100*(cnt - dcnt)/cnt))"
   ]
  },
  {
   "cell_type": "markdown",
   "metadata": {},
   "source": [
    "## 5. Drop rows according to specific column value\n",
    "\n",
    "Now count how many rows would be dropped if you only drop rows whose values in the tempm column are null/NaN"
   ]
  },
  {
   "cell_type": "code",
   "execution_count": 22,
   "metadata": {},
   "outputs": [
    {
     "name": "stdout",
     "output_type": "stream",
     "text": [
      "10481 rows reduced to 10476 (0.05% lost)\n"
     ]
    }
   ],
   "source": [
    "dcnt = weath.dropna(subset='tempm').count()\n",
    "print('%d rows reduced to %d (%0.2f%% lost)'%(cnt, dcnt, 100*(cnt - dcnt)/cnt))"
   ]
  },
  {
   "cell_type": "markdown",
   "metadata": {},
   "source": [
    "## 6. Drop rows that are null accross all columns\n",
    "\n",
    "Count how many rows would be dropped if you only dropped rows where ALL the values are null"
   ]
  },
  {
   "cell_type": "code",
   "execution_count": null,
   "metadata": {},
   "outputs": [],
   "source": [
    "# don't understand, question 3 already asked this..."
   ]
  },
  {
   "cell_type": "markdown",
   "metadata": {},
   "source": [
    "## 7. Fill in all the string columns missing values with the word \"N/A\"\n",
    "\n",
    "Make sure you don't edit the df dataframe itself. Create a copy of the df then edit that one."
   ]
  },
  {
   "cell_type": "code",
   "execution_count": 24,
   "metadata": {},
   "outputs": [
    {
     "name": "stdout",
     "output_type": "stream",
     "text": [
      "+-------------------+-----+-----+------+------+----+-----+-----+------+------+-----+-----+----+----+---------+---------+----------+----------+----------+----------+-------+-------+----------------+------------+---+----+----+----+-------+-------+\n",
      "|    pickup_datetime|tempm|tempi|dewptm|dewpti| hum|wspdm|wspdi|wgustm|wgusti|wdird|wdire|vism|visi|pressurem|pressurei|windchillm|windchilli|heatindexm|heatindexi|precipm|precipi|           conds|        icon|fog|rain|snow|hail|thunder|tornado|\n",
      "+-------------------+-----+-----+------+------+----+-----+-----+------+------+-----+-----+----+----+---------+---------+----------+----------+----------+----------+-------+-------+----------------+------------+---+----+----+----+-------+-------+\n",
      "|2015-12-31 00:15:00|  7.8| 46.0|   6.1|  43.0|89.0|  7.4|  4.6|  null|  null| 40.0| null| 4.0| 2.5|   1018.2|    30.07|       6.6|      43.9|      null|      null|    0.5|   0.02|      Light Rain|        rain|  0|   1|   0|   0|      0|      0|\n",
      "|2015-12-31 00:42:00|  7.8| 46.0|   6.1|  43.0|89.0|  7.4|  4.6|  null|  null|  0.0| null| 6.4| 4.0|   1017.8|    30.06|       6.6|      43.9|      null|      null|    0.8|   0.03|        Overcast|      cloudy|  0|   0|   0|   0|      0|      0|\n",
      "|2015-12-31 00:51:00|  7.8| 46.0|   6.1|  43.0|89.0|  5.6|  3.5|  null|  null| 20.0| null| 8.0| 5.0|   1017.0|    30.04|       7.1|      44.8|      null|      null|    0.8|   0.03|        Overcast|      cloudy|  0|   0|   0|   0|      0|      0|\n",
      "|2015-12-31 01:51:00|  7.2| 45.0|   5.6|  42.1|90.0|  7.4|  4.6|  null|  null|  0.0| null|12.9| 8.0|   1016.5|    30.02|       5.9|      42.6|      null|      null|    0.3|   0.01|        Overcast|      cloudy|  0|   0|   0|   0|      0|      0|\n",
      "|2015-12-31 02:51:00|  7.2| 45.0|   5.6|  42.1|90.0|  0.0|  0.0|  null|  null|  0.0| null|12.9| 8.0|   1016.7|    30.03|      null|      null|      null|      null|   null|   null|        Overcast|      cloudy|  0|   0|   0|   0|      0|      0|\n",
      "|2015-12-31 03:28:00|  6.7| 44.1|   5.0|  41.0|89.0|  7.4|  4.6|  null|  null|300.0| null|12.9| 8.0|   1017.2|    30.04|       5.3|      41.5|      null|      null|   null|   null|        Overcast|      cloudy|  0|   0|   0|   0|      0|      0|\n",
      "|2015-12-31 03:40:00|  7.2| 45.0|   5.0|  41.0|86.0|  0.0|  0.0|  null|  null|  0.0| null|12.9| 8.0|   1016.8|    30.03|      null|      null|      null|      null|   null|   null|        Overcast|      cloudy|  0|   0|   0|   0|      0|      0|\n",
      "|2015-12-31 03:51:00|  7.2| 45.0|   5.0|  41.0|86.0|  7.4|  4.6|  null|  null|310.0| null|14.5| 9.0|   1015.9|     30.0|       5.9|      42.6|      null|      null|   null|   null|        Overcast|      cloudy|  0|   0|   0|   0|      0|      0|\n",
      "|2015-12-31 04:22:00|  7.2| 45.0|   5.0|  41.0|86.0|  5.6|  3.5|  null|  null|280.0| null|14.5| 9.0|   1016.8|    30.03|       6.4|      43.5|      null|      null|   null|   null|        Overcast|      cloudy|  0|   0|   0|   0|      0|      0|\n",
      "|2015-12-31 04:51:00|  7.2| 45.0|   5.6|  42.1|90.0|  5.6|  3.5|  null|  null|270.0| null|11.3| 7.0|   1016.2|    30.01|       6.4|      43.5|      null|      null|   null|   null|        Overcast|      cloudy|  0|   0|   0|   0|      0|      0|\n",
      "|2015-12-31 05:14:00|  7.2| 45.0|   5.0|  41.0|86.0|  0.0|  0.0|  null|  null|  0.0| null|12.9| 8.0|   1017.2|    30.04|      null|      null|      null|      null|   null|   null|Scattered Clouds|partlycloudy|  0|   0|   0|   0|      0|      0|\n",
      "|2015-12-31 05:51:00|  7.8| 46.0|   5.6|  42.1|86.0|  5.6|  3.5|  null|  null|  0.0| null|16.1|10.0|   1016.6|    30.02|       7.1|      44.8|      null|      null|   null|   null|           Clear|       clear|  0|   0|   0|   0|      0|      0|\n",
      "|2015-12-31 06:51:00|  7.8| 46.0|   5.6|  42.1|86.0|  7.4|  4.6|  null|  null|  0.0| null|16.1|10.0|   1016.9|    30.03|       6.6|      43.9|      null|      null|   null|   null|           Clear|       clear|  0|   0|   0|   0|      0|      0|\n",
      "|2015-12-31 07:14:00|  7.8| 46.0|   5.6|  42.1|86.0|  7.4|  4.6|  null|  null|270.0| null|14.5| 9.0|   1018.2|    30.07|       6.6|      43.9|      null|      null|   null|   null|   Mostly Cloudy|mostlycloudy|  0|   0|   0|   0|      0|      0|\n",
      "|2015-12-31 07:28:00|  8.3| 46.9|   5.6|  42.1|83.0|  7.4|  4.6|  null|  null|290.0| null|16.1|10.0|   1018.2|    30.07|      null|      null|      null|      null|   null|   null|        Overcast|      cloudy|  0|   0|   0|   0|      0|      0|\n",
      "|2015-12-31 07:51:00|  8.3| 46.9|   5.6|  42.1|83.0|  5.6|  3.5|  null|  null|290.0| null|14.5| 9.0|   1017.7|    30.06|      null|      null|      null|      null|   null|   null|        Overcast|      cloudy|  0|   0|   0|   0|      0|      0|\n",
      "|2015-12-31 08:51:00|  8.3| 46.9|   5.0|  41.0|80.0|  7.4|  4.6|  null|  null|  0.0| null|16.1|10.0|   1018.5|    30.08|      null|      null|      null|      null|   null|   null|           Clear|       clear|  0|   0|   0|   0|      0|      0|\n",
      "|2015-12-31 09:51:00|  8.3| 46.9|   2.8|  37.0|68.0|  9.3|  5.8|  null|  null|300.0| null|16.1|10.0|   1019.0|    30.09|      null|      null|      null|      null|   null|   null|        Overcast|      cloudy|  0|   0|   0|   0|      0|      0|\n",
      "|2015-12-31 10:51:00|  8.3| 46.9|   2.2|  36.0|66.0| 16.7| 10.4|  null|  null|310.0| null|16.1|10.0|   1018.9|    30.09|      null|      null|      null|      null|   null|   null|        Overcast|      cloudy|  0|   0|   0|   0|      0|      0|\n",
      "|2015-12-31 11:51:00|  8.3| 46.9|   1.1|  34.0|61.0| 14.8|  9.2|  29.6|  18.4|310.0| null|16.1|10.0|   1017.7|    30.06|      null|      null|      null|      null|   null|   null|        Overcast|      cloudy|  0|   0|   0|   0|      0|      0|\n",
      "+-------------------+-----+-----+------+------+----+-----+-----+------+------+-----+-----+----+----+---------+---------+----------+----------+----------+----------+-------+-------+----------------+------------+---+----+----+----+-------+-------+\n",
      "only showing top 20 rows\n",
      "\n"
     ]
    }
   ],
   "source": [
    "dropped = weath.fillna('N/A', subset = [colm.name for colm in weath.schema if colm.dataType is StringType()])\n",
    "dropped.show()"
   ]
  },
  {
   "cell_type": "markdown",
   "metadata": {},
   "source": [
    "## 8. Fill in NaN values with averages for the tempm and tempi columns\n",
    "\n",
    "*Note: you will first need to compute the averages for each column and then fill in with the corresponding value.*"
   ]
  },
  {
   "cell_type": "code",
   "execution_count": 27,
   "metadata": {},
   "outputs": [
    {
     "name": "stdout",
     "output_type": "stream",
     "text": [
      "+-----+-----+\n",
      "|tempm|tempi|\n",
      "+-----+-----+\n",
      "|  7.8| 46.0|\n",
      "|  7.8| 46.0|\n",
      "|  7.8| 46.0|\n",
      "|  7.2| 45.0|\n",
      "|  7.2| 45.0|\n",
      "|  6.7| 44.1|\n",
      "|  7.2| 45.0|\n",
      "|  7.2| 45.0|\n",
      "|  7.2| 45.0|\n",
      "|  7.2| 45.0|\n",
      "|  7.2| 45.0|\n",
      "|  7.8| 46.0|\n",
      "|  7.8| 46.0|\n",
      "|  7.8| 46.0|\n",
      "|  8.3| 46.9|\n",
      "|  8.3| 46.9|\n",
      "|  8.3| 46.9|\n",
      "|  8.3| 46.9|\n",
      "|  8.3| 46.9|\n",
      "|  8.3| 46.9|\n",
      "+-----+-----+\n",
      "only showing top 20 rows\n",
      "\n"
     ]
    }
   ],
   "source": [
    "# fill nulls with the non-null mean\n",
    "noNull = weath.fillna(weath.agg(*(avg(colm).alias(colm) for colm in ['tempm', 'tempi'])).first().asDict())\n",
    "noNull.select('tempm', 'tempi').show()"
   ]
  },
  {
   "cell_type": "markdown",
   "metadata": {},
   "source": [
    "### That's it! Great Job!"
   ]
  },
  {
   "cell_type": "code",
   "execution_count": 28,
   "metadata": {},
   "outputs": [],
   "source": [
    "sc.stop()"
   ]
  },
  {
   "cell_type": "code",
   "execution_count": null,
   "metadata": {},
   "outputs": [],
   "source": []
  }
 ],
 "metadata": {
  "kernelspec": {
   "display_name": "Python 3",
   "language": "python",
   "name": "python3"
  },
  "language_info": {
   "codemirror_mode": {
    "name": "ipython",
    "version": 3
   },
   "file_extension": ".py",
   "mimetype": "text/x-python",
   "name": "python",
   "nbconvert_exporter": "python",
   "pygments_lexer": "ipython3",
   "version": "3.8.8"
  }
 },
 "nbformat": 4,
 "nbformat_minor": 4
}
