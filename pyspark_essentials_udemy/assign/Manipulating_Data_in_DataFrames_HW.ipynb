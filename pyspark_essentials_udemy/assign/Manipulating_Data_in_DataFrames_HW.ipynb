{
 "cells": [
  {
   "cell_type": "markdown",
   "metadata": {},
   "source": [
    "# Manipulating Data in DataFrames HW\n",
    "\n",
    "\n",
    "#### Let's get started applying what we learned in the lecure!\n",
    "\n",
    "I've provided several questions below to help test and expand you knowledge from the code along lecture. So let's see what you've got!\n",
    "\n",
    "First create your spark instance as we need to do at the start of every project."
   ]
  },
  {
   "cell_type": "code",
   "execution_count": 66,
   "metadata": {},
   "outputs": [],
   "source": [
    "import pandas as pd\n",
    "import numpy as np\n",
    "import datetime as dt\n",
    "import re\n",
    "\n",
    "import findspark\n",
    "findspark.init()\n",
    "import pyspark\n",
    "from pyspark.sql import SparkSession\n",
    "from pyspark.sql.functions import *#avg, count, expr\n",
    "from pyspark.sql.types import *"
   ]
  },
  {
   "cell_type": "code",
   "execution_count": 3,
   "metadata": {},
   "outputs": [
    {
     "name": "stdout",
     "output_type": "stream",
     "text": [
      "1 cores\n"
     ]
    },
    {
     "data": {
      "text/html": [
       "\n",
       "            <div>\n",
       "                <p><b>SparkSession - in-memory</b></p>\n",
       "                \n",
       "        <div>\n",
       "            <p><b>SparkContext</b></p>\n",
       "\n",
       "            <p><a href=\"http://192.168.150.128:4040\">Spark UI</a></p>\n",
       "\n",
       "            <dl>\n",
       "              <dt>Version</dt>\n",
       "                <dd><code>v3.1.1</code></dd>\n",
       "              <dt>Master</dt>\n",
       "                <dd><code>local[*]</code></dd>\n",
       "              <dt>AppName</dt>\n",
       "                <dd><code>manipulateAss</code></dd>\n",
       "            </dl>\n",
       "        </div>\n",
       "        \n",
       "            </div>\n",
       "        "
      ],
      "text/plain": [
       "<pyspark.sql.session.SparkSession at 0x7fc9f1534d00>"
      ]
     },
     "execution_count": 3,
     "metadata": {},
     "output_type": "execute_result"
    }
   ],
   "source": [
    "# initialize\n",
    "sc = pyspark.SparkContext()\n",
    "spark = SparkSession(sc)\n",
    "spark.sparkContext.appName = 'manipulateAss'\n",
    "# show the number of cores\n",
    "print('%d cores'%spark._jsc.sc().getExecutorMemoryStatus().keySet().size())\n",
    "spark"
   ]
  },
  {
   "cell_type": "markdown",
   "metadata": {},
   "source": [
    "## Read in our Republican vs. Democrats Tweet DataFrame\n",
    "\n",
    "Attached to the lecture"
   ]
  },
  {
   "cell_type": "code",
   "execution_count": 15,
   "metadata": {},
   "outputs": [],
   "source": [
    "# load the data\n",
    "fil = '../../data/Rep_vs_Dem_tweets.csv'\n",
    "schem = StructType([StructField('Party', StringType()),\n",
    "                    StructField('Handle', StringType()),\n",
    "                    StructField('Tweet', StringType())])\n",
    "tweets = spark.read.format('csv').options(header=True).schema(schem).load(fil).repartition('Party')"
   ]
  },
  {
   "cell_type": "markdown",
   "metadata": {},
   "source": [
    "## About this dataframe\n",
    "\n",
    "Extracted tweets from all of the representatives (latest 200 as of May 17th 2018)\n",
    "\n",
    "**Source:** https://www.kaggle.com/kapastor/democratvsrepublicantweets#ExtractedTweets.csv\n",
    "\n",
    "Use either .show() or .toPandas() check out the first view rows of the dataframe to get an idea of what we are working with."
   ]
  },
  {
   "cell_type": "code",
   "execution_count": 9,
   "metadata": {},
   "outputs": [
    {
     "name": "stdout",
     "output_type": "stream",
     "text": [
      "92489 records\n",
      "+------------------------------------------------------------------------------------------------------------------------+--------------------------------------------------------------------------------------+---------------------------------------------+\n",
      "|Party                                                                                                                   |Handle                                                                                |Tweet                                        |\n",
      "+------------------------------------------------------------------------------------------------------------------------+--------------------------------------------------------------------------------------+---------------------------------------------+\n",
      "|investigat…\"                                                                                                            |null                                                                                  |null                                         |\n",
      "|Pruitt’s Chief Of Staff tried to “screen” materials before EPA investigators could review them… https://t.co/2SsE77Tdqt\"|null                                                                                  |null                                         |\n",
      "|05/03/… https://t.co/JnyNYcgua2\"                                                                                        |null                                                                                  |null                                         |\n",
      "|NOTE that… https://t.co/HZYoiWg6bb\"                                                                                     |null                                                                                  |null                                         |\n",
      "|MC Lyte - Poor Georgie… https://t.co/2zSeTQTzMK\"                                                                        |null                                                                                  |null                                         |\n",
      "| Start- November 1                                                                                                      |null                                                                                  |null                                         |\n",
      "|We must fight back agains…\"                                                                                             |null                                                                                  |null                                         |\n",
      "|Happy #Friday                                                                                                           | folks ✌🏽 https://t.co/PCswSl1qug\"                                                   |null                                         |\n",
      "|my Congressman. He fights for workers and does important work on the Transportation and Inf…\"                           |null                                                                                  |null                                         |\n",
      "|#TrumpBudget woul… https://t.co/TY6E6f0n1s\"                                                                             |null                                                                                  |null                                         |\n",
      "|https://t.co/GI7YnM6nm4\"                                                                                                |null                                                                                  |null                                         |\n",
      "|America will be gre… https://t.co/iv5ghHN1KQ\"                                                                           |null                                                                                  |null                                         |\n",
      "|According to @CommerceGov                                                                                               | real disposable income has had the biggest gain since April… https://t.co/nA8Ki3o71q\"|null                                         |\n",
      "|https://t.co/jJzEYuuMMj\"                                                                                                |null                                                                                  |null                                         |\n",
      "|and H.R. 3312 - Systemic Risk Designation Impro… https://t.co/rGidEsJtAc\"                                               |null                                                                                  |null                                         |\n",
      "|https://t.co/zykO9PRZ81\"                                                                                                |null                                                                                  |null                                         |\n",
      "|To all who are celebrating Passover                                                                                     | may your holiday be joyous and blessed with goo… https://t.co/9ALHOt12jm\"            |null                                         |\n",
      "|The Kennedy family after Easter services in Palm Beach                                                                  | Florida                                                                              | 1963. More photos: https://t.co/ZqHKZSS47Y…\"|\n",
      "|Glad… https://t.co/zuus9L32cj\"                                                                                          |null                                                                                  |null                                         |\n",
      "|The U.S. should be laying the groundwork for peac…\"                                                                     |null                                                                                  |null                                         |\n",
      "+------------------------------------------------------------------------------------------------------------------------+--------------------------------------------------------------------------------------+---------------------------------------------+\n",
      "only showing top 20 rows\n",
      "\n"
     ]
    },
    {
     "data": {
      "text/plain": [
       "None"
      ]
     },
     "metadata": {},
     "output_type": "display_data"
    }
   ],
   "source": [
    "# talk\n",
    "print('%d records'%tweets.count())\n",
    "display(tweets.show(truncate=False))"
   ]
  },
  {
   "cell_type": "markdown",
   "metadata": {},
   "source": [
    "**Prevent Truncation of view**\n",
    "\n",
    "If the view you produced above truncated some of the longer tweets, see if you can prevent that so you can read the whole tweet."
   ]
  },
  {
   "cell_type": "code",
   "execution_count": null,
   "metadata": {},
   "outputs": [],
   "source": [
    "# no need"
   ]
  },
  {
   "cell_type": "markdown",
   "metadata": {},
   "source": [
    "**Print Schema**\n",
    "\n",
    "First, check the schema to make sure the datatypes are accurate. "
   ]
  },
  {
   "cell_type": "code",
   "execution_count": null,
   "metadata": {},
   "outputs": [],
   "source": [
    "# no need, as I set the schema"
   ]
  },
  {
   "cell_type": "markdown",
   "metadata": {},
   "source": [
    "## 1. Can you identify any tweet that mentions the handle @LatinoLeader using regexp_extract?\n",
    "\n",
    "It doesn't matter how you identify the row, any identifier will do. You can test your script on row 5 from this dataset. That row contains @LatinoLeader. "
   ]
  },
  {
   "cell_type": "code",
   "execution_count": 18,
   "metadata": {},
   "outputs": [
    {
     "name": "stdout",
     "output_type": "stream",
     "text": [
      "+--------+-------------+--------------------------------------------------------------------------------------------------------------------------------------------+----+\n",
      "|Party   |Handle       |Tweet                                                                                                                                       |seld|\n",
      "+--------+-------------+--------------------------------------------------------------------------------------------------------------------------------------------+----+\n",
      "|Democrat|RepDarrenSoto|RT @NALCABPolicy: Meeting with @RepDarrenSoto . Thanks for taking the time to meet with @LatinoLeader ED Marucci Guzman. #NALCABPolicy2018.…|true|\n",
      "+--------+-------------+--------------------------------------------------------------------------------------------------------------------------------------------+----+\n",
      "\n"
     ]
    }
   ],
   "source": [
    "tweets.select('*', col('Tweet').like('%@LatinoLeader%').alias('seld')).where(col('seld')==True).show(5, truncate=False)"
   ]
  },
  {
   "cell_type": "markdown",
   "metadata": {},
   "source": [
    "## 2. Replace any value other than 'Democrate' or 'Republican' with 'Other' in the Party column.\n",
    "\n",
    "We can see from the output below, that there are several other values other than 'Democrate' or 'Republican' in the Part column. We are assuming that this is dirty data that needs to be cleaned up."
   ]
  },
  {
   "cell_type": "code",
   "execution_count": 23,
   "metadata": {},
   "outputs": [
    {
     "name": "stdout",
     "output_type": "stream",
     "text": [
      "+----------+-----+\n",
      "|     Party|count|\n",
      "+----------+-----+\n",
      "|Republican|44392|\n",
      "|  Democrat|42068|\n",
      "|     Other| 6029|\n",
      "+----------+-----+\n",
      "\n"
     ]
    }
   ],
   "source": [
    "tweets = tweets.select(when(col('Party').isin(['Democrat', 'Republican']), col('Party')).otherwise('Other').alias('Party'), 'Handle', 'Tweet')\n",
    "\n",
    "tweets.groupBy(col('Party')).count().show()"
   ]
  },
  {
   "cell_type": "markdown",
   "metadata": {},
   "source": [
    "## 3. Delete all embedded links (ie. \"https:....)\n",
    "\n",
    "For example see the first row in the tweets dataframe. \n",
    "\n",
    "*Note: this may require an google search :)*"
   ]
  },
  {
   "cell_type": "code",
   "execution_count": 41,
   "metadata": {},
   "outputs": [
    {
     "name": "stdout",
     "output_type": "stream",
     "text": [
      "+----------+----------------------------------------------------------------+--------------------------------------------------------------------------------------------------------------------------------------------+\n",
      "|Party     |Handle                                                          |Tweet                                                                                                                                       |\n",
      "+----------+----------------------------------------------------------------+--------------------------------------------------------------------------------------------------------------------------------------------+\n",
      "|Other     | Florida                                                        |1963. More photos:                                                                                                                          |\n",
      "|Other     | I will join @alisonstewart on @WNYCMidday to discuss my novel  |“Big Guns.”                                                                                                                                 |\n",
      "|Other     | of course                                                      |to…                                                                                                                                         |\n",
      "|Other     | in Vienna                                                      |Friedrich Hayek was born. He would go on to write about economi…\"                                                                           |\n",
      "|Other     | Georgia                                                        |and two deaths have bee…                                                                                                                    |\n",
      "|Other     | more importantly                                               |good citizens                                                                                                                               |\n",
      "|Other     | better #tax code                                               |fewer…                                                                                                                                      |\n",
      "|Other     | 10am to 2pm                                                    |at the Valley Visitor Center                                                                                                                |\n",
      "|Other     | March 27                                                       |6:00pm–7:00pm                                                                                                                               |\n",
      "|Other     | @rarediseaseday                                                |…                                                                                                                                           |\n",
      "|Other     | the initial claims for state unemployment benefits fell to 209k|…                                                                                                                                           |\n",
      "|Other     | the initial claims for state unemployment benefits fell to 209k|the…\"                                                                                                                                       |\n",
      "|Other     | a survivor of communist China                                  |tells @MKibbe her harrowing story of how Chairman Mao's gove…\"                                                                              |\n",
      "|Other     | the focus seems to be on grandparents                          |mothers                                                                                                                                     |\n",
      "|Republican|RepRalphNorman                                                  |It's #WastefulWednesday!                                                                                                                    |\n",
      "|Republican|RepRalphNorman                                                  |Today we honored all the heroic men &amp; women of law enforcement who lost their lives on the line of duty at the Nati…                    |\n",
      "|Republican|RepRalphNorman                                                  |RT @CongressmanRaja: Last week, @RepRalphNorman  and I hosted a briefing on the economic benefits of solar energy production through the So…|\n",
      "|Republican|RepRalphNorman                                                  |RT @TegaCayPD: Chief Parker was thankful to receive recognition from @RepRalphNorman delivered by Mayor @DavidLONeal for National Police We…|\n",
      "|Republican|RepRalphNorman                                                  |I visited the SC Highway Patrol to bring them cupcakes &amp; thank them for their service. As we honor…                                     |\n",
      "|Republican|RepRalphNorman                                                  |RT @HouseGOP: America’s economy is booming thanks to pro-growth policies like the #TaxCutsandJobsAct.                                       |\n",
      "+----------+----------------------------------------------------------------+--------------------------------------------------------------------------------------------------------------------------------------------+\n",
      "only showing top 20 rows\n",
      "\n"
     ]
    }
   ],
   "source": [
    "tweets = tweets.select('Party', 'Handle', trim(substring_index(col('Tweet'), 'https', 1)).alias('Tweet'))\\\n",
    "    .where(col('Tweet').isNotNull() & col('Handle').isNotNull())\n",
    "tweets.show(truncate=False)"
   ]
  },
  {
   "cell_type": "markdown",
   "metadata": {},
   "source": [
    "## 4. Remove any leading or trailing white space in the tweet column"
   ]
  },
  {
   "cell_type": "code",
   "execution_count": null,
   "metadata": {},
   "outputs": [],
   "source": [
    "# already did that"
   ]
  },
  {
   "cell_type": "markdown",
   "metadata": {},
   "source": [
    "## 5. Rename the 'Party' column to 'Dem_Rep'\n",
    "\n",
    "No real reason here :) just wanted you to get practice doing this. "
   ]
  },
  {
   "cell_type": "code",
   "execution_count": 42,
   "metadata": {},
   "outputs": [
    {
     "name": "stdout",
     "output_type": "stream",
     "text": [
      "+-------------+----------------------------------------------------------------+--------------------------------------------------------------------------------------------------------------------------------------------+\n",
      "|Dem_Rep_Other|Handle                                                          |Tweet                                                                                                                                       |\n",
      "+-------------+----------------------------------------------------------------+--------------------------------------------------------------------------------------------------------------------------------------------+\n",
      "|Other        | Florida                                                        |1963. More photos:                                                                                                                          |\n",
      "|Other        | I will join @alisonstewart on @WNYCMidday to discuss my novel  |“Big Guns.”                                                                                                                                 |\n",
      "|Other        | of course                                                      |to…                                                                                                                                         |\n",
      "|Other        | in Vienna                                                      |Friedrich Hayek was born. He would go on to write about economi…\"                                                                           |\n",
      "|Other        | Georgia                                                        |and two deaths have bee…                                                                                                                    |\n",
      "|Other        | more importantly                                               |good citizens                                                                                                                               |\n",
      "|Other        | better #tax code                                               |fewer…                                                                                                                                      |\n",
      "|Other        | 10am to 2pm                                                    |at the Valley Visitor Center                                                                                                                |\n",
      "|Other        | March 27                                                       |6:00pm–7:00pm                                                                                                                               |\n",
      "|Other        | @rarediseaseday                                                |…                                                                                                                                           |\n",
      "|Other        | the initial claims for state unemployment benefits fell to 209k|…                                                                                                                                           |\n",
      "|Other        | the initial claims for state unemployment benefits fell to 209k|the…\"                                                                                                                                       |\n",
      "|Other        | a survivor of communist China                                  |tells @MKibbe her harrowing story of how Chairman Mao's gove…\"                                                                              |\n",
      "|Other        | the focus seems to be on grandparents                          |mothers                                                                                                                                     |\n",
      "|Republican   |RepRalphNorman                                                  |It's #WastefulWednesday!                                                                                                                    |\n",
      "|Republican   |RepRalphNorman                                                  |Today we honored all the heroic men &amp; women of law enforcement who lost their lives on the line of duty at the Nati…                    |\n",
      "|Republican   |RepRalphNorman                                                  |RT @CongressmanRaja: Last week, @RepRalphNorman  and I hosted a briefing on the economic benefits of solar energy production through the So…|\n",
      "|Republican   |RepRalphNorman                                                  |RT @TegaCayPD: Chief Parker was thankful to receive recognition from @RepRalphNorman delivered by Mayor @DavidLONeal for National Police We…|\n",
      "|Republican   |RepRalphNorman                                                  |I visited the SC Highway Patrol to bring them cupcakes &amp; thank them for their service. As we honor…                                     |\n",
      "|Republican   |RepRalphNorman                                                  |RT @HouseGOP: America’s economy is booming thanks to pro-growth policies like the #TaxCutsandJobsAct.                                       |\n",
      "+-------------+----------------------------------------------------------------+--------------------------------------------------------------------------------------------------------------------------------------------+\n",
      "only showing top 20 rows\n",
      "\n"
     ]
    }
   ],
   "source": [
    "tweets.withColumnRenamed('Party', 'Dem_Rep_Other').show(truncate=False)"
   ]
  },
  {
   "cell_type": "markdown",
   "metadata": {},
   "source": [
    "## 6. Concatenate the Party and Handle columns\n",
    "\n",
    "Silly yes... but good practice.\n",
    "\n",
    "pyspark.sql.functions.concat_ws(sep, *cols)[source] <br>\n",
    "Concatenates multiple input string columns together into a single string column, using the given separator."
   ]
  },
  {
   "cell_type": "code",
   "execution_count": 43,
   "metadata": {},
   "outputs": [
    {
     "name": "stdout",
     "output_type": "stream",
     "text": [
      "+----------------------------------------------------------------------+--------------------------------------------------------------------------------------------------------------------------------------------+\n",
      "|Who                                                                   |Tweet                                                                                                                                       |\n",
      "+----------------------------------------------------------------------+--------------------------------------------------------------------------------------------------------------------------------------------+\n",
      "|Other- Florida                                                        |1963. More photos:                                                                                                                          |\n",
      "|Other- I will join @alisonstewart on @WNYCMidday to discuss my novel  |“Big Guns.”                                                                                                                                 |\n",
      "|Other- of course                                                      |to…                                                                                                                                         |\n",
      "|Other- in Vienna                                                      |Friedrich Hayek was born. He would go on to write about economi…\"                                                                           |\n",
      "|Other- Georgia                                                        |and two deaths have bee…                                                                                                                    |\n",
      "|Other- more importantly                                               |good citizens                                                                                                                               |\n",
      "|Other- better #tax code                                               |fewer…                                                                                                                                      |\n",
      "|Other- 10am to 2pm                                                    |at the Valley Visitor Center                                                                                                                |\n",
      "|Other- March 27                                                       |6:00pm–7:00pm                                                                                                                               |\n",
      "|Other- @rarediseaseday                                                |…                                                                                                                                           |\n",
      "|Other- the initial claims for state unemployment benefits fell to 209k|…                                                                                                                                           |\n",
      "|Other- the initial claims for state unemployment benefits fell to 209k|the…\"                                                                                                                                       |\n",
      "|Other- a survivor of communist China                                  |tells @MKibbe her harrowing story of how Chairman Mao's gove…\"                                                                              |\n",
      "|Other- the focus seems to be on grandparents                          |mothers                                                                                                                                     |\n",
      "|Republican-RepRalphNorman                                             |It's #WastefulWednesday!                                                                                                                    |\n",
      "|Republican-RepRalphNorman                                             |Today we honored all the heroic men &amp; women of law enforcement who lost their lives on the line of duty at the Nati…                    |\n",
      "|Republican-RepRalphNorman                                             |RT @CongressmanRaja: Last week, @RepRalphNorman  and I hosted a briefing on the economic benefits of solar energy production through the So…|\n",
      "|Republican-RepRalphNorman                                             |RT @TegaCayPD: Chief Parker was thankful to receive recognition from @RepRalphNorman delivered by Mayor @DavidLONeal for National Police We…|\n",
      "|Republican-RepRalphNorman                                             |I visited the SC Highway Patrol to bring them cupcakes &amp; thank them for their service. As we honor…                                     |\n",
      "|Republican-RepRalphNorman                                             |RT @HouseGOP: America’s economy is booming thanks to pro-growth policies like the #TaxCutsandJobsAct.                                       |\n",
      "+----------------------------------------------------------------------+--------------------------------------------------------------------------------------------------------------------------------------------+\n",
      "only showing top 20 rows\n",
      "\n"
     ]
    }
   ],
   "source": [
    "tweets.select(concat_ws('-', col('Party'), col('Handle')).alias('Who'), 'Tweet').show(truncate=False)"
   ]
  },
  {
   "cell_type": "markdown",
   "metadata": {},
   "source": [
    "## Challenge Question\n",
    "\n",
    "Let's image that we want to analyze the hashtags that are used in these tweets. Can you extract all the hashtags you see?"
   ]
  },
  {
   "cell_type": "code",
   "execution_count": 77,
   "metadata": {},
   "outputs": [],
   "source": [
    "def refa(x):\n",
    "    res = list(re.findall('\\#[A-Za-z0-9]*', x))\n",
    "    return res\n",
    "refaUDF = udf(lambda x: refa(x), ArrayType(StringType(), True))"
   ]
  },
  {
   "cell_type": "code",
   "execution_count": 79,
   "metadata": {},
   "outputs": [
    {
     "name": "stdout",
     "output_type": "stream",
     "text": [
      "+----+-----------------------+------------------------------------------------------------------------------------------------------------------------------------------------+\n",
      "|mult|Hashtag                |Tweet                                                                                                                                           |\n",
      "+----+-----------------------+------------------------------------------------------------------------------------------------------------------------------------------------+\n",
      "|7   |#GoldenPlow            |In cause you missed it yesterday! #GoldenPlow #Farmer #Rancher #TaxReform #FarmBill #Biodiesel #StopTheHIT…                                     |\n",
      "|7   |#Attention             |RT @FAANews: #Attention #drone #pilots: Do not fly your #drone near the #KilaueaVolcano in #Hawaii. The #FAA has flight restrictions in pla…    |\n",
      "|7   |#Rally                 |Thank you @HRCLasVegas for continuing to #Rally #Ignite #Support &amp; #Empower #HRCGala #Equality #LoveWins                                    |\n",
      "|7   |#RaiseTheWage          |#RaiseTheWage #NetNeutrality #Medicare4All #AssaultWeaponsBan #VotingRights #Jobs holding #Trump responsible for th…                            |\n",
      "|6   |#AmericanDream         |The #AmericanDream depends on a #strong foundation — Good #jobs. Affordable #education. Robust #infrastructure. #SOTU                           |\n",
      "|6   |#Cali                  |See you Saturday California at @vromans! #Cali #LAX #BigGuns #GunSafety #GunLobby #RepSteveIsrael                                               |\n",
      "|6   |#TeamUSA               |Good luck &amp; congrats #TeamUSA especially #GeorgiansinRio participating in this year’s #Olympics! Go for the #gold! #Rio2016 #OpeningCeremony|\n",
      "|6   |#VeteransDay           |Great #VeteransDay in #MA09 - moving tributes in #Falmouth #Bourne &amp; #Plymouth to veterans of all eras #ThankYouVets                        |\n",
      "|6   |#Deported              |#Deported 15 times by age 20 Jose Vargas became a citizen &amp; 1 of #CA best #Police. #USA = #Immigrants #KatesLaws                            |\n",
      "|6   |#Boalsburg             |In #Boalsburg #CentreCounty attending the #EagleScout Court of Honor for Troop 31 #Scout Alexander James LeVan #BSA #NESA                       |\n",
      "|6   |#FallsCreek            |In #FallsCreek #JeffersonCounty this afternoon at #EagleScout Court of Honor for #Dubois Scout Eric Bradford.  #BSA #NESA                       |\n",
      "|6   |#HouseofRepresentatives|Yesterday, #HouseofRepresentatives passed #HALOS act. #accesstocapital #startup #smallbusiness #TeamRepTakai                                    |\n",
      "|6   |#Marienville           |In #Marienville #ForestCounty visiting Yeany's #MapleSyrup #SugarShack during #Pennsylvania 4th season Spring, Summer, Fall &amp; #Maple        |\n",
      "|6   |#Trump                 |I joined @AlexWitt on @MSNBC re:#Trump's silence on #Russia, #TrumpRussiaCollusion&amp; #pardons to #Flynn&amp; #Manafort,…                     |\n",
      "|5   |#jobs                  |RT @MainSt4Growth: .@RepTomRice, thx for your dedication to helping create #jobs &amp; #smallbiz growth by supporting #TCJA! #taxreformnow #tax…|\n",
      "|5   |#infrastructure        |Scenes from this morning's Highways hearing.  #infrastructure #photo #DC #Congress #Transportation                                              |\n",
      "|5   |#barbaric              |The #barbaric attack in #NYC only increases our #resolve to root out &amp; destroy #terrorists and #terroristorganizations. 2/2                 |\n",
      "|5   |#Kentucky              |RT @aaronellis01: ALERT: Members of the #Kentucky #House delegation to #Congress took time to honor those victims of the #MarshallCounty #s…    |\n",
      "|5   |#federalagencies       |Need help with #federalagencies? My staff will be in #Creedmoor today! #northcarolina #NC13 #constituentservices                                |\n",
      "|5   |#Rockaway              |Volunteers from #Rockaway #Montclair #Livingston #MorrisPlains and #Kinnelon visited my office to discuss importanc…                            |\n",
      "+----+-----------------------+------------------------------------------------------------------------------------------------------------------------------------------------+\n",
      "only showing top 20 rows\n",
      "\n"
     ]
    }
   ],
   "source": [
    "# can't get this to match all of the patterns in the tweet :-(\n",
    "thisPatt = '(\\#[A-Za-z0-9]*)'\n",
    "tweets.select((length(col('Tweet')) - length(array_join(split('Tweet', '#'), ''))).alias('mult'),\n",
    "              regexp_extract(col('Tweet'), thisPatt, 0).alias('Hashtag'), 'Tweet')\\\n",
    "    .orderBy(col('mult').desc()).show(truncate=False)"
   ]
  },
  {
   "cell_type": "markdown",
   "metadata": {},
   "source": [
    "# Let's create our own dataset to work with real dates\n",
    "\n",
    "This is a dataset of patient visits from a medical office. It contains the patients first and last names, date of birth, and the dates of their first 3 visits. "
   ]
  },
  {
   "cell_type": "code",
   "execution_count": 3,
   "metadata": {},
   "outputs": [
    {
     "name": "stdout",
     "output_type": "stream",
     "text": [
      "+----------+---------+----------+--------+---------+---------+\n",
      "|first_name|last_name|       dob|  visit1|   visit2|   visit3|\n",
      "+----------+---------+----------+--------+---------+---------+\n",
      "|  Mohammed|   Alfasy|  1987-4-8|2016-1-7| 2017-2-3| 2018-3-2|\n",
      "|     Marcy|Wellmaker|  1986-4-8|2015-1-7| 2017-1-3| 2018-1-2|\n",
      "|     Ginny|   Ginger| 1986-7-10|2014-8-7| 2015-2-3| 2016-3-2|\n",
      "|     Vijay| Doberson|  1988-5-2|2016-1-7| 2018-2-3| 2018-3-2|\n",
      "|     Orhan|  Gelicek| 1987-5-11|2016-5-7| 2017-1-3| 2018-9-2|\n",
      "|     Sarah|    Jones|  1956-7-6|2016-4-7| 2017-8-3|2018-10-2|\n",
      "|      John|  Johnson|2017-10-12|2018-1-2|2018-10-3| 2018-3-2|\n",
      "+----------+---------+----------+--------+---------+---------+\n",
      "\n",
      "root\n",
      " |-- first_name: string (nullable = true)\n",
      " |-- last_name: string (nullable = true)\n",
      " |-- dob: string (nullable = true)\n",
      " |-- visit1: string (nullable = true)\n",
      " |-- visit2: string (nullable = true)\n",
      " |-- visit3: string (nullable = true)\n",
      "\n",
      "None\n"
     ]
    }
   ],
   "source": [
    "from pyspark.sql.types import *\n",
    "\n",
    "md_office = [('Mohammed','Alfasy','1987-4-8','2016-1-7','2017-2-3','2018-3-2') \\\n",
    "            ,('Marcy','Wellmaker','1986-4-8','2015-1-7','2017-1-3','2018-1-2') \\\n",
    "            ,('Ginny','Ginger','1986-7-10','2014-8-7','2015-2-3','2016-3-2') \\\n",
    "            ,('Vijay','Doberson','1988-5-2','2016-1-7','2018-2-3','2018-3-2') \\\n",
    "            ,('Orhan','Gelicek','1987-5-11','2016-5-7','2017-1-3','2018-9-2') \\\n",
    "            ,('Sarah','Jones','1956-7-6','2016-4-7','2017-8-3','2018-10-2') \\\n",
    "            ,('John','Johnson','2017-10-12','2018-1-2','2018-10-3','2018-3-2') ]\n",
    "\n",
    "df = spark.createDataFrame(md_office,['first_name','last_name','dob','visit1','visit2','visit3']) # schema=final_struc\n",
    "\n",
    "# Check to make sure it worked\n",
    "df.show()\n",
    "print(df.printSchema())"
   ]
  },
  {
   "cell_type": "markdown",
   "metadata": {},
   "source": [
    "Oh no! The dates are still stored as text... let's try converting them again and see if we have any issues this time."
   ]
  },
  {
   "cell_type": "code",
   "execution_count": null,
   "metadata": {},
   "outputs": [],
   "source": []
  },
  {
   "cell_type": "markdown",
   "metadata": {},
   "source": [
    "## 7. Can you calculate a variable showing the length of time between patient visits?\n",
    "\n",
    "Compare visit1 to visit2 and visit2 to visit3 for all patients and see what the average length of time is between visits. Create an alias for it as well. "
   ]
  },
  {
   "cell_type": "code",
   "execution_count": null,
   "metadata": {},
   "outputs": [],
   "source": []
  },
  {
   "cell_type": "markdown",
   "metadata": {},
   "source": [
    "## 8. Can you calculate the age of each patient?"
   ]
  },
  {
   "cell_type": "code",
   "execution_count": null,
   "metadata": {},
   "outputs": [],
   "source": []
  },
  {
   "cell_type": "markdown",
   "metadata": {},
   "source": [
    "## 9. Can you extract the month from the first visit column and call it \"Month\"?"
   ]
  },
  {
   "cell_type": "code",
   "execution_count": null,
   "metadata": {},
   "outputs": [],
   "source": []
  },
  {
   "cell_type": "markdown",
   "metadata": {},
   "source": [
    "## 10. Challenges with working with date and timestamps\n",
    "\n",
    "Let's read in the supermarket sales dataframe attached to the lecture now and see some of the issues that can come up when working with date and timestamps values."
   ]
  },
  {
   "cell_type": "code",
   "execution_count": null,
   "metadata": {},
   "outputs": [],
   "source": []
  },
  {
   "cell_type": "markdown",
   "metadata": {},
   "source": [
    "## About this dataset\n",
    "\n",
    "The growth of supermarkets in most populated cities are increasing and market competitions are also high. The dataset is one of the historical sales of supermarket company which has recorded in 3 different branches for 3 months data. \n",
    "\n",
    " - Attribute information\n",
    " - Invoice id: Computer generated sales slip invoice identification number\n",
    " - Branch: Branch of supercenter (3 branches are available identified by A, B and C).\n",
    " - City: Location of supercenters\n",
    " - Customer type: Type of customers, recorded by Members for customers using member card and Normal for without member card.\n",
    " - Gender: Gender type of customer\n",
    " - Product line: General item categorization groups - Electronic accessories, Fashion accessories, Food and beverages, Health and beauty, Home and lifestyle, Sports and travel\n",
    " - Unit price: Price of each product in USD\n",
    " - Quantity: Number of products purchased by customer\n",
    " - Tax: 5% tax fee for customer buying\n",
    " - Total: Total price including tax\n",
    " - Date: Date of purchase (Record available from January 2019 to March 2019)\n",
    " - Time: Purchase time (10am to 9pm)\n",
    " - Payment: Payment used by customer for purchase (3 methods are available – Cash, Credit card and Ewallet)\n",
    " - COGS: Cost of goods sold\n",
    " - Gross margin percentage: Gross margin percentage\n",
    " - Gross income: Gross income\n",
    " - Rating: Customer stratification rating on their overall shopping experience (On a scale of 1 to 10)\n",
    "\n",
    "**Source:** https://www.kaggle.com/aungpyaeap/supermarket-sales"
   ]
  },
  {
   "cell_type": "markdown",
   "metadata": {},
   "source": [
    "### View dataframe and schema as usual"
   ]
  },
  {
   "cell_type": "code",
   "execution_count": null,
   "metadata": {},
   "outputs": [],
   "source": []
  },
  {
   "cell_type": "code",
   "execution_count": null,
   "metadata": {},
   "outputs": [],
   "source": []
  },
  {
   "cell_type": "markdown",
   "metadata": {},
   "source": [
    "### Convert date field to date type\n",
    "\n",
    "Looks like we need to convert the date field into a date type. Let's go ahead and do that.."
   ]
  },
  {
   "cell_type": "code",
   "execution_count": null,
   "metadata": {},
   "outputs": [],
   "source": []
  },
  {
   "cell_type": "markdown",
   "metadata": {},
   "source": [
    "### How can we extract the month value from the date field?\n",
    "\n",
    "If you had trouble converting the date field in the previous question think about a more creative solution to extract the month from that field."
   ]
  },
  {
   "cell_type": "code",
   "execution_count": null,
   "metadata": {},
   "outputs": [],
   "source": []
  },
  {
   "cell_type": "markdown",
   "metadata": {},
   "source": [
    "## 11.0 Working with Arrays\n",
    "\n",
    "Here is a dataframe of reviews from the movie the Dark Night."
   ]
  },
  {
   "cell_type": "code",
   "execution_count": 3,
   "metadata": {},
   "outputs": [
    {
     "name": "stdout",
     "output_type": "stream",
     "text": [
      "+------+--------------------------------------------------------------------------------------+\n",
      "|rating|review_txt                                                                            |\n",
      "+------+--------------------------------------------------------------------------------------+\n",
      "|5     |Epic. This is the best movie I have EVER seen                                         |\n",
      "|4     |Pretty good, but I would have liked to seen better special effects                    |\n",
      "|3     |So so. Casting could have been improved                                               |\n",
      "|5     |The most EPIC movie of the year! Casting was awesome. Special effects were so intense.|\n",
      "|4     |Solid but I would have liked to see more of the love story                            |\n",
      "|5     |THE BOMB!!!!!!!                                                                       |\n",
      "+------+--------------------------------------------------------------------------------------+\n",
      "\n"
     ]
    }
   ],
   "source": [
    "from pyspark.sql.functions import *\n",
    "\n",
    "values = [(5,'Epic. This is the best movie I have EVER seen'), \\\n",
    "          (4,'Pretty good, but I would have liked to seen better special effects'), \\\n",
    "          (3,'So so. Casting could have been improved'), \\\n",
    "          (5,'The most EPIC movie of the year! Casting was awesome. Special effects were so intense.'), \\\n",
    "          (4,'Solid but I would have liked to see more of the love story'), \\\n",
    "          (5,'THE BOMB!!!!!!!')]\n",
    "reviews = spark.createDataFrame(values,['rating', 'review_txt'])\n",
    "\n",
    "reviews.show(6,False)"
   ]
  },
  {
   "cell_type": "markdown",
   "metadata": {},
   "source": [
    "## 11.1 Let's see if we can create an array off of the review text column and then derive some meaningful results from it.\n",
    "\n",
    "**But first** we need to clean the rview_txt column to make sure we can get what we need from our analysis later on. So let's do the following:\n",
    "\n",
    "1. Remove all punctuation\n",
    "2. lower case everything\n",
    "3. Remove white space (trim)\n",
    "3. Then finally, split the string"
   ]
  },
  {
   "cell_type": "code",
   "execution_count": null,
   "metadata": {},
   "outputs": [],
   "source": []
  },
  {
   "cell_type": "code",
   "execution_count": null,
   "metadata": {},
   "outputs": [],
   "source": []
  },
  {
   "cell_type": "markdown",
   "metadata": {},
   "source": [
    "## 11.2 Alright now let's see if we can find which reviews contain the word 'Epic'"
   ]
  },
  {
   "cell_type": "code",
   "execution_count": null,
   "metadata": {},
   "outputs": [],
   "source": []
  },
  {
   "cell_type": "markdown",
   "metadata": {},
   "source": [
    "### That's it! Great Job!"
   ]
  }
 ],
 "metadata": {
  "kernelspec": {
   "display_name": "Python 3",
   "language": "python",
   "name": "python3"
  },
  "language_info": {
   "codemirror_mode": {
    "name": "ipython",
    "version": 3
   },
   "file_extension": ".py",
   "mimetype": "text/x-python",
   "name": "python",
   "nbconvert_exporter": "python",
   "pygments_lexer": "ipython3",
   "version": "3.8.8"
  }
 },
 "nbformat": 4,
 "nbformat_minor": 4
}
