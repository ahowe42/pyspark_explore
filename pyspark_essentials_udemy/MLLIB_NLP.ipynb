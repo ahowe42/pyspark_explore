{
 "cells": [
  {
   "cell_type": "code",
   "execution_count": 1,
   "id": "casual-torture",
   "metadata": {},
   "outputs": [],
   "source": [
    "import pandas as pd\n",
    "import numpy as np\n",
    "import datetime as dt\n",
    "\n",
    "import findspark\n",
    "findspark.init()\n",
    "import pyspark\n",
    "from pyspark.sql import SparkSession\n",
    "from pyspark.sql.functions import *#avg, count, expr\n",
    "from pyspark.sql.types import *\n",
    "from pyspark.ml.feature import StringIndexer, IndexToString, RegexTokenizer,\\\n",
    "    StopWordsRemover, Word2Vec, CountVectorizer, IDF\n",
    "from pyspark.ml import Pipeline\n",
    "\n",
    "pd.set_option('display.max_rows', None)\n",
    "pd.set_option('display.max_columns', None)"
   ]
  },
  {
   "cell_type": "code",
   "execution_count": 2,
   "id": "swiss-training",
   "metadata": {},
   "outputs": [
    {
     "name": "stdout",
     "output_type": "stream",
     "text": [
      "1 cores\n"
     ]
    },
    {
     "data": {
      "text/html": [
       "\n",
       "            <div>\n",
       "                <p><b>SparkSession - in-memory</b></p>\n",
       "                \n",
       "        <div>\n",
       "            <p><b>SparkContext</b></p>\n",
       "\n",
       "            <p><a href=\"http://192.168.150.128:4040\">Spark UI</a></p>\n",
       "\n",
       "            <dl>\n",
       "              <dt>Version</dt>\n",
       "                <dd><code>v3.1.1</code></dd>\n",
       "              <dt>Master</dt>\n",
       "                <dd><code>local[*]</code></dd>\n",
       "              <dt>AppName</dt>\n",
       "                <dd><code>nlp</code></dd>\n",
       "            </dl>\n",
       "        </div>\n",
       "        \n",
       "            </div>\n",
       "        "
      ],
      "text/plain": [
       "<pyspark.sql.session.SparkSession at 0x7fefac17c6a0>"
      ]
     },
     "execution_count": 2,
     "metadata": {},
     "output_type": "execute_result"
    }
   ],
   "source": [
    "# initialize\n",
    "sc = pyspark.SparkContext()\n",
    "spark = SparkSession(sc)\n",
    "spark.sparkContext.appName = 'nlp'\n",
    "# show the number of cores\n",
    "print('%d cores'%spark._jsc.sc().getExecutorMemoryStatus().keySet().size())\n",
    "spark"
   ]
  },
  {
   "cell_type": "code",
   "execution_count": 3,
   "id": "industrial-beach",
   "metadata": {},
   "outputs": [
    {
     "name": "stdout",
     "output_type": "stream",
     "text": [
      "223627 records\n"
     ]
    },
    {
     "data": {
      "text/html": [
       "<div>\n",
       "<style scoped>\n",
       "    .dataframe tbody tr th:only-of-type {\n",
       "        vertical-align: middle;\n",
       "    }\n",
       "\n",
       "    .dataframe tbody tr th {\n",
       "        vertical-align: top;\n",
       "    }\n",
       "\n",
       "    .dataframe thead th {\n",
       "        text-align: right;\n",
       "    }\n",
       "</style>\n",
       "<table border=\"1\" class=\"dataframe\">\n",
       "  <thead>\n",
       "    <tr style=\"text-align: right;\">\n",
       "      <th></th>\n",
       "      <th>id</th>\n",
       "      <th>blurb</th>\n",
       "      <th>state</th>\n",
       "    </tr>\n",
       "  </thead>\n",
       "  <tbody>\n",
       "    <tr>\n",
       "      <th>0</th>\n",
       "      <td>1</td>\n",
       "      <td>Using their own character, users go on educati...</td>\n",
       "      <td>failed</td>\n",
       "    </tr>\n",
       "    <tr>\n",
       "      <th>1</th>\n",
       "      <td>2</td>\n",
       "      <td>MicroFly is a quadcopter packed with WiFi, 6 s...</td>\n",
       "      <td>successful</td>\n",
       "    </tr>\n",
       "    <tr>\n",
       "      <th>2</th>\n",
       "      <td>3</td>\n",
       "      <td>A small indie press, run as a collective for a...</td>\n",
       "      <td>failed</td>\n",
       "    </tr>\n",
       "    <tr>\n",
       "      <th>3</th>\n",
       "      <td>4</td>\n",
       "      <td>Zylor is a new baby cosplayer! Back this kicks...</td>\n",
       "      <td>failed</td>\n",
       "    </tr>\n",
       "    <tr>\n",
       "      <th>4</th>\n",
       "      <td>5</td>\n",
       "      <td>Hatoful Boyfriend meet Skeletons! A comedy Dat...</td>\n",
       "      <td>failed</td>\n",
       "    </tr>\n",
       "    <tr>\n",
       "      <th>5</th>\n",
       "      <td>6</td>\n",
       "      <td>FastMan is a Infinite running platformer. Go i...</td>\n",
       "      <td>failed</td>\n",
       "    </tr>\n",
       "    <tr>\n",
       "      <th>6</th>\n",
       "      <td>7</td>\n",
       "      <td>FADE. A dark and somber RPG about survival and...</td>\n",
       "      <td>failed</td>\n",
       "    </tr>\n",
       "    <tr>\n",
       "      <th>7</th>\n",
       "      <td>8</td>\n",
       "      <td>The next generation of space combat with onlin...</td>\n",
       "      <td>failed</td>\n",
       "    </tr>\n",
       "    <tr>\n",
       "      <th>8</th>\n",
       "      <td>9</td>\n",
       "      <td>Whip around planets and smash your way to vict...</td>\n",
       "      <td>failed</td>\n",
       "    </tr>\n",
       "    <tr>\n",
       "      <th>9</th>\n",
       "      <td>10</td>\n",
       "      <td>Sneak in, find treasures, avoid cats and colle...</td>\n",
       "      <td>failed</td>\n",
       "    </tr>\n",
       "  </tbody>\n",
       "</table>\n",
       "</div>"
      ],
      "text/plain": [
       "   id                                              blurb       state\n",
       "0   1  Using their own character, users go on educati...      failed\n",
       "1   2  MicroFly is a quadcopter packed with WiFi, 6 s...  successful\n",
       "2   3  A small indie press, run as a collective for a...      failed\n",
       "3   4  Zylor is a new baby cosplayer! Back this kicks...      failed\n",
       "4   5  Hatoful Boyfriend meet Skeletons! A comedy Dat...      failed\n",
       "5   6  FastMan is a Infinite running platformer. Go i...      failed\n",
       "6   7  FADE. A dark and somber RPG about survival and...      failed\n",
       "7   8  The next generation of space combat with onlin...      failed\n",
       "8   9  Whip around planets and smash your way to vict...      failed\n",
       "9  10  Sneak in, find treasures, avoid cats and colle...      failed"
      ]
     },
     "metadata": {},
     "output_type": "display_data"
    }
   ],
   "source": [
    "# get the data\n",
    "fil = '../data/kickstarter.csv'\n",
    "schem = StructType([StructField('', IntegerType()), StructField('blurb', StringType()), StructField('state', StringType())])\n",
    "kick = spark.read.format('csv').options(header=True).schema(schem).load(fil).withColumnRenamed('', 'id')\n",
    "\n",
    "# talk\n",
    "cnt = kick.count()\n",
    "print('%d records'%cnt)\n",
    "display(kick.limit(10).toPandas())"
   ]
  },
  {
   "cell_type": "code",
   "execution_count": 4,
   "id": "2280c3b8-344e-4bab-bdf4-247d7a9bdada",
   "metadata": {},
   "outputs": [
    {
     "data": {
      "text/html": [
       "<div>\n",
       "<style scoped>\n",
       "    .dataframe tbody tr th:only-of-type {\n",
       "        vertical-align: middle;\n",
       "    }\n",
       "\n",
       "    .dataframe tbody tr th {\n",
       "        vertical-align: top;\n",
       "    }\n",
       "\n",
       "    .dataframe thead th {\n",
       "        text-align: right;\n",
       "    }\n",
       "</style>\n",
       "<table border=\"1\" class=\"dataframe\">\n",
       "  <thead>\n",
       "    <tr style=\"text-align: right;\">\n",
       "      <th></th>\n",
       "      <th>Column</th>\n",
       "      <th>Freq.</th>\n",
       "      <th>Rel. Freq.</th>\n",
       "      <th>Type</th>\n",
       "    </tr>\n",
       "  </thead>\n",
       "  <tbody>\n",
       "    <tr>\n",
       "      <th>0</th>\n",
       "      <td>state</td>\n",
       "      <td>13157.0</td>\n",
       "      <td>0.058835</td>\n",
       "      <td>StringType</td>\n",
       "    </tr>\n",
       "    <tr>\n",
       "      <th>1</th>\n",
       "      <td>id</td>\n",
       "      <td>8110.0</td>\n",
       "      <td>0.036266</td>\n",
       "      <td>IntegerType</td>\n",
       "    </tr>\n",
       "    <tr>\n",
       "      <th>2</th>\n",
       "      <td>blurb</td>\n",
       "      <td>1488.0</td>\n",
       "      <td>0.006654</td>\n",
       "      <td>StringType</td>\n",
       "    </tr>\n",
       "  </tbody>\n",
       "</table>\n",
       "</div>"
      ],
      "text/plain": [
       "  Column    Freq.  Rel. Freq.         Type\n",
       "0  state  13157.0    0.058835   StringType\n",
       "1     id   8110.0    0.036266  IntegerType\n",
       "2  blurb   1488.0    0.006654   StringType"
      ]
     },
     "metadata": {},
     "output_type": "display_data"
    },
    {
     "name": "stdout",
     "output_type": "stream",
     "text": [
      "209018 records\n"
     ]
    }
   ],
   "source": [
    "''' handle missing values '''\n",
    "# check for missing values\n",
    "nullCounts = {colm:kick.select(colm).where(col(colm).isNull()).count() for colm in kick.columns}\n",
    "nullCounts = {colm:(ncnt, ncnt/cnt) for (colm, ncnt) in nullCounts.items()}\n",
    "nullCountsDF = pd.DataFrame(nullCounts).T.reset_index(drop=False).sort_values(1, ascending=False)\n",
    "nullCountsDF.columns = ['Column', 'Freq.', 'Rel. Freq.']\n",
    "nullCountsDF = nullCountsDF.merge(pd.DataFrame([[colm.name, colm.dataType] for colm in kick.schema], columns=['Column', 'Type']),\n",
    "                                how='inner', on=['Column'])\n",
    "\n",
    "# talk\n",
    "display(nullCountsDF)\n",
    "\n",
    "# remove\n",
    "kick = kick.dropna(how='any')\n",
    "\n",
    "# talk some more\n",
    "print('%d records'%kick.count())"
   ]
  },
  {
   "cell_type": "code",
   "execution_count": 5,
   "id": "eab9d635-fc9a-481c-811b-e5a9e902d5f2",
   "metadata": {},
   "outputs": [
    {
     "name": "stdout",
     "output_type": "stream",
     "text": [
      "+--------------------+------+\n",
      "|               state| count|\n",
      "+--------------------+------+\n",
      "|          successful|103192|\n",
      "|              failed|101495|\n",
      "| and get some col...|     8|\n",
      "|          \",\"failed\"|     6|\n",
      "|     their childhood|     6|\n",
      "| about a lonely f...|     5|\n",
      "|                love|     5|\n",
      "|              poetry|     4|\n",
      "|            mastered|     4|\n",
      "| solid surface on...|     3|\n",
      "| She Wrote\"\" but ...|     3|\n",
      "|                loss|     3|\n",
      "|              2015.\"|     3|\n",
      "|             romance|     3|\n",
      "|              racism|     3|\n",
      "|               music|     3|\n",
      "| \"\"Tomorrow Comes...|     3|\n",
      "|              2011.\"|     3|\n",
      "|                NY.\"|     3|\n",
      "|              2014.\"|     3|\n",
      "+--------------------+------+\n",
      "only showing top 20 rows\n",
      "\n",
      "204687 records\n"
     ]
    }
   ],
   "source": [
    "''' ensure state is only failed or successful '''\n",
    "# count by state\n",
    "kick.groupBy('state').count().orderBy(col('count').desc()).show()\n",
    "\n",
    "# remove the bad rows\n",
    "kick = kick.where(col('state').isin('failed', 'successful'))\n",
    "\n",
    "# talk\n",
    "print('%d records'%kick.count())"
   ]
  },
  {
   "cell_type": "code",
   "execution_count": 6,
   "id": "16f46ed1-f62c-430f-8886-f44ba7da95de",
   "metadata": {},
   "outputs": [
    {
     "name": "stdout",
     "output_type": "stream",
     "text": [
      "+---+----------+-------------------------------------------------------------------------------------------------------------------------------------+\n",
      "|id |state     |blurb                                                                                                                                |\n",
      "+---+----------+-------------------------------------------------------------------------------------------------------------------------------------+\n",
      "|1  |failed    |Using their own character users go on educational quests around a virtual world leveling up subject oriented skills ie Physics       |\n",
      "|2  |successful|MicroFly is a quadcopter packed with WiFi sensors and processors for ultimate stability and fits in the palm of your hand            |\n",
      "|3  |failed    |A small indie press run as a collective for authors who want to self publish and a sexy smart hilarious novel                        |\n",
      "|4  |failed    |Zylor is a new baby cosplayer Back this kickstarter to help fund new cosplay photoshoots to share his cuteness with the world        |\n",
      "|5  |failed    |Hatoful Boyfriend meet Skeletons A comedy Dating Sim that puts you into a high school full of Skeletons Rattle some Bones            |\n",
      "|6  |failed    |FastMan is a Infinite running platformer Go in FastMan s shoes and run through the platform dodging obstacles                        |\n",
      "|7  |failed    |FADE A dark and somber RPG about survival and hope Legend of Zelda Fable Inspired                                                    |\n",
      "|8  |failed    |The next generation of space combat with online progression leveling an arsenal of ships weapons and much more                       |\n",
      "|9  |failed    |Whip around planets and smash your way to victory in this video game of galactic proportions                                         |\n",
      "|10 |failed    |Sneak in find treasures avoid cats and collect the loot before time runs out                                                         |\n",
      "|11 |failed    |A unique 3rd person 3D open world puzzle adventure game filled full of wondrous surprises and mysteries                              |\n",
      "|12 |failed    |Echo S is a mod to be incorporated into the game Final Fantasy as a nostalgic means for the original fans as well as newcomer s      |\n",
      "|13 |failed    |Game development design made easy and fun Learn C and Blueprints using Unreal Create your first 2D 3D games now                      |\n",
      "|14 |failed    |GangWars ARC is an action packed PvE addon to GangWars where you earn unique armors weapons and accessories                          |\n",
      "|15 |failed    |A team based first person shooter                                                                                                    |\n",
      "|16 |failed    |Super Babies World of Trouble Inspired by my 4month old baby boy puts you in the diaper of a baby as you battle the world            |\n",
      "|17 |failed    |Action RPG set in Scifi fantasy world with horror strategy base building base management and crafting                                |\n",
      "|19 |failed    |Studly the Muffin must save the world from the menacing evil that was brought onto the land by the Muffin man and his army of sweets |\n",
      "|20 |failed    |A new YouTube web show focused on classic video games gaming history and collecting                                                  |\n",
      "|21 |failed    |Experience rock climbing fishing and hunting crafting swimming rafting survival and more with Vanished #surivetheisland              |\n",
      "+---+----------+-------------------------------------------------------------------------------------------------------------------------------------+\n",
      "only showing top 20 rows\n",
      "\n"
     ]
    }
   ],
   "source": [
    "''' get rid of\n",
    "non-alphanumeric or whitespace chars\n",
    "drop numbers if there is a space after\n",
    "drop # if there is a space after\n",
    "get rid of multiplied spaces\n",
    "'''\n",
    "kick = kick.select('id', 'state', regexp_replace(col('blurb'), '[^A-Za-z0-9\\# ]', ' ').alias('blurb'))\\\n",
    "    .withColumn('blurb', regexp_replace(col('blurb'), '[0-9] ', ' '))\\\n",
    "    .withColumn('blurb', regexp_replace(col('blurb'), '\\# ', ' '))\\\n",
    "    .withColumn('blurb', regexp_replace(col('blurb'), ' +', ' '))\n",
    "\n",
    "# talk\n",
    "kick.show(truncate=False)"
   ]
  },
  {
   "cell_type": "code",
   "execution_count": 7,
   "id": "16ce692f-ab30-4b08-aba8-1d7ae11c2df0",
   "metadata": {},
   "outputs": [],
   "source": [
    "# keep a copy of kick before any of this feature engineering\n",
    "kick_orig = kick.select('*')"
   ]
  },
  {
   "cell_type": "code",
   "execution_count": 13,
   "id": "273b6442-234b-4580-8b44-8ecd418587d7",
   "metadata": {},
   "outputs": [
    {
     "name": "stdout",
     "output_type": "stream",
     "text": [
      "+---+----------+---------------------------------------------------------------------------------------------------------------------------------------------------------------+\n",
      "|id |state     |words                                                                                                                                                          |\n",
      "+---+----------+---------------------------------------------------------------------------------------------------------------------------------------------------------------+\n",
      "|1  |failed    |[using, their, own, character, users, go, on, educational, quests, around, a, virtual, world, leveling, up, subject, oriented, skills, ie, physics]            |\n",
      "|2  |successful|[microfly, is, a, quadcopter, packed, with, wifi, sensors, and, processors, for, ultimate, stability, and, fits, in, the, palm, of, your, hand]                |\n",
      "|3  |failed    |[a, small, indie, press, run, as, a, collective, for, authors, who, want, to, self, publish, and, a, sexy, smart, hilarious, novel]                            |\n",
      "|4  |failed    |[zylor, is, a, new, baby, cosplayer, back, this, kickstarter, to, help, fund, new, cosplay, photoshoots, to, share, his, cuteness, with, the, world]           |\n",
      "|5  |failed    |[hatoful, boyfriend, meet, skeletons, a, comedy, dating, sim, that, puts, you, into, a, high, school, full, of, skeletons, rattle, some, bones]                |\n",
      "|6  |failed    |[fastman, is, a, infinite, running, platformer, go, in, fastman, s, shoes, and, run, through, the, platform, dodging, obstacles]                               |\n",
      "|7  |failed    |[fade, a, dark, and, somber, rpg, about, survival, and, hope, legend, of, zelda, fable, inspired]                                                              |\n",
      "|8  |failed    |[the, next, generation, of, space, combat, with, online, progression, leveling, an, arsenal, of, ships, weapons, and, much, more]                              |\n",
      "|9  |failed    |[whip, around, planets, and, smash, your, way, to, victory, in, this, video, game, of, galactic, proportions]                                                  |\n",
      "|10 |failed    |[sneak, in, find, treasures, avoid, cats, and, collect, the, loot, before, time, runs, out]                                                                    |\n",
      "|11 |failed    |[a, unique, 3rd, person, 3d, open, world, puzzle, adventure, game, filled, full, of, wondrous, surprises, and, mysteries]                                      |\n",
      "|12 |failed    |[echo, s, is, a, mod, to, be, incorporated, into, the, game, final, fantasy, as, a, nostalgic, means, for, the, original, fans, as, well, as, newcomer, s]     |\n",
      "|13 |failed    |[game, development, design, made, easy, and, fun, learn, c, and, blueprints, using, unreal, create, your, first, 2d, 3d, games, now]                           |\n",
      "|14 |failed    |[gangwars, arc, is, an, action, packed, pve, addon, to, gangwars, where, you, earn, unique, armors, weapons, and, accessories]                                 |\n",
      "|15 |failed    |[a, team, based, first, person, shooter]                                                                                                                       |\n",
      "|16 |failed    |[super, babies, world, of, trouble, inspired, by, my, 4month, old, baby, boy, puts, you, in, the, diaper, of, a, baby, as, you, battle, the, world]            |\n",
      "|17 |failed    |[action, rpg, set, in, scifi, fantasy, world, with, horror, strategy, base, building, base, management, and, crafting]                                         |\n",
      "|19 |failed    |[studly, the, muffin, must, save, the, world, from, the, menacing, evil, that, was, brought, onto, the, land, by, the, muffin, man, and, his, army, of, sweets]|\n",
      "|20 |failed    |[a, new, youtube, web, show, focused, on, classic, video, games, gaming, history, and, collecting]                                                             |\n",
      "|21 |failed    |[experience, rock, climbing, fishing, and, hunting, crafting, swimming, rafting, survival, and, more, with, vanished, #surivetheisland]                        |\n",
      "+---+----------+---------------------------------------------------------------------------------------------------------------------------------------------------------------+\n",
      "only showing top 20 rows\n",
      "\n"
     ]
    }
   ],
   "source": [
    "''' tokenize! '''\n",
    "# split on whitespace & make it all lowercase - using space instead of '\\\\W' as the pattern to keep hashtags\n",
    "toker = RegexTokenizer(inputCol='blurb', outputCol='words', pattern=' ', toLowercase=True)\n",
    "kick = toker.transform(kick).select('id', 'state', 'words')\n",
    "\n",
    "# talk\n",
    "kick.show(truncate=False)"
   ]
  },
  {
   "cell_type": "code",
   "execution_count": 14,
   "id": "530a79fe-b9fd-458b-af75-851886cc2354",
   "metadata": {},
   "outputs": [
    {
     "name": "stdout",
     "output_type": "stream",
     "text": [
      "Removed = ['i', 'me', 'my', 'myself', 'we', 'our', 'ours', 'ourselves', 'you', 'your', 'yours', 'yourself', 'yourselves', 'he', 'him', 'his', 'himself', 'she', 'her', 'hers', 'herself', 'it', 'its', 'itself', 'they', 'them', 'their', 'theirs', 'themselves', 'what', 'which', 'who', 'whom', 'this', 'that', 'these', 'those', 'am', 'is', 'are', 'was', 'were', 'be', 'been', 'being', 'have', 'has', 'had', 'having', 'do', 'does', 'did', 'doing', 'a', 'an', 'the', 'and', 'but', 'if', 'or', 'because', 'as', 'until', 'while', 'of', 'at', 'by', 'for', 'with', 'about', 'against', 'between', 'into', 'through', 'during', 'before', 'after', 'above', 'below', 'to', 'from', 'up', 'down', 'in', 'out', 'on', 'off', 'over', 'under', 'again', 'further', 'then', 'once', 'here', 'there', 'when', 'where', 'why', 'how', 'all', 'any', 'both', 'each', 'few', 'more', 'most', 'other', 'some', 'such', 'no', 'nor', 'not', 'only', 'own', 'same', 'so', 'than', 'too', 'very', 's', 't', 'can', 'will', 'just', 'don', 'should', 'now', \"i'll\", \"you'll\", \"he'll\", \"she'll\", \"we'll\", \"they'll\", \"i'd\", \"you'd\", \"he'd\", \"she'd\", \"we'd\", \"they'd\", \"i'm\", \"you're\", \"he's\", \"she's\", \"it's\", \"we're\", \"they're\", \"i've\", \"we've\", \"you've\", \"they've\", \"isn't\", \"aren't\", \"wasn't\", \"weren't\", \"haven't\", \"hasn't\", \"hadn't\", \"don't\", \"doesn't\", \"didn't\", \"won't\", \"wouldn't\", \"shan't\", \"shouldn't\", \"mustn't\", \"can't\", \"couldn't\", 'cannot', 'could', \"here's\", \"how's\", \"let's\", 'ought', \"that's\", \"there's\", \"what's\", \"when's\", \"where's\", \"who's\", \"why's\", 'would']\n",
      "+---+----------+---------------------------------------------------------------------------------------------------------------------------------------------------------------+----------------------------------------------------------------------------------------------------------------------------+\n",
      "|id |state     |words                                                                                                                                                          |fewer_words                                                                                                                 |\n",
      "+---+----------+---------------------------------------------------------------------------------------------------------------------------------------------------------------+----------------------------------------------------------------------------------------------------------------------------+\n",
      "|1  |failed    |[using, their, own, character, users, go, on, educational, quests, around, a, virtual, world, leveling, up, subject, oriented, skills, ie, physics]            |[using, character, users, go, educational, quests, around, virtual, world, leveling, subject, oriented, skills, ie, physics]|\n",
      "|2  |successful|[microfly, is, a, quadcopter, packed, with, wifi, sensors, and, processors, for, ultimate, stability, and, fits, in, the, palm, of, your, hand]                |[microfly, quadcopter, packed, wifi, sensors, processors, ultimate, stability, fits, palm, hand]                            |\n",
      "|3  |failed    |[a, small, indie, press, run, as, a, collective, for, authors, who, want, to, self, publish, and, a, sexy, smart, hilarious, novel]                            |[small, indie, press, run, collective, authors, want, self, publish, sexy, smart, hilarious, novel]                         |\n",
      "|4  |failed    |[zylor, is, a, new, baby, cosplayer, back, this, kickstarter, to, help, fund, new, cosplay, photoshoots, to, share, his, cuteness, with, the, world]           |[zylor, new, baby, cosplayer, back, kickstarter, help, fund, new, cosplay, photoshoots, share, cuteness, world]             |\n",
      "|5  |failed    |[hatoful, boyfriend, meet, skeletons, a, comedy, dating, sim, that, puts, you, into, a, high, school, full, of, skeletons, rattle, some, bones]                |[hatoful, boyfriend, meet, skeletons, comedy, dating, sim, puts, high, school, full, skeletons, rattle, bones]              |\n",
      "|6  |failed    |[fastman, is, a, infinite, running, platformer, go, in, fastman, s, shoes, and, run, through, the, platform, dodging, obstacles]                               |[fastman, infinite, running, platformer, go, fastman, shoes, run, platform, dodging, obstacles]                             |\n",
      "|7  |failed    |[fade, a, dark, and, somber, rpg, about, survival, and, hope, legend, of, zelda, fable, inspired]                                                              |[fade, dark, somber, rpg, survival, hope, legend, zelda, fable, inspired]                                                   |\n",
      "|8  |failed    |[the, next, generation, of, space, combat, with, online, progression, leveling, an, arsenal, of, ships, weapons, and, much, more]                              |[next, generation, space, combat, online, progression, leveling, arsenal, ships, weapons, much]                             |\n",
      "|9  |failed    |[whip, around, planets, and, smash, your, way, to, victory, in, this, video, game, of, galactic, proportions]                                                  |[whip, around, planets, smash, way, victory, video, game, galactic, proportions]                                            |\n",
      "|10 |failed    |[sneak, in, find, treasures, avoid, cats, and, collect, the, loot, before, time, runs, out]                                                                    |[sneak, find, treasures, avoid, cats, collect, loot, time, runs]                                                            |\n",
      "|11 |failed    |[a, unique, 3rd, person, 3d, open, world, puzzle, adventure, game, filled, full, of, wondrous, surprises, and, mysteries]                                      |[unique, 3rd, person, 3d, open, world, puzzle, adventure, game, filled, full, wondrous, surprises, mysteries]               |\n",
      "|12 |failed    |[echo, s, is, a, mod, to, be, incorporated, into, the, game, final, fantasy, as, a, nostalgic, means, for, the, original, fans, as, well, as, newcomer, s]     |[echo, mod, incorporated, game, final, fantasy, nostalgic, means, original, fans, well, newcomer]                           |\n",
      "|13 |failed    |[game, development, design, made, easy, and, fun, learn, c, and, blueprints, using, unreal, create, your, first, 2d, 3d, games, now]                           |[game, development, design, made, easy, fun, learn, c, blueprints, using, unreal, create, first, 2d, 3d, games]             |\n",
      "|14 |failed    |[gangwars, arc, is, an, action, packed, pve, addon, to, gangwars, where, you, earn, unique, armors, weapons, and, accessories]                                 |[gangwars, arc, action, packed, pve, addon, gangwars, earn, unique, armors, weapons, accessories]                           |\n",
      "|15 |failed    |[a, team, based, first, person, shooter]                                                                                                                       |[team, based, first, person, shooter]                                                                                       |\n",
      "|16 |failed    |[super, babies, world, of, trouble, inspired, by, my, 4month, old, baby, boy, puts, you, in, the, diaper, of, a, baby, as, you, battle, the, world]            |[super, babies, world, trouble, inspired, 4month, old, baby, boy, puts, diaper, baby, battle, world]                        |\n",
      "|17 |failed    |[action, rpg, set, in, scifi, fantasy, world, with, horror, strategy, base, building, base, management, and, crafting]                                         |[action, rpg, set, scifi, fantasy, world, horror, strategy, base, building, base, management, crafting]                     |\n",
      "|19 |failed    |[studly, the, muffin, must, save, the, world, from, the, menacing, evil, that, was, brought, onto, the, land, by, the, muffin, man, and, his, army, of, sweets]|[studly, muffin, must, save, world, menacing, evil, brought, onto, land, muffin, man, army, sweets]                         |\n",
      "|20 |failed    |[a, new, youtube, web, show, focused, on, classic, video, games, gaming, history, and, collecting]                                                             |[new, youtube, web, show, focused, classic, video, games, gaming, history, collecting]                                      |\n",
      "|21 |failed    |[experience, rock, climbing, fishing, and, hunting, crafting, swimming, rafting, survival, and, more, with, vanished, #surivetheisland]                        |[experience, rock, climbing, fishing, hunting, crafting, swimming, rafting, survival, vanished, #surivetheisland]           |\n",
      "+---+----------+---------------------------------------------------------------------------------------------------------------------------------------------------------------+----------------------------------------------------------------------------------------------------------------------------+\n",
      "only showing top 20 rows\n",
      "\n"
     ]
    }
   ],
   "source": [
    "''' remove stop words '''\n",
    "# remove\n",
    "stop = StopWordsRemover(inputCol='words', outputCol='fewer_words')\n",
    "kick = stop.transform(kick)\n",
    "\n",
    "# talk\n",
    "print('Removed = %s'%stop.getStopWords())\n",
    "kick.show(truncate=False)"
   ]
  },
  {
   "cell_type": "code",
   "execution_count": 15,
   "id": "a5548513-fd16-4206-8571-f6abffb5ddf9",
   "metadata": {},
   "outputs": [
    {
     "name": "stdout",
     "output_type": "stream",
     "text": [
      "+-----+------+\n",
      "|label| count|\n",
      "+-----+------+\n",
      "|  0.0|101495|\n",
      "|  1.0|103192|\n",
      "+-----+------+\n",
      "\n"
     ]
    }
   ],
   "source": [
    "''' prepare and assess labels '''\n",
    "# make the label column\n",
    "indxr = StringIndexer(inputCol='state', outputCol='label', stringOrderType='frequencyAsc')\n",
    "kick = indxr.fit(kick).transform(kick)\n",
    "\n",
    "# check balance\n",
    "kick.groupBy('label').count().show()"
   ]
  },
  {
   "cell_type": "markdown",
   "id": "e2f3e688-e2c4-4f7b-9939-906884a9682c",
   "metadata": {},
   "source": [
    "## Now, instead of all this piecemeal stuff, how about using a pipeline for some of it?\n",
    "If something in a pipeline needs a fit, that should go at the end."
   ]
  },
  {
   "cell_type": "code",
   "execution_count": 17,
   "id": "a65bd8dc-d82a-409e-a339-74a96dad47eb",
   "metadata": {},
   "outputs": [
    {
     "name": "stdout",
     "output_type": "stream",
     "text": [
      "+---+----------+-----+----------------------------------------------------------------------------------------------------------------------------+\n",
      "|id |state     |label|fewer_words                                                                                                                 |\n",
      "+---+----------+-----+----------------------------------------------------------------------------------------------------------------------------+\n",
      "|1  |failed    |0.0  |[using, character, users, go, educational, quests, around, virtual, world, leveling, subject, oriented, skills, ie, physics]|\n",
      "|2  |successful|1.0  |[microfly, quadcopter, packed, wifi, sensors, processors, ultimate, stability, fits, palm, hand]                            |\n",
      "|3  |failed    |0.0  |[small, indie, press, run, collective, authors, want, self, publish, sexy, smart, hilarious, novel]                         |\n",
      "|4  |failed    |0.0  |[zylor, new, baby, cosplayer, back, kickstarter, help, fund, new, cosplay, photoshoots, share, cuteness, world]             |\n",
      "|5  |failed    |0.0  |[hatoful, boyfriend, meet, skeletons, comedy, dating, sim, puts, high, school, full, skeletons, rattle, bones]              |\n",
      "|6  |failed    |0.0  |[fastman, infinite, running, platformer, go, fastman, shoes, run, platform, dodging, obstacles]                             |\n",
      "|7  |failed    |0.0  |[fade, dark, somber, rpg, survival, hope, legend, zelda, fable, inspired]                                                   |\n",
      "|8  |failed    |0.0  |[next, generation, space, combat, online, progression, leveling, arsenal, ships, weapons, much]                             |\n",
      "|9  |failed    |0.0  |[whip, around, planets, smash, way, victory, video, game, galactic, proportions]                                            |\n",
      "|10 |failed    |0.0  |[sneak, find, treasures, avoid, cats, collect, loot, time, runs]                                                            |\n",
      "|11 |failed    |0.0  |[unique, 3rd, person, 3d, open, world, puzzle, adventure, game, filled, full, wondrous, surprises, mysteries]               |\n",
      "|12 |failed    |0.0  |[echo, mod, incorporated, game, final, fantasy, nostalgic, means, original, fans, well, newcomer]                           |\n",
      "|13 |failed    |0.0  |[game, development, design, made, easy, fun, learn, c, blueprints, using, unreal, create, first, 2d, 3d, games]             |\n",
      "|14 |failed    |0.0  |[gangwars, arc, action, packed, pve, addon, gangwars, earn, unique, armors, weapons, accessories]                           |\n",
      "|15 |failed    |0.0  |[team, based, first, person, shooter]                                                                                       |\n",
      "|16 |failed    |0.0  |[super, babies, world, trouble, inspired, 4month, old, baby, boy, puts, diaper, baby, battle, world]                        |\n",
      "|17 |failed    |0.0  |[action, rpg, set, scifi, fantasy, world, horror, strategy, base, building, base, management, crafting]                     |\n",
      "|19 |failed    |0.0  |[studly, muffin, must, save, world, menacing, evil, brought, onto, land, muffin, man, army, sweets]                         |\n",
      "|20 |failed    |0.0  |[new, youtube, web, show, focused, classic, video, games, gaming, history, collecting]                                      |\n",
      "|21 |failed    |0.0  |[experience, rock, climbing, fishing, hunting, crafting, swimming, rafting, survival, vanished, #surivetheisland]           |\n",
      "+---+----------+-----+----------------------------------------------------------------------------------------------------------------------------+\n",
      "only showing top 20 rows\n",
      "\n",
      "+-----+------+\n",
      "|label| count|\n",
      "+-----+------+\n",
      "|  0.0|101495|\n",
      "|  1.0|103192|\n",
      "+-----+------+\n",
      "\n"
     ]
    }
   ],
   "source": [
    "''' all feature engineering stuff '''\n",
    "# tokenizer\n",
    "toker = RegexTokenizer(inputCol='blurb', outputCol='words', pattern=' ', toLowercase=True)\n",
    "# stopper\n",
    "stop = StopWordsRemover(inputCol=toker.getOutputCol(), outputCol='fewer_words')\n",
    "# label indexer\n",
    "indxr = StringIndexer(inputCol='state', outputCol='label', stringOrderType='frequencyAsc')\n",
    "\n",
    "# pipeline\n",
    "featEngine = Pipeline(stages=[toker, stop, indxr]).fit(kick_orig)\n",
    "kickML = featEngine.transform(kick_orig).select('id', 'state', 'label', 'fewer_words')\n",
    "\n",
    "# talk\n",
    "kickML.show(truncate=False)\n",
    "# check balance\n",
    "kickML.groupBy('label').count().show()"
   ]
  },
  {
   "cell_type": "code",
   "execution_count": null,
   "id": "a6f825e0-5a09-406d-af46-71823a0545cd",
   "metadata": {},
   "outputs": [],
   "source": []
  },
  {
   "cell_type": "code",
   "execution_count": null,
   "id": "caea2f4e-f131-4841-83fb-ad86731b39a8",
   "metadata": {},
   "outputs": [],
   "source": []
  },
  {
   "cell_type": "code",
   "execution_count": null,
   "id": "accomplished-romantic",
   "metadata": {},
   "outputs": [],
   "source": [
    "sc.stop()"
   ]
  },
  {
   "cell_type": "code",
   "execution_count": null,
   "id": "e2c3c52a-a164-4c10-ba21-0193122c4e3e",
   "metadata": {},
   "outputs": [],
   "source": []
  }
 ],
 "metadata": {
  "kernelspec": {
   "display_name": "Python 3",
   "language": "python",
   "name": "python3"
  },
  "language_info": {
   "codemirror_mode": {
    "name": "ipython",
    "version": 3
   },
   "file_extension": ".py",
   "mimetype": "text/x-python",
   "name": "python",
   "nbconvert_exporter": "python",
   "pygments_lexer": "ipython3",
   "version": "3.8.8"
  }
 },
 "nbformat": 4,
 "nbformat_minor": 5
}
