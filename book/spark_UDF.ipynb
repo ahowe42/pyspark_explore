{
 "cells": [
  {
   "cell_type": "code",
   "execution_count": 1,
   "id": "single-rescue",
   "metadata": {},
   "outputs": [],
   "source": [
    "import pandas as pd\n",
    "import numpy as np\n",
    "import datetime as dt\n",
    "\n",
    "import findspark\n",
    "findspark.init()\n",
    "import pyspark\n",
    "from pyspark.sql import SparkSession\n",
    "from pyspark.sql.functions import *#avg, count, expr\n",
    "from pyspark.sql.types import *"
   ]
  },
  {
   "cell_type": "code",
   "execution_count": 2,
   "id": "surprised-reconstruction",
   "metadata": {},
   "outputs": [],
   "source": [
    "sc = pyspark.SparkContext()\n",
    "ss = SparkSession(sc)"
   ]
  },
  {
   "cell_type": "code",
   "execution_count": 8,
   "id": "incorrect-marsh",
   "metadata": {},
   "outputs": [
    {
     "data": {
      "text/plain": [
       "<function __main__.cubed(numbr)>"
      ]
     },
     "execution_count": 8,
     "metadata": {},
     "output_type": "execute_result"
    }
   ],
   "source": [
    "# define & register a udf\n",
    "def cubed(numbr):\n",
    "    return numbr*numbr*numbr\n",
    "\n",
    "ss.udf.register('cubed', cubed)"
   ]
  },
  {
   "cell_type": "code",
   "execution_count": 6,
   "id": "amateur-intention",
   "metadata": {},
   "outputs": [
    {
     "name": "stdout",
     "output_type": "stream",
     "text": [
      "+---+\n",
      "| id|\n",
      "+---+\n",
      "|  1|\n",
      "|  2|\n",
      "|  3|\n",
      "|  4|\n",
      "|  5|\n",
      "|  6|\n",
      "|  7|\n",
      "|  8|\n",
      "+---+\n",
      "\n"
     ]
    }
   ],
   "source": [
    "data = ss.range(1, 9)\n",
    "data.show()"
   ]
  },
  {
   "cell_type": "code",
   "execution_count": 12,
   "id": "modified-psychology",
   "metadata": {},
   "outputs": [
    {
     "name": "stdout",
     "output_type": "stream",
     "text": [
      "+---+---+\n",
      "| id|cub|\n",
      "+---+---+\n",
      "|  1|  1|\n",
      "|  2|  8|\n",
      "|  3| 27|\n",
      "|  4| 64|\n",
      "|  5|125|\n",
      "|  6|216|\n",
      "|  7|343|\n",
      "|  8|512|\n",
      "+---+---+\n",
      "\n"
     ]
    }
   ],
   "source": [
    "newdata = data.withColumn('cub', cubed(col('id')))\n",
    "newdata.show()"
   ]
  },
  {
   "cell_type": "code",
   "execution_count": 13,
   "id": "selected-phase",
   "metadata": {},
   "outputs": [],
   "source": [
    "sc.stop()"
   ]
  },
  {
   "cell_type": "code",
   "execution_count": null,
   "id": "authentic-nevada",
   "metadata": {},
   "outputs": [],
   "source": []
  }
 ],
 "metadata": {
  "kernelspec": {
   "display_name": "Python 3",
   "language": "python",
   "name": "python3"
  },
  "language_info": {
   "codemirror_mode": {
    "name": "ipython",
    "version": 3
   },
   "file_extension": ".py",
   "mimetype": "text/x-python",
   "name": "python",
   "nbconvert_exporter": "python",
   "pygments_lexer": "ipython3",
   "version": "3.8.5"
  }
 },
 "nbformat": 4,
 "nbformat_minor": 5
}
