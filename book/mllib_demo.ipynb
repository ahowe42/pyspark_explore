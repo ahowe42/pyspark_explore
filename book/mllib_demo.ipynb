{
 "cells": [
  {
   "cell_type": "code",
   "execution_count": 1,
   "metadata": {},
   "outputs": [],
   "source": [
    "import pandas as pd\n",
    "import numpy as np\n",
    "\n",
    "import findspark\n",
    "findspark.init()\n",
    "import pyspark\n",
    "from pyspark.sql import SparkSession\n",
    "\n",
    "from pyspark.ml.feature import VectorAssembler\n",
    "from pyspark.ml.regression import LinearRegression\n",
    "from pyspark.ml.evaluation import RegressionEvaluator"
   ]
  },
  {
   "cell_type": "code",
   "execution_count": 2,
   "metadata": {},
   "outputs": [],
   "source": [
    "# setup spark\n",
    "sc = pyspark.SparkContext()\n",
    "ss = SparkSession(sc)"
   ]
  },
  {
   "cell_type": "code",
   "execution_count": 3,
   "metadata": {},
   "outputs": [
    {
     "name": "stdout",
     "output_type": "stream",
     "text": [
      "root\n",
      " |-- RowID: integer (nullable = true)\n",
      " |-- OrderID: integer (nullable = true)\n",
      " |-- OrderDate: string (nullable = true)\n",
      " |-- OrderMonthYear: string (nullable = true)\n",
      " |-- Quantity: integer (nullable = true)\n",
      " |-- Quote: integer (nullable = true)\n",
      " |-- DiscountPct: double (nullable = true)\n",
      " |-- Rate: integer (nullable = true)\n",
      " |-- SaleAmount: double (nullable = true)\n",
      " |-- CustomerName: string (nullable = true)\n",
      " |-- CompanyName: string (nullable = true)\n",
      " |-- Sector: string (nullable = true)\n",
      " |-- Industry: string (nullable = true)\n",
      " |-- City: string (nullable = true)\n",
      " |-- ZipCode: integer (nullable = true)\n",
      " |-- State: string (nullable = true)\n",
      " |-- Region: string (nullable = true)\n",
      " |-- ProjectCompleteDate: string (nullable = true)\n",
      " |-- DaystoComplete: integer (nullable = true)\n",
      " |-- ProductKey: string (nullable = true)\n",
      " |-- ProductCategory: string (nullable = true)\n",
      " |-- ProductSubCategory: string (nullable = true)\n",
      " |-- Consultant: string (nullable = true)\n",
      " |-- Manager: string (nullable = true)\n",
      " |-- HourlyWage: integer (nullable = true)\n",
      " |-- RowCount: integer (nullable = true)\n",
      " |-- WageMargin: double (nullable = true)\n",
      "\n",
      "+-----+-------+----------+--------------+--------+-----+-----------+----+----------+------------------+--------------------+--------------------+--------------------+---------------+-------+--------------+-------+-------------------+--------------+--------------------+---------------+------------------+----------------+--------------+----------+--------+----------+\n",
      "|RowID|OrderID| OrderDate|OrderMonthYear|Quantity|Quote|DiscountPct|Rate|SaleAmount|      CustomerName|         CompanyName|              Sector|            Industry|           City|ZipCode|         State| Region|ProjectCompleteDate|DaystoComplete|          ProductKey|ProductCategory|ProductSubCategory|      Consultant|       Manager|HourlyWage|RowCount|WageMargin|\n",
      "+-----+-------+----------+--------------+--------+-----+-----------+----+----------+------------------+--------------------+--------------------+--------------------+---------------+-------+--------------+-------+-------------------+--------------+--------------------+---------------+------------------+----------------+--------------+----------+--------+----------+\n",
      "|    1|      3|2010-10-13|    2010-10-01|       6| 1200|       0.04| 200|    1152.0|Muhammed MacIntyre|             CA Inc.|          Technology|Computer Software...|  Highland Park|  60035|      Illinois|Central|         2010-10-20|             7|Development - Big...|    Development|          Big Data|      Ethan Bird| Josh Martinez|        60|       1|       0.7|\n",
      "|    2|      6|2012-02-20|    2012-02-01|       2|  280|       0.01| 140|     277.2|     Ruben Staebel| Celgene Corporation|         Health Care|Major Pharmaceuti...|        Edmonds|  98026|    Washington|   West|         2012-02-21|             1|Development - Fro...|    Development|     Front End Web|Isabella Douglas|    Bob Turner|        75|       1|      0.46|\n",
      "|    3|     32|2011-07-15|    2011-07-01|      26| 3250|       0.07| 125|    3022.5|         Liz Greer|Twenty-First Cent...|   Consumer Services| Television Services|      Elk Plain|  98387|    Washington|   West|         2011-07-17|             2|      Training - SQL|       Training|               SQL|Isabella Douglas|    Bob Turner|        75|       1|       0.4|\n",
      "|    4|     32|2011-07-15|    2011-07-01|      24| 3000|       0.09| 125|    2730.0|         Liz Greer|Twenty-First Cent...|   Consumer Services| Television Services|      Elk Plain|  98387|    Washington|   West|         2011-07-16|             1|Training - Javasc...|       Training|        Javascript| Olivia Sullivan|    Bob Turner|        53|       1|      0.58|\n",
      "|    5|     32|2011-07-15|    2011-07-01|      23| 3450|       0.04| 150|    3312.0|         Liz Greer|Twenty-First Cent...|   Consumer Services| Television Services|      Elk Plain|  98387|    Washington|   West|         2011-07-17|             2|Consulting - Mark...|     Consulting|   Market Research|   Abigail Young|    Bob Turner|        50|       1|      0.67|\n",
      "|    6|     32|2011-07-15|    2011-07-01|      15| 2250|       0.04| 150|    2160.0|         Liz Greer|Twenty-First Cent...|   Consumer Services| Television Services|     High Point|  27260|North Carolina|  South|         2011-07-16|             1|Consulting - Busi...|     Consulting|    Business Model|    Emily Taylor|Frank Mitchell|        62|       1|      0.59|\n",
      "|    7|     35|2011-10-22|    2011-10-01|      30| 3600|       0.03| 120|    3492.0|      Julie Knight| SanDisk Corporation|          Technology|Electronic Compon...|           Ames|  50010|          Iowa|Central|         2011-10-23|             1|Development - Bus...|    Development|    Business Logic|  William Bufont| Josh Martinez|        62|       1|      0.48|\n",
      "|    8|     35|2011-10-22|    2011-10-01|      14| 2100|       0.01| 150|    2079.0|      Julie Knight| SanDisk Corporation|          Technology|Electronic Compon...|           Ames|  50010|          Iowa|Central|         2011-10-24|             2|Consulting - Mark...|     Consulting|   Market Research|     Emma Watson| Josh Martinez|        67|       1|      0.55|\n",
      "|    9|     36|2011-11-02|    2011-11-01|      46| 6900|        0.1| 150|    6210.0|    Sample Manning|Cognizant Technol...|          Technology|        EDP Services|         Albany|  97321|        Oregon|   West|         2011-11-02|             0|Consulting - Mark...|     Consulting|   Market Research|       Mia Moore|    Bob Turner|        51|       1|      0.66|\n",
      "|   10|     65|2011-03-17|    2011-03-01|      32| 4800|       0.02| 150|    4704.0|    Tamara O'Brill|Symantec Corporation|          Technology|Computer Software...|   Pflugerville|  78660|         Texas|Central|         2011-03-18|             1|Consulting - Busi...|     Consulting|    Business Model| Michael Alister| Josh Martinez|        68|       1|      0.55|\n",
      "|   11|     66|2009-01-19|    2009-01-01|      41| 4920|       0.09| 120|    4477.2|     Arthur Nelson|Linear Technology...|          Technology|      Semiconductors|       Santa Fe|  87505|    New Mexico|   West|         2009-01-19|             0|Development - Bus...|    Development|    Business Logic|Alexander Edison|    Bob Turner|        70|       1|      0.42|\n",
      "|   12|     69|2009-06-03|    2009-06-01|      42| 5250|       0.09| 125|    4777.5|     Jonathan Akin|  NVIDIA Corporation|          Technology|      Semiconductors|         Garner|  27529|North Carolina|  South|         2009-06-05|             2|      Training - SQL|       Training|               SQL|      Noah Smith|Frank Mitchell|        59|       1|      0.53|\n",
      "|   13|     69|2009-06-03|    2009-06-01|      28| 3360|       0.03| 120|    3259.2|     Jonathan Akin|  NVIDIA Corporation|          Technology|      Semiconductors|         Garner|  27529|North Carolina|  South|         2009-06-05|             2|Development - Bus...|    Development|    Business Logic|      Ethan Bird|Frank Mitchell|        60|       1|       0.5|\n",
      "|   14|     70|2010-12-17|    2010-12-01|      48| 6720|       0.03| 140|    6518.4|      Helen Kimmel|          Amgen Inc.|         Health Care|Biotechnology: Bi...|    East Meadow|  11554|      New York|   East|         2010-12-22|             5|Development - Dat...|    Development|          Database|    Sophia Dixon|   Allen Young|        71|       1|      0.49|\n",
      "|   15|     70|2010-12-17|    2010-12-01|      46| 6900|       0.05| 150|    6555.0|      Helen Kimmel|          Amgen Inc.|         Health Care|Biotechnology: Bi...|    East Meadow|  11554|      New York|   East|         2010-12-22|             5|Consulting - Mark...|     Consulting|   Market Research|     Emma Watson|   Allen Young|        67|       1|      0.55|\n",
      "|   16|     96|2009-04-16|    2009-04-01|      37| 5550|       0.01| 150|    5494.5|     Keith Beeghly|  Altera Corporation|          Technology|      Semiconductors|    Little Rock|  72209|      Arkansas|  South|         2009-04-18|             2|Consulting - Mark...|     Consulting|   Market Research| Jayden Hamilton|Frank Mitchell|        71|       1|      0.53|\n",
      "|   17|     97|2010-01-28|    2010-01-01|      26| 5200|       0.03| 200|    5044.0|   Craig Donatelli|O'Reilly Automoti...|   Consumer Services|Other Specialty S...|Prescott Valley|  86314|       Arizona|   West|         2010-01-29|             1| Development - Scala|    Development|             Scala|     Daniel Tusk|    Bob Turner|        45|       1|      0.78|\n",
      "|   18|    129|2012-11-18|    2012-11-01|       4|  440|       0.09| 110|     400.4|    Pauline Wardle|        Mattel, Inc.|Consumer Non-Dura...|Recreational Prod...|          Moore|  73160|      Oklahoma|Central|         2012-11-27|             9|Development - Python|    Development|            Python|     Daniel Tusk| Josh Martinez|        45|       1|      0.59|\n",
      "|   19|    130|2012-05-07|    2012-05-01|       3|  450|       0.05| 150|     427.5|         Roy Smith|Bed Bath & Beyond...|   Consumer Services|    Home Furnishings|      Cleveland|  37311|     Tennessee|  South|         2012-05-09|             2|Consulting - Stra...|     Consulting|          Strategy|    Emily Taylor|Frank Mitchell|        62|       1|      0.59|\n",
      "|   20|    130|2012-05-07|    2012-05-01|      29| 3190|       0.02| 110|    3126.2|         Roy Smith|Bed Bath & Beyond...|   Consumer Services|    Home Furnishings|      Cleveland|  37311|     Tennessee|  South|         2012-05-08|             1|Development - Python|    Development|            Python|Alexander Edison|Frank Mitchell|        70|       1|      0.36|\n",
      "+-----+-------+----------+--------------+--------+-----+-----------+----+----------+------------------+--------------------+--------------------+--------------------+---------------+-------+--------------+-------+-------------------+--------------+--------------------+---------------+------------------+----------------+--------------+----------+--------+----------+\n",
      "only showing top 20 rows\n",
      "\n"
     ]
    },
    {
     "data": {
      "text/plain": [
       "None"
      ]
     },
     "metadata": {},
     "output_type": "display_data"
    }
   ],
   "source": [
    "# get the data\n",
    "fil = './Exercise Files/cogsley_sales.csv'\n",
    "sales = ss.read.load(fil, format='com.databricks.spark.csv', header='true', inferSchema='true')\n",
    "sales.printSchema()\n",
    "display(sales.show())"
   ]
  },
  {
   "cell_type": "code",
   "execution_count": 4,
   "metadata": {},
   "outputs": [
    {
     "name": "stdout",
     "output_type": "stream",
     "text": [
      "+--------------+-----------------+\n",
      "|OrderMonthYear|       SaleAmount|\n",
      "+--------------+-----------------+\n",
      "|      20090101|741024.2000000001|\n",
      "|      20090201|544241.1499999998|\n",
      "|      20090301|        563502.15|\n",
      "|      20090401|619011.4000000001|\n",
      "|      20090501|641158.6999999998|\n",
      "|      20090601|        558288.55|\n",
      "|      20090701|673657.1000000002|\n",
      "|      20090801|        662651.85|\n",
      "|      20090901|650729.3500000001|\n",
      "|      20091001|        571600.35|\n",
      "|      20091101|566817.6499999999|\n",
      "|      20091201|560466.6499999999|\n",
      "|      20100101|         577707.6|\n",
      "|      20100201|         585992.3|\n",
      "|      20100301|528872.8000000002|\n",
      "|      20100401|489686.8499999999|\n",
      "|      20100501|        745586.95|\n",
      "|      20100601|609012.1999999998|\n",
      "|      20100701|581447.4500000001|\n",
      "|      20100801|619166.9999999999|\n",
      "+--------------+-----------------+\n",
      "only showing top 20 rows\n",
      "\n"
     ]
    }
   ],
   "source": [
    "# drop nulls & summarize by month-year\n",
    "sales = sales.dropna()\n",
    "summary = sales.select('OrderMonthYear', 'SaleAmount').groupBy('OrderMonthYear').sum().orderBy('OrderMonthYear').toDF('OrderMonthYear','SaleAmount')\n",
    "results = summary.rdd.map(lambda row: (int(row.OrderMonthYear.replace('-', '')), row.SaleAmount)).toDF(['OrderMonthYear','SaleAmount']) # need to \"cast\" to RDD first to use map, as df.map no longer is an alias to RDD.map\n",
    "results.show()"
   ]
  },
  {
   "cell_type": "code",
   "execution_count": 5,
   "metadata": {},
   "outputs": [
    {
     "name": "stdout",
     "output_type": "stream",
     "text": [
      "+--------------+-----------------+-------------+\n",
      "|OrderMonthYear|       SaleAmount|     features|\n",
      "+--------------+-----------------+-------------+\n",
      "|      20090101|741024.2000000001|[2.0090101E7]|\n",
      "|      20090201|544241.1499999998|[2.0090201E7]|\n",
      "|      20090301|        563502.15|[2.0090301E7]|\n",
      "|      20090401|619011.4000000001|[2.0090401E7]|\n",
      "|      20090501|641158.6999999998|[2.0090501E7]|\n",
      "|      20090601|        558288.55|[2.0090601E7]|\n",
      "|      20090701|673657.1000000002|[2.0090701E7]|\n",
      "|      20090801|        662651.85|[2.0090801E7]|\n",
      "|      20090901|650729.3500000001|[2.0090901E7]|\n",
      "|      20091001|        571600.35|[2.0091001E7]|\n",
      "|      20091101|566817.6499999999|[2.0091101E7]|\n",
      "|      20091201|560466.6499999999|[2.0091201E7]|\n",
      "|      20100101|         577707.6|[2.0100101E7]|\n",
      "|      20100201|         585992.3|[2.0100201E7]|\n",
      "|      20100301|528872.8000000002|[2.0100301E7]|\n",
      "|      20100401|489686.8499999999|[2.0100401E7]|\n",
      "|      20100501|        745586.95|[2.0100501E7]|\n",
      "|      20100601|609012.1999999998|[2.0100601E7]|\n",
      "|      20100701|581447.4500000001|[2.0100701E7]|\n",
      "|      20100801|619166.9999999999|[2.0100801E7]|\n",
      "+--------------+-----------------+-------------+\n",
      "only showing top 20 rows\n",
      "\n"
     ]
    }
   ],
   "source": [
    "# convert cols to the label (response) & features (WTF stupid terminology is \"label\"?)\n",
    "#data = results.select('OrderMonthYear', 'SaleAmount').rdd.map(lambda row: LabeledPoint(row[1], [row[0]])).toDF()\n",
    "#data.show()\n",
    "va = VectorAssembler(inputCols=['OrderMonthYear'], outputCol='features')\n",
    "data = va.transform(results)\n",
    "data.show()"
   ]
  },
  {
   "cell_type": "code",
   "execution_count": 6,
   "metadata": {},
   "outputs": [
    {
     "name": "stdout",
     "output_type": "stream",
     "text": [
      "+--------------+-----------------+-------------+-----------------+\n",
      "|OrderMonthYear|       SaleAmount|     features|       prediction|\n",
      "+--------------+-----------------+-------------+-----------------+\n",
      "|      20090101|741024.2000000001|[2.0090101E7]|607367.4184934841|\n",
      "|      20090201|544241.1499999998|[2.0090201E7]|607347.2708129259|\n",
      "|      20090301|        563502.15|[2.0090301E7]|607327.1231323676|\n",
      "|      20090401|619011.4000000001|[2.0090401E7]|607306.9754518094|\n",
      "|      20090501|641158.6999999998|[2.0090501E7]|607286.8277712511|\n",
      "|      20090601|        558288.55|[2.0090601E7]|607266.6800906928|\n",
      "|      20090701|673657.1000000002|[2.0090701E7]|607246.5324101346|\n",
      "|      20090801|        662651.85|[2.0090801E7]|607226.3847295763|\n",
      "|      20090901|650729.3500000001|[2.0090901E7]|607206.2370490176|\n",
      "|      20091001|        571600.35|[2.0091001E7]|607186.0893684593|\n",
      "|      20091101|566817.6499999999|[2.0091101E7]| 607165.941687901|\n",
      "|      20091201|560466.6499999999|[2.0091201E7]|607145.7940073428|\n",
      "|      20100101|         577707.6|[2.0100101E7]|605352.6504376535|\n",
      "|      20100201|         585992.3|[2.0100201E7]|605332.5027570953|\n",
      "|      20100301|528872.8000000002|[2.0100301E7]| 605312.355076537|\n",
      "|      20100401|489686.8499999999|[2.0100401E7]|605292.2073959787|\n",
      "|      20100501|        745586.95|[2.0100501E7]|605272.0597154205|\n",
      "|      20100601|609012.1999999998|[2.0100601E7]|605251.9120348617|\n",
      "|      20100701|581447.4500000001|[2.0100701E7]|605231.7643543035|\n",
      "|      20100801|619166.9999999999|[2.0100801E7]|605211.6166737452|\n",
      "+--------------+-----------------+-------------+-----------------+\n",
      "only showing top 20 rows\n",
      "\n",
      "+--------------+-----------------+-------------+-----------------+\n",
      "|OrderMonthYear|       SaleAmount|     features|       prediction|\n",
      "+--------------+-----------------+-------------+-----------------+\n",
      "|      20090101|741024.2000000001|[2.0090101E7]|607362.8981551207|\n",
      "|      20090201|544241.1499999998|[2.0090201E7]|607342.7795442627|\n",
      "|      20090301|        563502.15|[2.0090301E7]|607322.6609334042|\n",
      "|      20090401|619011.4000000001|[2.0090401E7]|607302.5423225462|\n",
      "|      20090501|641158.6999999998|[2.0090501E7]|607282.4237116878|\n",
      "|      20090601|        558288.55|[2.0090601E7]|607262.3051008298|\n",
      "|      20090701|673657.1000000002|[2.0090701E7]|607242.1864899714|\n",
      "|      20090801|        662651.85|[2.0090801E7]|607222.0678791134|\n",
      "|      20090901|650729.3500000001|[2.0090901E7]|607201.9492682549|\n",
      "|      20091001|        571600.35|[2.0091001E7]|607181.8306573969|\n",
      "|      20091101|566817.6499999999|[2.0091101E7]|607161.7120465385|\n",
      "|      20091201|560466.6499999999|[2.0091201E7]|607141.5934356805|\n",
      "|      20100101|         577707.6|[2.0100101E7]|605351.0370692988|\n",
      "|      20100201|         585992.3|[2.0100201E7]|605330.9184584403|\n",
      "|      20100301|528872.8000000002|[2.0100301E7]|605310.7998475824|\n",
      "|      20100401|489686.8499999999|[2.0100401E7]|605290.6812367239|\n",
      "|      20100501|        745586.95|[2.0100501E7]|605270.5626258659|\n",
      "|      20100601|609012.1999999998|[2.0100601E7]|605250.4440150075|\n",
      "|      20100701|581447.4500000001|[2.0100701E7]|605230.3254041495|\n",
      "|      20100801|619166.9999999999|[2.0100801E7]| 605210.206793291|\n",
      "+--------------+-----------------+-------------+-----------------+\n",
      "only showing top 20 rows\n",
      "\n"
     ]
    }
   ],
   "source": [
    "''' fit the linear regression models '''\n",
    "lr = LinearRegression(labelCol='SaleAmount')\n",
    "\n",
    "# first with regularization set to 0\n",
    "modelA = lr.fit(data, {lr.regParam:0.0})\n",
    "predsA = modelA.transform(data)\n",
    "predsA.show()\n",
    "\n",
    "# second with regularization set to 100\n",
    "modelB = lr.fit(data, {lr.regParam:100.0})\n",
    "predsB = modelB.transform(data)\n",
    "predsB.show()"
   ]
  },
  {
   "cell_type": "code",
   "execution_count": 7,
   "metadata": {},
   "outputs": [
    {
     "name": "stdout",
     "output_type": "stream",
     "text": [
      "RMSE: Model A = 69171.467, Model B = 69171.467\n"
     ]
    }
   ],
   "source": [
    "# evaluate the models\n",
    "evalor = RegressionEvaluator(metricName='rmse', labelCol='SaleAmount')\n",
    "RMSEA = evalor.evaluate(predsA)\n",
    "RMSEB = evalor.evaluate(predsB)\n",
    "print('RMSE: Model A = %0.3f, Model B = %0.3f'%(RMSEA, RMSEB))"
   ]
  },
  {
   "cell_type": "code",
   "execution_count": 8,
   "metadata": {},
   "outputs": [],
   "source": [
    "ss.stop()"
   ]
  },
  {
   "cell_type": "code",
   "execution_count": null,
   "metadata": {},
   "outputs": [],
   "source": []
  }
 ],
 "metadata": {
  "kernelspec": {
   "display_name": "Python 3",
   "language": "python",
   "name": "python3"
  },
  "language_info": {
   "codemirror_mode": {
    "name": "ipython",
    "version": 3
   },
   "file_extension": ".py",
   "mimetype": "text/x-python",
   "name": "python",
   "nbconvert_exporter": "python",
   "pygments_lexer": "ipython3",
   "version": "3.8.5"
  }
 },
 "nbformat": 4,
 "nbformat_minor": 4
}
