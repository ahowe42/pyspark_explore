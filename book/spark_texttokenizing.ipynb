{
 "cells": [
  {
   "cell_type": "code",
   "execution_count": 13,
   "metadata": {},
   "outputs": [],
   "source": [
    "import pandas as pd\n",
    "import numpy as np\n",
    "\n",
    "import findspark\n",
    "findspark.init()\n",
    "import pyspark\n",
    "from pyspark.sql import SparkSession\n",
    "\n",
    "from pyspark.ml.feature import Tokenizer, HashingTF, IDF"
   ]
  },
  {
   "cell_type": "code",
   "execution_count": 2,
   "metadata": {},
   "outputs": [],
   "source": [
    "# setup spark\n",
    "sc = pyspark.SparkContext()\n",
    "ss = SparkSession(sc)"
   ]
  },
  {
   "cell_type": "code",
   "execution_count": 4,
   "metadata": {},
   "outputs": [
    {
     "name": "stdout",
     "output_type": "stream",
     "text": [
      "+---+--------------------+\n",
      "| id|                text|\n",
      "+---+--------------------+\n",
      "|  1|Andrew is one hel...|\n",
      "|  2|Andrew loves Resh...|\n",
      "|  2|Resham also loves...|\n",
      "+---+--------------------+\n",
      "\n"
     ]
    }
   ],
   "source": [
    "# define some text data\n",
    "data_df = ss.createDataFrame([(1, \"Andrew is one hell of a cool dude.\"), (2, \"Andrew loves Resham very very much.\"), (2, \"Resham also loves Andrew.\")], ['id', 'text'])\n",
    "data_df.show()"
   ]
  },
  {
   "cell_type": "code",
   "execution_count": 6,
   "metadata": {},
   "outputs": [
    {
     "name": "stdout",
     "output_type": "stream",
     "text": [
      "+---+--------------------+--------------------+\n",
      "| id|                text|               words|\n",
      "+---+--------------------+--------------------+\n",
      "|  1|Andrew is one hel...|[andrew, is, one,...|\n",
      "|  2|Andrew loves Resh...|[andrew, loves, r...|\n",
      "|  2|Resham also loves...|[resham, also, lo...|\n",
      "+---+--------------------+--------------------+\n",
      "\n"
     ]
    }
   ],
   "source": [
    "# tokenize\n",
    "toke = Tokenizer(inputCol='text', outputCol='words')\n",
    "take_a_toke = toke.transform(data_df)\n",
    "take_a_toke.show()"
   ]
  },
  {
   "cell_type": "code",
   "execution_count": 26,
   "metadata": {},
   "outputs": [],
   "source": [
    "# now hash TF & ID\n",
    "cornedbeef = HashingTF(inputCol='words', outputCol='rawfeatures', numFeatures=16)\n",
    "TF = cornedbeef.transform(take_a_toke)\n",
    "#TF.take(1)\n",
    "IDFtrans = IDF(inputCol='rawfeatures', outputCol='IDFFeatures')\n",
    "IDFdata = IDFtrans.fit(TF).transform(TF)"
   ]
  },
  {
   "cell_type": "code",
   "execution_count": 27,
   "metadata": {},
   "outputs": [
    {
     "name": "stdout",
     "output_type": "stream",
     "text": [
      "+---+--------------------+--------------------+--------------------+--------------------+\n",
      "| id|                text|               words|         rawfeatures|         IDFFeatures|\n",
      "+---+--------------------+--------------------+--------------------+--------------------+\n",
      "|  1|Andrew is one hel...|[andrew, is, one,...|(16,[1,3,5,9,15],...|(16,[1,3,5,9,15],...|\n",
      "|  2|Andrew loves Resh...|[andrew, loves, r...|(16,[1,2,6,8,9],[...|(16,[1,2,6,8,9],[...|\n",
      "|  2|Resham also loves...|[resham, also, lo...|(16,[0,1,6,8],[1....|(16,[0,1,6,8],[0....|\n",
      "+---+--------------------+--------------------+--------------------+--------------------+\n",
      "\n"
     ]
    }
   ],
   "source": [
    "IDFdata.show()"
   ]
  },
  {
   "cell_type": "code",
   "execution_count": 28,
   "metadata": {},
   "outputs": [
    {
     "data": {
      "text/html": [
       "<div>\n",
       "<style scoped>\n",
       "    .dataframe tbody tr th:only-of-type {\n",
       "        vertical-align: middle;\n",
       "    }\n",
       "\n",
       "    .dataframe tbody tr th {\n",
       "        vertical-align: top;\n",
       "    }\n",
       "\n",
       "    .dataframe thead th {\n",
       "        text-align: right;\n",
       "    }\n",
       "</style>\n",
       "<table border=\"1\" class=\"dataframe\">\n",
       "  <thead>\n",
       "    <tr style=\"text-align: right;\">\n",
       "      <th></th>\n",
       "      <th>id</th>\n",
       "      <th>text</th>\n",
       "      <th>IDFFeatures</th>\n",
       "    </tr>\n",
       "  </thead>\n",
       "  <tbody>\n",
       "    <tr>\n",
       "      <th>0</th>\n",
       "      <td>1</td>\n",
       "      <td>Andrew is one hell of a cool dude.</td>\n",
       "      <td>(0.0, 0.0, 0.0, 1.3862943611198906, 0.0, 0.693...</td>\n",
       "    </tr>\n",
       "    <tr>\n",
       "      <th>1</th>\n",
       "      <td>2</td>\n",
       "      <td>Andrew loves Resham very very much.</td>\n",
       "      <td>(0.0, 0.0, 0.6931471805599453, 0.0, 0.0, 0.0, ...</td>\n",
       "    </tr>\n",
       "    <tr>\n",
       "      <th>2</th>\n",
       "      <td>2</td>\n",
       "      <td>Resham also loves Andrew.</td>\n",
       "      <td>(0.6931471805599453, 0.0, 0.0, 0.0, 0.0, 0.0, ...</td>\n",
       "    </tr>\n",
       "  </tbody>\n",
       "</table>\n",
       "</div>"
      ],
      "text/plain": [
       "   id                                 text  \\\n",
       "0   1   Andrew is one hell of a cool dude.   \n",
       "1   2  Andrew loves Resham very very much.   \n",
       "2   2            Resham also loves Andrew.   \n",
       "\n",
       "                                         IDFFeatures  \n",
       "0  (0.0, 0.0, 0.0, 1.3862943611198906, 0.0, 0.693...  \n",
       "1  (0.0, 0.0, 0.6931471805599453, 0.0, 0.0, 0.0, ...  \n",
       "2  (0.6931471805599453, 0.0, 0.0, 0.0, 0.0, 0.0, ...  "
      ]
     },
     "metadata": {},
     "output_type": "display_data"
    }
   ],
   "source": [
    "idfpd = IDFdata.select(['id', 'text', 'IDFFeatures']).toPandas()\n",
    "display(idfpd)"
   ]
  },
  {
   "cell_type": "code",
   "execution_count": 29,
   "metadata": {},
   "outputs": [
    {
     "data": {
      "text/plain": [
       "array([SparseVector(16, {1: 0.0, 3: 1.3863, 5: 0.6931, 9: 0.5754, 15: 1.3863}),\n",
       "       SparseVector(16, {1: 0.0, 2: 0.6931, 6: 0.2877, 8: 0.5754, 9: 0.2877}),\n",
       "       SparseVector(16, {0: 0.6931, 1: 0.0, 6: 0.2877, 8: 0.2877})],\n",
       "      dtype=object)"
      ]
     },
     "execution_count": 29,
     "metadata": {},
     "output_type": "execute_result"
    }
   ],
   "source": [
    "idfpd.IDFFeatures.values"
   ]
  },
  {
   "cell_type": "markdown",
   "metadata": {},
   "source": [
    "## unsure how to interpret this?"
   ]
  },
  {
   "cell_type": "code",
   "execution_count": null,
   "metadata": {},
   "outputs": [],
   "source": []
  }
 ],
 "metadata": {
  "kernelspec": {
   "display_name": "Python 3",
   "language": "python",
   "name": "python3"
  },
  "language_info": {
   "codemirror_mode": {
    "name": "ipython",
    "version": 3
   },
   "file_extension": ".py",
   "mimetype": "text/x-python",
   "name": "python",
   "nbconvert_exporter": "python",
   "pygments_lexer": "ipython3",
   "version": "3.8.5"
  }
 },
 "nbformat": 4,
 "nbformat_minor": 4
}
