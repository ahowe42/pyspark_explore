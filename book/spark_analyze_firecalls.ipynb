{
 "cells": [
  {
   "cell_type": "code",
   "execution_count": 1,
   "id": "eight-depth",
   "metadata": {},
   "outputs": [],
   "source": [
    "import pandas as pd\n",
    "import numpy as np\n",
    "import datetime as dt\n",
    "\n",
    "import findspark\n",
    "findspark.init()\n",
    "import pyspark\n",
    "from pyspark.sql import SparkSession\n",
    "from pyspark.sql.functions import *#avg, count, expr\n",
    "from pyspark.sql.types import *"
   ]
  },
  {
   "cell_type": "code",
   "execution_count": 2,
   "id": "harmful-passport",
   "metadata": {},
   "outputs": [],
   "source": [
    "sc = pyspark.SparkContext()\n",
    "ss = SparkSession(sc)"
   ]
  },
  {
   "cell_type": "code",
   "execution_count": 50,
   "id": "jewish-playlist",
   "metadata": {},
   "outputs": [],
   "source": [
    "# define the schema\n",
    "fire_schema = StructType([StructField('CallNumber', IntegerType(), True),\n",
    "                          StructField('UnitID', StringType(), True),\n",
    "                          StructField('IncidentNumber', IntegerType(), True),\n",
    "                          StructField('CallType', StringType(), True),\n",
    "                          StructField('CallDate', DateType(), True),\n",
    "                          StructField('WatchDate', DateType(), True),\n",
    "                          StructField('CallFinalDisposition', StringType(), True),\n",
    "                          StructField('AvailableDtTm', TimestampType(), True),\n",
    "                          StructField('Address', StringType(), True),\n",
    "                          StructField('City', StringType(), True),\n",
    "                          StructField('Zipcode', IntegerType(), True),\n",
    "                          StructField('Battalion', StringType(), True),\n",
    "                          StructField('StationArea', StringType(), True),\n",
    "                          StructField('Box', StringType(), True),\n",
    "                          StructField('OriginalPriority', StringType(), True),\n",
    "                          StructField('Priority', StringType(), True),\n",
    "                          StructField('FinalPriority', IntegerType(), True),\n",
    "                          StructField('ALSUnit', BooleanType(), True),\n",
    "                          StructField('CallTypeGroup', StringType(), True),\n",
    "                          StructField('NumAlarms', IntegerType(), True),\n",
    "                          StructField('UnitType', StringType(), True),\n",
    "                          StructField('UnitSequenceInCallDispatch', IntegerType(), True),\n",
    "                          StructField('FirePreventionDistrict', StringType(), True),\n",
    "                          StructField('SupervisorDistrict', StringType(), True),\n",
    "                          StructField('Neighborhood', StringType(), True),\n",
    "                          StructField('Location', StringType(), True),\n",
    "                          StructField('RowID', StringType(), True),\n",
    "                          StructField('Delay', FloatType(), True)])"
   ]
  },
  {
   "cell_type": "code",
   "execution_count": 54,
   "id": "optional-frederick",
   "metadata": {},
   "outputs": [
    {
     "name": "stdout",
     "output_type": "stream",
     "text": [
      "+----------+------+--------------+----------------+----------+----------+--------------------+-------------------+--------------------+----+-------+---------+-----------+----+----------------+--------+-------------+-------+-------------+---------+--------+--------------------------+----------------------+------------------+--------------------+--------------------+-------------+---------+\n",
      "|CallNumber|UnitID|IncidentNumber|        CallType|  CallDate| WatchDate|CallFinalDisposition|      AvailableDtTm|             Address|City|Zipcode|Battalion|StationArea| Box|OriginalPriority|Priority|FinalPriority|ALSUnit|CallTypeGroup|NumAlarms|UnitType|UnitSequenceInCallDispatch|FirePreventionDistrict|SupervisorDistrict|        Neighborhood|            Location|        RowID|    Delay|\n",
      "+----------+------+--------------+----------------+----------+----------+--------------------+-------------------+--------------------+----+-------+---------+-----------+----+----------------+--------+-------------+-------+-------------+---------+--------+--------------------------+----------------------+------------------+--------------------+--------------------+-------------+---------+\n",
      "|  20110016|   T13|       2003235|  Structure Fire|2002-01-11|2002-01-10|               Other|2002-01-11 01:51:44|2000 Block of CAL...|  SF|  94109|      B04|         38|3362|               3|       3|            3|  false|         null|        1|   TRUCK|                         2|                     4|                 5|     Pacific Heights|(37.7895840679362...|020110016-T13|     2.95|\n",
      "|  20110022|   M17|       2003241|Medical Incident|2002-01-11|2002-01-10|               Other|2002-01-11 03:01:18|0 Block of SILVER...|  SF|  94124|      B10|         42|6495|               3|       3|            3|   true|         null|        1|   MEDIC|                         1|                    10|                10|Bayview Hunters P...|(37.7337623673897...|020110022-M17|      4.7|\n",
      "|  20110023|   M41|       2003242|Medical Incident|2002-01-11|2002-01-10|               Other|2002-01-11 02:39:50|MARKET ST/MCALLIS...|  SF|  94102|      B03|         01|1455|               3|       3|            3|   true|         null|        1|   MEDIC|                         2|                     3|                 6|          Tenderloin|(37.7811772186856...|020110023-M41|2.4333334|\n",
      "|  20110032|   E11|       2003250|    Vehicle Fire|2002-01-11|2002-01-10|               Other|2002-01-11 04:16:46|APPLETON AV/MISSI...|  SF|  94110|      B06|         32|5626|               3|       3|            3|  false|         null|        1|  ENGINE|                         1|                     6|                 9|      Bernal Heights|(37.7388432849018...|020110032-E11|      1.5|\n",
      "|  20110043|   B04|       2003259|          Alarms|2002-01-11|2002-01-10|               Other|2002-01-11 06:01:58|1400 Block of SUT...|  SF|  94109|      B04|         03|3223|               3|       3|            3|  false|         null|        1|   CHIEF|                         2|                     4|                 2|    Western Addition|(37.7872890372638...|020110043-B04|3.4833333|\n",
      "+----------+------+--------------+----------------+----------+----------+--------------------+-------------------+--------------------+----+-------+---------+-----------+----+----------------+--------+-------------+-------+-------------+---------+--------+--------------------------+----------------------+------------------+--------------------+--------------------+-------------+---------+\n",
      "only showing top 5 rows\n",
      "\n"
     ]
    }
   ],
   "source": [
    "# define and load the file - https://spark.apache.org/docs/latest/sql-ref-datetime-pattern.html\n",
    "fil = './LearningSparkV2-master/databricks-datasets/learning-spark-v2/sf-fire/sf-fire-calls.csv'\n",
    "fire_df = ss.read.csv(fil, header=True, schema=fire_schema, dateFormat='MM/dd/yyyy', timestampFormat='MM/dd/yyyy hh:mm:ss a').cache()\n",
    "\n",
    "fire_df.show(5)"
   ]
  },
  {
   "cell_type": "code",
   "execution_count": 8,
   "id": "sunset-laser",
   "metadata": {},
   "outputs": [
    {
     "name": "stdout",
     "output_type": "stream",
     "text": [
      "+--------------+--------------------+--------------+\n",
      "|IncidentNumber|       AvailableDtTm|      CallType|\n",
      "+--------------+--------------------+--------------+\n",
      "|       2003235|01/11/2002 01:51:...|Structure Fire|\n",
      "|       2003250|01/11/2002 04:16:...|  Vehicle Fire|\n",
      "|       2003259|01/11/2002 06:01:...|        Alarms|\n",
      "|       2003279|01/11/2002 08:03:...|Structure Fire|\n",
      "|       2003301|01/11/2002 09:46:...|        Alarms|\n",
      "+--------------+--------------------+--------------+\n",
      "only showing top 5 rows\n",
      "\n"
     ]
    }
   ],
   "source": [
    "# select a few columns and get non-medical calls\n",
    "fire_df.select(\"IncidentNumber\", \"AvailableDtTm\", \"CallType\").where(col(\"CallType\") != \"Medical Incident\").show(5)"
   ]
  },
  {
   "cell_type": "code",
   "execution_count": 15,
   "id": "active-calculator",
   "metadata": {},
   "outputs": [
    {
     "name": "stdout",
     "output_type": "stream",
     "text": [
      "+----------+\n",
      "|Call Types|\n",
      "+----------+\n",
      "|        30|\n",
      "+----------+\n",
      "\n",
      "+--------------------+------+\n",
      "|            CallType| count|\n",
      "+--------------------+------+\n",
      "|    Medical Incident|113794|\n",
      "|      Structure Fire| 23319|\n",
      "|              Alarms| 19406|\n",
      "|   Traffic Collision|  7013|\n",
      "|Citizen Assist / ...|  2524|\n",
      "|               Other|  2166|\n",
      "|        Outside Fire|  2094|\n",
      "|        Vehicle Fire|   854|\n",
      "|Gas Leak (Natural...|   764|\n",
      "|        Water Rescue|   755|\n",
      "+--------------------+------+\n",
      "only showing top 10 rows\n",
      "\n"
     ]
    }
   ],
   "source": [
    "# pd.DataFrame.value_counts()\n",
    "fire_df.select('CallType').where(col('CallType').isNotNull()).agg(countDistinct('CallType').alias('Call Types')).show()\n",
    "cnts = fire_df.select('CallType').groupBy('CallType').count().orderBy('count', ascending=False)\n",
    "cnts.show(10)"
   ]
  },
  {
   "cell_type": "code",
   "execution_count": 62,
   "id": "heated-thickness",
   "metadata": {},
   "outputs": [
    {
     "name": "stdout",
     "output_type": "stream",
     "text": [
      "+---------------+-----+\n",
      "|month(CallDate)|count|\n",
      "+---------------+-----+\n",
      "|              1|14586|\n",
      "|              2|13402|\n",
      "|              3|14582|\n",
      "|              4|14140|\n",
      "|              5|15099|\n",
      "|              6|14553|\n",
      "|              7|14762|\n",
      "|              8|15126|\n",
      "|              9|14991|\n",
      "|             10|15410|\n",
      "|             11|13863|\n",
      "|             12|14782|\n",
      "+---------------+-----+\n",
      "\n",
      "+--------------+\n",
      "|year(CallDate)|\n",
      "+--------------+\n",
      "|          2000|\n",
      "|          2001|\n",
      "|          2002|\n",
      "|          2003|\n",
      "|          2004|\n",
      "|          2005|\n",
      "|          2006|\n",
      "|          2007|\n",
      "|          2008|\n",
      "|          2009|\n",
      "|          2010|\n",
      "|          2011|\n",
      "|          2012|\n",
      "|          2013|\n",
      "|          2014|\n",
      "|          2015|\n",
      "|          2016|\n",
      "|          2017|\n",
      "|          2018|\n",
      "+--------------+\n",
      "\n"
     ]
    }
   ],
   "source": [
    "# count calls by month\n",
    "fire_df.select('CallDate').groupBy(month('CallDate')).count().orderBy(month('CallDate')).show()\n",
    "# get the included years\n",
    "fire_df.select(year('CallDate')).distinct().orderBy(year('CallDate'), ascending=True).show()"
   ]
  },
  {
   "cell_type": "code",
   "execution_count": 75,
   "id": "active-minnesota",
   "metadata": {},
   "outputs": [
    {
     "name": "stdout",
     "output_type": "stream",
     "text": [
      "+---------+-----------------+-----+\n",
      "|CallMonth|         CallType|count|\n",
      "+---------+-----------------+-----+\n",
      "|        1| Medical Incident| 9469|\n",
      "|        1|   Structure Fire| 1916|\n",
      "|        1|           Alarms| 1653|\n",
      "|        1|Traffic Collision|  517|\n",
      "|        1|     Outside Fire|  238|\n",
      "+---------+-----------------+-----+\n",
      "only showing top 5 rows\n",
      "\n"
     ]
    }
   ],
   "source": [
    "# count by call month and type\n",
    "fire_counts = fire_df.select('CallDate', 'CallType').withColumn('CallMonth', month('CallDate')).groupBy(['CallMonth', 'CallType']).count().orderBy(['CallMonth', 'count'], ascending=[True, False])\n",
    "fire_counts.show(5)\n",
    "# note that this creates a poorly-named csv file in a directory using the name I specified\n",
    "fil = './LearningSparkV2-master/databricks-datasets/learning-spark-v2/sf-fire/sf-fire-calls_countmonthtype.csv'\n",
    "fire_counts.coalesce(1).write.options(header=True).format('csv').save(fil)"
   ]
  },
  {
   "cell_type": "code",
   "execution_count": 79,
   "id": "focal-copyright",
   "metadata": {},
   "outputs": [
    {
     "name": "stdout",
     "output_type": "stream",
     "text": [
      "+---------+----------------+\n",
      "|CallMonth|      MostCommon|\n",
      "+---------+----------------+\n",
      "|        1|Medical Incident|\n",
      "|        2|Medical Incident|\n",
      "|        3|Medical Incident|\n",
      "|        4|Medical Incident|\n",
      "|        5|Medical Incident|\n",
      "|        6|Medical Incident|\n",
      "|        7|Medical Incident|\n",
      "|        8|Medical Incident|\n",
      "|        9|Medical Incident|\n",
      "|       10|Medical Incident|\n",
      "|       11|Medical Incident|\n",
      "|       12|Medical Incident|\n",
      "+---------+----------------+\n",
      "\n"
     ]
    }
   ],
   "source": [
    "# get the most common calls by month\n",
    "fire_counts.groupBy('CallMonth').agg(first('CallType').alias('MostCommon')).orderBy('CallMonth').show()"
   ]
  },
  {
   "cell_type": "code",
   "execution_count": 99,
   "id": "protecting-karaoke",
   "metadata": {},
   "outputs": [
    {
     "name": "stdout",
     "output_type": "stream",
     "text": [
      "== Parsed Logical Plan ==\n",
      "'Sort ['CallMonth ASC NULLS FIRST, 'count DESC NULLS LAST], true\n",
      "+- Aggregate [CallMonth#34389, CallType#21930], [CallMonth#34389, CallType#21930, count(1) AS count#34397L]\n",
      "   +- Project [CallDate#21931, CallType#21930, month(CallDate#21931) AS CallMonth#34389]\n",
      "      +- Project [CallDate#21931, CallType#21930]\n",
      "         +- Relation[CallNumber#21927,UnitID#21928,IncidentNumber#21929,CallType#21930,CallDate#21931,WatchDate#21932,CallFinalDisposition#21933,AvailableDtTm#21934,Address#21935,City#21936,Zipcode#21937,Battalion#21938,StationArea#21939,Box#21940,OriginalPriority#21941,Priority#21942,FinalPriority#21943,ALSUnit#21944,CallTypeGroup#21945,NumAlarms#21946,UnitType#21947,UnitSequenceInCallDispatch#21948,FirePreventionDistrict#21949,SupervisorDistrict#21950,... 4 more fields] csv\n",
      "\n",
      "== Analyzed Logical Plan ==\n",
      "CallMonth: int, CallType: string, count: bigint\n",
      "Sort [CallMonth#34389 ASC NULLS FIRST, count#34397L DESC NULLS LAST], true\n",
      "+- Aggregate [CallMonth#34389, CallType#21930], [CallMonth#34389, CallType#21930, count(1) AS count#34397L]\n",
      "   +- Project [CallDate#21931, CallType#21930, month(CallDate#21931) AS CallMonth#34389]\n",
      "      +- Project [CallDate#21931, CallType#21930]\n",
      "         +- Relation[CallNumber#21927,UnitID#21928,IncidentNumber#21929,CallType#21930,CallDate#21931,WatchDate#21932,CallFinalDisposition#21933,AvailableDtTm#21934,Address#21935,City#21936,Zipcode#21937,Battalion#21938,StationArea#21939,Box#21940,OriginalPriority#21941,Priority#21942,FinalPriority#21943,ALSUnit#21944,CallTypeGroup#21945,NumAlarms#21946,UnitType#21947,UnitSequenceInCallDispatch#21948,FirePreventionDistrict#21949,SupervisorDistrict#21950,... 4 more fields] csv\n",
      "\n",
      "== Optimized Logical Plan ==\n",
      "Sort [CallMonth#34389 ASC NULLS FIRST, count#34397L DESC NULLS LAST], true\n",
      "+- Aggregate [CallMonth#34389, CallType#21930], [CallMonth#34389, CallType#21930, count(1) AS count#34397L]\n",
      "   +- Project [CallType#21930, month(CallDate#21931) AS CallMonth#34389]\n",
      "      +- InMemoryRelation [CallNumber#21927, UnitID#21928, IncidentNumber#21929, CallType#21930, CallDate#21931, WatchDate#21932, CallFinalDisposition#21933, AvailableDtTm#21934, Address#21935, City#21936, Zipcode#21937, Battalion#21938, StationArea#21939, Box#21940, OriginalPriority#21941, Priority#21942, FinalPriority#21943, ALSUnit#21944, CallTypeGroup#21945, NumAlarms#21946, UnitType#21947, UnitSequenceInCallDispatch#21948, FirePreventionDistrict#21949, SupervisorDistrict#21950, ... 4 more fields], StorageLevel(disk, memory, deserialized, 1 replicas)\n",
      "            +- FileScan csv [CallNumber#21927,UnitID#21928,IncidentNumber#21929,CallType#21930,CallDate#21931,WatchDate#21932,CallFinalDisposition#21933,AvailableDtTm#21934,Address#21935,City#21936,Zipcode#21937,Battalion#21938,StationArea#21939,Box#21940,OriginalPriority#21941,Priority#21942,FinalPriority#21943,ALSUnit#21944,CallTypeGroup#21945,NumAlarms#21946,UnitType#21947,UnitSequenceInCallDispatch#21948,FirePreventionDistrict#21949,SupervisorDistrict#21950,... 4 more fields] Batched: false, DataFilters: [], Format: CSV, Location: InMemoryFileIndex[file:/C:/Users/howean/Documents/spark_learning/LearningSparkV2-master/databrick..., PartitionFilters: [], PushedFilters: [], ReadSchema: struct<CallNumber:int,UnitID:string,IncidentNumber:int,CallType:string,CallDate:date,WatchDate:da...\n",
      "\n",
      "== Physical Plan ==\n",
      "*(3) Sort [CallMonth#34389 ASC NULLS FIRST, count#34397L DESC NULLS LAST], true, 0\n",
      "+- Exchange rangepartitioning(CallMonth#34389 ASC NULLS FIRST, count#34397L DESC NULLS LAST, 200), true, [id=#1837]\n",
      "   +- *(2) HashAggregate(keys=[CallMonth#34389, CallType#21930], functions=[count(1)], output=[CallMonth#34389, CallType#21930, count#34397L])\n",
      "      +- Exchange hashpartitioning(CallMonth#34389, CallType#21930, 200), true, [id=#1833]\n",
      "         +- *(1) HashAggregate(keys=[CallMonth#34389, CallType#21930], functions=[partial_count(1)], output=[CallMonth#34389, CallType#21930, count#34831L])\n",
      "            +- *(1) Project [CallType#21930, month(CallDate#21931) AS CallMonth#34389]\n",
      "               +- InMemoryTableScan [CallDate#21931, CallType#21930]\n",
      "                     +- InMemoryRelation [CallNumber#21927, UnitID#21928, IncidentNumber#21929, CallType#21930, CallDate#21931, WatchDate#21932, CallFinalDisposition#21933, AvailableDtTm#21934, Address#21935, City#21936, Zipcode#21937, Battalion#21938, StationArea#21939, Box#21940, OriginalPriority#21941, Priority#21942, FinalPriority#21943, ALSUnit#21944, CallTypeGroup#21945, NumAlarms#21946, UnitType#21947, UnitSequenceInCallDispatch#21948, FirePreventionDistrict#21949, SupervisorDistrict#21950, ... 4 more fields], StorageLevel(disk, memory, deserialized, 1 replicas)\n",
      "                           +- FileScan csv [CallNumber#21927,UnitID#21928,IncidentNumber#21929,CallType#21930,CallDate#21931,WatchDate#21932,CallFinalDisposition#21933,AvailableDtTm#21934,Address#21935,City#21936,Zipcode#21937,Battalion#21938,StationArea#21939,Box#21940,OriginalPriority#21941,Priority#21942,FinalPriority#21943,ALSUnit#21944,CallTypeGroup#21945,NumAlarms#21946,UnitType#21947,UnitSequenceInCallDispatch#21948,FirePreventionDistrict#21949,SupervisorDistrict#21950,... 4 more fields] Batched: false, DataFilters: [], Format: CSV, Location: InMemoryFileIndex[file:/C:/Users/howean/Documents/spark_learning/LearningSparkV2-master/databrick..., PartitionFilters: [], PushedFilters: [], ReadSchema: struct<CallNumber:int,UnitID:string,IncidentNumber:int,CallType:string,CallDate:date,WatchDate:da...\n",
      "\n"
     ]
    }
   ],
   "source": [
    "fire_counts.explain(True)"
   ]
  },
  {
   "cell_type": "code",
   "execution_count": 100,
   "id": "written-story",
   "metadata": {},
   "outputs": [],
   "source": [
    "sc.stop()"
   ]
  },
  {
   "cell_type": "code",
   "execution_count": null,
   "id": "sitting-question",
   "metadata": {},
   "outputs": [],
   "source": []
  }
 ],
 "metadata": {
  "kernelspec": {
   "display_name": "Python 3",
   "language": "python",
   "name": "python3"
  },
  "language_info": {
   "codemirror_mode": {
    "name": "ipython",
    "version": 3
   },
   "file_extension": ".py",
   "mimetype": "text/x-python",
   "name": "python",
   "nbconvert_exporter": "python",
   "pygments_lexer": "ipython3",
   "version": "3.8.5"
  }
 },
 "nbformat": 4,
 "nbformat_minor": 5
}
