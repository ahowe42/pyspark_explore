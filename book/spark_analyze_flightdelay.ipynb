{
 "cells": [
  {
   "cell_type": "code",
   "execution_count": 1,
   "id": "welsh-guest",
   "metadata": {},
   "outputs": [],
   "source": [
    "import pandas as pd\n",
    "import numpy as np\n",
    "import datetime as dt\n",
    "\n",
    "import findspark\n",
    "findspark.init()\n",
    "import pyspark\n",
    "from pyspark.sql import SparkSession\n",
    "from pyspark.sql.functions import *#avg, count, expr\n",
    "from pyspark.sql.types import *"
   ]
  },
  {
   "cell_type": "code",
   "execution_count": 2,
   "id": "twelve-handbook",
   "metadata": {},
   "outputs": [],
   "source": [
    "sc = pyspark.SparkContext()\n",
    "ss = SparkSession(sc)"
   ]
  },
  {
   "cell_type": "code",
   "execution_count": 11,
   "id": "norman-netherlands",
   "metadata": {},
   "outputs": [],
   "source": [
    "# get the data file into a dataframe and view\n",
    "fil = \"./LearningSparkV2-master/databricks-datasets/learning-spark-v2/flights/departuredelays.csv\"\n",
    "delays = ss.read.csv(fil, header=True, inferSchema=True).cache()\n",
    "#delays.createOrReplaceTempView(\"us_delay_flights_tbl\")\n",
    "delays.write.saveAsTable('us_delay_flights_tbl')"
   ]
  },
  {
   "cell_type": "code",
   "execution_count": 12,
   "id": "grave-friday",
   "metadata": {},
   "outputs": [
    {
     "name": "stdout",
     "output_type": "stream",
     "text": [
      "+-------+-----+--------+------+-----------+\n",
      "|   date|delay|distance|origin|destination|\n",
      "+-------+-----+--------+------+-----------+\n",
      "|2121625|  932|    4330|   HNL|        JFK|\n",
      "|2130900|  922|    4330|   JFK|        HNL|\n",
      "|1030900|  784|    4330|   JFK|        HNL|\n",
      "|2140900|  175|    4330|   JFK|        HNL|\n",
      "|2220900|  134|    4330|   JFK|        HNL|\n",
      "|3010900|  123|    4330|   JFK|        HNL|\n",
      "|1220900|  118|    4330|   JFK|        HNL|\n",
      "|1211625|  115|    4330|   HNL|        JFK|\n",
      "|1040900|  111|    4330|   JFK|        HNL|\n",
      "|1021625|  110|    4330|   HNL|        JFK|\n",
      "|1050900|   98|    4330|   JFK|        HNL|\n",
      "|1260900|   38|    4330|   JFK|        HNL|\n",
      "|3291530|   37|    4330|   HNL|        JFK|\n",
      "|1230900|   20|    4330|   JFK|        HNL|\n",
      "|1051625|   18|    4330|   HNL|        JFK|\n",
      "|1160900|   17|    4330|   JFK|        HNL|\n",
      "|2071625|   16|    4330|   HNL|        JFK|\n",
      "|3021625|   14|    4330|   HNL|        JFK|\n",
      "|1080900|   14|    4330|   JFK|        HNL|\n",
      "|3281530|   14|    4330|   HNL|        JFK|\n",
      "+-------+-----+--------+------+-----------+\n",
      "only showing top 20 rows\n",
      "\n"
     ]
    }
   ],
   "source": [
    "# get delays on long flights\n",
    "ss.sql(\"\"\"select * from us_delay_flights_tbl where distance > 1000 order by distance DESC, delay DESC;\"\"\").show()"
   ]
  },
  {
   "cell_type": "code",
   "execution_count": 13,
   "id": "musical-telling",
   "metadata": {},
   "outputs": [
    {
     "name": "stdout",
     "output_type": "stream",
     "text": [
      "+-------+-----+--------+------+-----------+\n",
      "|   date|delay|distance|origin|destination|\n",
      "+-------+-----+--------+------+-----------+\n",
      "|2190925| 1638|    1604|   SFO|        ORD|\n",
      "|1031755|  396|    1604|   SFO|        ORD|\n",
      "|1022330|  326|    1604|   SFO|        ORD|\n",
      "|1051205|  320|    1604|   SFO|        ORD|\n",
      "|1190925|  297|    1604|   SFO|        ORD|\n",
      "|2171115|  296|    1604|   SFO|        ORD|\n",
      "|1071040|  279|    1604|   SFO|        ORD|\n",
      "|1051550|  274|    1604|   SFO|        ORD|\n",
      "|3120730|  266|    1604|   SFO|        ORD|\n",
      "|1261104|  258|    1604|   SFO|        ORD|\n",
      "|1161210|  225|    1604|   SFO|        ORD|\n",
      "|2091800|  223|    1604|   SFO|        ORD|\n",
      "|1221040|  215|    1604|   SFO|        ORD|\n",
      "|3121155|  203|    1604|   SFO|        ORD|\n",
      "|2111256|  197|    1604|   SFO|        ORD|\n",
      "|3311405|  196|    1604|   SFO|        ORD|\n",
      "|1031920|  193|    1604|   SFO|        ORD|\n",
      "|1021410|  190|    1604|   SFO|        ORD|\n",
      "|3171215|  189|    1604|   SFO|        ORD|\n",
      "|1101410|  184|    1604|   SFO|        ORD|\n",
      "+-------+-----+--------+------+-----------+\n",
      "only showing top 20 rows\n",
      "\n"
     ]
    }
   ],
   "source": [
    "# get 2+ hr delays from sf to chicago\n",
    "ss.sql(\"\"\"select * from us_delay_flights_tbl where origin='SFO' and destination='ORD' and delay > 120 order by delay desc\"\"\").show()"
   ]
  },
  {
   "cell_type": "code",
   "execution_count": 14,
   "id": "capable-garage",
   "metadata": {},
   "outputs": [
    {
     "name": "stdout",
     "output_type": "stream",
     "text": [
      "+--------+\n",
      "|count(1)|\n",
      "+--------+\n",
      "|   39483|\n",
      "+--------+\n",
      "\n"
     ]
    }
   ],
   "source": [
    "# create a temporary view\n",
    "ss.sql(\"\"\"create or replace temp view us_origin_airport_SFO_tmp_view as select * from us_delay_flights_tbl where origin='SFO';\"\"\")\n",
    "ss.sql(\"\"\"select count(*) from us_origin_airport_SFO_tmp_view;\"\"\").show()"
   ]
  },
  {
   "cell_type": "code",
   "execution_count": 15,
   "id": "cordless-support",
   "metadata": {},
   "outputs": [
    {
     "name": "stdout",
     "output_type": "stream",
     "text": [
      "[Database(name='default', description='default database', locationUri='file:/C:/Users/howean/Documents/spark_learning/spark-warehouse')]\n",
      "[Table(name='us_delay_flights_tbl', database='default', description=None, tableType='MANAGED', isTemporary=False), Table(name='us_delay_flights_tbl', database=None, description=None, tableType='TEMPORARY', isTemporary=True), Table(name='us_origin_airport_sfo_global_tmp_view', database=None, description=None, tableType='TEMPORARY', isTemporary=True), Table(name='us_origin_airport_sfo_tmp_view', database=None, description=None, tableType='TEMPORARY', isTemporary=True)]\n",
      "[Column(name='date', description=None, dataType='int', nullable=True, isPartition=False, isBucket=False), Column(name='delay', description=None, dataType='int', nullable=True, isPartition=False, isBucket=False), Column(name='distance', description=None, dataType='int', nullable=True, isPartition=False, isBucket=False), Column(name='origin', description=None, dataType='string', nullable=True, isPartition=False, isBucket=False), Column(name='destination', description=None, dataType='string', nullable=True, isPartition=False, isBucket=False)]\n"
     ]
    }
   ],
   "source": [
    "# check out the metadata\n",
    "print(ss.catalog.listDatabases())\n",
    "print(ss.catalog.listTables())\n",
    "print(ss.catalog.listColumns('us_delay_flights_tbl')) # doesn't work because if create as a view"
   ]
  },
  {
   "cell_type": "code",
   "execution_count": null,
   "id": "limited-canadian",
   "metadata": {},
   "outputs": [],
   "source": []
  },
  {
   "cell_type": "code",
   "execution_count": null,
   "id": "turned-sudan",
   "metadata": {},
   "outputs": [],
   "source": [
    "sc.stop()"
   ]
  },
  {
   "cell_type": "code",
   "execution_count": null,
   "id": "smooth-costs",
   "metadata": {},
   "outputs": [],
   "source": []
  }
 ],
 "metadata": {
  "kernelspec": {
   "display_name": "Python 3",
   "language": "python",
   "name": "python3"
  },
  "language_info": {
   "codemirror_mode": {
    "name": "ipython",
    "version": 3
   },
   "file_extension": ".py",
   "mimetype": "text/x-python",
   "name": "python",
   "nbconvert_exporter": "python",
   "pygments_lexer": "ipython3",
   "version": "3.8.5"
  }
 },
 "nbformat": 4,
 "nbformat_minor": 5
}
