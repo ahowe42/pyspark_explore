{
 "cells": [
  {
   "cell_type": "code",
   "execution_count": 25,
   "metadata": {},
   "outputs": [],
   "source": [
    "import pandas as pd\n",
    "import numpy as np\n",
    "\n",
    "import findspark\n",
    "findspark.init()\n",
    "import pyspark\n",
    "from pyspark.sql import SparkSession"
   ]
  },
  {
   "cell_type": "code",
   "execution_count": 36,
   "metadata": {},
   "outputs": [],
   "source": [
    "sc = pyspark.SparkContext()\n",
    "ss = SparkSession(sc)"
   ]
  },
  {
   "cell_type": "code",
   "execution_count": 7,
   "metadata": {},
   "outputs": [
    {
     "name": "stdout",
     "output_type": "stream",
     "text": [
      "<class 'pyspark.rdd.RDD'>\n",
      "26 records\n",
      "['For Mac:', '', '1) Set path for Spark and adjust to the correct path to Spark', 'echo “export PATH=$PATH:/path_to_downloaded_spark/spark-1.6.0/bin” >> .profile', '', '2) Setting up PySpark driver', 'echo “export PYSPARK_DRIVER_PYTHON=ipython” >> .profile', '', '3) Specifies PySpark options', 'echo “export PYSPARK_DRIVER_PYTHON_OPTS=‘notebook’ pyspark” >> .profile', '', 'For Windows', '1) Puts Spark in a path variable so you can execute commandlets from that directory.  Adjust to your own directory.', '$env:Path += “;C:\\\\Users\\\\bsullins\\\\spark\\\\bin\\\\”', '', '2) Set vars for PySpark', '$env:PYSPARK_DRIVER_PYTHON=“ipython”', '', '3) Specifies PySpark options', '$env:PYSPARK_DRIVER_PYTHON_OPTS=“notebook”', '', 'Enter in the following commands instead of source .profile', 'cd ../', 'cd .\\\\notebooks\\\\', 'pyspark', '']\n"
     ]
    }
   ],
   "source": [
    "# ingest a file and show it\n",
    "fil = './Exercise Files/06_02 commands.txt'\n",
    "data = sc.textFile(fil)\n",
    "print(type(data))\n",
    "print('%d records'%data.count())\n",
    "print('%s'%data.collect())"
   ]
  },
  {
   "cell_type": "code",
   "execution_count": 8,
   "metadata": {},
   "outputs": [
    {
     "name": "stdout",
     "output_type": "stream",
     "text": [
      "For Mac:\n",
      "['For Mac:', '', '1) Set path for Spark and adjust to the correct path to Spark', 'echo “export PATH=$PATH:/path_to_downloaded_spark/spark-1.6.0/bin” >> .profile', '', '2) Setting up PySpark driver', 'echo “export PYSPARK_DRIVER_PYTHON=ipython” >> .profile', '', '3) Specifies PySpark options', 'echo “export PYSPARK_DRIVER_PYTHON_OPTS=‘notebook’ pyspark” >> .profile']\n"
     ]
    }
   ],
   "source": [
    "print(data.first())\n",
    "print(data.take(10))"
   ]
  },
  {
   "cell_type": "code",
   "execution_count": 10,
   "metadata": {},
   "outputs": [
    {
     "name": "stdout",
     "output_type": "stream",
     "text": [
      "13\n"
     ]
    }
   ],
   "source": [
    "# load the data cached into memory so many ops can be performed in memory without disk IO\n",
    "dataC = sc.textFile(fil).cache()\n",
    "# count the number of rows that have \"spark\"\n",
    "sparkRow = dataC.filter(lambda r: 'spark' in r.lower())\n",
    "sparkCnt = sparkRow.count()\n",
    "print(sparkCnt)"
   ]
  },
  {
   "cell_type": "code",
   "execution_count": 51,
   "metadata": {},
   "outputs": [
    {
     "name": "stdout",
     "output_type": "stream",
     "text": [
      "<class 'pyspark.rdd.RDD'>\n",
      "2\n",
      "<class 'tuple'>\n",
      "file:/C:/Users/howean/Documents/spark_learning/Exercise Files/state_info_AM.csv\n",
      "State,StateCode,Capital,LargestCity,PopulationEst2015,HouseSeats,StateHood\n",
      "Alabama,AL,Montgomery,Birmingham,4858979,7,1819-12-14\n",
      "Alaska,AK,Juneau,Anchorage,738432,1,1959-01-03\n",
      "Arizona,AZ,Phoenix,Phoenix,6828065,9,1912-02-14\n",
      "Arkansas,AR,Little Rock,Little Rock,2978204,4,1836-06-15\n",
      "California,CA,Sacramento,Los Angeles,39144818,53,1850-09-09\n",
      "Colorado,CO,Denver,Denver,5456574,7,1876-08-01\n",
      "Connecticut,CT,Hartford,Bridgeport,3590886,5,1788-01-09\n",
      "Delaware,DE,Dover,Wilmington,945934,1,1787-12-07\n",
      "Florida,FL,Tallahassee,Jacksonville,20271272,27,1845-03-03\n",
      "Georgia,GA,Atlanta,Atlanta,10214860,14,1788-01-02\n",
      "Hawaii,HI,Honolulu,Honolulu,1431603,2,1959-08-21\n",
      "Idaho,ID,Boise,Boise,1654930,2,1890-07-03\n",
      "Illinois,IL,Springfield,Chicago,12859995,18,1818-12-03\n",
      "Indiana,IN,Indianapolis,Indianapolis,6619680,9,1816-12-11\n",
      "Iowa,IA,Des Moines,Des Moines,3123899,4,1846-12-28\n",
      "Kansas,KS,Topeka,Wichita,2911641,4,1861-01-29\n",
      "Kentucky,KY,Frankfort,Louisville,4425092,6,1792-06-01\n",
      "Louisiana,LA,Baton Rouge,New Orleans,4670724,6,1812-04-30\n",
      "Maine,ME,Augusta,Portland,1329328,2,1820-03-15\n",
      "Maryland,MD,Annapolis,Baltimore,6006401,8,1788-04-28\n",
      "Massachusetts,MA,Boston,Boston,6794422,9,1788-02-06\n",
      "Michigan,MI,Lansing,Detroit,9922576,14,1837-01-26\n",
      "Minnesota,MN,St. Paul,Minneapolis,5489594,8,1858-05-11\n",
      "Mississippi,MS,Jackson,Jackson,2992333,4,1817-12-10\n",
      "Missouri,MO,Jefferson City,Kansas City,6083672,8,1821-08-10\n",
      "Montana,MT,Helena,Billings,1032949,1,1889-11-08\n"
     ]
    }
   ],
   "source": [
    "# ingest all state csv files\n",
    "fils = './Exercise Files/state_info_*.csv'\n",
    "files = sc.wholeTextFiles(fils)\n",
    "print(type(files))\n",
    "print(files.count())\n",
    "\n",
    "print(type(files.first()))\n",
    "print(files.first()[0])\n",
    "print(files.first()[1])"
   ]
  },
  {
   "cell_type": "code",
   "execution_count": 56,
   "metadata": {},
   "outputs": [
    {
     "name": "stdout",
     "output_type": "stream",
     "text": [
      "<class 'pyspark.sql.dataframe.DataFrame'>\n"
     ]
    },
    {
     "data": {
      "text/plain": [
       "DataFrame[name: string, data: string]"
      ]
     },
     "metadata": {},
     "output_type": "display_data"
    },
    {
     "data": {
      "text/plain": [
       "[Row(name='file:/C:/Users/howean/Documents/spark_learning/Exercise Files/state_info_AM.csv', data='State,StateCode,Capital,LargestCity,PopulationEst2015,HouseSeats,StateHood\\r\\nAlabama,AL,Montgomery,Birmingham,4858979,7,1819-12-14\\r\\nAlaska,AK,Juneau,Anchorage,738432,1,1959-01-03\\r\\nArizona,AZ,Phoenix,Phoenix,6828065,9,1912-02-14\\r\\nArkansas,AR,Little Rock,Little Rock,2978204,4,1836-06-15\\r\\nCalifornia,CA,Sacramento,Los Angeles,39144818,53,1850-09-09\\r\\nColorado,CO,Denver,Denver,5456574,7,1876-08-01\\r\\nConnecticut,CT,Hartford,Bridgeport,3590886,5,1788-01-09\\r\\nDelaware,DE,Dover,Wilmington,945934,1,1787-12-07\\r\\nFlorida,FL,Tallahassee,Jacksonville,20271272,27,1845-03-03\\r\\nGeorgia,GA,Atlanta,Atlanta,10214860,14,1788-01-02\\r\\nHawaii,HI,Honolulu,Honolulu,1431603,2,1959-08-21\\r\\nIdaho,ID,Boise,Boise,1654930,2,1890-07-03\\r\\nIllinois,IL,Springfield,Chicago,12859995,18,1818-12-03\\r\\nIndiana,IN,Indianapolis,Indianapolis,6619680,9,1816-12-11\\r\\nIowa,IA,Des Moines,Des Moines,3123899,4,1846-12-28\\r\\nKansas,KS,Topeka,Wichita,2911641,4,1861-01-29\\r\\nKentucky,KY,Frankfort,Louisville,4425092,6,1792-06-01\\r\\nLouisiana,LA,Baton Rouge,New Orleans,4670724,6,1812-04-30\\r\\nMaine,ME,Augusta,Portland,1329328,2,1820-03-15\\r\\nMaryland,MD,Annapolis,Baltimore,6006401,8,1788-04-28\\r\\nMassachusetts,MA,Boston,Boston,6794422,9,1788-02-06\\r\\nMichigan,MI,Lansing,Detroit,9922576,14,1837-01-26\\r\\nMinnesota,MN,St. Paul,Minneapolis,5489594,8,1858-05-11\\r\\nMississippi,MS,Jackson,Jackson,2992333,4,1817-12-10\\r\\nMissouri,MO,Jefferson City,Kansas City,6083672,8,1821-08-10\\r\\nMontana,MT,Helena,Billings,1032949,1,1889-11-08'),\n",
       " Row(name='file:/C:/Users/howean/Documents/spark_learning/Exercise Files/state_info_NZ.csv', data='State,StateCode,Capital,LargestCity,PopulationEst2015,HouseSeats,StateHood\\r\\nNebraska,NE,Lincoln,Omaha,1896190,3,1867-03-01\\r\\nNevada,NV,Carson City,Las Vegas,2890845,4,1864-10-31\\r\\nNew Hampshire,NH,Concord,Manchester,1330608,2,1788-06-21\\r\\nNew Jersey,NJ,Trenton,Newark,8958013,12,1787-12-18\\r\\nNew Mexico,NM,Santa Fe,Albuquerque,2085109,3,1912-01-06\\r\\nNew York,NY,Albany,New York,19795791,27,1788-07-26\\r\\nNorth Carolina,NC,Raleigh,Charlotte,10042802,13,1789-11-21\\r\\nNorth Dakota,ND,Bismarck,Fargo,756927,1,1889-11-02\\r\\nOhio,OH,Columbus,Columbus,11613423,16,1803-03-01\\r\\nOklahoma,OK,Oklahoma City,Oklahoma City,3911338,5,1907-11-16\\r\\nOregon,OR,Salem,Portland,4028977,5,1859-02-14\\r\\nPennsylvania,PA,Harrisburg,Philadelphia,12802503,18,1787-12-12\\r\\nRhode Island,RI,Providence,Providence,1056298,2,1790-05-29\\r\\nSouth Carolina,SC,Columbia,Columbia,4896146,7,1788-05-23\\r\\nSouth Dakota,SD,Pierre,Sioux Falls,858469,1,1889-11-02\\r\\nTennessee,TN,Nashville,Memphis,6600299,9,1796-06-01\\r\\nTexas,TX,Austin,Houston,27469114,36,1845-12-29\\r\\nUtah,UT,Salt Lake City,Salt Lake City,2995919,4,1896-01-04\\r\\nVermont,VT,Montpelier,Burlington,626042,1,1791-03-04\\r\\nVirginia,VA,Richmond,Virginia Beach,8382993,11,1788-06-25\\r\\nWashington,WA,Olympia,Seattle,7170351,10,1889-11-11\\r\\nWest Virginia,WV,Charleston,Charleston,1844128,3,1863-06-20\\r\\nWisconsin,WI,Madison,Milwaukee,5771337,8,1848-05-29\\r\\nWyoming,WY,Cheyenne,Cheyenne,586107,1,1890-07-10')]"
      ]
     },
     "metadata": {},
     "output_type": "display_data"
    }
   ],
   "source": [
    "# no longer works?\n",
    "#filesDF = files.toDF(['name','data'])\n",
    "filesDF = ss.createDataFrame(files, ['name','data']) # the above is a shortcut for this\n",
    "print(type(filesDF))\n",
    "display(filesDF) # display only shows the schema if collect or show not included\n",
    "display(filesDF.collect())"
   ]
  },
  {
   "cell_type": "code",
   "execution_count": 66,
   "metadata": {},
   "outputs": [
    {
     "data": {
      "text/plain": [
       "[Row(name='file:/C:/Users/howean/Documents/spark_learning/Exercise Files/state_info_AM.csv'),\n",
       " Row(name='file:/C:/Users/howean/Documents/spark_learning/Exercise Files/state_info_NZ.csv')]"
      ]
     },
     "metadata": {},
     "output_type": "display_data"
    }
   ],
   "source": [
    "display(filesDF.select('name').collect())"
   ]
  },
  {
   "cell_type": "code",
   "execution_count": null,
   "metadata": {},
   "outputs": [],
   "source": []
  },
  {
   "cell_type": "code",
   "execution_count": null,
   "metadata": {},
   "outputs": [],
   "source": []
  },
  {
   "cell_type": "code",
   "execution_count": null,
   "metadata": {},
   "outputs": [],
   "source": []
  },
  {
   "cell_type": "code",
   "execution_count": 35,
   "metadata": {},
   "outputs": [],
   "source": [
    "sc.stop()"
   ]
  }
 ],
 "metadata": {
  "kernelspec": {
   "display_name": "Python 3",
   "language": "python",
   "name": "python3"
  },
  "language_info": {
   "codemirror_mode": {
    "name": "ipython",
    "version": 3
   },
   "file_extension": ".py",
   "mimetype": "text/x-python",
   "name": "python",
   "nbconvert_exporter": "python",
   "pygments_lexer": "ipython3",
   "version": "3.8.5"
  }
 },
 "nbformat": 4,
 "nbformat_minor": 4
}
