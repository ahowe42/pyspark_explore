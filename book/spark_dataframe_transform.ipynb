{
 "cells": [
  {
   "cell_type": "code",
   "execution_count": 129,
   "metadata": {},
   "outputs": [],
   "source": [
    "import pandas as pd\n",
    "import numpy as np\n",
    "\n",
    "import findspark\n",
    "findspark.init()\n",
    "import pyspark\n",
    "from pyspark.sql import SparkSession\n",
    "\n",
    "from pyspark.sql.types import DoubleType\n",
    "from pyspark.sql.functions import udf, lit\n",
    "\n",
    "from pyspark.ml.regression import LinearRegression\n",
    "from pyspark.ml.evaluation import RegressionEvaluator\n",
    "from pyspark.ml.feature import MinMaxScaler, StandardScaler, VectorAssembler, VectorSlicer, Bucketizer\n",
    "from pyspark.ml.linalg import Vectors"
   ]
  },
  {
   "cell_type": "code",
   "execution_count": 23,
   "metadata": {},
   "outputs": [],
   "source": [
    "# setup spark\n",
    "sc = pyspark.SparkContext()\n",
    "ss = SparkSession(sc)"
   ]
  },
  {
   "cell_type": "code",
   "execution_count": 114,
   "metadata": {},
   "outputs": [],
   "source": [
    "def ith_(v, i):\n",
    "    try:\n",
    "        return float(v[i])\n",
    "    except ValueError:\n",
    "        return None\n",
    "ith = udf(ith_, DoubleType())"
   ]
  },
  {
   "cell_type": "code",
   "execution_count": 24,
   "metadata": {},
   "outputs": [
    {
     "name": "stdout",
     "output_type": "stream",
     "text": [
      "['id', 'last_name', 'email', 'gender', 'department', 'start_date', 'salary', 'job_title', 'region_id']\n",
      "root\n",
      " |-- id: integer (nullable = true)\n",
      " |-- last_name: string (nullable = true)\n",
      " |-- email: string (nullable = true)\n",
      " |-- gender: string (nullable = true)\n",
      " |-- department: string (nullable = true)\n",
      " |-- start_date: string (nullable = true)\n",
      " |-- salary: integer (nullable = true)\n",
      " |-- job_title: string (nullable = true)\n",
      " |-- region_id: integer (nullable = true)\n",
      "\n",
      "+---+------------+--------------------+--------+-------------+------------+------+--------------------+---------+\n",
      "| id|   last_name|               email|  gender|   department|  start_date|salary|           job_title|region_id|\n",
      "+---+------------+--------------------+--------+-------------+------------+------+--------------------+---------+\n",
      "|  1|    'Kelley'|'rkelley0@soundcl...|'Female'|  'Computers'| '10/2/2009'| 67470|'Structural Engin...|        2|\n",
      "|  2| 'Armstrong'|'sarmstrong1@info...|  'Male'|     'Sports'| '3/31/2008'| 71869| 'Financial Advisor'|        2|\n",
      "|  3|      'Carr'|'fcarr2@woothemes...|  'Male'| 'Automotive'| '7/12/2009'|101768|'Recruiting Manager'|        3|\n",
      "|  4|    'Murray'|   'jmurray3@gov.uk'|'Female'|   'Jewelery'|'12/25/2014'| 96897|'Desktop Support ...|        3|\n",
      "|  5|     'Ellis'|'jellis4@scienced...|'Female'|    'Grocery'| '9/19/2002'| 63702|'Software Enginee...|        7|\n",
      "|  6|  'Phillips'|'bphillips5@time....|  'Male'|      'Tools'| '8/21/2013'|118497|'Executive Secret...|        1|\n",
      "|  7|'Williamson'|'rwilliamson6@ted...|  'Male'|  'Computers'| '5/14/2006'| 65889|  'Dental Hygienist'|        6|\n",
      "|  8|    'Harris'| 'aharris7@ucoz.com'|'Female'|       'Toys'| '8/12/2003'| 84427|'Safety Technicia...|        4|\n",
      "|  9|     'James'|'rjames8@prnewswi...|  'Male'|   'Jewelery'|  '9/7/2005'|108657|   'Sales Associate'|        2|\n",
      "| 10|   'Sanchez'|'rsanchez9@cloudf...|  'Male'|     'Movies'| '3/13/2013'|108093|'Sales Representa...|        1|\n",
      "| 11|    'Jacobs'|'jjacobsa@sbwire....|'Female'|   'Jewelery'|'11/27/2003'|121966|'Community Outrea...|        7|\n",
      "| 12|     'Black'|'mblackb@edublogs...|  'Male'|   'Clothing'|  '2/4/2003'| 44179|   'Data Coordiator'|        7|\n",
      "| 13|   'Schmidt'|'sschmidtc@state....|  'Male'|       'Baby'|'10/13/2002'| 85227|'Compensation Ana...|        3|\n",
      "| 14|      'Webb'|  'awebbd@baidu.com'|'Female'|  'Computers'|'10/22/2006'| 59763|'Software Test En...|        4|\n",
      "| 15|    'Jacobs'|'ajacobse@google.it'|'Female'|      'Games'|  '3/4/2007'|141139|'Community Outrea...|        7|\n",
      "| 16|    'Medina'|'smedinaf@amazona...|'Female'|       'Baby'| '3/14/2008'|106659| 'Web Developer III'|        1|\n",
      "| 17|    'Morgan'|'dmorgang@123-reg...|'Female'|       'Kids'|  '5/4/2011'|148952|     'Programmer IV'|        6|\n",
      "| 18|    'Nguyen'|'jnguyenh@google....|  'Male'|       'Home'| '11/3/2014'| 93804|      'Geologist II'|        5|\n",
      "| 19|       'Day'|'rdayi@chronoengi...|  'Male'|'Electronics'| '9/22/2004'|109890|          'VP Sales'|        3|\n",
      "| 20|      'Carr'|  'dcarrj@ocn.ne.jp'|'Female'|     'Movies'|'11/22/2007'|115274|'VP Quality Control'|        5|\n",
      "+---+------------+--------------------+--------+-------------+------------+------+--------------------+---------+\n",
      "only showing top 20 rows\n",
      "\n",
      "1000\n"
     ]
    }
   ],
   "source": [
    "# get data\n",
    "fil = './Ex_Files_Spark_ML_AI/Ch01/01_04/employee.txt'\n",
    "emp_df = ss.read.csv(fil, header=True, inferSchema=True).cache()\n",
    "# talk\n",
    "print(emp_df.columns)\n",
    "emp_df.printSchema()\n",
    "emp_df.show()\n",
    "print(emp_df.count())"
   ]
  },
  {
   "cell_type": "code",
   "execution_count": 25,
   "metadata": {},
   "outputs": [
    {
     "data": {
      "text/plain": [
       "197"
      ]
     },
     "execution_count": 25,
     "metadata": {},
     "output_type": "execute_result"
    }
   ],
   "source": [
    "# get a random sample\n",
    "samp_df = emp_df.sample(withReplacement=False, fraction=0.2, seed=42).cache() # sampling is approximate!\n",
    "samp_df.count()"
   ]
  },
  {
   "cell_type": "code",
   "execution_count": 26,
   "metadata": {},
   "outputs": [
    {
     "name": "stdout",
     "output_type": "stream",
     "text": [
      "+---+-----------+--------------------+--------+-------------+------------+------+--------------------+---------+\n",
      "| id|  last_name|               email|  gender|   department|  start_date|salary|           job_title|region_id|\n",
      "+---+-----------+--------------------+--------+-------------+------------+------+--------------------+---------+\n",
      "|  3|     'Carr'|'fcarr2@woothemes...|  'Male'| 'Automotive'| '7/12/2009'|101768|'Recruiting Manager'|        3|\n",
      "|  6| 'Phillips'|'bphillips5@time....|  'Male'|      'Tools'| '8/21/2013'|118497|'Executive Secret...|        1|\n",
      "|  9|    'James'|'rjames8@prnewswi...|  'Male'|   'Jewelery'|  '9/7/2005'|108657|   'Sales Associate'|        2|\n",
      "| 10|  'Sanchez'|'rsanchez9@cloudf...|  'Male'|     'Movies'| '3/13/2013'|108093|'Sales Representa...|        1|\n",
      "| 11|   'Jacobs'|'jjacobsa@sbwire....|'Female'|   'Jewelery'|'11/27/2003'|121966|'Community Outrea...|        7|\n",
      "| 15|   'Jacobs'|'ajacobse@google.it'|'Female'|      'Games'|  '3/4/2007'|141139|'Community Outrea...|        7|\n",
      "| 16|   'Medina'|'smedinaf@amazona...|'Female'|       'Baby'| '3/14/2008'|106659| 'Web Developer III'|        1|\n",
      "| 17|   'Morgan'|'dmorgang@123-reg...|'Female'|       'Kids'|  '5/4/2011'|148952|     'Programmer IV'|        6|\n",
      "| 19|      'Day'|'rdayi@chronoengi...|  'Male'|'Electronics'| '9/22/2004'|109890|          'VP Sales'|        3|\n",
      "| 20|     'Carr'|  'dcarrj@ocn.ne.jp'|'Female'|     'Movies'|'11/22/2007'|115274|'VP Quality Control'|        5|\n",
      "| 22|'Alexander'|'kalexanderl@mark...|  'Male'| 'Automotive'|'12/26/2011'|144724|'Marketing Assist...|        2|\n",
      "| 23|  'Chapman'|'jchapmanm@archiv...|'Female'|   'Jewelery'| '4/12/2001'|126103|  'Senior Developer'|        4|\n",
      "| 24|    'Kelly'| 'ekellyn@weibo.com'|  'Male'|     'Garden'| '6/29/2006'|144965|'Nurse Practicioner'|        2|\n",
      "| 31|   'Willis'| 'hwillisu@army.mil'|'Female'|      'Tools'|'10/21/2012'|113507|      'Accountant I'|        7|\n",
      "| 34|     'Reed'|  'areedx@cisco.com'|  'Male'|     'Movies'|'11/28/2002'|120579|'Assistant Media ...|        6|\n",
      "| 36|  'Bradley'|'nbradleyz@goodre...|  'Male'|   'Outdoors'|'12/28/2008'|107222|'Payment Adjustme...|        3|\n",
      "| 42|  'Watkins'|'mwatkins15@wiley...|  'Male'|  'Computers'|  '4/1/2008'|125668|'Executive Secret...|        7|\n",
      "| 44|  'Simmons'|'asimmons17@csmon...|  'Male'|     'Movies'|'12/21/2013'|113857|     'Developer III'|        2|\n",
      "| 45|   'Nguyen'|'mnguyen18@bibleg...|  'Male'| 'Automotive'| '1/24/2002'|108378|'Electrical Engin...|        7|\n",
      "| 46| 'Lawrence'|'jlawrence19@link...|  'Male'|   'Outdoors'|'12/11/2011'|133424|  'Junior Executive'|        7|\n",
      "+---+-----------+--------------------+--------+-------------+------------+------+--------------------+---------+\n",
      "only showing top 20 rows\n",
      "\n"
     ]
    }
   ],
   "source": [
    "emp_df.filter(emp_df.salary>=100000).show()"
   ]
  },
  {
   "cell_type": "code",
   "execution_count": 27,
   "metadata": {},
   "outputs": [
    {
     "data": {
      "text/plain": [
       "array([[<AxesSubplot:title={'center':'salary'}>]], dtype=object)"
      ]
     },
     "execution_count": 27,
     "metadata": {},
     "output_type": "execute_result"
    },
    {
     "data": {
      "image/png": "[encoded data removed]",
      "text/plain": [
       "<Figure size 432x288 with 1 Axes>"
      ]
     },
     "metadata": {
      "needs_background": "light"
     },
     "output_type": "display_data"
    }
   ],
   "source": [
    "# use pandas for a quick histogram of salaries\n",
    "emp_df.select('salary').toPandas().hist()"
   ]
  },
  {
   "cell_type": "code",
   "execution_count": 117,
   "metadata": {},
   "outputs": [
    {
     "name": "stdout",
     "output_type": "stream",
     "text": [
      "+---+------------+--------------------+--------+-------------+------------+------+--------------------+---------+----------+\n",
      "| id|   last_name|               email|  gender|   department|  start_date|salary|           job_title|region_id|  features|\n",
      "+---+------------+--------------------+--------+-------------+------------+------+--------------------+---------+----------+\n",
      "|  1|    'Kelley'|'rkelley0@soundcl...|'Female'|  'Computers'| '10/2/2009'| 67470|'Structural Engin...|        2| [67470.0]|\n",
      "|  2| 'Armstrong'|'sarmstrong1@info...|  'Male'|     'Sports'| '3/31/2008'| 71869| 'Financial Advisor'|        2| [71869.0]|\n",
      "|  3|      'Carr'|'fcarr2@woothemes...|  'Male'| 'Automotive'| '7/12/2009'|101768|'Recruiting Manager'|        3|[101768.0]|\n",
      "|  4|    'Murray'|   'jmurray3@gov.uk'|'Female'|   'Jewelery'|'12/25/2014'| 96897|'Desktop Support ...|        3| [96897.0]|\n",
      "|  5|     'Ellis'|'jellis4@scienced...|'Female'|    'Grocery'| '9/19/2002'| 63702|'Software Enginee...|        7| [63702.0]|\n",
      "|  6|  'Phillips'|'bphillips5@time....|  'Male'|      'Tools'| '8/21/2013'|118497|'Executive Secret...|        1|[118497.0]|\n",
      "|  7|'Williamson'|'rwilliamson6@ted...|  'Male'|  'Computers'| '5/14/2006'| 65889|  'Dental Hygienist'|        6| [65889.0]|\n",
      "|  8|    'Harris'| 'aharris7@ucoz.com'|'Female'|       'Toys'| '8/12/2003'| 84427|'Safety Technicia...|        4| [84427.0]|\n",
      "|  9|     'James'|'rjames8@prnewswi...|  'Male'|   'Jewelery'|  '9/7/2005'|108657|   'Sales Associate'|        2|[108657.0]|\n",
      "| 10|   'Sanchez'|'rsanchez9@cloudf...|  'Male'|     'Movies'| '3/13/2013'|108093|'Sales Representa...|        1|[108093.0]|\n",
      "| 11|    'Jacobs'|'jjacobsa@sbwire....|'Female'|   'Jewelery'|'11/27/2003'|121966|'Community Outrea...|        7|[121966.0]|\n",
      "| 12|     'Black'|'mblackb@edublogs...|  'Male'|   'Clothing'|  '2/4/2003'| 44179|   'Data Coordiator'|        7| [44179.0]|\n",
      "| 13|   'Schmidt'|'sschmidtc@state....|  'Male'|       'Baby'|'10/13/2002'| 85227|'Compensation Ana...|        3| [85227.0]|\n",
      "| 14|      'Webb'|  'awebbd@baidu.com'|'Female'|  'Computers'|'10/22/2006'| 59763|'Software Test En...|        4| [59763.0]|\n",
      "| 15|    'Jacobs'|'ajacobse@google.it'|'Female'|      'Games'|  '3/4/2007'|141139|'Community Outrea...|        7|[141139.0]|\n",
      "| 16|    'Medina'|'smedinaf@amazona...|'Female'|       'Baby'| '3/14/2008'|106659| 'Web Developer III'|        1|[106659.0]|\n",
      "| 17|    'Morgan'|'dmorgang@123-reg...|'Female'|       'Kids'|  '5/4/2011'|148952|     'Programmer IV'|        6|[148952.0]|\n",
      "| 18|    'Nguyen'|'jnguyenh@google....|  'Male'|       'Home'| '11/3/2014'| 93804|      'Geologist II'|        5| [93804.0]|\n",
      "| 19|       'Day'|'rdayi@chronoengi...|  'Male'|'Electronics'| '9/22/2004'|109890|          'VP Sales'|        3|[109890.0]|\n",
      "| 20|      'Carr'|  'dcarrj@ocn.ne.jp'|'Female'|     'Movies'|'11/22/2007'|115274|'VP Quality Control'|        5|[115274.0]|\n",
      "+---+------------+--------------------+--------+-------------+------------+------+--------------------+---------+----------+\n",
      "only showing top 20 rows\n",
      "\n"
     ]
    }
   ],
   "source": [
    "# make a dense features dataframe\n",
    "va = VectorAssembler(inputCols=['salary'], outputCol='features')\n",
    "features_df = va.transform(emp_df)\n",
    "features_df.show()"
   ]
  },
  {
   "cell_type": "code",
   "execution_count": 118,
   "metadata": {},
   "outputs": [
    {
     "name": "stdout",
     "output_type": "stream",
     "text": [
      "+---+------------+--------------------+--------+-------------+------------+------+--------------------+---------+----------+--------------------+\n",
      "| id|   last_name|               email|  gender|   department|  start_date|salary|           job_title|region_id|  features|           sfeatures|\n",
      "+---+------------+--------------------+--------+-------------+------------+------+--------------------+---------+----------+--------------------+\n",
      "|  1|    'Kelley'|'rkelley0@soundcl...|'Female'|  'Computers'| '10/2/2009'| 67470|'Structural Engin...|        2| [67470.0]|[0.24894572414860...|\n",
      "|  2| 'Armstrong'|'sarmstrong1@info...|  'Male'|     'Sports'| '3/31/2008'| 71869| 'Financial Advisor'|        2| [71869.0]|[0.2890127606087931]|\n",
      "|  3|      'Carr'|'fcarr2@woothemes...|  'Male'| 'Automotive'| '7/12/2009'|101768|'Recruiting Manager'|        3|[101768.0]| [0.561339271889317]|\n",
      "|  4|    'Murray'|   'jmurray3@gov.uk'|'Female'|   'Jewelery'|'12/25/2014'| 96897|'Desktop Support ...|        3| [96897.0]|[0.5169731580912825]|\n",
      "|  5|     'Ellis'|'jellis4@scienced...|'Female'|    'Grocery'| '9/19/2002'| 63702|'Software Enginee...|        7| [63702.0]|[0.21462597116339...|\n",
      "|  6|  'Phillips'|'bphillips5@time....|  'Male'|      'Tools'| '8/21/2013'|118497|'Executive Secret...|        1|[118497.0]|[0.7137105955861592]|\n",
      "|  7|'Williamson'|'rwilliamson6@ted...|  'Male'|  'Computers'| '5/14/2006'| 65889|  'Dental Hygienist'|        6| [65889.0]|[0.23454563670974...|\n",
      "|  8|    'Harris'| 'aharris7@ucoz.com'|'Female'|       'Toys'| '8/12/2003'| 84427|'Safety Technicia...|        4| [84427.0]|[0.40339372079678...|\n",
      "|  9|     'James'|'rjames8@prnewswi...|  'Male'|   'Jewelery'|  '9/7/2005'|108657|   'Sales Associate'|        2|[108657.0]|[0.6240857629496043]|\n",
      "| 10|   'Sanchez'|'rsanchez9@cloudf...|  'Male'|     'Movies'| '3/13/2013'|108093|'Sales Representa...|        1|[108093.0]|[0.6189487298594603]|\n",
      "| 11|    'Jacobs'|'jjacobsa@sbwire....|'Female'|   'Jewelery'|'11/27/2003'|121966|'Community Outrea...|        7|[121966.0]|[0.7453069923764243]|\n",
      "| 12|     'Black'|'mblackb@edublogs...|  'Male'|   'Clothing'|  '2/4/2003'| 44179|   'Data Coordiator'|        7| [44179.0]|[0.03680629559799...|\n",
      "| 13|   'Schmidt'|'sschmidtc@state....|  'Male'|       'Baby'|'10/13/2002'| 85227|'Compensation Ana...|        3| [85227.0]|[0.41068029255585...|\n",
      "| 14|      'Webb'|  'awebbd@baidu.com'|'Female'|  'Computers'|'10/22/2006'| 59763|'Software Test En...|        4| [59763.0]|[0.1787487134646738]|\n",
      "| 15|    'Jacobs'|'ajacobse@google.it'|'Female'|      'Games'|  '3/4/2007'|141139|'Community Outrea...|        7|[141139.0]|[0.9199387927972239]|\n",
      "| 16|    'Medina'|'smedinaf@amazona...|'Female'|       'Baby'| '3/14/2008'|106659| 'Web Developer III'|        1|[106659.0]|[0.6058875499813282]|\n",
      "| 17|    'Morgan'|'dmorgang@123-reg...|'Female'|       'Kids'|  '5/4/2011'|148952|     'Programmer IV'|        6|[148952.0]|[0.9911012742392364]|\n",
      "| 18|    'Nguyen'|'jnguyenh@google....|  'Male'|       'Home'| '11/3/2014'| 93804|      'Geologist II'|        5| [93804.0]|[0.4888014500277801]|\n",
      "| 19|       'Day'|'rdayi@chronoengi...|  'Male'|'Electronics'| '9/22/2004'|109890|          'VP Sales'|        3|[109890.0]|[0.6353161916732701]|\n",
      "| 20|      'Carr'|  'dcarrj@ocn.ne.jp'|'Female'|     'Movies'|'11/22/2007'|115274|'VP Quality Control'|        5|[115274.0]|[0.6843548196118079]|\n",
      "+---+------------+--------------------+--------+-------------+------------+------+--------------------+---------+----------+--------------------+\n",
      "only showing top 20 rows\n",
      "\n"
     ]
    }
   ],
   "source": [
    "# try min-max scaling\n",
    "scal = MinMaxScaler(inputCol='features', outputCol='sfeatures')\n",
    "sfeatures_df = scal.fit(features_df).transform(features_df).cache()\n",
    "sfeatures_df.show()"
   ]
  },
  {
   "cell_type": "code",
   "execution_count": 119,
   "metadata": {},
   "outputs": [
    {
     "data": {
      "text/plain": [
       "array([[<AxesSubplot:title={'center':'salary'}>]], dtype=object)"
      ]
     },
     "execution_count": 119,
     "metadata": {},
     "output_type": "execute_result"
    },
    {
     "data": {
      "image/png": "[encoded data removed]",
      "text/plain": [
       "<Figure size 432x288 with 1 Axes>"
      ]
     },
     "metadata": {
      "needs_background": "light"
     },
     "output_type": "display_data"
    }
   ],
   "source": [
    "# histogram\n",
    "sfeatures_df.select(ith(\"sfeatures\", lit(0))).withColumnRenamed('ith_(sfeatures, 0)', 'salary').toPandas().hist()"
   ]
  },
  {
   "cell_type": "code",
   "execution_count": 120,
   "metadata": {},
   "outputs": [
    {
     "name": "stdout",
     "output_type": "stream",
     "text": [
      "+---+------------+--------------------+--------+-------------+------------+------+--------------------+---------+----------+--------------------+--------------------+\n",
      "| id|   last_name|               email|  gender|   department|  start_date|salary|           job_title|region_id|  features|           sfeatures|           nfeatures|\n",
      "+---+------------+--------------------+--------+-------------+------------+------+--------------------+---------+----------+--------------------+--------------------+\n",
      "|  1|    'Kelley'|'rkelley0@soundcl...|'Female'|  'Computers'| '10/2/2009'| 67470|'Structural Engin...|        2| [67470.0]|[0.24894572414860...|[-0.9404188679633...|\n",
      "|  2| 'Armstrong'|'sarmstrong1@info...|  'Male'|     'Sports'| '3/31/2008'| 71869| 'Financial Advisor'|        2| [71869.0]|[0.2890127606087931]|[-0.8018812534734...|\n",
      "|  3|      'Carr'|'fcarr2@woothemes...|  'Male'| 'Automotive'| '7/12/2009'|101768|'Recruiting Manager'|        3|[101768.0]| [0.561339271889317]|[0.13972732475646...|\n",
      "|  4|    'Murray'|   'jmurray3@gov.uk'|'Female'|   'Jewelery'|'12/25/2014'| 96897|'Desktop Support ...|        3| [96897.0]|[0.5169731580912825]|[-0.0136749758073...|\n",
      "|  5|     'Ellis'|'jellis4@scienced...|'Female'|    'Grocery'| '9/19/2002'| 63702|'Software Enginee...|        7| [63702.0]|[0.21462597116339...|[-1.059084412723102]|\n",
      "|  6|  'Phillips'|'bphillips5@time....|  'Male'|      'Tools'| '8/21/2013'|118497|'Executive Secret...|        1|[118497.0]|[0.7137105955861592]|[0.6665733699489063]|\n",
      "|  7|'Williamson'|'rwilliamson6@ted...|  'Male'|  'Computers'| '5/14/2006'| 65889|  'Dental Hygienist'|        6| [65889.0]|[0.23454563670974...|[-0.9902092677152...|\n",
      "|  8|    'Harris'| 'aharris7@ucoz.com'|'Female'|       'Toys'| '8/12/2003'| 84427|'Safety Technicia...|        4| [84427.0]|[0.40339372079678...|[-0.4063924235657...|\n",
      "|  9|     'James'|'rjames8@prnewswi...|  'Male'|   'Jewelery'|  '9/7/2005'|108657|   'Sales Associate'|        2|[108657.0]|[0.6240857629496043]|[0.3566824568821564]|\n",
      "| 10|   'Sanchez'|'rsanchez9@cloudf...|  'Male'|     'Movies'| '3/13/2013'|108093|'Sales Representa...|        1|[108093.0]|[0.6189487298594603]|[0.33892041674296...|\n",
      "| 11|    'Jacobs'|'jjacobsa@sbwire....|'Female'|   'Jewelery'|'11/27/2003'|121966|'Community Outrea...|        7|[121966.0]|[0.7453069923764243]|[0.7758225139965237]|\n",
      "| 12|     'Black'|'mblackb@edublogs...|  'Male'|   'Clothing'|  '2/4/2003'| 44179|   'Data Coordiator'|        7| [44179.0]|[0.03680629559799...|[-1.6739218411582...|\n",
      "| 13|   'Schmidt'|'sschmidtc@state....|  'Male'|       'Baby'|'10/13/2002'| 85227|'Compensation Ana...|        3| [85227.0]|[0.41068029255585...|[-0.3811980403895...|\n",
      "| 14|      'Webb'|  'awebbd@baidu.com'|'Female'|  'Computers'|'10/22/2006'| 59763|'Software Test En...|        4| [59763.0]|[0.1787487134646738]|[-1.1831352568867...|\n",
      "| 15|    'Jacobs'|'ajacobse@google.it'|'Female'|      'Games'|  '3/4/2007'|141139|'Community Outrea...|        7|[141139.0]|[0.9199387927972239]|[1.3796373997921332]|\n",
      "| 16|    'Medina'|'smedinaf@amazona...|'Female'|       'Baby'| '3/14/2008'|106659| 'Web Developer III'|        1|[106659.0]|[0.6058875499813282]|[0.29375948489970...|\n",
      "| 17|    'Morgan'|'dmorgang@123-reg...|'Female'|       'Kids'|  '5/4/2011'|148952|     'Programmer IV'|        6|[148952.0]|[0.9911012742392364]|[1.6256920444862915]|\n",
      "| 18|    'Nguyen'|'jnguyenh@google....|  'Male'|       'Home'| '11/3/2014'| 93804|      'Geologist II'|        5| [93804.0]|[0.4888014500277801]|[-0.1110827597621...|\n",
      "| 19|       'Day'|'rdayi@chronoengi...|  'Male'|'Electronics'| '9/22/2004'|109890|          'VP Sales'|        3|[109890.0]|[0.6353161916732701]|[0.39551329995241...|\n",
      "| 20|      'Carr'|  'dcarrj@ocn.ne.jp'|'Female'|     'Movies'|'11/22/2007'|115274|'VP Quality Control'|        5|[115274.0]|[0.6843548196118079]|[0.5650714987279576]|\n",
      "+---+------------+--------------------+--------+-------------+------------+------+--------------------+---------+----------+--------------------+--------------------+\n",
      "only showing top 20 rows\n",
      "\n"
     ]
    }
   ],
   "source": [
    "# try standard scaling\n",
    "scal = StandardScaler(inputCol='features', outputCol='nfeatures', withMean=True, withStd=True)\n",
    "sfeatures_df = scal.fit(sfeatures_df).transform(sfeatures_df).cache()\n",
    "sfeatures_df.show()"
   ]
  },
  {
   "cell_type": "code",
   "execution_count": 121,
   "metadata": {},
   "outputs": [
    {
     "data": {
      "text/plain": [
       "array([[<AxesSubplot:title={'center':'salary'}>]], dtype=object)"
      ]
     },
     "execution_count": 121,
     "metadata": {},
     "output_type": "execute_result"
    },
    {
     "data": {
      "image/png": "[encoded data removed]",
      "text/plain": [
       "<Figure size 432x288 with 1 Axes>"
      ]
     },
     "metadata": {
      "needs_background": "light"
     },
     "output_type": "display_data"
    }
   ],
   "source": [
    "# histogram\n",
    "sfeatures_df.select(ith(\"nfeatures\", lit(0))).withColumnRenamed('ith_(nfeatures, 0)', 'salary').toPandas().hist()"
   ]
  },
  {
   "cell_type": "code",
   "execution_count": 132,
   "metadata": {},
   "outputs": [
    {
     "name": "stdout",
     "output_type": "stream",
     "text": [
      "+---+------------+--------------------+--------+-------------+------------+------+--------------------+---------+----------+--------------------+--------------------+---------+\n",
      "| id|   last_name|               email|  gender|   department|  start_date|salary|           job_title|region_id|  features|           sfeatures|           nfeatures|bfeatures|\n",
      "+---+------------+--------------------+--------+-------------+------------+------+--------------------+---------+----------+--------------------+--------------------+---------+\n",
      "|  1|    'Kelley'|'rkelley0@soundcl...|'Female'|  'Computers'| '10/2/2009'| 67470|'Structural Engin...|        2| [67470.0]|[0.24894572414860...|[-0.9404188679633...|      0.0|\n",
      "|  2| 'Armstrong'|'sarmstrong1@info...|  'Male'|     'Sports'| '3/31/2008'| 71869| 'Financial Advisor'|        2| [71869.0]|[0.2890127606087931]|[-0.8018812534734...|      1.0|\n",
      "|  3|      'Carr'|'fcarr2@woothemes...|  'Male'| 'Automotive'| '7/12/2009'|101768|'Recruiting Manager'|        3|[101768.0]| [0.561339271889317]|[0.13972732475646...|      2.0|\n",
      "|  4|    'Murray'|   'jmurray3@gov.uk'|'Female'|   'Jewelery'|'12/25/2014'| 96897|'Desktop Support ...|        3| [96897.0]|[0.5169731580912825]|[-0.0136749758073...|      2.0|\n",
      "|  5|     'Ellis'|'jellis4@scienced...|'Female'|    'Grocery'| '9/19/2002'| 63702|'Software Enginee...|        7| [63702.0]|[0.21462597116339...|[-1.059084412723102]|      0.0|\n",
      "|  6|  'Phillips'|'bphillips5@time....|  'Male'|      'Tools'| '8/21/2013'|118497|'Executive Secret...|        1|[118497.0]|[0.7137105955861592]|[0.6665733699489063]|      2.0|\n",
      "|  7|'Williamson'|'rwilliamson6@ted...|  'Male'|  'Computers'| '5/14/2006'| 65889|  'Dental Hygienist'|        6| [65889.0]|[0.23454563670974...|[-0.9902092677152...|      0.0|\n",
      "|  8|    'Harris'| 'aharris7@ucoz.com'|'Female'|       'Toys'| '8/12/2003'| 84427|'Safety Technicia...|        4| [84427.0]|[0.40339372079678...|[-0.4063924235657...|      1.0|\n",
      "|  9|     'James'|'rjames8@prnewswi...|  'Male'|   'Jewelery'|  '9/7/2005'|108657|   'Sales Associate'|        2|[108657.0]|[0.6240857629496043]|[0.3566824568821564]|      2.0|\n",
      "| 10|   'Sanchez'|'rsanchez9@cloudf...|  'Male'|     'Movies'| '3/13/2013'|108093|'Sales Representa...|        1|[108093.0]|[0.6189487298594603]|[0.33892041674296...|      2.0|\n",
      "| 11|    'Jacobs'|'jjacobsa@sbwire....|'Female'|   'Jewelery'|'11/27/2003'|121966|'Community Outrea...|        7|[121966.0]|[0.7453069923764243]|[0.7758225139965237]|      2.0|\n",
      "| 12|     'Black'|'mblackb@edublogs...|  'Male'|   'Clothing'|  '2/4/2003'| 44179|   'Data Coordiator'|        7| [44179.0]|[0.03680629559799...|[-1.6739218411582...|      0.0|\n",
      "| 13|   'Schmidt'|'sschmidtc@state....|  'Male'|       'Baby'|'10/13/2002'| 85227|'Compensation Ana...|        3| [85227.0]|[0.41068029255585...|[-0.3811980403895...|      1.0|\n",
      "| 14|      'Webb'|  'awebbd@baidu.com'|'Female'|  'Computers'|'10/22/2006'| 59763|'Software Test En...|        4| [59763.0]|[0.1787487134646738]|[-1.1831352568867...|      0.0|\n",
      "| 15|    'Jacobs'|'ajacobse@google.it'|'Female'|      'Games'|  '3/4/2007'|141139|'Community Outrea...|        7|[141139.0]|[0.9199387927972239]|[1.3796373997921332]|      3.0|\n",
      "| 16|    'Medina'|'smedinaf@amazona...|'Female'|       'Baby'| '3/14/2008'|106659| 'Web Developer III'|        1|[106659.0]|[0.6058875499813282]|[0.29375948489970...|      2.0|\n",
      "| 17|    'Morgan'|'dmorgang@123-reg...|'Female'|       'Kids'|  '5/4/2011'|148952|     'Programmer IV'|        6|[148952.0]|[0.9911012742392364]|[1.6256920444862915]|      3.0|\n",
      "| 18|    'Nguyen'|'jnguyenh@google....|  'Male'|       'Home'| '11/3/2014'| 93804|      'Geologist II'|        5| [93804.0]|[0.4888014500277801]|[-0.1110827597621...|      1.0|\n",
      "| 19|       'Day'|'rdayi@chronoengi...|  'Male'|'Electronics'| '9/22/2004'|109890|          'VP Sales'|        3|[109890.0]|[0.6353161916732701]|[0.39551329995241...|      2.0|\n",
      "| 20|      'Carr'|  'dcarrj@ocn.ne.jp'|'Female'|     'Movies'|'11/22/2007'|115274|'VP Quality Control'|        5|[115274.0]|[0.6843548196118079]|[0.5650714987279576]|      2.0|\n",
      "+---+------------+--------------------+--------+-------------+------------+------+--------------------+---------+----------+--------------------+--------------------+---------+\n",
      "only showing top 20 rows\n",
      "\n"
     ]
    }
   ],
   "source": [
    "# discretization\n",
    "discBoundaries = emp_df.select('salary').toPandas().quantile([0.0, 0.25, 0.5, 0.75, 1]).values.flatten().tolist()\n",
    "disc = Bucketizer(inputCol='salary', outputCol='bfeatures', splits=discBoundaries)\n",
    "sfeatures_df = disc.transform(sfeatures_df).cache()\n",
    "sfeatures_df.show()"
   ]
  },
  {
   "cell_type": "code",
   "execution_count": 133,
   "metadata": {},
   "outputs": [
    {
     "data": {
      "text/plain": [
       "array([[<AxesSubplot:title={'center':'bfeatures'}>]], dtype=object)"
      ]
     },
     "execution_count": 133,
     "metadata": {},
     "output_type": "execute_result"
    },
    {
     "data": {
      "image/png": "[encoded data removed]",
      "text/plain": [
       "<Figure size 432x288 with 1 Axes>"
      ]
     },
     "metadata": {
      "needs_background": "light"
     },
     "output_type": "display_data"
    }
   ],
   "source": [
    "# histogram - of course they're all even\n",
    "sfeatures_df.select('bfeatures').toPandas().hist()"
   ]
  },
  {
   "cell_type": "code",
   "execution_count": 19,
   "metadata": {},
   "outputs": [],
   "source": [
    "sc.close()"
   ]
  },
  {
   "cell_type": "code",
   "execution_count": null,
   "metadata": {},
   "outputs": [],
   "source": []
  }
 ],
 "metadata": {
  "kernelspec": {
   "display_name": "Python 3",
   "language": "python",
   "name": "python3"
  },
  "language_info": {
   "codemirror_mode": {
    "name": "ipython",
    "version": 3
   },
   "file_extension": ".py",
   "mimetype": "text/x-python",
   "name": "python",
   "nbconvert_exporter": "python",
   "pygments_lexer": "ipython3",
   "version": "3.8.5"
  }
 },
 "nbformat": 4,
 "nbformat_minor": 4
}
