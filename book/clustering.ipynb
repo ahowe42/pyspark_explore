{
 "cells": [
  {
   "cell_type": "code",
   "execution_count": 1,
   "metadata": {},
   "outputs": [],
   "source": [
    "import pandas as pd\n",
    "import numpy as np\n",
    "\n",
    "import findspark\n",
    "findspark.init()\n",
    "import pyspark\n",
    "from pyspark.sql import SparkSession\n",
    "\n",
    "from pyspark.ml.feature import VectorAssembler\n",
    "from pyspark.ml.linalg import Vectors\n",
    "from pyspark.ml.clustering import KMeans, BisectingKMeans"
   ]
  },
  {
   "cell_type": "code",
   "execution_count": 2,
   "metadata": {},
   "outputs": [],
   "source": [
    "# setup spark\n",
    "sc = pyspark.SparkContext()\n",
    "ss = SparkSession(sc)"
   ]
  },
  {
   "cell_type": "code",
   "execution_count": 3,
   "metadata": {},
   "outputs": [
    {
     "name": "stdout",
     "output_type": "stream",
     "text": [
      "['col1', 'col2', 'col3']\n",
      "root\n",
      " |-- col1: integer (nullable = true)\n",
      " |-- col2: integer (nullable = true)\n",
      " |-- col3: integer (nullable = true)\n",
      "\n",
      "[Row(col1=7, col2=4, col3=1)]\n",
      "75\n"
     ]
    }
   ],
   "source": [
    "# get data\n",
    "# get data\n",
    "fil = './Ex_Files_Spark_ML_AI/Ch03/03_02/clustering_dataset.csv'\n",
    "data = ss.read.csv(fil, header=True, inferSchema=True).cache()\n",
    "# talk\n",
    "print(data.columns)\n",
    "data.printSchema()\n",
    "print(data.take(1))\n",
    "print(data.count())"
   ]
  },
  {
   "cell_type": "code",
   "execution_count": 4,
   "metadata": {},
   "outputs": [
    {
     "name": "stdout",
     "output_type": "stream",
     "text": [
      "+----+----+----+--------------+\n",
      "|col1|col2|col3|      features|\n",
      "+----+----+----+--------------+\n",
      "|   7|   4|   1| [7.0,4.0,1.0]|\n",
      "|   7|   7|   9| [7.0,7.0,9.0]|\n",
      "|   7|   9|   6| [7.0,9.0,6.0]|\n",
      "|   1|   6|   5| [1.0,6.0,5.0]|\n",
      "|   6|   7|   7| [6.0,7.0,7.0]|\n",
      "|   7|   9|   4| [7.0,9.0,4.0]|\n",
      "|   7|  10|   6|[7.0,10.0,6.0]|\n",
      "|   7|   8|   2| [7.0,8.0,2.0]|\n",
      "|   8|   3|   8| [8.0,3.0,8.0]|\n",
      "|   4|  10|   5|[4.0,10.0,5.0]|\n",
      "|   7|   4|   5| [7.0,4.0,5.0]|\n",
      "|   7|   8|   4| [7.0,8.0,4.0]|\n",
      "|   2|   5|   1| [2.0,5.0,1.0]|\n",
      "|   2|   6|   2| [2.0,6.0,2.0]|\n",
      "|   2|   3|   8| [2.0,3.0,8.0]|\n",
      "|   3|   9|   1| [3.0,9.0,1.0]|\n",
      "|   4|   2|   9| [4.0,2.0,9.0]|\n",
      "|   1|   7|   1| [1.0,7.0,1.0]|\n",
      "|   6|   2|   3| [6.0,2.0,3.0]|\n",
      "|   4|   1|   9| [4.0,1.0,9.0]|\n",
      "+----+----+----+--------------+\n",
      "only showing top 20 rows\n",
      "\n"
     ]
    }
   ],
   "source": [
    "# make the features vector\n",
    "va = VectorAssembler(inputCols=['col1', 'col2', 'col3'], outputCol='features')\n",
    "data = va.transform(data).cache()\n",
    "data.show()"
   ]
  },
  {
   "cell_type": "code",
   "execution_count": 5,
   "metadata": {},
   "outputs": [
    {
     "name": "stdout",
     "output_type": "stream",
     "text": [
      "[array([35.88461538, 31.46153846, 34.42307692]), array([5.12, 5.84, 4.84]), array([80.        , 79.20833333, 78.29166667])]\n",
      "+----+----+----+-----------------+------+\n",
      "|col1|col2|col3|         features|kmeans|\n",
      "+----+----+----+-----------------+------+\n",
      "|   7|   8|   2|    [7.0,8.0,2.0]|     1|\n",
      "|   4|   2|   9|    [4.0,2.0,9.0]|     1|\n",
      "|   6|   2|   3|    [6.0,2.0,3.0]|     1|\n",
      "|  15|  23|  32| [15.0,23.0,32.0]|     0|\n",
      "|  49|  29|  15| [49.0,29.0,15.0]|     0|\n",
      "|  38|  27|  25| [38.0,27.0,25.0]|     0|\n",
      "|  37|  39|  46| [37.0,39.0,46.0]|     0|\n",
      "|  17|  29|  41| [17.0,29.0,41.0]|     0|\n",
      "|  83|  72|  80| [83.0,72.0,80.0]|     2|\n",
      "|  84|  90| 100|[84.0,90.0,100.0]|     2|\n",
      "|  61|  82|  73| [61.0,82.0,73.0]|     2|\n",
      "|  81|  60|  69| [81.0,60.0,69.0]|     2|\n",
      "|  67|  80|  98| [67.0,80.0,98.0]|     2|\n",
      "|  88|  68|  95| [88.0,68.0,95.0]|     2|\n",
      "+----+----+----+-----------------+------+\n",
      "\n"
     ]
    }
   ],
   "source": [
    "''' now use kmeans for custering'''\n",
    "# define the model\n",
    "kmeans = KMeans(k=3, seed=42, predictionCol='kmeans')\n",
    "\n",
    "# fit kmeans\n",
    "kmodel = kmeans.fit(data)\n",
    "\n",
    "# get cluster centroids\n",
    "print(kmodel.clusterCenters())\n",
    "\n",
    "# predict\n",
    "data = kmodel.transform(data)\n",
    "\n",
    "# talk\n",
    "data.sample(withReplacement=False, fraction=0.2, seed=42).show()"
   ]
  },
  {
   "cell_type": "code",
   "execution_count": 6,
   "metadata": {},
   "outputs": [
    {
     "name": "stdout",
     "output_type": "stream",
     "text": [
      "[array([5.12, 5.84, 4.84]), array([35.88461538, 31.46153846, 34.42307692]), array([80.        , 79.20833333, 78.29166667])]\n",
      "+----+----+----+-----------------+------+--------+\n",
      "|col1|col2|col3|         features|kmeans|bikmeans|\n",
      "+----+----+----+-----------------+------+--------+\n",
      "|   7|   8|   2|    [7.0,8.0,2.0]|     1|       0|\n",
      "|   4|   2|   9|    [4.0,2.0,9.0]|     1|       0|\n",
      "|   6|   2|   3|    [6.0,2.0,3.0]|     1|       0|\n",
      "|  15|  23|  32| [15.0,23.0,32.0]|     0|       1|\n",
      "|  49|  29|  15| [49.0,29.0,15.0]|     0|       1|\n",
      "|  38|  27|  25| [38.0,27.0,25.0]|     0|       1|\n",
      "|  37|  39|  46| [37.0,39.0,46.0]|     0|       1|\n",
      "|  17|  29|  41| [17.0,29.0,41.0]|     0|       1|\n",
      "|  83|  72|  80| [83.0,72.0,80.0]|     2|       2|\n",
      "|  84|  90| 100|[84.0,90.0,100.0]|     2|       2|\n",
      "|  61|  82|  73| [61.0,82.0,73.0]|     2|       2|\n",
      "|  81|  60|  69| [81.0,60.0,69.0]|     2|       2|\n",
      "|  67|  80|  98| [67.0,80.0,98.0]|     2|       2|\n",
      "|  88|  68|  95| [88.0,68.0,95.0]|     2|       2|\n",
      "+----+----+----+-----------------+------+--------+\n",
      "\n"
     ]
    }
   ],
   "source": [
    "''' now try bisecting kmeans for custering'''\n",
    "# define the model\n",
    "bkm = BisectingKMeans(k=3, seed=42, predictionCol='bikmeans')\n",
    "\n",
    "# fit kmeans\n",
    "kmodel = bkm.fit(data)\n",
    "\n",
    "# get cluster centroids\n",
    "print(kmodel.clusterCenters())\n",
    "\n",
    "# predict\n",
    "data = kmodel.transform(data)\n",
    "\n",
    "# talk\n",
    "data.sample(withReplacement=False, fraction=0.2, seed=42).show()"
   ]
  },
  {
   "cell_type": "markdown",
   "metadata": {},
   "source": [
    "# don't understand how this is hierarchical?"
   ]
  },
  {
   "cell_type": "code",
   "execution_count": null,
   "metadata": {},
   "outputs": [],
   "source": []
  }
 ],
 "metadata": {
  "kernelspec": {
   "display_name": "Python 3",
   "language": "python",
   "name": "python3"
  },
  "language_info": {
   "codemirror_mode": {
    "name": "ipython",
    "version": 3
   },
   "file_extension": ".py",
   "mimetype": "text/x-python",
   "name": "python",
   "nbconvert_exporter": "python",
   "pygments_lexer": "ipython3",
   "version": "3.8.5"
  }
 },
 "nbformat": 4,
 "nbformat_minor": 4
}
