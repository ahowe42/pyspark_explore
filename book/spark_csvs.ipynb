{
 "cells": [
  {
   "cell_type": "code",
   "execution_count": 1,
   "metadata": {},
   "outputs": [],
   "source": [
    "import pandas as pd\n",
    "import numpy as np\n",
    "\n",
    "import findspark\n",
    "findspark.init()\n",
    "import pyspark\n",
    "from pyspark.sql import SparkSession"
   ]
  },
  {
   "cell_type": "code",
   "execution_count": 2,
   "metadata": {},
   "outputs": [],
   "source": [
    "sc = pyspark.SparkContext()\n",
    "ss = SparkSession(sc)"
   ]
  },
  {
   "cell_type": "code",
   "execution_count": 3,
   "metadata": {},
   "outputs": [
    {
     "name": "stdout",
     "output_type": "stream",
     "text": [
      "<class 'pyspark.sql.dataframe.DataFrame'>\n",
      "99 records\n"
     ]
    }
   ],
   "source": [
    "# get the sales text files\n",
    "fil = './Exercise Files/sales_log/sales-1.csv'\n",
    "sales = ss.read.csv(fil).cache()\n",
    "print(type(sales))\n",
    "print('%d records'%sales.count())"
   ]
  },
  {
   "cell_type": "code",
   "execution_count": 4,
   "metadata": {},
   "outputs": [
    {
     "data": {
      "text/plain": [
       "[Row(_c0='13729', _c1='1/1/09', _c2='9', _c3='0.08', _c4='200', _c5='1640.96', _c6='Matt Bertelsons', _c7='Maryland', _c8='East', _c9='Development - Big Data', _c10='1', _c11='0.71'),\n",
       " Row(_c0='28774', _c1='1/1/09', _c2='32', _c3='0.1', _c4='200', _c5='5707.67', _c6='Jessica Thornton', _c7='Pennsylvania', _c8='East', _c9='Development - Big Data', _c10='1', _c11='0.78'),\n",
       " Row(_c0='9285', _c1='1/2/09', _c2='3', _c3='0.06', _c4='160', _c5='447.11', _c6=\"David O'Rourke\", _c7='Minnesota', _c8='Central', _c9='Development - Java', _c10='1', _c11='0.56'),\n",
       " Row(_c0='37537', _c1='1/2/09', _c2='4', _c3='0', _c4='125', _c5='495.47', _c6='Alan Brumley', _c7='California', _c8='West', _c9='Training - Development', _c10='1', _c11='0.5'),\n",
       " Row(_c0='37537', _c1='1/2/09', _c2='43', _c3='0.07', _c4='125', _c5='4953.46', _c6='Alan Brumley', _c7='California', _c8='West', _c9='Training - Development', _c10='1', _c11='0.58'),\n",
       " Row(_c0='37537', _c1='1/2/09', _c2='32', _c3='0.05', _c4='200', _c5='6024.92', _c6='Alan Brumley', _c7='California', _c8='West', _c9='Development - Big Data', _c10='1', _c11='0.67'),\n",
       " Row(_c0='44069', _c1='1/2/09', _c2='16', _c3='0.09', _c4='110', _c5='1587.09', _c6='Elizabeth Hansen', _c7='California', _c8='West', _c9='Development - Python', _c10='1', _c11='0.35'),\n",
       " Row(_c0='44069', _c1='1/2/09', _c2='43', _c3='0.08', _c4='110', _c5='4312.18', _c6='Elizabeth Hansen', _c7='California', _c8='West', _c9='Development - Python', _c10='1', _c11='0.54'),\n",
       " Row(_c0='7909', _c1='1/3/09', _c2='29', _c3='0.03', _c4='120', _c5='3345.1', _c6='Alex Grayson', _c7='Oregon', _c8='West', _c9='Development - Business Logic', _c10='1', _c11='0.58'),\n",
       " Row(_c0='9637', _c1='1/3/09', _c2='12', _c3='0.08', _c4='150', _c5='1641.04', _c6='Andy Willingham', _c7='Louisiana', _c8='South', _c9='Consulting - Business Model', _c10='1', _c11='0.61')]"
      ]
     },
     "metadata": {},
     "output_type": "display_data"
    }
   ],
   "source": [
    "display(sales.take(10))"
   ]
  },
  {
   "cell_type": "code",
   "execution_count": 5,
   "metadata": {},
   "outputs": [
    {
     "name": "stdout",
     "output_type": "stream",
     "text": [
      "root\n",
      " |-- Invoice: integer (nullable = true)\n",
      " |-- Date: string (nullable = true)\n",
      " |-- C2: integer (nullable = true)\n",
      " |-- C3: double (nullable = true)\n",
      " |-- C4: integer (nullable = true)\n",
      " |-- Amount: double (nullable = true)\n",
      " |-- Seller: string (nullable = true)\n",
      " |-- State: string (nullable = true)\n",
      " |-- Region: string (nullable = true)\n",
      " |-- Topic: string (nullable = true)\n",
      " |-- C10: integer (nullable = true)\n",
      " |-- C11: double (nullable = true)\n",
      "\n",
      "+-------+------+---+----+---+-------+----------------+------------+-------+--------------------+---+----+\n",
      "|Invoice|  Date| C2|  C3| C4| Amount|          Seller|       State| Region|               Topic|C10| C11|\n",
      "+-------+------+---+----+---+-------+----------------+------------+-------+--------------------+---+----+\n",
      "|  13729|1/1/09|  9|0.08|200|1640.96| Matt Bertelsons|    Maryland|   East|Development - Big...|  1|0.71|\n",
      "|  28774|1/1/09| 32| 0.1|200|5707.67|Jessica Thornton|Pennsylvania|   East|Development - Big...|  1|0.78|\n",
      "|   9285|1/2/09|  3|0.06|160| 447.11|  David O'Rourke|   Minnesota|Central|  Development - Java|  1|0.56|\n",
      "|  37537|1/2/09|  4| 0.0|125| 495.47|    Alan Brumley|  California|   West|Training - Develo...|  1| 0.5|\n",
      "|  37537|1/2/09| 43|0.07|125|4953.46|    Alan Brumley|  California|   West|Training - Develo...|  1|0.58|\n",
      "|  37537|1/2/09| 32|0.05|200|6024.92|    Alan Brumley|  California|   West|Development - Big...|  1|0.67|\n",
      "|  44069|1/2/09| 16|0.09|110|1587.09|Elizabeth Hansen|  California|   West|Development - Python|  1|0.35|\n",
      "|  44069|1/2/09| 43|0.08|110|4312.18|Elizabeth Hansen|  California|   West|Development - Python|  1|0.54|\n",
      "|   7909|1/3/09| 29|0.03|120| 3345.1|    Alex Grayson|      Oregon|   West|Development - Bus...|  1|0.58|\n",
      "|   9637|1/3/09| 12|0.08|150|1641.04| Andy Willingham|   Louisiana|  South|Consulting - Busi...|  1|0.61|\n",
      "+-------+------+---+----+---+-------+----------------+------------+-------+--------------------+---+----+\n",
      "only showing top 10 rows\n",
      "\n"
     ]
    },
    {
     "data": {
      "text/plain": [
       "None"
      ]
     },
     "metadata": {},
     "output_type": "display_data"
    }
   ],
   "source": [
    "# load into a dataframe & name columns\n",
    "salesDF = ss.read.load(fil, format='com.databricks.spark.csv', header='false', inferSchema='true')\n",
    "cols = ['Invoice', 'Date', 'C2', 'C3', 'C4', 'Amount', 'Seller', 'State', 'Region', 'Topic', 'C10', 'C11']\n",
    "salesDF = salesDF.toDF(*cols).cache()\n",
    "salesDF.printSchema()\n",
    "display(salesDF.show(10))"
   ]
  },
  {
   "cell_type": "code",
   "execution_count": 6,
   "metadata": {},
   "outputs": [
    {
     "name": "stdout",
     "output_type": "stream",
     "text": [
      "+-----------+\n",
      "|      State|\n",
      "+-----------+\n",
      "|    Alabama|\n",
      "| California|\n",
      "|   Colorado|\n",
      "|Connecticut|\n",
      "|    Florida|\n",
      "|   Illinois|\n",
      "|       Iowa|\n",
      "|   Kentucky|\n",
      "|  Louisiana|\n",
      "|         MA|\n",
      "|         MO|\n",
      "|      Maine|\n",
      "|   Maryland|\n",
      "|   Michigan|\n",
      "|  Minnesota|\n",
      "|   Nebraska|\n",
      "|     Nevada|\n",
      "| New Jersey|\n",
      "|   New York|\n",
      "|       Ohio|\n",
      "+-----------+\n",
      "only showing top 20 rows\n",
      "\n"
     ]
    }
   ],
   "source": [
    "# show distinct states\n",
    "salesDF.select('State').distinct().orderBy('State').show()"
   ]
  },
  {
   "cell_type": "code",
   "execution_count": 7,
   "metadata": {},
   "outputs": [
    {
     "name": "stdout",
     "output_type": "stream",
     "text": [
      "+--------------+--------------------+-----------------+\n",
      "|         State|               Topic|      sum(Amount)|\n",
      "+--------------+--------------------+-----------------+\n",
      "|    California|Development - Bus...|         13430.93|\n",
      "|South Carolina|Development - Big...|          9026.39|\n",
      "|         Texas|Training - Develo...|          8626.77|\n",
      "|         Texas|      Training - SQL|8473.539999999999|\n",
      "|      Virginia|Development - Python|          8232.77|\n",
      "|       Florida|Development - Big...|          7755.69|\n",
      "|      Oklahoma|      Training - SQL|          7552.77|\n",
      "|    California|Development - Python|7288.360000000001|\n",
      "|      Kentucky|Development - Big...|          7215.86|\n",
      "|      Kentucky|Consulting - Stra...|          7066.33|\n",
      "|         Texas|  Development - Java|           6943.6|\n",
      "|     Louisiana|Consulting - Stra...|          6919.42|\n",
      "|        Nevada|  Development - Java|           6710.7|\n",
      "|            MO|Consulting - Busi...|          6073.21|\n",
      "|    California|Development - Big...|          6024.92|\n",
      "|      Colorado|Development - Dat...|          5983.61|\n",
      "|  Pennsylvania|Development - Big...|          5707.67|\n",
      "|         Texas|Training - Javasc...|          5584.37|\n",
      "|    California|Training - Develo...|          5448.93|\n",
      "|      Michigan|Development - Bus...|          5423.52|\n",
      "+--------------+--------------------+-----------------+\n",
      "only showing top 20 rows\n",
      "\n"
     ]
    }
   ],
   "source": [
    "# get total amount by state & topic\n",
    "salesDF.select(salesDF['State'], salesDF['Topic'], salesDF['Amount']).groupBy(['State', 'Topic']).sum().orderBy('sum(Amount)', ascending=False).show()"
   ]
  },
  {
   "cell_type": "code",
   "execution_count": 8,
   "metadata": {},
   "outputs": [
    {
     "name": "stdout",
     "output_type": "stream",
     "text": [
      "+-------+-------+---+----+---+-------+----------------+-----+-------+--------------------+---+----+\n",
      "|Invoice|   Date| C2|  C3| C4| Amount|          Seller|State| Region|               Topic|C10| C11|\n",
      "+-------+-------+---+----+---+-------+----------------+-----+-------+--------------------+---+----+\n",
      "|   8710| 1/4/09| 17|0.03|160|2614.63|  Tamara O'Brill|Texas|Central|  Development - Java|  1|0.72|\n",
      "|   8710| 1/4/09| 42|0.07|110|4257.89|  Tamara O'Brill|Texas|Central|Development - Python|  1|0.38|\n",
      "|  49730| 1/4/09|  3|0.06|125| 349.32|       Dave Hart|Texas|Central|Training - Develo...|  1|0.46|\n",
      "|  57253| 1/5/09| 43|0.08|125|4900.57|  Darren Perrino|Texas|Central|Training - Develo...|  1|0.43|\n",
      "|  57253| 1/5/09| 29|0.06|125|3376.88|  Darren Perrino|Texas|Central|Training - Develo...|  1|0.58|\n",
      "|  57253| 1/5/09| 48|0.07|125|5529.86|  Darren Perrino|Texas|Central|      Training - SQL|  1|0.44|\n",
      "|  57253| 1/5/09| 49|0.08|125|5584.37|  Darren Perrino|Texas|Central|Training - Javasc...|  1| 0.5|\n",
      "|  57253| 1/5/09| 25|0.04|150|3567.65|  Darren Perrino|Texas|Central|Consulting - Mark...|  1|0.62|\n",
      "|  18405| 1/7/09| 30|0.09|160|4328.97|   George Barnes|Texas|Central|  Development - Java|  1|0.58|\n",
      "|  18405| 1/7/09|  2|0.03|150|  288.4|   George Barnes|Texas|Central|Consulting - Busi...|  1|0.59|\n",
      "|  14596|1/10/09| 24|0.01|125|2943.68|Darren Blumstein|Texas|Central|      Training - SQL|  1|0.46|\n",
      "|  14596|1/10/09| 19|0.06|120|2124.21|Darren Blumstein|Texas|Central|Development - Bus...|  1|0.41|\n",
      "+-------+-------+---+----+---+-------+----------------+-----+-------+--------------------+---+----+\n",
      "\n"
     ]
    }
   ],
   "source": [
    "# get just texas rows\n",
    "salesDF.filter(salesDF['State']=='Texas').show()"
   ]
  },
  {
   "cell_type": "code",
   "execution_count": 9,
   "metadata": {},
   "outputs": [
    {
     "name": "stdout",
     "output_type": "stream",
     "text": [
      "+----------+--------------------+-----------------+\n",
      "|     State|               Topic|            Total|\n",
      "+----------+--------------------+-----------------+\n",
      "|California|Development - Bus...|         13430.93|\n",
      "|California|Development - Python|7288.360000000001|\n",
      "|California|Development - Big...|          6024.92|\n",
      "|California|Training - Develo...|          5448.93|\n",
      "|California|Consulting - Mark...|          4801.71|\n",
      "+----------+--------------------+-----------------+\n",
      "\n"
     ]
    }
   ],
   "source": [
    "# most valuable topics in california\n",
    "caTop5 = salesDF.filter(salesDF['State']=='California').select(salesDF['State'], salesDF['Topic'], salesDF['Amount']).groupBy(['State', 'Topic']).sum().withColumnRenamed('sum(Amount)', 'Total').orderBy('Total', ascending=False).limit(5)\n",
    "caTop5.show()"
   ]
  },
  {
   "cell_type": "code",
   "execution_count": 10,
   "metadata": {},
   "outputs": [],
   "source": [
    "caTop5.write.saveAsTable('california_top5') # creates folder in spark-warehouse, data in parquet files"
   ]
  },
  {
   "cell_type": "code",
   "execution_count": 11,
   "metadata": {},
   "outputs": [],
   "source": [
    "caTop5.write.csv('california_top5') # creates folder in the cwd"
   ]
  },
  {
   "cell_type": "code",
   "execution_count": null,
   "metadata": {},
   "outputs": [],
   "source": []
  },
  {
   "cell_type": "code",
   "execution_count": null,
   "metadata": {},
   "outputs": [],
   "source": [
    "sc.stop()"
   ]
  },
  {
   "cell_type": "code",
   "execution_count": null,
   "metadata": {},
   "outputs": [],
   "source": []
  }
 ],
 "metadata": {
  "kernelspec": {
   "display_name": "Python 3",
   "language": "python",
   "name": "python3"
  },
  "language_info": {
   "codemirror_mode": {
    "name": "ipython",
    "version": 3
   },
   "file_extension": ".py",
   "mimetype": "text/x-python",
   "name": "python",
   "nbconvert_exporter": "python",
   "pygments_lexer": "ipython3",
   "version": "3.8.5"
  }
 },
 "nbformat": 4,
 "nbformat_minor": 4
}
